{
 "cells": [
  {
   "cell_type": "markdown",
   "id": "08ca4ed7",
   "metadata": {},
   "source": [
    "### This notebook demonstrates the improvement of multi-sample analysis over per-sample analysis with ensemble trained with AGT"
   ]
  },
  {
   "cell_type": "code",
   "execution_count": 2,
   "id": "fed18562",
   "metadata": {},
   "outputs": [],
   "source": [
    "import torch\n",
    "import numpy as np\n",
    "import matplotlib.pyplot as plt\n",
    "import abstract_gradient_training as agt\n",
    "import sklearn\n",
    "import copy\n",
    "import gurobipy as gp\n",
    "from gurobipy import GRB\n",
    "import json\n",
    "from tqdm import tqdm\n",
    "import random\n",
    "import matplotlib.colors as mcolors"
   ]
  },
  {
   "cell_type": "code",
   "execution_count": 3,
   "id": "c0ad2960",
   "metadata": {},
   "outputs": [
    {
     "name": "stdout",
     "output_type": "stream",
     "text": [
      "Using device: cpu\n"
     ]
    }
   ],
   "source": [
    "# dev = \"cuda:1\" if torch.cuda.is_available() else \"cpu\"\n",
    "dev = \"cpu\"\n",
    "device = torch.device(dev)\n",
    "print(f\"Using device: {device}\")"
   ]
  },
  {
   "cell_type": "code",
   "execution_count": 28,
   "id": "5860ee82",
   "metadata": {},
   "outputs": [],
   "source": [
    "# get data\n",
    "ensemble_size = 5\n",
    "\"\"\"Initialise the halfmoons training data.\"\"\"\n",
    "seed = 0\n",
    "total_dataset_size = 50000\n",
    "train_dataset_size_per_member = total_dataset_size // ensemble_size  # number of samples per batch\n",
    "batch_size = train_dataset_size_per_member\n",
    "\n",
    "test_size = 1000\n",
    "# n_batches = 3  # number of batches per epoch\n",
    "n_epochs = 4  # number of epochs\n",
    "\n",
    "torch.manual_seed(seed)\n",
    "# load the dataset\n",
    "x, y = sklearn.datasets.make_moons(noise=0.1, n_samples=ensemble_size*train_dataset_size_per_member + test_size, random_state=seed)\n",
    "# to make it easier to train, we'll space the moons out a bit and add some polynomial features\n",
    "x[y==0, 1] += 0.2\n",
    "x = np.hstack((x, x**2, (x[:, 0] * x[:, 1])[:, None], x**3))\n",
    "# perform a test-train split\n",
    "x_train, x_test, y_train, y_test = sklearn.model_selection.train_test_split(\n",
    "    x, y, test_size=test_size, random_state=seed\n",
    ")   \n",
    "\n",
    "# convert into pytorch dataloaders\n",
    "x_train, y_train = torch.from_numpy(x_train).float().to(device), torch.from_numpy(y_train).to(device)\n",
    "x_test, y_test = torch.from_numpy(x_test).float().to(device), torch.from_numpy(y_test).to(device)\n",
    "dataset_train = torch.utils.data.TensorDataset(x_train, y_train)\n",
    "dataset_test = torch.utils.data.TensorDataset(x_test, y_test)\n",
    "# dataloader_train = torch.utils.data.DataLoader(dataset_train, batch_size=batchsize, shuffle=True)\n",
    "dataloader_test = torch.utils.data.DataLoader(dataset_test, batch_size=250, shuffle=False)"
   ]
  },
  {
   "cell_type": "code",
   "execution_count": 29,
   "id": "2424a202",
   "metadata": {},
   "outputs": [],
   "source": [
    "\"\"\"Train an ensemble of classifiers on the AGT dataset.\"\"\"\n",
    "NOMINAL_CONFIG = agt.AGTConfig(\n",
    "    learning_rate=3.0,\n",
    "    n_epochs=4,\n",
    "    device=dev,\n",
    "    loss=\"cross_entropy\",\n",
    "    lr_decay=0.6,\n",
    "    lr_min=1e-3,\n",
    "    log_level=\"DEBUG\",\n",
    "    # paired_poison=True,\n",
    "    clip_gamma=0.1,\n",
    ")\n",
    "\n",
    "ensemble = []\n",
    "torch.manual_seed(seed)\n",
    "indices = torch.randperm(len(dataset_train))\n",
    "for t in range(ensemble_size):\n",
    "    trained_models = []\n",
    "    model_t = torch.nn.Sequential(\n",
    "        torch.nn.Linear(7, 128),\n",
    "        torch.nn.ReLU(),\n",
    "        torch.nn.Linear(128, 2),\n",
    "    ).to(device)\n",
    "    # model_t = torch.nn.Sequential(torch.nn.Linear(7, 2).to(device))\n",
    "    bounded_model_t = agt.bounded_models.IntervalBoundedModel(model_t)\n",
    "    # create a disjoint subset of the training data\n",
    "    dataset_train_t = torch.utils.data.Subset(dataset_train, indices[t::ensemble_size])  # type: ignore\n",
    "    dataloader_t = torch.utils.data.DataLoader(dataset_train_t, batch_size=batch_size, shuffle=True)\n",
    "    ensemble.append((bounded_model_t, dataloader_t))"
   ]
  },
  {
   "cell_type": "markdown",
   "id": "81094b95",
   "metadata": {},
   "source": [
    "#### TRAINING"
   ]
  },
  {
   "cell_type": "code",
   "execution_count": 30,
   "id": "cdadb45e",
   "metadata": {},
   "outputs": [
    {
     "name": "stdout",
     "output_type": "stream",
     "text": [
      "torch.Size([10000, 7])\n"
     ]
    }
   ],
   "source": [
    "gridsize = 100\n",
    "test_size = gridsize ** 2\n",
    "\n",
    "# define a grid of points and add features\n",
    "x0 = torch.linspace(-1.5, 2.5, gridsize)\n",
    "x1 = torch.linspace(-1.2, 2.2, gridsize)\n",
    "X0, X1 = torch.meshgrid(x0, x1)\n",
    "X0f, X1f = X0.flatten(), X1.flatten()\n",
    "grid_data = torch.stack((X0f, X1f, X0f**2, X1f**2, X0f * X1f, X0f ** 3, X1f ** 3), dim=1)\n",
    "grid_data = grid_data.to(device)\n",
    "print(grid_data.shape)"
   ]
  },
  {
   "cell_type": "code",
   "execution_count": 31,
   "id": "f1611fc7",
   "metadata": {},
   "outputs": [
    {
     "name": "stderr",
     "output_type": "stream",
     "text": [
      "[AGT] [INFO    ] [10:49:33] =================== Starting Privacy Certified Training ===================\n",
      "[AGT] [DEBUG   ] [10:49:33] \tOptimizer params: n_epochs=4, learning_rate=3.0, l1_reg=0.0, l2_reg=0.0\n",
      "[AGT] [DEBUG   ] [10:49:33] \tLearning rate schedule: lr_decay=0.6, lr_min=0.001\n",
      "[AGT] [DEBUG   ] [10:49:33] \tGradient clipping: gamma=0.1, method=clamp\n",
      "[AGT] [DEBUG   ] [10:49:33] \tPrivacy parameter: k_private=1\n",
      "[AGT] [INFO    ] [10:49:33] Starting epoch 1 of 4.\n",
      "[AGT] [DEBUG   ] [10:49:33] Initialising dataloader batchsize to 10000\n",
      "[AGT] [INFO    ] [10:49:33] Batch 1. Loss (accuracy) 0.256 <= 0.256 <= 0.256\n"
     ]
    },
    {
     "name": "stdout",
     "output_type": "stream",
     "text": [
      "Training model 0 with k=1\n"
     ]
    },
    {
     "name": "stderr",
     "output_type": "stream",
     "text": [
      "[AGT] [DEBUG   ] [10:49:33] Dataloader has only one batch per epoch, effective batchsize may be smaller than expected.\n",
      "[AGT] [INFO    ] [10:49:33] Starting epoch 2 of 4.\n",
      "[AGT] [DEBUG   ] [10:49:34] Initialising dataloader batchsize to 10000\n",
      "[AGT] [INFO    ] [10:49:34] Batch 1. Loss (accuracy) 0.828 <= 0.828 <= 0.828\n",
      "[AGT] [INFO    ] [10:49:34] Starting epoch 3 of 4.\n",
      "[AGT] [DEBUG   ] [10:49:34] Initialising dataloader batchsize to 10000\n",
      "[AGT] [INFO    ] [10:49:34] Batch 1. Loss (accuracy) 0.912 <= 0.912 <= 0.912\n",
      "[AGT] [INFO    ] [10:49:34] Starting epoch 4 of 4.\n",
      "[AGT] [DEBUG   ] [10:49:34] Initialising dataloader batchsize to 10000\n",
      "[AGT] [INFO    ] [10:49:34] Batch 1. Loss (accuracy) 0.924 <= 0.924 <= 0.928\n",
      "[AGT] [INFO    ] [10:49:35] Final Eval. Loss (accuracy): 0.868 <= 0.888 <= 0.900\n",
      "[AGT] [INFO    ] [10:49:35] =================== Finished Privacy Certified Training ===================\n",
      "[AGT] [INFO    ] [10:49:35] =================== Starting Privacy Certified Training ===================\n",
      "[AGT] [DEBUG   ] [10:49:35] \tOptimizer params: n_epochs=4, learning_rate=3.0, l1_reg=0.0, l2_reg=0.0\n",
      "[AGT] [DEBUG   ] [10:49:35] \tLearning rate schedule: lr_decay=0.6, lr_min=0.001\n",
      "[AGT] [DEBUG   ] [10:49:35] \tGradient clipping: gamma=0.1, method=clamp\n",
      "[AGT] [DEBUG   ] [10:49:35] \tPrivacy parameter: k_private=6\n",
      "[AGT] [INFO    ] [10:49:35] Starting epoch 1 of 4.\n",
      "[AGT] [DEBUG   ] [10:49:35] Initialising dataloader batchsize to 10000\n",
      "[AGT] [INFO    ] [10:49:35] Batch 1. Loss (accuracy) 0.256 <= 0.256 <= 0.256\n"
     ]
    },
    {
     "name": "stdout",
     "output_type": "stream",
     "text": [
      "Training model 0 with k=6\n"
     ]
    },
    {
     "name": "stderr",
     "output_type": "stream",
     "text": [
      "[AGT] [DEBUG   ] [10:49:35] Dataloader has only one batch per epoch, effective batchsize may be smaller than expected.\n",
      "[AGT] [INFO    ] [10:49:35] Starting epoch 2 of 4.\n",
      "[AGT] [DEBUG   ] [10:49:35] Initialising dataloader batchsize to 10000\n",
      "[AGT] [INFO    ] [10:49:35] Batch 1. Loss (accuracy) 0.820 <= 0.828 <= 0.828\n",
      "[AGT] [INFO    ] [10:49:36] Starting epoch 3 of 4.\n",
      "[AGT] [DEBUG   ] [10:49:36] Initialising dataloader batchsize to 10000\n",
      "[AGT] [INFO    ] [10:49:36] Batch 1. Loss (accuracy) 0.904 <= 0.912 <= 0.920\n",
      "[AGT] [INFO    ] [10:49:36] Starting epoch 4 of 4.\n",
      "[AGT] [DEBUG   ] [10:49:36] Initialising dataloader batchsize to 10000\n",
      "[AGT] [INFO    ] [10:49:36] Batch 1. Loss (accuracy) 0.912 <= 0.924 <= 0.936\n",
      "[AGT] [INFO    ] [10:49:37] Final Eval. Loss (accuracy): 0.812 <= 0.888 <= 0.944\n",
      "[AGT] [INFO    ] [10:49:37] =================== Finished Privacy Certified Training ===================\n",
      "[AGT] [INFO    ] [10:49:37] =================== Starting Privacy Certified Training ===================\n",
      "[AGT] [DEBUG   ] [10:49:37] \tOptimizer params: n_epochs=4, learning_rate=3.0, l1_reg=0.0, l2_reg=0.0\n",
      "[AGT] [DEBUG   ] [10:49:37] \tLearning rate schedule: lr_decay=0.6, lr_min=0.001\n",
      "[AGT] [DEBUG   ] [10:49:37] \tGradient clipping: gamma=0.1, method=clamp\n",
      "[AGT] [DEBUG   ] [10:49:37] \tPrivacy parameter: k_private=11\n",
      "[AGT] [INFO    ] [10:49:37] Starting epoch 1 of 4.\n",
      "[AGT] [DEBUG   ] [10:49:37] Initialising dataloader batchsize to 10000\n",
      "[AGT] [INFO    ] [10:49:37] Batch 1. Loss (accuracy) 0.256 <= 0.256 <= 0.256\n"
     ]
    },
    {
     "name": "stdout",
     "output_type": "stream",
     "text": [
      "Training model 0 with k=11\n"
     ]
    },
    {
     "name": "stderr",
     "output_type": "stream",
     "text": [
      "[AGT] [DEBUG   ] [10:49:37] Dataloader has only one batch per epoch, effective batchsize may be smaller than expected.\n",
      "[AGT] [INFO    ] [10:49:37] Starting epoch 2 of 4.\n",
      "[AGT] [DEBUG   ] [10:49:37] Initialising dataloader batchsize to 10000\n",
      "[AGT] [INFO    ] [10:49:37] Batch 1. Loss (accuracy) 0.820 <= 0.828 <= 0.832\n",
      "[AGT] [INFO    ] [10:49:37] Starting epoch 3 of 4.\n",
      "[AGT] [DEBUG   ] [10:49:38] Initialising dataloader batchsize to 10000\n",
      "[AGT] [INFO    ] [10:49:38] Batch 1. Loss (accuracy) 0.892 <= 0.912 <= 0.940\n",
      "[AGT] [INFO    ] [10:49:38] Starting epoch 4 of 4.\n",
      "[AGT] [DEBUG   ] [10:49:38] Initialising dataloader batchsize to 10000\n",
      "[AGT] [INFO    ] [10:49:38] Batch 1. Loss (accuracy) 0.876 <= 0.924 <= 0.952\n",
      "[AGT] [INFO    ] [10:49:38] Final Eval. Loss (accuracy): 0.772 <= 0.888 <= 1.000\n",
      "[AGT] [INFO    ] [10:49:38] =================== Finished Privacy Certified Training ===================\n",
      "[AGT] [INFO    ] [10:49:38] =================== Starting Privacy Certified Training ===================\n",
      "[AGT] [DEBUG   ] [10:49:38] \tOptimizer params: n_epochs=4, learning_rate=3.0, l1_reg=0.0, l2_reg=0.0\n",
      "[AGT] [DEBUG   ] [10:49:38] \tLearning rate schedule: lr_decay=0.6, lr_min=0.001\n",
      "[AGT] [DEBUG   ] [10:49:38] \tGradient clipping: gamma=0.1, method=clamp\n",
      "[AGT] [DEBUG   ] [10:49:38] \tPrivacy parameter: k_private=16\n",
      "[AGT] [INFO    ] [10:49:38] Starting epoch 1 of 4.\n",
      "[AGT] [DEBUG   ] [10:49:38] Initialising dataloader batchsize to 10000\n",
      "[AGT] [INFO    ] [10:49:38] Batch 1. Loss (accuracy) 0.256 <= 0.256 <= 0.256\n"
     ]
    },
    {
     "name": "stdout",
     "output_type": "stream",
     "text": [
      "Training model 0 with k=16\n"
     ]
    },
    {
     "name": "stderr",
     "output_type": "stream",
     "text": [
      "[AGT] [DEBUG   ] [10:49:39] Dataloader has only one batch per epoch, effective batchsize may be smaller than expected.\n",
      "[AGT] [INFO    ] [10:49:39] Starting epoch 2 of 4.\n",
      "[AGT] [DEBUG   ] [10:49:39] Initialising dataloader batchsize to 10000\n",
      "[AGT] [INFO    ] [10:49:39] Batch 1. Loss (accuracy) 0.820 <= 0.828 <= 0.836\n",
      "[AGT] [INFO    ] [10:49:39] Starting epoch 3 of 4.\n",
      "[AGT] [DEBUG   ] [10:49:39] Initialising dataloader batchsize to 10000\n",
      "[AGT] [INFO    ] [10:49:39] Batch 1. Loss (accuracy) 0.884 <= 0.912 <= 0.944\n",
      "[AGT] [INFO    ] [10:49:40] Starting epoch 4 of 4.\n",
      "[AGT] [DEBUG   ] [10:49:40] Initialising dataloader batchsize to 10000\n",
      "[AGT] [INFO    ] [10:49:40] Batch 1. Loss (accuracy) 0.820 <= 0.924 <= 0.976\n",
      "[AGT] [INFO    ] [10:49:40] Final Eval. Loss (accuracy): 0.712 <= 0.888 <= 1.000\n",
      "[AGT] [INFO    ] [10:49:40] =================== Finished Privacy Certified Training ===================\n",
      "[AGT] [INFO    ] [10:49:40] =================== Starting Privacy Certified Training ===================\n",
      "[AGT] [DEBUG   ] [10:49:40] \tOptimizer params: n_epochs=4, learning_rate=3.0, l1_reg=0.0, l2_reg=0.0\n",
      "[AGT] [DEBUG   ] [10:49:40] \tLearning rate schedule: lr_decay=0.6, lr_min=0.001\n",
      "[AGT] [DEBUG   ] [10:49:40] \tGradient clipping: gamma=0.1, method=clamp\n",
      "[AGT] [DEBUG   ] [10:49:40] \tPrivacy parameter: k_private=20\n",
      "[AGT] [INFO    ] [10:49:40] Starting epoch 1 of 4.\n",
      "[AGT] [DEBUG   ] [10:49:40] Initialising dataloader batchsize to 10000\n",
      "[AGT] [INFO    ] [10:49:40] Batch 1. Loss (accuracy) 0.256 <= 0.256 <= 0.256\n"
     ]
    },
    {
     "name": "stdout",
     "output_type": "stream",
     "text": [
      "Training model 0 with k=20\n"
     ]
    },
    {
     "name": "stderr",
     "output_type": "stream",
     "text": [
      "[AGT] [DEBUG   ] [10:49:40] Dataloader has only one batch per epoch, effective batchsize may be smaller than expected.\n",
      "[AGT] [INFO    ] [10:49:40] Starting epoch 2 of 4.\n",
      "[AGT] [DEBUG   ] [10:49:41] Initialising dataloader batchsize to 10000\n",
      "[AGT] [INFO    ] [10:49:41] Batch 1. Loss (accuracy) 0.812 <= 0.828 <= 0.840\n",
      "[AGT] [INFO    ] [10:49:41] Starting epoch 3 of 4.\n",
      "[AGT] [DEBUG   ] [10:49:41] Initialising dataloader batchsize to 10000\n",
      "[AGT] [INFO    ] [10:49:41] Batch 1. Loss (accuracy) 0.872 <= 0.912 <= 0.956\n",
      "[AGT] [INFO    ] [10:49:41] Starting epoch 4 of 4.\n",
      "[AGT] [DEBUG   ] [10:49:41] Initialising dataloader batchsize to 10000\n",
      "[AGT] [INFO    ] [10:49:41] Batch 1. Loss (accuracy) 0.816 <= 0.924 <= 0.984\n",
      "[AGT] [INFO    ] [10:49:42] Final Eval. Loss (accuracy): 0.560 <= 0.888 <= 1.000\n",
      "[AGT] [INFO    ] [10:49:42] =================== Finished Privacy Certified Training ===================\n",
      "[AGT] [INFO    ] [10:49:42] =================== Starting Privacy Certified Training ===================\n",
      "[AGT] [DEBUG   ] [10:49:42] \tOptimizer params: n_epochs=4, learning_rate=3.0, l1_reg=0.0, l2_reg=0.0\n",
      "[AGT] [DEBUG   ] [10:49:42] \tLearning rate schedule: lr_decay=0.6, lr_min=0.001\n",
      "[AGT] [DEBUG   ] [10:49:42] \tGradient clipping: gamma=0.1, method=clamp\n",
      "[AGT] [DEBUG   ] [10:49:42] \tPrivacy parameter: k_private=1\n",
      "[AGT] [INFO    ] [10:49:42] Starting epoch 1 of 4.\n",
      "[AGT] [DEBUG   ] [10:49:42] Initialising dataloader batchsize to 10000\n",
      "[AGT] [INFO    ] [10:49:42] Batch 1. Loss (accuracy) 0.728 <= 0.728 <= 0.728\n"
     ]
    },
    {
     "name": "stdout",
     "output_type": "stream",
     "text": [
      "Training model 1 with k=1\n"
     ]
    },
    {
     "name": "stderr",
     "output_type": "stream",
     "text": [
      "[AGT] [DEBUG   ] [10:49:42] Dataloader has only one batch per epoch, effective batchsize may be smaller than expected.\n",
      "[AGT] [INFO    ] [10:49:42] Starting epoch 2 of 4.\n",
      "[AGT] [DEBUG   ] [10:49:42] Initialising dataloader batchsize to 10000\n",
      "[AGT] [INFO    ] [10:49:42] Batch 1. Loss (accuracy) 0.860 <= 0.860 <= 0.860\n",
      "[AGT] [INFO    ] [10:49:43] Starting epoch 3 of 4.\n",
      "[AGT] [DEBUG   ] [10:49:43] Initialising dataloader batchsize to 10000\n",
      "[AGT] [INFO    ] [10:49:43] Batch 1. Loss (accuracy) 0.932 <= 0.932 <= 0.932\n",
      "[AGT] [INFO    ] [10:49:43] Starting epoch 4 of 4.\n",
      "[AGT] [DEBUG   ] [10:49:43] Initialising dataloader batchsize to 10000\n",
      "[AGT] [INFO    ] [10:49:43] Batch 1. Loss (accuracy) 0.924 <= 0.924 <= 0.924\n",
      "[AGT] [INFO    ] [10:49:43] Final Eval. Loss (accuracy): 0.892 <= 0.904 <= 0.908\n",
      "[AGT] [INFO    ] [10:49:43] =================== Finished Privacy Certified Training ===================\n",
      "[AGT] [INFO    ] [10:49:43] =================== Starting Privacy Certified Training ===================\n",
      "[AGT] [DEBUG   ] [10:49:43] \tOptimizer params: n_epochs=4, learning_rate=3.0, l1_reg=0.0, l2_reg=0.0\n",
      "[AGT] [DEBUG   ] [10:49:43] \tLearning rate schedule: lr_decay=0.6, lr_min=0.001\n",
      "[AGT] [DEBUG   ] [10:49:43] \tGradient clipping: gamma=0.1, method=clamp\n",
      "[AGT] [DEBUG   ] [10:49:43] \tPrivacy parameter: k_private=6\n",
      "[AGT] [INFO    ] [10:49:43] Starting epoch 1 of 4.\n",
      "[AGT] [DEBUG   ] [10:49:44] Initialising dataloader batchsize to 10000\n",
      "[AGT] [INFO    ] [10:49:44] Batch 1. Loss (accuracy) 0.728 <= 0.728 <= 0.728\n"
     ]
    },
    {
     "name": "stdout",
     "output_type": "stream",
     "text": [
      "Training model 1 with k=6\n"
     ]
    },
    {
     "name": "stderr",
     "output_type": "stream",
     "text": [
      "[AGT] [DEBUG   ] [10:49:44] Dataloader has only one batch per epoch, effective batchsize may be smaller than expected.\n",
      "[AGT] [INFO    ] [10:49:44] Starting epoch 2 of 4.\n",
      "[AGT] [DEBUG   ] [10:49:44] Initialising dataloader batchsize to 10000\n",
      "[AGT] [INFO    ] [10:49:44] Batch 1. Loss (accuracy) 0.852 <= 0.860 <= 0.868\n",
      "[AGT] [INFO    ] [10:49:44] Starting epoch 3 of 4.\n",
      "[AGT] [DEBUG   ] [10:49:44] Initialising dataloader batchsize to 10000\n",
      "[AGT] [INFO    ] [10:49:44] Batch 1. Loss (accuracy) 0.928 <= 0.932 <= 0.940\n",
      "[AGT] [INFO    ] [10:49:45] Starting epoch 4 of 4.\n",
      "[AGT] [DEBUG   ] [10:49:45] Initialising dataloader batchsize to 10000\n",
      "[AGT] [INFO    ] [10:49:45] Batch 1. Loss (accuracy) 0.916 <= 0.924 <= 0.936\n",
      "[AGT] [INFO    ] [10:49:45] Final Eval. Loss (accuracy): 0.836 <= 0.904 <= 0.940\n",
      "[AGT] [INFO    ] [10:49:45] =================== Finished Privacy Certified Training ===================\n",
      "[AGT] [INFO    ] [10:49:45] =================== Starting Privacy Certified Training ===================\n",
      "[AGT] [DEBUG   ] [10:49:45] \tOptimizer params: n_epochs=4, learning_rate=3.0, l1_reg=0.0, l2_reg=0.0\n",
      "[AGT] [DEBUG   ] [10:49:45] \tLearning rate schedule: lr_decay=0.6, lr_min=0.001\n",
      "[AGT] [DEBUG   ] [10:49:45] \tGradient clipping: gamma=0.1, method=clamp\n",
      "[AGT] [DEBUG   ] [10:49:45] \tPrivacy parameter: k_private=11\n",
      "[AGT] [INFO    ] [10:49:45] Starting epoch 1 of 4.\n",
      "[AGT] [DEBUG   ] [10:49:45] Initialising dataloader batchsize to 10000\n",
      "[AGT] [INFO    ] [10:49:45] Batch 1. Loss (accuracy) 0.728 <= 0.728 <= 0.728\n"
     ]
    },
    {
     "name": "stdout",
     "output_type": "stream",
     "text": [
      "Training model 1 with k=11\n"
     ]
    },
    {
     "name": "stderr",
     "output_type": "stream",
     "text": [
      "[AGT] [DEBUG   ] [10:49:46] Dataloader has only one batch per epoch, effective batchsize may be smaller than expected.\n",
      "[AGT] [INFO    ] [10:49:46] Starting epoch 2 of 4.\n",
      "[AGT] [DEBUG   ] [10:49:46] Initialising dataloader batchsize to 10000\n",
      "[AGT] [INFO    ] [10:49:46] Batch 1. Loss (accuracy) 0.852 <= 0.860 <= 0.868\n",
      "[AGT] [INFO    ] [10:49:46] Starting epoch 3 of 4.\n",
      "[AGT] [DEBUG   ] [10:49:46] Initialising dataloader batchsize to 10000\n",
      "[AGT] [INFO    ] [10:49:46] Batch 1. Loss (accuracy) 0.924 <= 0.932 <= 0.940\n",
      "[AGT] [INFO    ] [10:49:46] Starting epoch 4 of 4.\n",
      "[AGT] [DEBUG   ] [10:49:46] Initialising dataloader batchsize to 10000\n",
      "[AGT] [INFO    ] [10:49:46] Batch 1. Loss (accuracy) 0.900 <= 0.924 <= 0.948\n",
      "[AGT] [INFO    ] [10:49:47] Final Eval. Loss (accuracy): 0.800 <= 0.904 <= 0.980\n",
      "[AGT] [INFO    ] [10:49:47] =================== Finished Privacy Certified Training ===================\n",
      "[AGT] [INFO    ] [10:49:47] =================== Starting Privacy Certified Training ===================\n",
      "[AGT] [DEBUG   ] [10:49:47] \tOptimizer params: n_epochs=4, learning_rate=3.0, l1_reg=0.0, l2_reg=0.0\n",
      "[AGT] [DEBUG   ] [10:49:47] \tLearning rate schedule: lr_decay=0.6, lr_min=0.001\n",
      "[AGT] [DEBUG   ] [10:49:47] \tGradient clipping: gamma=0.1, method=clamp\n",
      "[AGT] [DEBUG   ] [10:49:47] \tPrivacy parameter: k_private=16\n",
      "[AGT] [INFO    ] [10:49:47] Starting epoch 1 of 4.\n",
      "[AGT] [DEBUG   ] [10:49:47] Initialising dataloader batchsize to 10000\n",
      "[AGT] [INFO    ] [10:49:47] Batch 1. Loss (accuracy) 0.728 <= 0.728 <= 0.728\n"
     ]
    },
    {
     "name": "stdout",
     "output_type": "stream",
     "text": [
      "Training model 1 with k=16\n"
     ]
    },
    {
     "name": "stderr",
     "output_type": "stream",
     "text": [
      "[AGT] [DEBUG   ] [10:49:47] Dataloader has only one batch per epoch, effective batchsize may be smaller than expected.\n",
      "[AGT] [INFO    ] [10:49:47] Starting epoch 2 of 4.\n",
      "[AGT] [DEBUG   ] [10:49:47] Initialising dataloader batchsize to 10000\n",
      "[AGT] [INFO    ] [10:49:47] Batch 1. Loss (accuracy) 0.852 <= 0.860 <= 0.868\n",
      "[AGT] [INFO    ] [10:49:48] Starting epoch 3 of 4.\n",
      "[AGT] [DEBUG   ] [10:49:48] Initialising dataloader batchsize to 10000\n",
      "[AGT] [INFO    ] [10:49:48] Batch 1. Loss (accuracy) 0.912 <= 0.932 <= 0.944\n",
      "[AGT] [INFO    ] [10:49:48] Starting epoch 4 of 4.\n",
      "[AGT] [DEBUG   ] [10:49:48] Initialising dataloader batchsize to 10000\n",
      "[AGT] [INFO    ] [10:49:48] Batch 1. Loss (accuracy) 0.876 <= 0.924 <= 0.964\n",
      "[AGT] [INFO    ] [10:49:48] Final Eval. Loss (accuracy): 0.776 <= 0.904 <= 1.000\n",
      "[AGT] [INFO    ] [10:49:48] =================== Finished Privacy Certified Training ===================\n",
      "[AGT] [INFO    ] [10:49:48] =================== Starting Privacy Certified Training ===================\n",
      "[AGT] [DEBUG   ] [10:49:48] \tOptimizer params: n_epochs=4, learning_rate=3.0, l1_reg=0.0, l2_reg=0.0\n",
      "[AGT] [DEBUG   ] [10:49:48] \tLearning rate schedule: lr_decay=0.6, lr_min=0.001\n",
      "[AGT] [DEBUG   ] [10:49:48] \tGradient clipping: gamma=0.1, method=clamp\n",
      "[AGT] [DEBUG   ] [10:49:48] \tPrivacy parameter: k_private=20\n",
      "[AGT] [INFO    ] [10:49:48] Starting epoch 1 of 4.\n",
      "[AGT] [DEBUG   ] [10:49:49] Initialising dataloader batchsize to 10000\n",
      "[AGT] [INFO    ] [10:49:49] Batch 1. Loss (accuracy) 0.728 <= 0.728 <= 0.728\n"
     ]
    },
    {
     "name": "stdout",
     "output_type": "stream",
     "text": [
      "Training model 1 with k=20\n"
     ]
    },
    {
     "name": "stderr",
     "output_type": "stream",
     "text": [
      "[AGT] [DEBUG   ] [10:49:49] Dataloader has only one batch per epoch, effective batchsize may be smaller than expected.\n",
      "[AGT] [INFO    ] [10:49:49] Starting epoch 2 of 4.\n",
      "[AGT] [DEBUG   ] [10:49:49] Initialising dataloader batchsize to 10000\n",
      "[AGT] [INFO    ] [10:49:49] Batch 1. Loss (accuracy) 0.852 <= 0.860 <= 0.868\n",
      "[AGT] [INFO    ] [10:49:49] Starting epoch 3 of 4.\n",
      "[AGT] [DEBUG   ] [10:49:49] Initialising dataloader batchsize to 10000\n",
      "[AGT] [INFO    ] [10:49:49] Batch 1. Loss (accuracy) 0.904 <= 0.932 <= 0.952\n",
      "[AGT] [INFO    ] [10:49:50] Starting epoch 4 of 4.\n",
      "[AGT] [DEBUG   ] [10:49:50] Initialising dataloader batchsize to 10000\n",
      "[AGT] [INFO    ] [10:49:50] Batch 1. Loss (accuracy) 0.860 <= 0.924 <= 0.976\n",
      "[AGT] [INFO    ] [10:49:50] Final Eval. Loss (accuracy): 0.728 <= 0.904 <= 1.000\n",
      "[AGT] [INFO    ] [10:49:50] =================== Finished Privacy Certified Training ===================\n",
      "[AGT] [INFO    ] [10:49:50] =================== Starting Privacy Certified Training ===================\n",
      "[AGT] [DEBUG   ] [10:49:50] \tOptimizer params: n_epochs=4, learning_rate=3.0, l1_reg=0.0, l2_reg=0.0\n",
      "[AGT] [DEBUG   ] [10:49:50] \tLearning rate schedule: lr_decay=0.6, lr_min=0.001\n",
      "[AGT] [DEBUG   ] [10:49:50] \tGradient clipping: gamma=0.1, method=clamp\n",
      "[AGT] [DEBUG   ] [10:49:50] \tPrivacy parameter: k_private=1\n",
      "[AGT] [INFO    ] [10:49:50] Starting epoch 1 of 4.\n",
      "[AGT] [DEBUG   ] [10:49:50] Initialising dataloader batchsize to 10000\n",
      "[AGT] [INFO    ] [10:49:50] Batch 1. Loss (accuracy) 0.556 <= 0.556 <= 0.556\n"
     ]
    },
    {
     "name": "stdout",
     "output_type": "stream",
     "text": [
      "Training model 2 with k=1\n"
     ]
    },
    {
     "name": "stderr",
     "output_type": "stream",
     "text": [
      "[AGT] [DEBUG   ] [10:49:51] Dataloader has only one batch per epoch, effective batchsize may be smaller than expected.\n",
      "[AGT] [INFO    ] [10:49:51] Starting epoch 2 of 4.\n",
      "[AGT] [DEBUG   ] [10:49:51] Initialising dataloader batchsize to 10000\n",
      "[AGT] [INFO    ] [10:49:51] Batch 1. Loss (accuracy) 0.812 <= 0.812 <= 0.812\n",
      "[AGT] [INFO    ] [10:49:51] Starting epoch 3 of 4.\n",
      "[AGT] [DEBUG   ] [10:49:51] Initialising dataloader batchsize to 10000\n",
      "[AGT] [INFO    ] [10:49:51] Batch 1. Loss (accuracy) 0.880 <= 0.880 <= 0.888\n",
      "[AGT] [INFO    ] [10:49:51] Starting epoch 4 of 4.\n",
      "[AGT] [DEBUG   ] [10:49:51] Initialising dataloader batchsize to 10000\n",
      "[AGT] [INFO    ] [10:49:52] Batch 1. Loss (accuracy) 0.880 <= 0.884 <= 0.892\n",
      "[AGT] [INFO    ] [10:49:52] Final Eval. Loss (accuracy): 0.816 <= 0.824 <= 0.832\n",
      "[AGT] [INFO    ] [10:49:52] =================== Finished Privacy Certified Training ===================\n",
      "[AGT] [INFO    ] [10:49:52] =================== Starting Privacy Certified Training ===================\n",
      "[AGT] [DEBUG   ] [10:49:52] \tOptimizer params: n_epochs=4, learning_rate=3.0, l1_reg=0.0, l2_reg=0.0\n",
      "[AGT] [DEBUG   ] [10:49:52] \tLearning rate schedule: lr_decay=0.6, lr_min=0.001\n",
      "[AGT] [DEBUG   ] [10:49:52] \tGradient clipping: gamma=0.1, method=clamp\n",
      "[AGT] [DEBUG   ] [10:49:52] \tPrivacy parameter: k_private=6\n",
      "[AGT] [INFO    ] [10:49:52] Starting epoch 1 of 4.\n",
      "[AGT] [DEBUG   ] [10:49:52] Initialising dataloader batchsize to 10000\n",
      "[AGT] [INFO    ] [10:49:52] Batch 1. Loss (accuracy) 0.556 <= 0.556 <= 0.556\n"
     ]
    },
    {
     "name": "stdout",
     "output_type": "stream",
     "text": [
      "Training model 2 with k=6\n"
     ]
    },
    {
     "name": "stderr",
     "output_type": "stream",
     "text": [
      "[AGT] [DEBUG   ] [10:49:52] Dataloader has only one batch per epoch, effective batchsize may be smaller than expected.\n",
      "[AGT] [INFO    ] [10:49:52] Starting epoch 2 of 4.\n",
      "[AGT] [DEBUG   ] [10:49:52] Initialising dataloader batchsize to 10000\n",
      "[AGT] [INFO    ] [10:49:52] Batch 1. Loss (accuracy) 0.804 <= 0.812 <= 0.816\n",
      "[AGT] [INFO    ] [10:49:53] Starting epoch 3 of 4.\n",
      "[AGT] [DEBUG   ] [10:49:53] Initialising dataloader batchsize to 10000\n",
      "[AGT] [INFO    ] [10:49:53] Batch 1. Loss (accuracy) 0.872 <= 0.880 <= 0.888\n",
      "[AGT] [INFO    ] [10:49:53] Starting epoch 4 of 4.\n",
      "[AGT] [DEBUG   ] [10:49:53] Initialising dataloader batchsize to 10000\n",
      "[AGT] [INFO    ] [10:49:53] Batch 1. Loss (accuracy) 0.864 <= 0.884 <= 0.912\n",
      "[AGT] [INFO    ] [10:49:54] Final Eval. Loss (accuracy): 0.788 <= 0.824 <= 0.880\n",
      "[AGT] [INFO    ] [10:49:54] =================== Finished Privacy Certified Training ===================\n",
      "[AGT] [INFO    ] [10:49:54] =================== Starting Privacy Certified Training ===================\n",
      "[AGT] [DEBUG   ] [10:49:54] \tOptimizer params: n_epochs=4, learning_rate=3.0, l1_reg=0.0, l2_reg=0.0\n",
      "[AGT] [DEBUG   ] [10:49:54] \tLearning rate schedule: lr_decay=0.6, lr_min=0.001\n",
      "[AGT] [DEBUG   ] [10:49:54] \tGradient clipping: gamma=0.1, method=clamp\n",
      "[AGT] [DEBUG   ] [10:49:54] \tPrivacy parameter: k_private=11\n",
      "[AGT] [INFO    ] [10:49:54] Starting epoch 1 of 4.\n",
      "[AGT] [DEBUG   ] [10:49:54] Initialising dataloader batchsize to 10000\n",
      "[AGT] [INFO    ] [10:49:54] Batch 1. Loss (accuracy) 0.556 <= 0.556 <= 0.556\n"
     ]
    },
    {
     "name": "stdout",
     "output_type": "stream",
     "text": [
      "Training model 2 with k=11\n"
     ]
    },
    {
     "name": "stderr",
     "output_type": "stream",
     "text": [
      "[AGT] [DEBUG   ] [10:49:54] Dataloader has only one batch per epoch, effective batchsize may be smaller than expected.\n",
      "[AGT] [INFO    ] [10:49:54] Starting epoch 2 of 4.\n",
      "[AGT] [DEBUG   ] [10:49:54] Initialising dataloader batchsize to 10000\n",
      "[AGT] [INFO    ] [10:49:54] Batch 1. Loss (accuracy) 0.800 <= 0.812 <= 0.820\n",
      "[AGT] [INFO    ] [10:49:54] Starting epoch 3 of 4.\n",
      "[AGT] [DEBUG   ] [10:49:55] Initialising dataloader batchsize to 10000\n",
      "[AGT] [INFO    ] [10:49:55] Batch 1. Loss (accuracy) 0.868 <= 0.880 <= 0.892\n",
      "[AGT] [INFO    ] [10:49:55] Starting epoch 4 of 4.\n",
      "[AGT] [DEBUG   ] [10:49:55] Initialising dataloader batchsize to 10000\n",
      "[AGT] [INFO    ] [10:49:55] Batch 1. Loss (accuracy) 0.828 <= 0.884 <= 0.924\n",
      "[AGT] [INFO    ] [10:49:55] Final Eval. Loss (accuracy): 0.768 <= 0.824 <= 0.928\n",
      "[AGT] [INFO    ] [10:49:55] =================== Finished Privacy Certified Training ===================\n",
      "[AGT] [INFO    ] [10:49:55] =================== Starting Privacy Certified Training ===================\n",
      "[AGT] [DEBUG   ] [10:49:55] \tOptimizer params: n_epochs=4, learning_rate=3.0, l1_reg=0.0, l2_reg=0.0\n",
      "[AGT] [DEBUG   ] [10:49:55] \tLearning rate schedule: lr_decay=0.6, lr_min=0.001\n",
      "[AGT] [DEBUG   ] [10:49:55] \tGradient clipping: gamma=0.1, method=clamp\n",
      "[AGT] [DEBUG   ] [10:49:55] \tPrivacy parameter: k_private=16\n",
      "[AGT] [INFO    ] [10:49:55] Starting epoch 1 of 4.\n",
      "[AGT] [DEBUG   ] [10:49:55] Initialising dataloader batchsize to 10000\n",
      "[AGT] [INFO    ] [10:49:55] Batch 1. Loss (accuracy) 0.556 <= 0.556 <= 0.556\n"
     ]
    },
    {
     "name": "stdout",
     "output_type": "stream",
     "text": [
      "Training model 2 with k=16\n"
     ]
    },
    {
     "name": "stderr",
     "output_type": "stream",
     "text": [
      "[AGT] [DEBUG   ] [10:49:56] Dataloader has only one batch per epoch, effective batchsize may be smaller than expected.\n",
      "[AGT] [INFO    ] [10:49:56] Starting epoch 2 of 4.\n",
      "[AGT] [DEBUG   ] [10:49:56] Initialising dataloader batchsize to 10000\n",
      "[AGT] [INFO    ] [10:49:56] Batch 1. Loss (accuracy) 0.796 <= 0.812 <= 0.820\n",
      "[AGT] [INFO    ] [10:49:56] Starting epoch 3 of 4.\n",
      "[AGT] [DEBUG   ] [10:49:56] Initialising dataloader batchsize to 10000\n",
      "[AGT] [INFO    ] [10:49:56] Batch 1. Loss (accuracy) 0.852 <= 0.880 <= 0.900\n",
      "[AGT] [INFO    ] [10:49:57] Starting epoch 4 of 4.\n",
      "[AGT] [DEBUG   ] [10:49:57] Initialising dataloader batchsize to 10000\n",
      "[AGT] [INFO    ] [10:49:57] Batch 1. Loss (accuracy) 0.816 <= 0.884 <= 0.936\n",
      "[AGT] [INFO    ] [10:49:57] Final Eval. Loss (accuracy): 0.724 <= 0.824 <= 0.964\n",
      "[AGT] [INFO    ] [10:49:57] =================== Finished Privacy Certified Training ===================\n",
      "[AGT] [INFO    ] [10:49:57] =================== Starting Privacy Certified Training ===================\n",
      "[AGT] [DEBUG   ] [10:49:57] \tOptimizer params: n_epochs=4, learning_rate=3.0, l1_reg=0.0, l2_reg=0.0\n",
      "[AGT] [DEBUG   ] [10:49:57] \tLearning rate schedule: lr_decay=0.6, lr_min=0.001\n",
      "[AGT] [DEBUG   ] [10:49:57] \tGradient clipping: gamma=0.1, method=clamp\n",
      "[AGT] [DEBUG   ] [10:49:57] \tPrivacy parameter: k_private=20\n",
      "[AGT] [INFO    ] [10:49:57] Starting epoch 1 of 4.\n",
      "[AGT] [DEBUG   ] [10:49:57] Initialising dataloader batchsize to 10000\n",
      "[AGT] [INFO    ] [10:49:57] Batch 1. Loss (accuracy) 0.556 <= 0.556 <= 0.556\n"
     ]
    },
    {
     "name": "stdout",
     "output_type": "stream",
     "text": [
      "Training model 2 with k=20\n"
     ]
    },
    {
     "name": "stderr",
     "output_type": "stream",
     "text": [
      "[AGT] [DEBUG   ] [10:49:57] Dataloader has only one batch per epoch, effective batchsize may be smaller than expected.\n",
      "[AGT] [INFO    ] [10:49:57] Starting epoch 2 of 4.\n",
      "[AGT] [DEBUG   ] [10:49:57] Initialising dataloader batchsize to 10000\n",
      "[AGT] [INFO    ] [10:49:57] Batch 1. Loss (accuracy) 0.796 <= 0.812 <= 0.820\n",
      "[AGT] [INFO    ] [10:49:58] Starting epoch 3 of 4.\n",
      "[AGT] [DEBUG   ] [10:49:58] Initialising dataloader batchsize to 10000\n",
      "[AGT] [INFO    ] [10:49:58] Batch 1. Loss (accuracy) 0.848 <= 0.880 <= 0.908\n",
      "[AGT] [INFO    ] [10:49:58] Starting epoch 4 of 4.\n",
      "[AGT] [DEBUG   ] [10:49:58] Initialising dataloader batchsize to 10000\n",
      "[AGT] [INFO    ] [10:49:58] Batch 1. Loss (accuracy) 0.796 <= 0.884 <= 0.944\n",
      "[AGT] [INFO    ] [10:49:59] Final Eval. Loss (accuracy): 0.700 <= 0.824 <= 1.000\n",
      "[AGT] [INFO    ] [10:49:59] =================== Finished Privacy Certified Training ===================\n",
      "[AGT] [INFO    ] [10:49:59] =================== Starting Privacy Certified Training ===================\n",
      "[AGT] [DEBUG   ] [10:49:59] \tOptimizer params: n_epochs=4, learning_rate=3.0, l1_reg=0.0, l2_reg=0.0\n",
      "[AGT] [DEBUG   ] [10:49:59] \tLearning rate schedule: lr_decay=0.6, lr_min=0.001\n",
      "[AGT] [DEBUG   ] [10:49:59] \tGradient clipping: gamma=0.1, method=clamp\n",
      "[AGT] [DEBUG   ] [10:49:59] \tPrivacy parameter: k_private=1\n",
      "[AGT] [INFO    ] [10:49:59] Starting epoch 1 of 4.\n",
      "[AGT] [DEBUG   ] [10:49:59] Initialising dataloader batchsize to 10000\n",
      "[AGT] [INFO    ] [10:49:59] Batch 1. Loss (accuracy) 0.412 <= 0.412 <= 0.412\n"
     ]
    },
    {
     "name": "stdout",
     "output_type": "stream",
     "text": [
      "Training model 3 with k=1\n"
     ]
    },
    {
     "name": "stderr",
     "output_type": "stream",
     "text": [
      "[AGT] [DEBUG   ] [10:49:59] Dataloader has only one batch per epoch, effective batchsize may be smaller than expected.\n",
      "[AGT] [INFO    ] [10:49:59] Starting epoch 2 of 4.\n",
      "[AGT] [DEBUG   ] [10:49:59] Initialising dataloader batchsize to 10000\n",
      "[AGT] [INFO    ] [10:49:59] Batch 1. Loss (accuracy) 0.852 <= 0.852 <= 0.852\n",
      "[AGT] [INFO    ] [10:50:00] Starting epoch 3 of 4.\n",
      "[AGT] [DEBUG   ] [10:50:00] Initialising dataloader batchsize to 10000\n",
      "[AGT] [INFO    ] [10:50:00] Batch 1. Loss (accuracy) 0.912 <= 0.916 <= 0.916\n",
      "[AGT] [INFO    ] [10:50:00] Starting epoch 4 of 4.\n",
      "[AGT] [DEBUG   ] [10:50:00] Initialising dataloader batchsize to 10000\n",
      "[AGT] [INFO    ] [10:50:00] Batch 1. Loss (accuracy) 0.916 <= 0.920 <= 0.924\n",
      "[AGT] [INFO    ] [10:50:00] Final Eval. Loss (accuracy): 0.872 <= 0.884 <= 0.884\n",
      "[AGT] [INFO    ] [10:50:00] =================== Finished Privacy Certified Training ===================\n",
      "[AGT] [INFO    ] [10:50:00] =================== Starting Privacy Certified Training ===================\n",
      "[AGT] [DEBUG   ] [10:50:00] \tOptimizer params: n_epochs=4, learning_rate=3.0, l1_reg=0.0, l2_reg=0.0\n",
      "[AGT] [DEBUG   ] [10:50:00] \tLearning rate schedule: lr_decay=0.6, lr_min=0.001\n",
      "[AGT] [DEBUG   ] [10:50:00] \tGradient clipping: gamma=0.1, method=clamp\n",
      "[AGT] [DEBUG   ] [10:50:00] \tPrivacy parameter: k_private=6\n",
      "[AGT] [INFO    ] [10:50:00] Starting epoch 1 of 4.\n",
      "[AGT] [DEBUG   ] [10:50:00] Initialising dataloader batchsize to 10000\n",
      "[AGT] [INFO    ] [10:50:01] Batch 1. Loss (accuracy) 0.412 <= 0.412 <= 0.412\n"
     ]
    },
    {
     "name": "stdout",
     "output_type": "stream",
     "text": [
      "Training model 3 with k=6\n"
     ]
    },
    {
     "name": "stderr",
     "output_type": "stream",
     "text": [
      "[AGT] [DEBUG   ] [10:50:01] Dataloader has only one batch per epoch, effective batchsize may be smaller than expected.\n",
      "[AGT] [INFO    ] [10:50:01] Starting epoch 2 of 4.\n",
      "[AGT] [DEBUG   ] [10:50:01] Initialising dataloader batchsize to 10000\n",
      "[AGT] [INFO    ] [10:50:01] Batch 1. Loss (accuracy) 0.852 <= 0.852 <= 0.856\n",
      "[AGT] [INFO    ] [10:50:01] Starting epoch 3 of 4.\n",
      "[AGT] [DEBUG   ] [10:50:01] Initialising dataloader batchsize to 10000\n",
      "[AGT] [INFO    ] [10:50:01] Batch 1. Loss (accuracy) 0.904 <= 0.916 <= 0.920\n",
      "[AGT] [INFO    ] [10:50:02] Starting epoch 4 of 4.\n",
      "[AGT] [DEBUG   ] [10:50:02] Initialising dataloader batchsize to 10000\n",
      "[AGT] [INFO    ] [10:50:02] Batch 1. Loss (accuracy) 0.912 <= 0.920 <= 0.936\n",
      "[AGT] [INFO    ] [10:50:02] Final Eval. Loss (accuracy): 0.820 <= 0.884 <= 0.912\n",
      "[AGT] [INFO    ] [10:50:02] =================== Finished Privacy Certified Training ===================\n",
      "[AGT] [INFO    ] [10:50:02] =================== Starting Privacy Certified Training ===================\n",
      "[AGT] [DEBUG   ] [10:50:02] \tOptimizer params: n_epochs=4, learning_rate=3.0, l1_reg=0.0, l2_reg=0.0\n",
      "[AGT] [DEBUG   ] [10:50:02] \tLearning rate schedule: lr_decay=0.6, lr_min=0.001\n",
      "[AGT] [DEBUG   ] [10:50:02] \tGradient clipping: gamma=0.1, method=clamp\n",
      "[AGT] [DEBUG   ] [10:50:02] \tPrivacy parameter: k_private=11\n",
      "[AGT] [INFO    ] [10:50:02] Starting epoch 1 of 4.\n",
      "[AGT] [DEBUG   ] [10:50:02] Initialising dataloader batchsize to 10000\n",
      "[AGT] [INFO    ] [10:50:02] Batch 1. Loss (accuracy) 0.412 <= 0.412 <= 0.412\n"
     ]
    },
    {
     "name": "stdout",
     "output_type": "stream",
     "text": [
      "Training model 3 with k=11\n"
     ]
    },
    {
     "name": "stderr",
     "output_type": "stream",
     "text": [
      "[AGT] [DEBUG   ] [10:50:03] Dataloader has only one batch per epoch, effective batchsize may be smaller than expected.\n",
      "[AGT] [INFO    ] [10:50:03] Starting epoch 2 of 4.\n",
      "[AGT] [DEBUG   ] [10:50:03] Initialising dataloader batchsize to 10000\n",
      "[AGT] [INFO    ] [10:50:03] Batch 1. Loss (accuracy) 0.848 <= 0.852 <= 0.856\n",
      "[AGT] [INFO    ] [10:50:03] Starting epoch 3 of 4.\n",
      "[AGT] [DEBUG   ] [10:50:03] Initialising dataloader batchsize to 10000\n",
      "[AGT] [INFO    ] [10:50:03] Batch 1. Loss (accuracy) 0.896 <= 0.916 <= 0.924\n",
      "[AGT] [INFO    ] [10:50:03] Starting epoch 4 of 4.\n",
      "[AGT] [DEBUG   ] [10:50:03] Initialising dataloader batchsize to 10000\n",
      "[AGT] [INFO    ] [10:50:03] Batch 1. Loss (accuracy) 0.896 <= 0.920 <= 0.948\n",
      "[AGT] [INFO    ] [10:50:04] Final Eval. Loss (accuracy): 0.800 <= 0.884 <= 0.952\n",
      "[AGT] [INFO    ] [10:50:04] =================== Finished Privacy Certified Training ===================\n",
      "[AGT] [INFO    ] [10:50:04] =================== Starting Privacy Certified Training ===================\n",
      "[AGT] [DEBUG   ] [10:50:04] \tOptimizer params: n_epochs=4, learning_rate=3.0, l1_reg=0.0, l2_reg=0.0\n",
      "[AGT] [DEBUG   ] [10:50:04] \tLearning rate schedule: lr_decay=0.6, lr_min=0.001\n",
      "[AGT] [DEBUG   ] [10:50:04] \tGradient clipping: gamma=0.1, method=clamp\n",
      "[AGT] [DEBUG   ] [10:50:04] \tPrivacy parameter: k_private=16\n",
      "[AGT] [INFO    ] [10:50:04] Starting epoch 1 of 4.\n",
      "[AGT] [DEBUG   ] [10:50:04] Initialising dataloader batchsize to 10000\n",
      "[AGT] [INFO    ] [10:50:04] Batch 1. Loss (accuracy) 0.412 <= 0.412 <= 0.412\n"
     ]
    },
    {
     "name": "stdout",
     "output_type": "stream",
     "text": [
      "Training model 3 with k=16\n"
     ]
    },
    {
     "name": "stderr",
     "output_type": "stream",
     "text": [
      "[AGT] [DEBUG   ] [10:50:04] Dataloader has only one batch per epoch, effective batchsize may be smaller than expected.\n",
      "[AGT] [INFO    ] [10:50:04] Starting epoch 2 of 4.\n",
      "[AGT] [DEBUG   ] [10:50:04] Initialising dataloader batchsize to 10000\n",
      "[AGT] [INFO    ] [10:50:04] Batch 1. Loss (accuracy) 0.848 <= 0.852 <= 0.856\n",
      "[AGT] [INFO    ] [10:50:05] Starting epoch 3 of 4.\n",
      "[AGT] [DEBUG   ] [10:50:05] Initialising dataloader batchsize to 10000\n",
      "[AGT] [INFO    ] [10:50:05] Batch 1. Loss (accuracy) 0.892 <= 0.916 <= 0.924\n",
      "[AGT] [INFO    ] [10:50:05] Starting epoch 4 of 4.\n",
      "[AGT] [DEBUG   ] [10:50:05] Initialising dataloader batchsize to 10000\n",
      "[AGT] [INFO    ] [10:50:05] Batch 1. Loss (accuracy) 0.876 <= 0.920 <= 0.956\n",
      "[AGT] [INFO    ] [10:50:05] Final Eval. Loss (accuracy): 0.768 <= 0.884 <= 0.984\n",
      "[AGT] [INFO    ] [10:50:05] =================== Finished Privacy Certified Training ===================\n",
      "[AGT] [INFO    ] [10:50:06] =================== Starting Privacy Certified Training ===================\n",
      "[AGT] [DEBUG   ] [10:50:06] \tOptimizer params: n_epochs=4, learning_rate=3.0, l1_reg=0.0, l2_reg=0.0\n",
      "[AGT] [DEBUG   ] [10:50:06] \tLearning rate schedule: lr_decay=0.6, lr_min=0.001\n",
      "[AGT] [DEBUG   ] [10:50:06] \tGradient clipping: gamma=0.1, method=clamp\n",
      "[AGT] [DEBUG   ] [10:50:06] \tPrivacy parameter: k_private=20\n",
      "[AGT] [INFO    ] [10:50:06] Starting epoch 1 of 4.\n",
      "[AGT] [DEBUG   ] [10:50:06] Initialising dataloader batchsize to 10000\n",
      "[AGT] [INFO    ] [10:50:06] Batch 1. Loss (accuracy) 0.412 <= 0.412 <= 0.412\n"
     ]
    },
    {
     "name": "stdout",
     "output_type": "stream",
     "text": [
      "Training model 3 with k=20\n"
     ]
    },
    {
     "name": "stderr",
     "output_type": "stream",
     "text": [
      "[AGT] [DEBUG   ] [10:50:06] Dataloader has only one batch per epoch, effective batchsize may be smaller than expected.\n",
      "[AGT] [INFO    ] [10:50:06] Starting epoch 2 of 4.\n",
      "[AGT] [DEBUG   ] [10:50:06] Initialising dataloader batchsize to 10000\n",
      "[AGT] [INFO    ] [10:50:06] Batch 1. Loss (accuracy) 0.848 <= 0.852 <= 0.856\n",
      "[AGT] [INFO    ] [10:50:06] Starting epoch 3 of 4.\n",
      "[AGT] [DEBUG   ] [10:50:06] Initialising dataloader batchsize to 10000\n",
      "[AGT] [INFO    ] [10:50:06] Batch 1. Loss (accuracy) 0.888 <= 0.916 <= 0.936\n",
      "[AGT] [INFO    ] [10:50:07] Starting epoch 4 of 4.\n",
      "[AGT] [DEBUG   ] [10:50:07] Initialising dataloader batchsize to 10000\n",
      "[AGT] [INFO    ] [10:50:07] Batch 1. Loss (accuracy) 0.848 <= 0.920 <= 0.964\n",
      "[AGT] [INFO    ] [10:50:07] Final Eval. Loss (accuracy): 0.740 <= 0.884 <= 1.000\n",
      "[AGT] [INFO    ] [10:50:07] =================== Finished Privacy Certified Training ===================\n",
      "[AGT] [INFO    ] [10:50:07] =================== Starting Privacy Certified Training ===================\n",
      "[AGT] [DEBUG   ] [10:50:07] \tOptimizer params: n_epochs=4, learning_rate=3.0, l1_reg=0.0, l2_reg=0.0\n",
      "[AGT] [DEBUG   ] [10:50:07] \tLearning rate schedule: lr_decay=0.6, lr_min=0.001\n",
      "[AGT] [DEBUG   ] [10:50:07] \tGradient clipping: gamma=0.1, method=clamp\n",
      "[AGT] [DEBUG   ] [10:50:07] \tPrivacy parameter: k_private=1\n",
      "[AGT] [INFO    ] [10:50:07] Starting epoch 1 of 4.\n",
      "[AGT] [DEBUG   ] [10:50:07] Initialising dataloader batchsize to 10000\n",
      "[AGT] [INFO    ] [10:50:07] Batch 1. Loss (accuracy) 0.392 <= 0.392 <= 0.392\n"
     ]
    },
    {
     "name": "stdout",
     "output_type": "stream",
     "text": [
      "Training model 4 with k=1\n"
     ]
    },
    {
     "name": "stderr",
     "output_type": "stream",
     "text": [
      "[AGT] [DEBUG   ] [10:50:08] Dataloader has only one batch per epoch, effective batchsize may be smaller than expected.\n",
      "[AGT] [INFO    ] [10:50:08] Starting epoch 2 of 4.\n",
      "[AGT] [DEBUG   ] [10:50:08] Initialising dataloader batchsize to 10000\n",
      "[AGT] [INFO    ] [10:50:08] Batch 1. Loss (accuracy) 0.848 <= 0.848 <= 0.848\n",
      "[AGT] [INFO    ] [10:50:08] Starting epoch 3 of 4.\n",
      "[AGT] [DEBUG   ] [10:50:08] Initialising dataloader batchsize to 10000\n",
      "[AGT] [INFO    ] [10:50:08] Batch 1. Loss (accuracy) 0.916 <= 0.916 <= 0.916\n",
      "[AGT] [INFO    ] [10:50:09] Starting epoch 4 of 4.\n",
      "[AGT] [DEBUG   ] [10:50:09] Initialising dataloader batchsize to 10000\n",
      "[AGT] [INFO    ] [10:50:09] Batch 1. Loss (accuracy) 0.920 <= 0.920 <= 0.920\n",
      "[AGT] [INFO    ] [10:50:09] Final Eval. Loss (accuracy): 0.864 <= 0.884 <= 0.904\n",
      "[AGT] [INFO    ] [10:50:09] =================== Finished Privacy Certified Training ===================\n",
      "[AGT] [INFO    ] [10:50:09] =================== Starting Privacy Certified Training ===================\n",
      "[AGT] [DEBUG   ] [10:50:09] \tOptimizer params: n_epochs=4, learning_rate=3.0, l1_reg=0.0, l2_reg=0.0\n",
      "[AGT] [DEBUG   ] [10:50:09] \tLearning rate schedule: lr_decay=0.6, lr_min=0.001\n",
      "[AGT] [DEBUG   ] [10:50:09] \tGradient clipping: gamma=0.1, method=clamp\n",
      "[AGT] [DEBUG   ] [10:50:09] \tPrivacy parameter: k_private=6\n",
      "[AGT] [INFO    ] [10:50:09] Starting epoch 1 of 4.\n",
      "[AGT] [DEBUG   ] [10:50:09] Initialising dataloader batchsize to 10000\n",
      "[AGT] [INFO    ] [10:50:09] Batch 1. Loss (accuracy) 0.392 <= 0.392 <= 0.392\n"
     ]
    },
    {
     "name": "stdout",
     "output_type": "stream",
     "text": [
      "Training model 4 with k=6\n"
     ]
    },
    {
     "name": "stderr",
     "output_type": "stream",
     "text": [
      "[AGT] [DEBUG   ] [10:50:09] Dataloader has only one batch per epoch, effective batchsize may be smaller than expected.\n",
      "[AGT] [INFO    ] [10:50:09] Starting epoch 2 of 4.\n",
      "[AGT] [DEBUG   ] [10:50:10] Initialising dataloader batchsize to 10000\n",
      "[AGT] [INFO    ] [10:50:10] Batch 1. Loss (accuracy) 0.844 <= 0.848 <= 0.848\n",
      "[AGT] [INFO    ] [10:50:10] Starting epoch 3 of 4.\n",
      "[AGT] [DEBUG   ] [10:50:10] Initialising dataloader batchsize to 10000\n",
      "[AGT] [INFO    ] [10:50:10] Batch 1. Loss (accuracy) 0.908 <= 0.916 <= 0.924\n",
      "[AGT] [INFO    ] [10:50:10] Starting epoch 4 of 4.\n",
      "[AGT] [DEBUG   ] [10:50:10] Initialising dataloader batchsize to 10000\n",
      "[AGT] [INFO    ] [10:50:10] Batch 1. Loss (accuracy) 0.908 <= 0.920 <= 0.936\n",
      "[AGT] [INFO    ] [10:50:11] Final Eval. Loss (accuracy): 0.816 <= 0.884 <= 0.928\n",
      "[AGT] [INFO    ] [10:50:11] =================== Finished Privacy Certified Training ===================\n",
      "[AGT] [INFO    ] [10:50:11] =================== Starting Privacy Certified Training ===================\n",
      "[AGT] [DEBUG   ] [10:50:11] \tOptimizer params: n_epochs=4, learning_rate=3.0, l1_reg=0.0, l2_reg=0.0\n",
      "[AGT] [DEBUG   ] [10:50:11] \tLearning rate schedule: lr_decay=0.6, lr_min=0.001\n",
      "[AGT] [DEBUG   ] [10:50:11] \tGradient clipping: gamma=0.1, method=clamp\n",
      "[AGT] [DEBUG   ] [10:50:11] \tPrivacy parameter: k_private=11\n",
      "[AGT] [INFO    ] [10:50:11] Starting epoch 1 of 4.\n",
      "[AGT] [DEBUG   ] [10:50:11] Initialising dataloader batchsize to 10000\n",
      "[AGT] [INFO    ] [10:50:11] Batch 1. Loss (accuracy) 0.392 <= 0.392 <= 0.392\n"
     ]
    },
    {
     "name": "stdout",
     "output_type": "stream",
     "text": [
      "Training model 4 with k=11\n"
     ]
    },
    {
     "name": "stderr",
     "output_type": "stream",
     "text": [
      "[AGT] [DEBUG   ] [10:50:11] Dataloader has only one batch per epoch, effective batchsize may be smaller than expected.\n",
      "[AGT] [INFO    ] [10:50:11] Starting epoch 2 of 4.\n",
      "[AGT] [DEBUG   ] [10:50:11] Initialising dataloader batchsize to 10000\n",
      "[AGT] [INFO    ] [10:50:11] Batch 1. Loss (accuracy) 0.844 <= 0.848 <= 0.848\n",
      "[AGT] [INFO    ] [10:50:12] Starting epoch 3 of 4.\n",
      "[AGT] [DEBUG   ] [10:50:12] Initialising dataloader batchsize to 10000\n",
      "[AGT] [INFO    ] [10:50:12] Batch 1. Loss (accuracy) 0.900 <= 0.916 <= 0.936\n",
      "[AGT] [INFO    ] [10:50:12] Starting epoch 4 of 4.\n",
      "[AGT] [DEBUG   ] [10:50:12] Initialising dataloader batchsize to 10000\n",
      "[AGT] [INFO    ] [10:50:12] Batch 1. Loss (accuracy) 0.892 <= 0.920 <= 0.936\n",
      "[AGT] [INFO    ] [10:50:12] Final Eval. Loss (accuracy): 0.788 <= 0.884 <= 0.960\n",
      "[AGT] [INFO    ] [10:50:12] =================== Finished Privacy Certified Training ===================\n",
      "[AGT] [INFO    ] [10:50:12] =================== Starting Privacy Certified Training ===================\n",
      "[AGT] [DEBUG   ] [10:50:12] \tOptimizer params: n_epochs=4, learning_rate=3.0, l1_reg=0.0, l2_reg=0.0\n",
      "[AGT] [DEBUG   ] [10:50:12] \tLearning rate schedule: lr_decay=0.6, lr_min=0.001\n",
      "[AGT] [DEBUG   ] [10:50:12] \tGradient clipping: gamma=0.1, method=clamp\n",
      "[AGT] [DEBUG   ] [10:50:12] \tPrivacy parameter: k_private=16\n",
      "[AGT] [INFO    ] [10:50:12] Starting epoch 1 of 4.\n",
      "[AGT] [DEBUG   ] [10:50:13] Initialising dataloader batchsize to 10000\n",
      "[AGT] [INFO    ] [10:50:13] Batch 1. Loss (accuracy) 0.392 <= 0.392 <= 0.392\n"
     ]
    },
    {
     "name": "stdout",
     "output_type": "stream",
     "text": [
      "Training model 4 with k=16\n"
     ]
    },
    {
     "name": "stderr",
     "output_type": "stream",
     "text": [
      "[AGT] [DEBUG   ] [10:50:13] Dataloader has only one batch per epoch, effective batchsize may be smaller than expected.\n",
      "[AGT] [INFO    ] [10:50:13] Starting epoch 2 of 4.\n",
      "[AGT] [DEBUG   ] [10:50:13] Initialising dataloader batchsize to 10000\n",
      "[AGT] [INFO    ] [10:50:13] Batch 1. Loss (accuracy) 0.844 <= 0.848 <= 0.848\n",
      "[AGT] [INFO    ] [10:50:13] Starting epoch 3 of 4.\n",
      "[AGT] [DEBUG   ] [10:50:13] Initialising dataloader batchsize to 10000\n",
      "[AGT] [INFO    ] [10:50:13] Batch 1. Loss (accuracy) 0.892 <= 0.916 <= 0.936\n",
      "[AGT] [INFO    ] [10:50:14] Starting epoch 4 of 4.\n",
      "[AGT] [DEBUG   ] [10:50:14] Initialising dataloader batchsize to 10000\n",
      "[AGT] [INFO    ] [10:50:14] Batch 1. Loss (accuracy) 0.844 <= 0.920 <= 0.956\n",
      "[AGT] [INFO    ] [10:50:14] Final Eval. Loss (accuracy): 0.768 <= 0.884 <= 1.000\n",
      "[AGT] [INFO    ] [10:50:14] =================== Finished Privacy Certified Training ===================\n",
      "[AGT] [INFO    ] [10:50:14] =================== Starting Privacy Certified Training ===================\n",
      "[AGT] [DEBUG   ] [10:50:14] \tOptimizer params: n_epochs=4, learning_rate=3.0, l1_reg=0.0, l2_reg=0.0\n",
      "[AGT] [DEBUG   ] [10:50:14] \tLearning rate schedule: lr_decay=0.6, lr_min=0.001\n",
      "[AGT] [DEBUG   ] [10:50:14] \tGradient clipping: gamma=0.1, method=clamp\n",
      "[AGT] [DEBUG   ] [10:50:14] \tPrivacy parameter: k_private=20\n",
      "[AGT] [INFO    ] [10:50:14] Starting epoch 1 of 4.\n",
      "[AGT] [DEBUG   ] [10:50:14] Initialising dataloader batchsize to 10000\n",
      "[AGT] [INFO    ] [10:50:14] Batch 1. Loss (accuracy) 0.392 <= 0.392 <= 0.392\n"
     ]
    },
    {
     "name": "stdout",
     "output_type": "stream",
     "text": [
      "Training model 4 with k=20\n"
     ]
    },
    {
     "name": "stderr",
     "output_type": "stream",
     "text": [
      "[AGT] [DEBUG   ] [10:50:15] Dataloader has only one batch per epoch, effective batchsize may be smaller than expected.\n",
      "[AGT] [INFO    ] [10:50:15] Starting epoch 2 of 4.\n",
      "[AGT] [DEBUG   ] [10:50:15] Initialising dataloader batchsize to 10000\n",
      "[AGT] [INFO    ] [10:50:15] Batch 1. Loss (accuracy) 0.840 <= 0.848 <= 0.848\n",
      "[AGT] [INFO    ] [10:50:15] Starting epoch 3 of 4.\n",
      "[AGT] [DEBUG   ] [10:50:15] Initialising dataloader batchsize to 10000\n",
      "[AGT] [INFO    ] [10:50:15] Batch 1. Loss (accuracy) 0.892 <= 0.916 <= 0.940\n",
      "[AGT] [INFO    ] [10:50:15] Starting epoch 4 of 4.\n",
      "[AGT] [DEBUG   ] [10:50:16] Initialising dataloader batchsize to 10000\n",
      "[AGT] [INFO    ] [10:50:16] Batch 1. Loss (accuracy) 0.828 <= 0.920 <= 0.968\n",
      "[AGT] [INFO    ] [10:50:16] Final Eval. Loss (accuracy): 0.720 <= 0.884 <= 1.000\n",
      "[AGT] [INFO    ] [10:50:16] =================== Finished Privacy Certified Training ===================\n"
     ]
    }
   ],
   "source": [
    "# compute b up to N=5\n",
    "n = len(grid_data)\n",
    "m = len(ensemble)\n",
    "b = torch.zeros((m, n)).to(device)\n",
    "N = 20\n",
    "s = 5\n",
    "\n",
    "trained_ensemble = []\n",
    "for (i, (bounded_model_t, dataloader_t)) in enumerate(ensemble):\n",
    "    trained_models = {}\n",
    "    # Get the largest value of poisoned points before model prediction is no longer robust\n",
    "    # Train models with different values of k, always compute for k_poison=N\n",
    "    k_poisons = list(range(1, N+1, s)) + [N]  # include N as the last value\n",
    "    for k_poison in k_poisons: # try by enumerating all values of k_poison\n",
    "        model_copy = copy.deepcopy(bounded_model_t)\n",
    "        print(f\"Training model {i} with k={k_poison}\")\n",
    "        torch.manual_seed(i)\n",
    "        conf = copy.deepcopy(NOMINAL_CONFIG)\n",
    "        conf.k_private = k_poison\n",
    "        # conf.epsilon = 0.01\n",
    "        trained_model = agt.privacy_certified_training(model_copy, conf, dataloader_t, dataloader_test)\n",
    "        trained_models[k_poison] = copy.deepcopy(trained_model)\n",
    "    \n",
    "        if k_poison == 1:\n",
    "            trained_ensemble.append(copy.deepcopy(trained_model))\n",
    "        \n",
    "    # tensor of size (1xlen(grid_data))\n",
    "    bs = agt.privacy_utils.compute_max_certified_k(grid_data, trained_models) + 1\n",
    "    b[i] = bs.clone()\n",
    "    # print(bs)\n",
    "torch.save(b, f\".results/moons_agt_bs_{N}_{ensemble_size}_{s}.pth\")\n"
   ]
  },
  {
   "cell_type": "markdown",
   "id": "3e0a1b4e",
   "metadata": {},
   "source": [
    "#### CERTIFICATION"
   ]
  },
  {
   "cell_type": "code",
   "execution_count": 32,
   "id": "e2e02628",
   "metadata": {},
   "outputs": [],
   "source": [
    "\n",
    "\"\"\"Check the corresponding poisoning guarantees.\"\"\"\n",
    "\n",
    "# compute the ensemble votes and certificates\n",
    "scores = torch.zeros((test_size, ensemble_size, 2))\n",
    "counts = torch.zeros(test_size).to(device)  # will store the vote counts\n",
    "cert_count = torch.zeros(test_size).to(device)  # will store the number of classifier whose predictions are certified\n",
    "for i, bounded_model in enumerate(trained_ensemble):\n",
    "    logits = bounded_model.forward(grid_data)\n",
    "    scores[:, i, :] = logits\n",
    "    pred = logits.argmax(dim=1)\n",
    "    counts += 2 * pred - 1\n",
    "    cert_preds = agt.test_metrics.certified_predictions(bounded_model, grid_data, return_proportion=False)\n",
    "    cert_count += cert_preds\n",
    "\n",
    "# compute the number of votes that must be flipped to cause the ensemble prediction to flip, which is half the distance\n",
    "# to zero\n",
    "g = torch.ceil(torch.abs(counts) / 2) - 1\n",
    "torch.save(g, f\".results/g_{N}_{ensemble_size}_{s}.pth\")\n",
    "torch.save(scores, f\".results/scores_{N}_{ensemble_size}_{s}.pth\")\n",
    "ensemble_preds = (counts >= 0).float()\n",
    "torch.save(ensemble_preds, f\".results/ensemble_preds_agt_dpa_{N}_{ensemble_size}_{s}.pth\")"
   ]
  },
  {
   "cell_type": "markdown",
   "id": "9c3b797d",
   "metadata": {},
   "source": [
    "#### Solve for AGT"
   ]
  },
  {
   "cell_type": "code",
   "execution_count": 33,
   "id": "474f3005",
   "metadata": {},
   "outputs": [
    {
     "name": "stdout",
     "output_type": "stream",
     "text": [
      "20\n",
      "Gs: tensor([2., 2., 2.,  ..., 2., 2., 2.])\n",
      "Bs: tensor([[12., 12., 12.,  ...,  2.,  2.,  2.],\n",
      "        [17., 17., 17.,  ..., 12., 12., 17.],\n",
      "        [21., 21., 21.,  ...,  2.,  2.,  2.],\n",
      "        [ 2.,  2.,  2.,  ...,  7., 12., 12.],\n",
      "        [21., 21., 21.,  ..., 12., 17., 17.]])\n",
      "Set parameter TimeLimit to value 1800\n",
      "Gurobi Optimizer version 12.0.1 build v12.0.1rc0 (linux64 - \"Ubuntu 22.04.5 LTS\")\n",
      "\n",
      "CPU model: AMD EPYC 9334 32-Core Processor, instruction set [SSE2|AVX|AVX2|AVX512]\n",
      "Thread count: 64 physical cores, 128 logical processors, using up to 32 threads\n",
      "\n",
      "Non-default parameters:\n",
      "TimeLimit  1800\n",
      "\n",
      "Optimize a model with 1 rows, 60005 columns and 5 nonzeros\n",
      "Model fingerprint: 0x773f043a\n",
      "Model has 60000 simple general constraints\n",
      "  60000 INDICATOR\n",
      "Variable types: 5 continuous, 60000 integer (60000 binary)\n",
      "Coefficient statistics:\n",
      "  Matrix range     [1e+00, 1e+00]\n",
      "  Objective range  [1e-04, 1e-04]\n",
      "  Bounds range     [1e+00, 1e+00]\n",
      "  RHS range        [2e+01, 2e+01]\n",
      "  GenCon rhs range [1e+00, 2e+01]\n",
      "  GenCon coe range [1e+00, 1e+00]\n",
      "Presolve added 53857 rows and 0 columns\n",
      "Presolve removed 0 rows and 6143 columns\n",
      "Presolve time: 0.25s\n",
      "Presolved: 53858 rows, 53862 columns, 112021 nonzeros\n",
      "Variable types: 5 continuous, 53857 integer (53852 binary)\n",
      "Found heuristic solution: objective -0.0000000\n",
      "Found heuristic solution: objective 0.1182000\n",
      "Performing another presolve...\n",
      "Presolve removed 52720 rows and 52252 columns\n",
      "Presolve time: 0.71s\n",
      "\n",
      "Root relaxation: objective 1.798044e-01, 1773 iterations, 0.03 seconds (0.05 work units)\n",
      "\n",
      "    Nodes    |    Current Node    |     Objective Bounds      |     Work\n",
      " Expl Unexpl |  Obj  Depth IntInf | Incumbent    BestBd   Gap | It/Node Time\n",
      "\n",
      "     0     0    0.17980    0  346    0.11820    0.17980  52.1%     -    1s\n",
      "     0     0    0.17840    0  340    0.11820    0.17840  50.9%     -    1s\n",
      "     0     0    0.17840    0  336    0.11820    0.17840  50.9%     -    1s\n",
      "H    0     0                       0.1183000    0.17840  50.8%     -    1s\n",
      "H    0     0                       0.1201000    0.17840  48.5%     -    1s\n",
      "     0     0    0.15675    0  340    0.12010    0.15675  30.5%     -    1s\n",
      "     0     0    0.15664    0  340    0.12010    0.15664  30.4%     -    1s\n",
      "     0     0    0.15310    0  339    0.12010    0.15310  27.5%     -    1s\n",
      "H    0     0                       0.1202000    0.15304  27.3%     -    1s\n",
      "H    0     0                       0.1261000    0.15304  21.4%     -    1s\n",
      "     0     0    0.14965    0  334    0.12610    0.14965  18.7%     -    1s\n",
      "     0     0    0.14368    0  326    0.12610    0.14368  13.9%     -    1s\n",
      "     0     0    0.14318    0  362    0.12610    0.14318  13.5%     -    1s\n",
      "     0     0    0.14087    0  378    0.12610    0.14087  11.7%     -    1s\n",
      "     0     0    0.14087    0  378    0.12610    0.14087  11.7%     -    1s\n",
      "     0     0    0.14009    0  357    0.12610    0.14009  11.1%     -    1s\n",
      "     0     2    0.14009    0  354    0.12610    0.14009  11.1%     -    1s\n",
      "\n",
      "Cutting planes:\n",
      "  Gomory: 16\n",
      "  Cover: 128\n",
      "  Clique: 13\n",
      "  MIR: 1462\n",
      "  Inf proof: 3\n",
      "  RLT: 80\n",
      "  Relax-and-lift: 601\n",
      "\n",
      "Explored 285 nodes (41617 simplex iterations) in 2.33 seconds (1.80 work units)\n",
      "Thread count was 32 (of 128 available processors)\n",
      "\n",
      "Solution count 7: 0.1261 0.1202 0.1201 ... -0\n",
      "No other solutions better than 0.1261\n",
      "\n",
      "Optimal solution found (tolerance 1.00e-04)\n",
      "Best objective 1.261000000000e-01, best bound 1.261000000000e-01, gap 0.0000%\n",
      "Worst case flipped: [7.0, 2.0, 2.0, 7.0, 2.0]\n",
      "Worst case accuracy 0.8739000000000003\n",
      "Solve time: 2.3368 seconds\n"
     ]
    }
   ],
   "source": [
    "\"\"\" Solve MILP with Gurobi \"\"\"\n",
    "k_poison = N\n",
    "print(k_poison)\n",
    "model = gp.Model(\"Certification\")\n",
    "\n",
    "n = len(grid_data) # number of test samples\n",
    "g = torch.load(f\".results/g_{N}_{ensemble_size}_{s}.pth\", map_location=device)  # load the number of votes to flip for each test sample\n",
    "gs = g[:n]# number of votes to flip before ensemble prediction flips for each test sample\n",
    "bs = b[:, :n] # number of datapoints to poison for each member before prediction for each test sample changes\n",
    "\n",
    "print(f\"Gs: {gs}\")\n",
    "print(f\"Bs: {bs}\")\n",
    "\n",
    "# Define variables\n",
    "# Relaxing p to continuous for faster solving (gives the same result)\n",
    "p = model.addVars(ensemble_size, vtype=GRB.CONTINUOUS, lb=0, name=\"poisoning_vector\") # poisoning vector that should sum up to N\n",
    "z = model.addVars(n, vtype=GRB.BINARY, name=\"pred_flipped_indicator\")\n",
    "\n",
    "# Outer loop, compute outer sum: sum_k(1{g_k <= sum_i(1{p[i] > b[i][k]})})\n",
    "for k in range(n):\n",
    "    # Create decision variables\n",
    "    z_k = model.addVars(ensemble_size, vtype=GRB.BINARY, name=f\"z_{k}\")  # Binary indicator variables for {p_i > b_ik}\n",
    "\n",
    "    # compute inner sum (#flipped votes): sum_i(1{p[i] >= b[i][k]})\n",
    "    for i in range(ensemble_size):\n",
    "        model.addGenConstrIndicator(z_k[i], 1, p[i] - bs[i][k], GRB.GREATER_EQUAL, 0, name=f\"vote_flipped_indicator_{i}{k}\")\n",
    "\n",
    "    num_flipped_votes = gp.quicksum(z_k[i] for i in range(ensemble_size))\n",
    "    model.addGenConstrIndicator(z[k], 1, gs[k]-num_flipped_votes+1, GRB.LESS_EQUAL, 0, name=f\"pred_flipped_indicator_{k}\")\n",
    "\n",
    "num_flipped_preds = gp.quicksum(z[i] for i in range(n))\n",
    "\n",
    "# Define objective function\n",
    "model.setObjective((1/n)*num_flipped_preds, GRB.MAXIMIZE)\n",
    "\n",
    "# Constraint: #total poisoned points == N\n",
    "model.addConstr(gp.quicksum(p[i] for i in range(ensemble_size)) == k_poison)\n",
    "    \n",
    "model.setParam('TimeLimit', 1800) # 15 minutes\n",
    "\n",
    "# loosen optimality tolerance\n",
    "# model.setParam('MIPGap', 1e-2)  # Allow 1% gap\n",
    "\n",
    "model.update()\n",
    "\n",
    "# Optimize\n",
    "model.optimize()\n",
    "\n",
    "# Print results\n",
    "if model.status == GRB.OPTIMAL or model.status == GRB.TIME_LIMIT:\n",
    "    vars = {var.VarName: var.X for var in model.getVars()}\n",
    "\n",
    "    # Extract p and z values by matching their variable names\n",
    "    p_values = [vars[f'poisoning_vector[{i}]'] for i in range(ensemble_size)]\n",
    "    z_values = [vars[f'pred_flipped_indicator[{k}]'] for k in range(n)]\n",
    "    worst_case_accuracy = 1-model.objVal\n",
    "    opt_gap = model.MIPGap\n",
    "    if model.status == GRB.TIME_LIMIT:\n",
    "        print(\"Gurobi reached time limit, returning dual solution found.\")\n",
    "        worst_case_accuracy = 1 - model.ObjBound\n",
    "    print(\"Worst case flipped:\", p_values)\n",
    "    print(\"Worst case accuracy\", worst_case_accuracy)\n",
    "    print(f\"Solve time: {model.Runtime:.4f} seconds\")\n",
    "    torch.save({\n",
    "        'cert_acc': worst_case_accuracy,\n",
    "        'p': p_values,\n",
    "        'z': z_values,\n",
    "    }, f\".results/moons_agt_p_k={k_poison}_{ensemble_size}_{s}.pth\")"
   ]
  },
  {
   "cell_type": "markdown",
   "id": "5b5910b5",
   "metadata": {},
   "source": [
    "#### Plot"
   ]
  },
  {
   "cell_type": "code",
   "execution_count": 34,
   "id": "b4ca6086",
   "metadata": {},
   "outputs": [
    {
     "name": "stdout",
     "output_type": "stream",
     "text": [
      "1261\n"
     ]
    },
    {
     "data": {
      "text/plain": [
       "<matplotlib.collections.PathCollection at 0x75b0b75b5210>"
      ]
     },
     "execution_count": 34,
     "metadata": {},
     "output_type": "execute_result"
    },
    {
     "data": {
      "image/png": "[encoded data removed]",
      "text/plain": [
       "<Figure size 640x480 with 1 Axes>"
      ]
     },
     "metadata": {},
     "output_type": "display_data"
    }
   ],
   "source": [
    "from matplotlib.colors import ListedColormap\n",
    "N=20\n",
    "M=5\n",
    "s=5\n",
    "### Visualise the results (AGT)\n",
    "fig, ax = plt.subplots()\n",
    "ax.set_box_aspect(1)\n",
    "ax.set_xticks([])\n",
    "ax.set_yticks([])\n",
    "\n",
    "ensemble_preds = torch.load(f\".results/ensemble_preds_agt_dpa_{N}_{M}_{s}.pth\", map_location=device)        \n",
    "agt_uncert = torch.tensor(torch.load(f\".results/moons_agt_p_k={N}_{M}_{s}.pth\")['z']).to(device)\n",
    "preds = ensemble_preds.reshape(gridsize, gridsize).cpu().numpy()\n",
    "ax.contour(X0, X1, preds, levels=[0.5])\n",
    "cert_preds_0 = ((ensemble_preds == 0) & (agt_uncert == 0)).float()  # where the model always predicts class 0\n",
    "cert_preds_1 = ((ensemble_preds == 1) & (agt_uncert == 0)).float()  # where the model always predicts class 1\n",
    "cert_preds = (cert_preds_0 - cert_preds_1).reshape(gridsize, gridsize).cpu().numpy()\n",
    "print((cert_preds == 0).sum())\n",
    "pastel_red = \"#FE2C02\"   # Soft pinkish-red\n",
    "pastel_blue = \"#015FAA\"  # Light pastel blue\n",
    "cmap = ListedColormap([pastel_red, \"white\", pastel_blue])\n",
    "ax.contourf(X0, X1, cert_preds, cmap=cmap, levels=[-1.5, -0.5, 0.0, 0.5, 1.5], alpha=0.5)\n",
    "\n",
    "# plot the moons\n",
    "ax.scatter(x_test.cpu()[y_test.cpu() == 0, 0], x_test.cpu()[y_test.cpu() == 0, 1], s=25, edgecolors=\"k\", color=\"blue\")\n",
    "ax.scatter(x_test.cpu()[y_test.cpu() == 1, 0], x_test.cpu()[y_test.cpu() == 1, 1], s=25, edgecolors=\"k\", color=\"red\")\n",
    "\n",
    "# save fig\n",
    "# plt.savefig(f\"../figures/agt_moons_{N}_{M}_{s}_fixed_10k.pdf\", dpi=300, bbox_inches='tight')"
   ]
  },
  {
   "cell_type": "code",
   "execution_count": 36,
   "id": "d5f7ad42",
   "metadata": {},
   "outputs": [
    {
     "name": "stdout",
     "output_type": "stream",
     "text": [
      "tensor([2., 2., 2.,  ..., 2., 2., 2.])\n",
      "tensor([[12., 12., 12.,  ...,  2.,  2.,  2.],\n",
      "        [17., 17., 17.,  ..., 12., 12., 17.],\n",
      "        [21., 21., 21.,  ...,  2.,  2.,  2.],\n",
      "        [ 2.,  2.,  2.,  ...,  7., 12., 12.],\n",
      "        [21., 21., 21.,  ..., 12., 17., 17.]])\n",
      "tensor([[ 2.,  2.,  2.,  ...,  2.,  2.,  2.],\n",
      "        [12., 12., 12.,  ...,  2.,  2.,  2.],\n",
      "        [17., 17., 17.,  ...,  7., 12., 12.],\n",
      "        [21., 21., 21.,  ..., 12., 12., 17.],\n",
      "        [21., 21., 21.,  ..., 12., 17., 17.]])\n",
      "tensor([15., 15., 15.,  ...,  5.,  5.,  5.])\n",
      "tensor(2142)\n",
      "tensor(0.2142)\n",
      "2142\n"
     ]
    },
    {
     "data": {
      "image/png": "[encoded data removed]",
      "text/plain": [
       "<Figure size 640x480 with 1 Axes>"
      ]
     },
     "metadata": {},
     "output_type": "display_data"
    }
   ],
   "source": [
    "from matplotlib.colors import ListedColormap\n",
    "# Plot per sample graph\n",
    "N=20\n",
    "M=5\n",
    "s=5\n",
    "### Visualise the results (AGT)\n",
    "fig, ax = plt.subplots()\n",
    "ax.set_box_aspect(1)\n",
    "ax.set_xticks([])\n",
    "ax.set_yticks([])\n",
    "\n",
    "gs = torch.load(f\".results/g_{N}_{M}_{s}.pth\", map_location=device)\n",
    "print(gs)\n",
    "\n",
    "ensemble_preds = torch.load(f\".results/ensemble_preds_agt_dpa_{N}_{M}_{s}.pth\", map_location=device)\n",
    "bs = torch.load(f\".results/moons_agt_bs_{N}_{M}_{s}.pth\", map_location=device)\n",
    "print(bs)\n",
    "\n",
    "# compute stable distance for each test datapoint (adversary must poison >= stable_distance points before prediction flips for this data point)\n",
    "sorted_bs, _ = torch.sort(bs, dim=0)\n",
    "print(sorted_bs)\n",
    "\n",
    "# for each test datapoint i (column), try to flip the prediction of the first #gs[i] members\n",
    "# Stable distance: max number of points that can be poisoned before ensemble prediction flips\n",
    "stable_distance = torch.tensor([\n",
    "    max((sorted_bs[:int(k), i] + 1).sum() - 1, 0)\n",
    "    for i, k in enumerate(gs)\n",
    "])\n",
    "\n",
    "print(stable_distance)\n",
    "\n",
    "# point is accurately predicted if stable distance > N\n",
    "accurate_points = stable_distance < N\n",
    "point_wise_accuracy = accurate_points.sum()\n",
    "print(point_wise_accuracy)\n",
    "\n",
    "# Percentage\n",
    "accuracy = point_wise_accuracy.float() / len(stable_distance)\n",
    "\n",
    "print(accuracy)\n",
    "preds = ensemble_preds.reshape(gridsize, gridsize).cpu().numpy()\n",
    "ax.contour(X0, X1, preds, levels=[0.5])\n",
    "cert_preds_0 = ((ensemble_preds == 0) & (accurate_points == 0)).float()  # where the model always predicts class 0\n",
    "cert_preds_1 = ((ensemble_preds == 1) & (accurate_points == 0)).float()  # where the model always predicts class 1\n",
    "cert_preds = (cert_preds_0 - cert_preds_1).reshape(gridsize, gridsize).cpu().numpy()\n",
    "print((cert_preds == 0).sum())\n",
    "pastel_red = \"#FE2C02\"   # Soft pinkish-red\n",
    "pastel_blue = \"#015FAA\"  # Light pastel blue\n",
    "cmap = ListedColormap([pastel_red, \"white\", pastel_blue])\n",
    "ax.contourf(X0, X1, cert_preds, cmap=cmap, levels=[-1.5, -0.5, 0.0, 0.5, 1.5], alpha=0.5)\n",
    "\n",
    "# plot the moons\n",
    "ax.scatter(x_test.cpu()[y_test.cpu() == 0, 0], x_test.cpu()[y_test.cpu() == 0, 1], s=25, edgecolors=\"k\", color=\"blue\")\n",
    "ax.scatter(x_test.cpu()[y_test.cpu() == 1, 0], x_test.cpu()[y_test.cpu() == 1, 1], s=25, edgecolors=\"k\", color=\"red\")\n",
    "\n",
    "# save fig\n",
    "plt.savefig(f\"../figures/agt_moons_{N}_{M}_{s}_per_sample.pdf\", dpi=300, bbox_inches='tight')"
   ]
  }
 ],
 "metadata": {
  "kernelspec": {
   "display_name": "myenv",
   "language": "python",
   "name": "python3"
  },
  "language_info": {
   "codemirror_mode": {
    "name": "ipython",
    "version": 3
   },
   "file_extension": ".py",
   "mimetype": "text/x-python",
   "name": "python",
   "nbconvert_exporter": "python",
   "pygments_lexer": "ipython3",
   "version": "3.10.12"
  }
 },
 "nbformat": 4,
 "nbformat_minor": 5
}
