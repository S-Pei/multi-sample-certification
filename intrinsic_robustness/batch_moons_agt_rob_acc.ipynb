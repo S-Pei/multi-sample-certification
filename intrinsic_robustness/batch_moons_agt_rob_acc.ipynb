{
 "cells": [
  {
   "cell_type": "code",
   "execution_count": 1,
   "id": "fed18562",
   "metadata": {},
   "outputs": [],
   "source": [
    "import torch\n",
    "import numpy as np\n",
    "import matplotlib.pyplot as plt\n",
    "import abstract_gradient_training as agt\n",
    "import sklearn\n",
    "import copy\n",
    "import gurobipy as gp\n",
    "from gurobipy import GRB\n",
    "import json\n",
    "from tqdm import tqdm\n",
    "import random\n",
    "import matplotlib.colors as mcolors\n",
    "import seaborn as sns\n",
    "import pandas as pd\n",
    "\n",
    "import scienceplots"
   ]
  },
  {
   "cell_type": "code",
   "execution_count": null,
   "id": "c0ad2960",
   "metadata": {},
   "outputs": [
    {
     "name": "stdout",
     "output_type": "stream",
     "text": [
      "Using device: cpu\n"
     ]
    }
   ],
   "source": [
    "dev = \"cuda\" if torch.cuda.is_available() else \"cpu\"\n",
    "# dev = \"cpu\"\n",
    "device = torch.device(dev)\n",
    "print(f\"Using device: {device}\")"
   ]
  },
  {
   "cell_type": "code",
   "execution_count": 9,
   "id": "5860ee82",
   "metadata": {},
   "outputs": [],
   "source": [
    "# get data\n",
    "ensemble_size = 20\n",
    "\"\"\"Initialise the halfmoons training data.\"\"\"\n",
    "seed = 0\n",
    "total_dataset_size = 100000\n",
    "train_dataset_size_per_member = total_dataset_size//ensemble_size  # number of samples per batch\n",
    "batch_size = train_dataset_size_per_member // 2\n",
    "test_size = 1000\n",
    "# n_batches = 3  # number of batches per epoch\n",
    "n_epochs = 4  # number of epochs\n",
    "dpa_prop = 0.0 # proportion of data to use for DPA without AGT\n",
    "\n",
    "torch.manual_seed(seed)\n",
    "# load the dataset\n",
    "x, y = sklearn.datasets.make_moons(noise=0.1, n_samples=ensemble_size*train_dataset_size_per_member + test_size, random_state=seed)\n",
    "# to make it easier to train, we'll space the moons out a bit and add some polynomial features\n",
    "x[y==0, 1] += 0.2\n",
    "x = np.hstack((x, x**2, (x[:, 0] * x[:, 1])[:, None], x**3))\n",
    "# perform a test-train split\n",
    "x_train, x_test, y_train, y_test = sklearn.model_selection.train_test_split(\n",
    "    x, y, test_size=test_size / (ensemble_size*train_dataset_size_per_member + test_size), random_state=seed\n",
    ")\n",
    "\n",
    "# convert into pytorch dataloaders\n",
    "x_train, y_train = torch.from_numpy(x_train).float().to(device), torch.from_numpy(y_train).to(device)\n",
    "x_test, y_test = torch.from_numpy(x_test).float().to(device), torch.from_numpy(y_test).to(device)\n",
    "dataset_train = torch.utils.data.TensorDataset(x_train, y_train)\n",
    "dataset_test = torch.utils.data.TensorDataset(x_test, y_test)\n",
    "# dataloader_train = torch.utils.data.DataLoader(dataset_train, batch_size=batchsize, shuffle=True)\n",
    "dataloader_test = torch.utils.data.DataLoader(dataset_test, batch_size=250, shuffle=False)"
   ]
  },
  {
   "cell_type": "code",
   "execution_count": 10,
   "id": "2424a202",
   "metadata": {},
   "outputs": [
    {
     "name": "stdout",
     "output_type": "stream",
     "text": [
      "Smaller model for AGT member 0\n",
      "Smaller model for AGT member 1\n",
      "Smaller model for AGT member 2\n",
      "Smaller model for AGT member 3\n",
      "Smaller model for AGT member 4\n",
      "Smaller model for AGT member 5\n",
      "Smaller model for AGT member 6\n",
      "Smaller model for AGT member 7\n",
      "Smaller model for AGT member 8\n",
      "Smaller model for AGT member 9\n",
      "Smaller model for AGT member 10\n",
      "Smaller model for AGT member 11\n",
      "Smaller model for AGT member 12\n",
      "Smaller model for AGT member 13\n",
      "Smaller model for AGT member 14\n",
      "Smaller model for AGT member 15\n",
      "Smaller model for AGT member 16\n",
      "Smaller model for AGT member 17\n",
      "Smaller model for AGT member 18\n",
      "Smaller model for AGT member 19\n"
     ]
    }
   ],
   "source": [
    "\n",
    "\"\"\"Train an ensemble of classifiers on the AGT dataset.\"\"\"\n",
    "NOMINAL_CONFIG = agt.AGTConfig(\n",
    "    learning_rate=3.0,\n",
    "    n_epochs=4,\n",
    "    device=dev,\n",
    "    loss=\"cross_entropy\",\n",
    "    lr_decay=0.6,\n",
    "    lr_min=1e-3,\n",
    "    log_level=\"DEBUG\",\n",
    "    # paired_poison=True,\n",
    "    clip_gamma=1.0,\n",
    ")\n",
    "\n",
    "ensemble = []\n",
    "num_dpa = int(dpa_prop * ensemble_size)\n",
    "\n",
    "torch.manual_seed(seed)\n",
    "indices = torch.randperm(len(dataset_train))\n",
    "for t in range(ensemble_size):\n",
    "    trained_models = []\n",
    "    model_t = torch.nn.Sequential(\n",
    "        torch.nn.Linear(7, 32),\n",
    "        torch.nn.ReLU(),\n",
    "        torch.nn.Linear(32, 128),\n",
    "        torch.nn.ReLU(),\n",
    "        torch.nn.Linear(128, 2),\n",
    "    ).to(device)\n",
    "    conf = copy.deepcopy(NOMINAL_CONFIG)\n",
    "    conf.n_epochs = 7\n",
    "    if t >= num_dpa:\n",
    "        # Smaller model for AGT\n",
    "        print(f\"Smaller model for AGT member {t}\")\n",
    "        model_t = torch.nn.Sequential(torch.nn.Linear(7, 2).to(device))\n",
    "        conf.learning_rate = 2.0\n",
    "        conf.n_epochs = 4\n",
    "    bounded_model_t = agt.bounded_models.IntervalBoundedModel(model_t)\n",
    "    # create a disjoint subset of the training data\n",
    "    dataset_train_t = torch.utils.data.Subset(dataset_train, indices[t::ensemble_size])  # type: ignore\n",
    "    dataloader_t = torch.utils.data.DataLoader(dataset_train_t, batch_size=batch_size, shuffle=True)\n",
    "    ensemble.append((bounded_model_t, dataloader_t, conf))"
   ]
  },
  {
   "cell_type": "markdown",
   "id": "81094b95",
   "metadata": {},
   "source": [
    "#### TRAINING"
   ]
  },
  {
   "cell_type": "code",
   "execution_count": 87,
   "id": "cdadb45e",
   "metadata": {},
   "outputs": [
    {
     "name": "stdout",
     "output_type": "stream",
     "text": [
      "torch.Size([10000, 7])\n"
     ]
    },
    {
     "name": "stderr",
     "output_type": "stream",
     "text": [
      "/vol/bitbucket/spo21/myenv/lib/python3.10/site-packages/torch/functional.py:539: UserWarning: torch.meshgrid: in an upcoming release, it will be required to pass the indexing argument. (Triggered internally at /pytorch/aten/src/ATen/native/TensorShape.cpp:3637.)\n",
      "  return _VF.meshgrid(tensors, **kwargs)  # type: ignore[attr-defined]\n"
     ]
    }
   ],
   "source": [
    "gridsize = 100\n",
    "test_size = gridsize ** 2\n",
    "\n",
    "# define a grid of points and add features\n",
    "x0 = torch.linspace(-1.5, 2.5, gridsize)\n",
    "x1 = torch.linspace(-1.2, 2.2, gridsize)\n",
    "X0, X1 = torch.meshgrid(x0, x1)\n",
    "X0f, X1f = X0.flatten(), X1.flatten()\n",
    "grid_data = torch.stack((X0f, X1f, X0f**2, X1f**2, X0f * X1f, X0f ** 3, X1f ** 3), dim=1)\n",
    "grid_data = grid_data.to(device)\n",
    "print(grid_data.shape)"
   ]
  },
  {
   "cell_type": "code",
   "execution_count": 89,
   "id": "f1611fc7",
   "metadata": {},
   "outputs": [
    {
     "name": "stderr",
     "output_type": "stream",
     "text": [
      "[AGT] [INFO    ] [21:46:23] =================== Starting Privacy Certified Training ===================\n",
      "[AGT] [DEBUG   ] [21:46:23] \tOptimizer params: n_epochs=4, learning_rate=2.0, l1_reg=0.0, l2_reg=0.0\n",
      "[AGT] [DEBUG   ] [21:46:23] \tLearning rate schedule: lr_decay=0.6, lr_min=0.001\n",
      "[AGT] [DEBUG   ] [21:46:23] \tGradient clipping: gamma=1.0, method=clamp\n",
      "[AGT] [DEBUG   ] [21:46:23] \tPrivacy parameter: k_private=1\n",
      "[AGT] [INFO    ] [21:46:23] Starting epoch 1 of 4.\n",
      "[AGT] [DEBUG   ] [21:46:23] Initialising dataloader batchsize to 2500\n",
      "[AGT] [INFO    ] [21:46:23] Batch 1. Loss (accuracy) 0.540 <= 0.540 <= 0.540\n"
     ]
    },
    {
     "name": "stdout",
     "output_type": "stream",
     "text": [
      "Training model 0 with k=1\n",
      "cpu\n"
     ]
    },
    {
     "name": "stderr",
     "output_type": "stream",
     "text": [
      "[AGT] [INFO    ] [21:46:23] Batch 2. Loss (accuracy) 0.860 <= 0.860 <= 0.860\n",
      "[AGT] [INFO    ] [21:46:23] Starting epoch 2 of 4.\n",
      "[AGT] [DEBUG   ] [21:46:23] Initialising dataloader batchsize to 2500\n",
      "[AGT] [INFO    ] [21:46:23] Batch 1. Loss (accuracy) 0.828 <= 0.828 <= 0.836\n",
      "[AGT] [INFO    ] [21:46:24] Batch 2. Loss (accuracy) 0.884 <= 0.884 <= 0.892\n",
      "[AGT] [INFO    ] [21:46:24] Starting epoch 3 of 4.\n",
      "[AGT] [DEBUG   ] [21:46:24] Initialising dataloader batchsize to 2500\n",
      "[AGT] [INFO    ] [21:46:24] Batch 1. Loss (accuracy) 0.884 <= 0.888 <= 0.896\n",
      "[AGT] [INFO    ] [21:46:24] Batch 2. Loss (accuracy) 0.876 <= 0.892 <= 0.896\n",
      "[AGT] [INFO    ] [21:46:24] Starting epoch 4 of 4.\n",
      "[AGT] [DEBUG   ] [21:46:24] Initialising dataloader batchsize to 2500\n",
      "[AGT] [INFO    ] [21:46:24] Batch 1. Loss (accuracy) 0.852 <= 0.872 <= 0.872\n",
      "[AGT] [INFO    ] [21:46:25] Batch 2. Loss (accuracy) 0.904 <= 0.908 <= 0.916\n",
      "[AGT] [INFO    ] [21:46:25] Final Eval. Loss (accuracy): 0.896 <= 0.904 <= 0.912\n",
      "[AGT] [INFO    ] [21:46:25] =================== Finished Privacy Certified Training ===================\n",
      "[AGT] [INFO    ] [21:46:25] =================== Starting Privacy Certified Training ===================\n",
      "[AGT] [DEBUG   ] [21:46:25] \tOptimizer params: n_epochs=4, learning_rate=2.0, l1_reg=0.0, l2_reg=0.0\n",
      "[AGT] [DEBUG   ] [21:46:25] \tLearning rate schedule: lr_decay=0.6, lr_min=0.001\n",
      "[AGT] [DEBUG   ] [21:46:25] \tGradient clipping: gamma=1.0, method=clamp\n",
      "[AGT] [DEBUG   ] [21:46:25] \tPrivacy parameter: k_private=3\n",
      "[AGT] [INFO    ] [21:46:25] Starting epoch 1 of 4.\n",
      "[AGT] [DEBUG   ] [21:46:25] Initialising dataloader batchsize to 2500\n",
      "[AGT] [INFO    ] [21:46:25] Batch 1. Loss (accuracy) 0.540 <= 0.540 <= 0.540\n"
     ]
    },
    {
     "name": "stdout",
     "output_type": "stream",
     "text": [
      "Training model 0 with k=3\n",
      "cpu\n"
     ]
    },
    {
     "name": "stderr",
     "output_type": "stream",
     "text": [
      "[AGT] [INFO    ] [21:46:25] Batch 2. Loss (accuracy) 0.856 <= 0.860 <= 0.860\n",
      "[AGT] [INFO    ] [21:46:25] Starting epoch 2 of 4.\n",
      "[AGT] [DEBUG   ] [21:46:25] Initialising dataloader batchsize to 2500\n",
      "[AGT] [INFO    ] [21:46:25] Batch 1. Loss (accuracy) 0.816 <= 0.828 <= 0.836\n",
      "[AGT] [INFO    ] [21:46:26] Batch 2. Loss (accuracy) 0.880 <= 0.884 <= 0.900\n",
      "[AGT] [INFO    ] [21:46:26] Starting epoch 3 of 4.\n",
      "[AGT] [DEBUG   ] [21:46:26] Initialising dataloader batchsize to 2500\n",
      "[AGT] [INFO    ] [21:46:26] Batch 1. Loss (accuracy) 0.876 <= 0.888 <= 0.912\n",
      "[AGT] [INFO    ] [21:46:26] Batch 2. Loss (accuracy) 0.852 <= 0.892 <= 0.912\n",
      "[AGT] [INFO    ] [21:46:26] Starting epoch 4 of 4.\n",
      "[AGT] [DEBUG   ] [21:46:27] Initialising dataloader batchsize to 2500\n",
      "[AGT] [INFO    ] [21:46:27] Batch 1. Loss (accuracy) 0.828 <= 0.872 <= 0.888\n",
      "[AGT] [INFO    ] [21:46:27] Batch 2. Loss (accuracy) 0.876 <= 0.908 <= 0.936\n",
      "[AGT] [INFO    ] [21:46:27] Final Eval. Loss (accuracy): 0.868 <= 0.904 <= 0.940\n",
      "[AGT] [INFO    ] [21:46:27] =================== Finished Privacy Certified Training ===================\n",
      "[AGT] [INFO    ] [21:46:27] =================== Starting Privacy Certified Training ===================\n",
      "[AGT] [DEBUG   ] [21:46:27] \tOptimizer params: n_epochs=4, learning_rate=2.0, l1_reg=0.0, l2_reg=0.0\n",
      "[AGT] [DEBUG   ] [21:46:27] \tLearning rate schedule: lr_decay=0.6, lr_min=0.001\n",
      "[AGT] [DEBUG   ] [21:46:27] \tGradient clipping: gamma=1.0, method=clamp\n",
      "[AGT] [DEBUG   ] [21:46:27] \tPrivacy parameter: k_private=5\n",
      "[AGT] [INFO    ] [21:46:27] Starting epoch 1 of 4.\n",
      "[AGT] [DEBUG   ] [21:46:27] Initialising dataloader batchsize to 2500\n",
      "[AGT] [INFO    ] [21:46:27] Batch 1. Loss (accuracy) 0.540 <= 0.540 <= 0.540\n"
     ]
    },
    {
     "name": "stdout",
     "output_type": "stream",
     "text": [
      "Training model 0 with k=5\n",
      "cpu\n"
     ]
    },
    {
     "name": "stderr",
     "output_type": "stream",
     "text": [
      "[AGT] [INFO    ] [21:46:27] Batch 2. Loss (accuracy) 0.856 <= 0.860 <= 0.860\n",
      "[AGT] [INFO    ] [21:46:28] Starting epoch 2 of 4.\n",
      "[AGT] [DEBUG   ] [21:46:28] Initialising dataloader batchsize to 2500\n",
      "[AGT] [INFO    ] [21:46:28] Batch 1. Loss (accuracy) 0.816 <= 0.828 <= 0.836\n",
      "[AGT] [INFO    ] [21:46:28] Batch 2. Loss (accuracy) 0.868 <= 0.884 <= 0.908\n",
      "[AGT] [INFO    ] [21:46:28] Starting epoch 3 of 4.\n",
      "[AGT] [DEBUG   ] [21:46:28] Initialising dataloader batchsize to 2500\n",
      "[AGT] [INFO    ] [21:46:28] Batch 1. Loss (accuracy) 0.864 <= 0.888 <= 0.924\n",
      "[AGT] [INFO    ] [21:46:29] Batch 2. Loss (accuracy) 0.836 <= 0.892 <= 0.920\n",
      "[AGT] [INFO    ] [21:46:29] Starting epoch 4 of 4.\n",
      "[AGT] [DEBUG   ] [21:46:29] Initialising dataloader batchsize to 2500\n",
      "[AGT] [INFO    ] [21:46:29] Batch 1. Loss (accuracy) 0.800 <= 0.872 <= 0.900\n",
      "[AGT] [INFO    ] [21:46:29] Batch 2. Loss (accuracy) 0.844 <= 0.908 <= 0.940\n",
      "[AGT] [INFO    ] [21:46:30] Final Eval. Loss (accuracy): 0.844 <= 0.904 <= 0.960\n",
      "[AGT] [INFO    ] [21:46:30] =================== Finished Privacy Certified Training ===================\n",
      "[AGT] [INFO    ] [21:46:30] =================== Starting Privacy Certified Training ===================\n",
      "[AGT] [DEBUG   ] [21:46:30] \tOptimizer params: n_epochs=4, learning_rate=2.0, l1_reg=0.0, l2_reg=0.0\n",
      "[AGT] [DEBUG   ] [21:46:30] \tLearning rate schedule: lr_decay=0.6, lr_min=0.001\n",
      "[AGT] [DEBUG   ] [21:46:30] \tGradient clipping: gamma=1.0, method=clamp\n",
      "[AGT] [DEBUG   ] [21:46:30] \tPrivacy parameter: k_private=7\n",
      "[AGT] [INFO    ] [21:46:30] Starting epoch 1 of 4.\n",
      "[AGT] [DEBUG   ] [21:46:30] Initialising dataloader batchsize to 2500\n",
      "[AGT] [INFO    ] [21:46:30] Batch 1. Loss (accuracy) 0.540 <= 0.540 <= 0.540\n"
     ]
    },
    {
     "name": "stdout",
     "output_type": "stream",
     "text": [
      "Training model 0 with k=7\n",
      "cpu\n"
     ]
    },
    {
     "name": "stderr",
     "output_type": "stream",
     "text": [
      "[AGT] [INFO    ] [21:46:30] Batch 2. Loss (accuracy) 0.848 <= 0.860 <= 0.860\n",
      "[AGT] [INFO    ] [21:46:30] Starting epoch 2 of 4.\n",
      "[AGT] [DEBUG   ] [21:46:30] Initialising dataloader batchsize to 2500\n",
      "[AGT] [INFO    ] [21:46:30] Batch 1. Loss (accuracy) 0.812 <= 0.828 <= 0.848\n",
      "[AGT] [INFO    ] [21:46:31] Batch 2. Loss (accuracy) 0.860 <= 0.884 <= 0.912\n",
      "[AGT] [INFO    ] [21:46:31] Starting epoch 3 of 4.\n",
      "[AGT] [DEBUG   ] [21:46:31] Initialising dataloader batchsize to 2500\n",
      "[AGT] [INFO    ] [21:46:31] Batch 1. Loss (accuracy) 0.860 <= 0.888 <= 0.924\n",
      "[AGT] [INFO    ] [21:46:31] Batch 2. Loss (accuracy) 0.820 <= 0.892 <= 0.928\n",
      "[AGT] [INFO    ] [21:46:31] Starting epoch 4 of 4.\n",
      "[AGT] [DEBUG   ] [21:46:31] Initialising dataloader batchsize to 2500\n",
      "[AGT] [INFO    ] [21:46:31] Batch 1. Loss (accuracy) 0.780 <= 0.872 <= 0.928\n",
      "[AGT] [INFO    ] [21:46:32] Batch 2. Loss (accuracy) 0.808 <= 0.908 <= 0.952\n",
      "[AGT] [INFO    ] [21:46:32] Final Eval. Loss (accuracy): 0.812 <= 0.904 <= 0.972\n",
      "[AGT] [INFO    ] [21:46:32] =================== Finished Privacy Certified Training ===================\n",
      "[AGT] [INFO    ] [21:46:32] =================== Starting Privacy Certified Training ===================\n",
      "[AGT] [DEBUG   ] [21:46:32] \tOptimizer params: n_epochs=4, learning_rate=2.0, l1_reg=0.0, l2_reg=0.0\n",
      "[AGT] [DEBUG   ] [21:46:32] \tLearning rate schedule: lr_decay=0.6, lr_min=0.001\n",
      "[AGT] [DEBUG   ] [21:46:32] \tGradient clipping: gamma=1.0, method=clamp\n",
      "[AGT] [DEBUG   ] [21:46:32] \tPrivacy parameter: k_private=8\n",
      "[AGT] [INFO    ] [21:46:32] Starting epoch 1 of 4.\n",
      "[AGT] [DEBUG   ] [21:46:32] Initialising dataloader batchsize to 2500\n",
      "[AGT] [INFO    ] [21:46:32] Batch 1. Loss (accuracy) 0.540 <= 0.540 <= 0.540\n"
     ]
    },
    {
     "name": "stdout",
     "output_type": "stream",
     "text": [
      "Training model 0 with k=8\n",
      "cpu\n"
     ]
    },
    {
     "name": "stderr",
     "output_type": "stream",
     "text": [
      "[AGT] [INFO    ] [21:46:32] Batch 2. Loss (accuracy) 0.848 <= 0.860 <= 0.860\n",
      "[AGT] [INFO    ] [21:46:32] Starting epoch 2 of 4.\n",
      "[AGT] [DEBUG   ] [21:46:33] Initialising dataloader batchsize to 2500\n",
      "[AGT] [INFO    ] [21:46:33] Batch 1. Loss (accuracy) 0.808 <= 0.828 <= 0.852\n",
      "[AGT] [INFO    ] [21:46:33] Batch 2. Loss (accuracy) 0.848 <= 0.884 <= 0.912\n",
      "[AGT] [INFO    ] [21:46:33] Starting epoch 3 of 4.\n",
      "[AGT] [DEBUG   ] [21:46:33] Initialising dataloader batchsize to 2500\n",
      "[AGT] [INFO    ] [21:46:33] Batch 1. Loss (accuracy) 0.852 <= 0.888 <= 0.928\n",
      "[AGT] [INFO    ] [21:46:33] Batch 2. Loss (accuracy) 0.812 <= 0.892 <= 0.940\n",
      "[AGT] [INFO    ] [21:46:34] Starting epoch 4 of 4.\n",
      "[AGT] [DEBUG   ] [21:46:34] Initialising dataloader batchsize to 2500\n",
      "[AGT] [INFO    ] [21:46:34] Batch 1. Loss (accuracy) 0.772 <= 0.872 <= 0.936\n",
      "[AGT] [INFO    ] [21:46:34] Batch 2. Loss (accuracy) 0.796 <= 0.908 <= 0.956\n",
      "[AGT] [INFO    ] [21:46:34] Final Eval. Loss (accuracy): 0.740 <= 0.904 <= 0.984\n",
      "[AGT] [INFO    ] [21:46:34] =================== Finished Privacy Certified Training ===================\n",
      "[AGT] [INFO    ] [21:46:34] =================== Starting Privacy Certified Training ===================\n",
      "[AGT] [DEBUG   ] [21:46:34] \tOptimizer params: n_epochs=4, learning_rate=2.0, l1_reg=0.0, l2_reg=0.0\n",
      "[AGT] [DEBUG   ] [21:46:34] \tLearning rate schedule: lr_decay=0.6, lr_min=0.001\n",
      "[AGT] [DEBUG   ] [21:46:34] \tGradient clipping: gamma=1.0, method=clamp\n",
      "[AGT] [DEBUG   ] [21:46:34] \tPrivacy parameter: k_private=1\n",
      "[AGT] [INFO    ] [21:46:34] Starting epoch 1 of 4.\n",
      "[AGT] [DEBUG   ] [21:46:34] Initialising dataloader batchsize to 2500\n",
      "[AGT] [INFO    ] [21:46:34] Batch 1. Loss (accuracy) 0.728 <= 0.728 <= 0.728\n"
     ]
    },
    {
     "name": "stdout",
     "output_type": "stream",
     "text": [
      "Training model 1 with k=1\n",
      "cpu\n"
     ]
    },
    {
     "name": "stderr",
     "output_type": "stream",
     "text": [
      "[AGT] [INFO    ] [21:46:34] Batch 2. Loss (accuracy) 0.828 <= 0.832 <= 0.832\n",
      "[AGT] [INFO    ] [21:46:35] Starting epoch 2 of 4.\n",
      "[AGT] [DEBUG   ] [21:46:35] Initialising dataloader batchsize to 2500\n",
      "[AGT] [INFO    ] [21:46:35] Batch 1. Loss (accuracy) 0.820 <= 0.824 <= 0.828\n",
      "[AGT] [INFO    ] [21:46:35] Batch 2. Loss (accuracy) 0.880 <= 0.880 <= 0.880\n",
      "[AGT] [INFO    ] [21:46:35] Starting epoch 3 of 4.\n",
      "[AGT] [DEBUG   ] [21:46:35] Initialising dataloader batchsize to 2500\n",
      "[AGT] [INFO    ] [21:46:35] Batch 1. Loss (accuracy) 0.876 <= 0.888 <= 0.888\n",
      "[AGT] [INFO    ] [21:46:35] Batch 2. Loss (accuracy) 0.864 <= 0.864 <= 0.868\n",
      "[AGT] [INFO    ] [21:46:36] Starting epoch 4 of 4.\n",
      "[AGT] [DEBUG   ] [21:46:36] Initialising dataloader batchsize to 2500\n",
      "[AGT] [INFO    ] [21:46:36] Batch 1. Loss (accuracy) 0.836 <= 0.844 <= 0.848\n",
      "[AGT] [INFO    ] [21:46:36] Batch 2. Loss (accuracy) 0.892 <= 0.896 <= 0.912\n",
      "[AGT] [INFO    ] [21:46:36] Final Eval. Loss (accuracy): 0.888 <= 0.900 <= 0.904\n",
      "[AGT] [INFO    ] [21:46:36] =================== Finished Privacy Certified Training ===================\n",
      "[AGT] [INFO    ] [21:46:36] =================== Starting Privacy Certified Training ===================\n",
      "[AGT] [DEBUG   ] [21:46:36] \tOptimizer params: n_epochs=4, learning_rate=2.0, l1_reg=0.0, l2_reg=0.0\n",
      "[AGT] [DEBUG   ] [21:46:36] \tLearning rate schedule: lr_decay=0.6, lr_min=0.001\n",
      "[AGT] [DEBUG   ] [21:46:36] \tGradient clipping: gamma=1.0, method=clamp\n",
      "[AGT] [DEBUG   ] [21:46:36] \tPrivacy parameter: k_private=3\n",
      "[AGT] [INFO    ] [21:46:36] Starting epoch 1 of 4.\n",
      "[AGT] [DEBUG   ] [21:46:36] Initialising dataloader batchsize to 2500\n",
      "[AGT] [INFO    ] [21:46:36] Batch 1. Loss (accuracy) 0.728 <= 0.728 <= 0.728\n"
     ]
    },
    {
     "name": "stdout",
     "output_type": "stream",
     "text": [
      "Training model 1 with k=3\n",
      "cpu\n"
     ]
    },
    {
     "name": "stderr",
     "output_type": "stream",
     "text": [
      "[AGT] [INFO    ] [21:46:37] Batch 2. Loss (accuracy) 0.824 <= 0.832 <= 0.832\n",
      "[AGT] [INFO    ] [21:46:37] Starting epoch 2 of 4.\n",
      "[AGT] [DEBUG   ] [21:46:37] Initialising dataloader batchsize to 2500\n",
      "[AGT] [INFO    ] [21:46:37] Batch 1. Loss (accuracy) 0.816 <= 0.824 <= 0.828\n",
      "[AGT] [INFO    ] [21:46:37] Batch 2. Loss (accuracy) 0.876 <= 0.880 <= 0.884\n",
      "[AGT] [INFO    ] [21:46:37] Starting epoch 3 of 4.\n",
      "[AGT] [DEBUG   ] [21:46:37] Initialising dataloader batchsize to 2500\n",
      "[AGT] [INFO    ] [21:46:37] Batch 1. Loss (accuracy) 0.872 <= 0.888 <= 0.900\n",
      "[AGT] [INFO    ] [21:46:38] Batch 2. Loss (accuracy) 0.840 <= 0.864 <= 0.876\n",
      "[AGT] [INFO    ] [21:46:38] Starting epoch 4 of 4.\n",
      "[AGT] [DEBUG   ] [21:46:38] Initialising dataloader batchsize to 2500\n",
      "[AGT] [INFO    ] [21:46:38] Batch 1. Loss (accuracy) 0.832 <= 0.844 <= 0.864\n",
      "[AGT] [INFO    ] [21:46:38] Batch 2. Loss (accuracy) 0.876 <= 0.896 <= 0.924\n",
      "[AGT] [INFO    ] [21:46:38] Final Eval. Loss (accuracy): 0.872 <= 0.900 <= 0.920\n",
      "[AGT] [INFO    ] [21:46:38] =================== Finished Privacy Certified Training ===================\n",
      "[AGT] [INFO    ] [21:46:38] =================== Starting Privacy Certified Training ===================\n",
      "[AGT] [DEBUG   ] [21:46:38] \tOptimizer params: n_epochs=4, learning_rate=2.0, l1_reg=0.0, l2_reg=0.0\n",
      "[AGT] [DEBUG   ] [21:46:38] \tLearning rate schedule: lr_decay=0.6, lr_min=0.001\n",
      "[AGT] [DEBUG   ] [21:46:38] \tGradient clipping: gamma=1.0, method=clamp\n",
      "[AGT] [DEBUG   ] [21:46:38] \tPrivacy parameter: k_private=5\n",
      "[AGT] [INFO    ] [21:46:38] Starting epoch 1 of 4.\n",
      "[AGT] [DEBUG   ] [21:46:38] Initialising dataloader batchsize to 2500\n",
      "[AGT] [INFO    ] [21:46:39] Batch 1. Loss (accuracy) 0.728 <= 0.728 <= 0.728\n"
     ]
    },
    {
     "name": "stdout",
     "output_type": "stream",
     "text": [
      "Training model 1 with k=5\n",
      "cpu\n"
     ]
    },
    {
     "name": "stderr",
     "output_type": "stream",
     "text": [
      "[AGT] [INFO    ] [21:46:39] Batch 2. Loss (accuracy) 0.824 <= 0.832 <= 0.832\n",
      "[AGT] [INFO    ] [21:46:39] Starting epoch 2 of 4.\n",
      "[AGT] [DEBUG   ] [21:46:39] Initialising dataloader batchsize to 2500\n",
      "[AGT] [INFO    ] [21:46:39] Batch 1. Loss (accuracy) 0.808 <= 0.824 <= 0.832\n",
      "[AGT] [INFO    ] [21:46:39] Batch 2. Loss (accuracy) 0.864 <= 0.880 <= 0.892\n",
      "[AGT] [INFO    ] [21:46:40] Starting epoch 3 of 4.\n",
      "[AGT] [DEBUG   ] [21:46:40] Initialising dataloader batchsize to 2500\n",
      "[AGT] [INFO    ] [21:46:40] Batch 1. Loss (accuracy) 0.868 <= 0.888 <= 0.900\n",
      "[AGT] [INFO    ] [21:46:40] Batch 2. Loss (accuracy) 0.828 <= 0.864 <= 0.896\n",
      "[AGT] [INFO    ] [21:46:40] Starting epoch 4 of 4.\n",
      "[AGT] [DEBUG   ] [21:46:40] Initialising dataloader batchsize to 2500\n",
      "[AGT] [INFO    ] [21:46:40] Batch 1. Loss (accuracy) 0.812 <= 0.844 <= 0.892\n",
      "[AGT] [INFO    ] [21:46:40] Batch 2. Loss (accuracy) 0.860 <= 0.896 <= 0.936\n",
      "[AGT] [INFO    ] [21:46:41] Final Eval. Loss (accuracy): 0.856 <= 0.900 <= 0.948\n",
      "[AGT] [INFO    ] [21:46:41] =================== Finished Privacy Certified Training ===================\n",
      "[AGT] [INFO    ] [21:46:41] =================== Starting Privacy Certified Training ===================\n",
      "[AGT] [DEBUG   ] [21:46:41] \tOptimizer params: n_epochs=4, learning_rate=2.0, l1_reg=0.0, l2_reg=0.0\n",
      "[AGT] [DEBUG   ] [21:46:41] \tLearning rate schedule: lr_decay=0.6, lr_min=0.001\n",
      "[AGT] [DEBUG   ] [21:46:41] \tGradient clipping: gamma=1.0, method=clamp\n",
      "[AGT] [DEBUG   ] [21:46:41] \tPrivacy parameter: k_private=7\n",
      "[AGT] [INFO    ] [21:46:41] Starting epoch 1 of 4.\n",
      "[AGT] [DEBUG   ] [21:46:41] Initialising dataloader batchsize to 2500\n",
      "[AGT] [INFO    ] [21:46:41] Batch 1. Loss (accuracy) 0.728 <= 0.728 <= 0.728\n"
     ]
    },
    {
     "name": "stdout",
     "output_type": "stream",
     "text": [
      "Training model 1 with k=7\n",
      "cpu\n"
     ]
    },
    {
     "name": "stderr",
     "output_type": "stream",
     "text": [
      "[AGT] [INFO    ] [21:46:41] Batch 2. Loss (accuracy) 0.812 <= 0.832 <= 0.832\n",
      "[AGT] [INFO    ] [21:46:41] Starting epoch 2 of 4.\n",
      "[AGT] [DEBUG   ] [21:46:41] Initialising dataloader batchsize to 2500\n",
      "[AGT] [INFO    ] [21:46:41] Batch 1. Loss (accuracy) 0.808 <= 0.824 <= 0.832\n",
      "[AGT] [INFO    ] [21:46:41] Batch 2. Loss (accuracy) 0.860 <= 0.880 <= 0.896\n",
      "[AGT] [INFO    ] [21:46:42] Starting epoch 3 of 4.\n",
      "[AGT] [DEBUG   ] [21:46:42] Initialising dataloader batchsize to 2500\n",
      "[AGT] [INFO    ] [21:46:42] Batch 1. Loss (accuracy) 0.864 <= 0.888 <= 0.904\n",
      "[AGT] [INFO    ] [21:46:42] Batch 2. Loss (accuracy) 0.820 <= 0.864 <= 0.920\n",
      "[AGT] [INFO    ] [21:46:42] Starting epoch 4 of 4.\n",
      "[AGT] [DEBUG   ] [21:46:42] Initialising dataloader batchsize to 2500\n",
      "[AGT] [INFO    ] [21:46:42] Batch 1. Loss (accuracy) 0.800 <= 0.844 <= 0.916\n",
      "[AGT] [INFO    ] [21:46:43] Batch 2. Loss (accuracy) 0.832 <= 0.896 <= 0.952\n",
      "[AGT] [INFO    ] [21:46:43] Final Eval. Loss (accuracy): 0.840 <= 0.900 <= 0.964\n",
      "[AGT] [INFO    ] [21:46:43] =================== Finished Privacy Certified Training ===================\n",
      "[AGT] [INFO    ] [21:46:43] =================== Starting Privacy Certified Training ===================\n",
      "[AGT] [DEBUG   ] [21:46:43] \tOptimizer params: n_epochs=4, learning_rate=2.0, l1_reg=0.0, l2_reg=0.0\n",
      "[AGT] [DEBUG   ] [21:46:43] \tLearning rate schedule: lr_decay=0.6, lr_min=0.001\n",
      "[AGT] [DEBUG   ] [21:46:43] \tGradient clipping: gamma=1.0, method=clamp\n",
      "[AGT] [DEBUG   ] [21:46:43] \tPrivacy parameter: k_private=8\n",
      "[AGT] [INFO    ] [21:46:43] Starting epoch 1 of 4.\n",
      "[AGT] [DEBUG   ] [21:46:43] Initialising dataloader batchsize to 2500\n",
      "[AGT] [INFO    ] [21:46:43] Batch 1. Loss (accuracy) 0.728 <= 0.728 <= 0.728\n"
     ]
    },
    {
     "name": "stdout",
     "output_type": "stream",
     "text": [
      "Training model 1 with k=8\n",
      "cpu\n"
     ]
    },
    {
     "name": "stderr",
     "output_type": "stream",
     "text": [
      "[AGT] [INFO    ] [21:46:43] Batch 2. Loss (accuracy) 0.812 <= 0.832 <= 0.836\n",
      "[AGT] [INFO    ] [21:46:43] Starting epoch 2 of 4.\n",
      "[AGT] [DEBUG   ] [21:46:43] Initialising dataloader batchsize to 2500\n",
      "[AGT] [INFO    ] [21:46:43] Batch 1. Loss (accuracy) 0.804 <= 0.824 <= 0.836\n",
      "[AGT] [INFO    ] [21:46:44] Batch 2. Loss (accuracy) 0.856 <= 0.880 <= 0.900\n",
      "[AGT] [INFO    ] [21:46:44] Starting epoch 3 of 4.\n",
      "[AGT] [DEBUG   ] [21:46:44] Initialising dataloader batchsize to 2500\n",
      "[AGT] [INFO    ] [21:46:44] Batch 1. Loss (accuracy) 0.860 <= 0.888 <= 0.908\n",
      "[AGT] [INFO    ] [21:46:44] Batch 2. Loss (accuracy) 0.812 <= 0.864 <= 0.924\n",
      "[AGT] [INFO    ] [21:46:45] Starting epoch 4 of 4.\n",
      "[AGT] [DEBUG   ] [21:46:45] Initialising dataloader batchsize to 2500\n",
      "[AGT] [INFO    ] [21:46:45] Batch 1. Loss (accuracy) 0.788 <= 0.844 <= 0.932\n",
      "[AGT] [INFO    ] [21:46:45] Batch 2. Loss (accuracy) 0.820 <= 0.896 <= 0.952\n",
      "[AGT] [INFO    ] [21:46:45] Final Eval. Loss (accuracy): 0.832 <= 0.900 <= 0.972\n",
      "[AGT] [INFO    ] [21:46:45] =================== Finished Privacy Certified Training ===================\n",
      "[AGT] [INFO    ] [21:46:45] =================== Starting Privacy Certified Training ===================\n",
      "[AGT] [DEBUG   ] [21:46:45] \tOptimizer params: n_epochs=4, learning_rate=2.0, l1_reg=0.0, l2_reg=0.0\n",
      "[AGT] [DEBUG   ] [21:46:45] \tLearning rate schedule: lr_decay=0.6, lr_min=0.001\n",
      "[AGT] [DEBUG   ] [21:46:45] \tGradient clipping: gamma=1.0, method=clamp\n",
      "[AGT] [DEBUG   ] [21:46:45] \tPrivacy parameter: k_private=1\n",
      "[AGT] [INFO    ] [21:46:45] Starting epoch 1 of 4.\n",
      "[AGT] [DEBUG   ] [21:46:45] Initialising dataloader batchsize to 2500\n",
      "[AGT] [INFO    ] [21:46:45] Batch 1. Loss (accuracy) 0.880 <= 0.880 <= 0.880\n"
     ]
    },
    {
     "name": "stdout",
     "output_type": "stream",
     "text": [
      "Training model 2 with k=1\n",
      "cpu\n"
     ]
    },
    {
     "name": "stderr",
     "output_type": "stream",
     "text": [
      "[AGT] [INFO    ] [21:46:46] Batch 2. Loss (accuracy) 0.864 <= 0.868 <= 0.868\n",
      "[AGT] [INFO    ] [21:46:46] Starting epoch 2 of 4.\n",
      "[AGT] [DEBUG   ] [21:46:46] Initialising dataloader batchsize to 2500\n",
      "[AGT] [INFO    ] [21:46:46] Batch 1. Loss (accuracy) 0.848 <= 0.848 <= 0.848\n",
      "[AGT] [INFO    ] [21:46:46] Batch 2. Loss (accuracy) 0.912 <= 0.916 <= 0.920\n",
      "[AGT] [INFO    ] [21:46:47] Starting epoch 3 of 4.\n",
      "[AGT] [DEBUG   ] [21:46:47] Initialising dataloader batchsize to 2500\n",
      "[AGT] [INFO    ] [21:46:47] Batch 1. Loss (accuracy) 0.908 <= 0.908 <= 0.916\n",
      "[AGT] [INFO    ] [21:46:47] Batch 2. Loss (accuracy) 0.888 <= 0.900 <= 0.924\n",
      "[AGT] [INFO    ] [21:46:47] Starting epoch 4 of 4.\n",
      "[AGT] [DEBUG   ] [21:46:47] Initialising dataloader batchsize to 2500\n",
      "[AGT] [INFO    ] [21:46:47] Batch 1. Loss (accuracy) 0.876 <= 0.900 <= 0.924\n",
      "[AGT] [INFO    ] [21:46:48] Batch 2. Loss (accuracy) 0.908 <= 0.932 <= 0.940\n",
      "[AGT] [INFO    ] [21:46:48] Final Eval. Loss (accuracy): 0.904 <= 0.928 <= 0.944\n",
      "[AGT] [INFO    ] [21:46:48] =================== Finished Privacy Certified Training ===================\n",
      "[AGT] [INFO    ] [21:46:48] =================== Starting Privacy Certified Training ===================\n",
      "[AGT] [DEBUG   ] [21:46:48] \tOptimizer params: n_epochs=4, learning_rate=2.0, l1_reg=0.0, l2_reg=0.0\n",
      "[AGT] [DEBUG   ] [21:46:48] \tLearning rate schedule: lr_decay=0.6, lr_min=0.001\n",
      "[AGT] [DEBUG   ] [21:46:48] \tGradient clipping: gamma=1.0, method=clamp\n",
      "[AGT] [DEBUG   ] [21:46:48] \tPrivacy parameter: k_private=3\n",
      "[AGT] [INFO    ] [21:46:48] Starting epoch 1 of 4.\n",
      "[AGT] [DEBUG   ] [21:46:48] Initialising dataloader batchsize to 2500\n",
      "[AGT] [INFO    ] [21:46:48] Batch 1. Loss (accuracy) 0.880 <= 0.880 <= 0.880\n"
     ]
    },
    {
     "name": "stdout",
     "output_type": "stream",
     "text": [
      "Training model 2 with k=3\n",
      "cpu\n"
     ]
    },
    {
     "name": "stderr",
     "output_type": "stream",
     "text": [
      "[AGT] [INFO    ] [21:46:48] Batch 2. Loss (accuracy) 0.864 <= 0.868 <= 0.868\n",
      "[AGT] [INFO    ] [21:46:48] Starting epoch 2 of 4.\n",
      "[AGT] [DEBUG   ] [21:46:48] Initialising dataloader batchsize to 2500\n",
      "[AGT] [INFO    ] [21:46:48] Batch 1. Loss (accuracy) 0.844 <= 0.848 <= 0.852\n",
      "[AGT] [INFO    ] [21:46:49] Batch 2. Loss (accuracy) 0.904 <= 0.916 <= 0.924\n",
      "[AGT] [INFO    ] [21:46:49] Starting epoch 3 of 4.\n",
      "[AGT] [DEBUG   ] [21:46:49] Initialising dataloader batchsize to 2500\n",
      "[AGT] [INFO    ] [21:46:49] Batch 1. Loss (accuracy) 0.892 <= 0.908 <= 0.936\n",
      "[AGT] [INFO    ] [21:46:49] Batch 2. Loss (accuracy) 0.868 <= 0.900 <= 0.940\n",
      "[AGT] [INFO    ] [21:46:49] Starting epoch 4 of 4.\n",
      "[AGT] [DEBUG   ] [21:46:49] Initialising dataloader batchsize to 2500\n",
      "[AGT] [INFO    ] [21:46:49] Batch 1. Loss (accuracy) 0.836 <= 0.900 <= 0.948\n",
      "[AGT] [INFO    ] [21:46:50] Batch 2. Loss (accuracy) 0.884 <= 0.932 <= 0.972\n",
      "[AGT] [INFO    ] [21:46:50] Final Eval. Loss (accuracy): 0.876 <= 0.928 <= 0.984\n",
      "[AGT] [INFO    ] [21:46:50] =================== Finished Privacy Certified Training ===================\n",
      "[AGT] [INFO    ] [21:46:50] =================== Starting Privacy Certified Training ===================\n",
      "[AGT] [DEBUG   ] [21:46:50] \tOptimizer params: n_epochs=4, learning_rate=2.0, l1_reg=0.0, l2_reg=0.0\n",
      "[AGT] [DEBUG   ] [21:46:50] \tLearning rate schedule: lr_decay=0.6, lr_min=0.001\n",
      "[AGT] [DEBUG   ] [21:46:50] \tGradient clipping: gamma=1.0, method=clamp\n",
      "[AGT] [DEBUG   ] [21:46:50] \tPrivacy parameter: k_private=5\n",
      "[AGT] [INFO    ] [21:46:50] Starting epoch 1 of 4.\n",
      "[AGT] [DEBUG   ] [21:46:50] Initialising dataloader batchsize to 2500\n",
      "[AGT] [INFO    ] [21:46:50] Batch 1. Loss (accuracy) 0.880 <= 0.880 <= 0.880\n"
     ]
    },
    {
     "name": "stdout",
     "output_type": "stream",
     "text": [
      "Training model 2 with k=5\n",
      "cpu\n"
     ]
    },
    {
     "name": "stderr",
     "output_type": "stream",
     "text": [
      "[AGT] [INFO    ] [21:46:50] Batch 2. Loss (accuracy) 0.864 <= 0.868 <= 0.872\n",
      "[AGT] [INFO    ] [21:46:50] Starting epoch 2 of 4.\n",
      "[AGT] [DEBUG   ] [21:46:50] Initialising dataloader batchsize to 2500\n",
      "[AGT] [INFO    ] [21:46:50] Batch 1. Loss (accuracy) 0.844 <= 0.848 <= 0.868\n",
      "[AGT] [INFO    ] [21:46:51] Batch 2. Loss (accuracy) 0.888 <= 0.916 <= 0.936\n",
      "[AGT] [INFO    ] [21:46:51] Starting epoch 3 of 4.\n",
      "[AGT] [DEBUG   ] [21:46:51] Initialising dataloader batchsize to 2500\n",
      "[AGT] [INFO    ] [21:46:51] Batch 1. Loss (accuracy) 0.880 <= 0.908 <= 0.952\n",
      "[AGT] [INFO    ] [21:46:51] Batch 2. Loss (accuracy) 0.852 <= 0.900 <= 0.952\n",
      "[AGT] [INFO    ] [21:46:51] Starting epoch 4 of 4.\n",
      "[AGT] [DEBUG   ] [21:46:51] Initialising dataloader batchsize to 2500\n",
      "[AGT] [INFO    ] [21:46:51] Batch 1. Loss (accuracy) 0.820 <= 0.900 <= 0.968\n",
      "[AGT] [INFO    ] [21:46:52] Batch 2. Loss (accuracy) 0.852 <= 0.932 <= 0.984\n",
      "[AGT] [INFO    ] [21:46:52] Final Eval. Loss (accuracy): 0.844 <= 0.928 <= 0.992\n",
      "[AGT] [INFO    ] [21:46:52] =================== Finished Privacy Certified Training ===================\n",
      "[AGT] [INFO    ] [21:46:52] =================== Starting Privacy Certified Training ===================\n",
      "[AGT] [DEBUG   ] [21:46:52] \tOptimizer params: n_epochs=4, learning_rate=2.0, l1_reg=0.0, l2_reg=0.0\n",
      "[AGT] [DEBUG   ] [21:46:52] \tLearning rate schedule: lr_decay=0.6, lr_min=0.001\n",
      "[AGT] [DEBUG   ] [21:46:52] \tGradient clipping: gamma=1.0, method=clamp\n",
      "[AGT] [DEBUG   ] [21:46:52] \tPrivacy parameter: k_private=7\n",
      "[AGT] [INFO    ] [21:46:52] Starting epoch 1 of 4.\n",
      "[AGT] [DEBUG   ] [21:46:52] Initialising dataloader batchsize to 2500\n",
      "[AGT] [INFO    ] [21:46:52] Batch 1. Loss (accuracy) 0.880 <= 0.880 <= 0.880\n"
     ]
    },
    {
     "name": "stdout",
     "output_type": "stream",
     "text": [
      "Training model 2 with k=7\n",
      "cpu\n"
     ]
    },
    {
     "name": "stderr",
     "output_type": "stream",
     "text": [
      "[AGT] [INFO    ] [21:46:52] Batch 2. Loss (accuracy) 0.852 <= 0.868 <= 0.876\n",
      "[AGT] [INFO    ] [21:46:53] Starting epoch 2 of 4.\n",
      "[AGT] [DEBUG   ] [21:46:53] Initialising dataloader batchsize to 2500\n",
      "[AGT] [INFO    ] [21:46:53] Batch 1. Loss (accuracy) 0.836 <= 0.848 <= 0.880\n",
      "[AGT] [INFO    ] [21:46:53] Batch 2. Loss (accuracy) 0.888 <= 0.916 <= 0.944\n",
      "[AGT] [INFO    ] [21:46:53] Starting epoch 3 of 4.\n",
      "[AGT] [DEBUG   ] [21:46:53] Initialising dataloader batchsize to 2500\n",
      "[AGT] [INFO    ] [21:46:53] Batch 1. Loss (accuracy) 0.872 <= 0.908 <= 0.964\n",
      "[AGT] [INFO    ] [21:46:53] Batch 2. Loss (accuracy) 0.828 <= 0.900 <= 0.960\n",
      "[AGT] [INFO    ] [21:46:54] Starting epoch 4 of 4.\n",
      "[AGT] [DEBUG   ] [21:46:54] Initialising dataloader batchsize to 2500\n",
      "[AGT] [INFO    ] [21:46:54] Batch 1. Loss (accuracy) 0.812 <= 0.900 <= 0.972\n",
      "[AGT] [INFO    ] [21:46:54] Batch 2. Loss (accuracy) 0.752 <= 0.932 <= 0.984\n",
      "[AGT] [INFO    ] [21:46:54] Final Eval. Loss (accuracy): 0.584 <= 0.928 <= 1.000\n",
      "[AGT] [INFO    ] [21:46:54] =================== Finished Privacy Certified Training ===================\n",
      "[AGT] [INFO    ] [21:46:54] =================== Starting Privacy Certified Training ===================\n",
      "[AGT] [DEBUG   ] [21:46:54] \tOptimizer params: n_epochs=4, learning_rate=2.0, l1_reg=0.0, l2_reg=0.0\n",
      "[AGT] [DEBUG   ] [21:46:54] \tLearning rate schedule: lr_decay=0.6, lr_min=0.001\n",
      "[AGT] [DEBUG   ] [21:46:54] \tGradient clipping: gamma=1.0, method=clamp\n",
      "[AGT] [DEBUG   ] [21:46:54] \tPrivacy parameter: k_private=8\n",
      "[AGT] [INFO    ] [21:46:54] Starting epoch 1 of 4.\n",
      "[AGT] [DEBUG   ] [21:46:54] Initialising dataloader batchsize to 2500\n",
      "[AGT] [INFO    ] [21:46:54] Batch 1. Loss (accuracy) 0.880 <= 0.880 <= 0.880\n"
     ]
    },
    {
     "name": "stdout",
     "output_type": "stream",
     "text": [
      "Training model 2 with k=8\n",
      "cpu\n"
     ]
    },
    {
     "name": "stderr",
     "output_type": "stream",
     "text": [
      "[AGT] [INFO    ] [21:46:55] Batch 2. Loss (accuracy) 0.852 <= 0.868 <= 0.876\n",
      "[AGT] [INFO    ] [21:46:55] Starting epoch 2 of 4.\n",
      "[AGT] [DEBUG   ] [21:46:55] Initialising dataloader batchsize to 2500\n",
      "[AGT] [INFO    ] [21:46:55] Batch 1. Loss (accuracy) 0.836 <= 0.848 <= 0.888\n",
      "[AGT] [INFO    ] [21:46:55] Batch 2. Loss (accuracy) 0.880 <= 0.916 <= 0.948\n",
      "[AGT] [INFO    ] [21:46:55] Starting epoch 3 of 4.\n",
      "[AGT] [DEBUG   ] [21:46:55] Initialising dataloader batchsize to 2500\n",
      "[AGT] [INFO    ] [21:46:55] Batch 1. Loss (accuracy) 0.872 <= 0.908 <= 0.964\n",
      "[AGT] [INFO    ] [21:46:56] Batch 2. Loss (accuracy) 0.808 <= 0.900 <= 0.964\n",
      "[AGT] [INFO    ] [21:46:56] Starting epoch 4 of 4.\n",
      "[AGT] [DEBUG   ] [21:46:56] Initialising dataloader batchsize to 2500\n",
      "[AGT] [INFO    ] [21:46:56] Batch 1. Loss (accuracy) 0.776 <= 0.900 <= 0.976\n",
      "[AGT] [INFO    ] [21:46:56] Batch 2. Loss (accuracy) 0.700 <= 0.932 <= 0.988\n",
      "[AGT] [INFO    ] [21:46:56] Final Eval. Loss (accuracy): 0.336 <= 0.928 <= 1.000\n",
      "[AGT] [INFO    ] [21:46:56] =================== Finished Privacy Certified Training ===================\n",
      "[AGT] [INFO    ] [21:46:56] =================== Starting Privacy Certified Training ===================\n",
      "[AGT] [DEBUG   ] [21:46:56] \tOptimizer params: n_epochs=4, learning_rate=2.0, l1_reg=0.0, l2_reg=0.0\n",
      "[AGT] [DEBUG   ] [21:46:56] \tLearning rate schedule: lr_decay=0.6, lr_min=0.001\n",
      "[AGT] [DEBUG   ] [21:46:56] \tGradient clipping: gamma=1.0, method=clamp\n",
      "[AGT] [DEBUG   ] [21:46:56] \tPrivacy parameter: k_private=1\n",
      "[AGT] [INFO    ] [21:46:56] Starting epoch 1 of 4.\n",
      "[AGT] [DEBUG   ] [21:46:56] Initialising dataloader batchsize to 2500\n",
      "[AGT] [INFO    ] [21:46:56] Batch 1. Loss (accuracy) 0.380 <= 0.380 <= 0.380\n"
     ]
    },
    {
     "name": "stdout",
     "output_type": "stream",
     "text": [
      "Training model 3 with k=1\n",
      "cpu\n"
     ]
    },
    {
     "name": "stderr",
     "output_type": "stream",
     "text": [
      "[AGT] [INFO    ] [21:46:57] Batch 2. Loss (accuracy) 0.852 <= 0.852 <= 0.852\n",
      "[AGT] [INFO    ] [21:46:57] Starting epoch 2 of 4.\n",
      "[AGT] [DEBUG   ] [21:46:57] Initialising dataloader batchsize to 2500\n",
      "[AGT] [INFO    ] [21:46:57] Batch 1. Loss (accuracy) 0.880 <= 0.880 <= 0.880\n",
      "[AGT] [INFO    ] [21:46:57] Batch 2. Loss (accuracy) 0.892 <= 0.900 <= 0.900\n",
      "[AGT] [INFO    ] [21:46:57] Starting epoch 3 of 4.\n",
      "[AGT] [DEBUG   ] [21:46:57] Initialising dataloader batchsize to 2500\n",
      "[AGT] [INFO    ] [21:46:57] Batch 1. Loss (accuracy) 0.904 <= 0.908 <= 0.908\n",
      "[AGT] [INFO    ] [21:46:58] Batch 2. Loss (accuracy) 0.884 <= 0.884 <= 0.892\n",
      "[AGT] [INFO    ] [21:46:58] Starting epoch 4 of 4.\n",
      "[AGT] [DEBUG   ] [21:46:58] Initialising dataloader batchsize to 2500\n",
      "[AGT] [INFO    ] [21:46:58] Batch 1. Loss (accuracy) 0.892 <= 0.896 <= 0.904\n",
      "[AGT] [INFO    ] [21:46:58] Batch 2. Loss (accuracy) 0.912 <= 0.912 <= 0.932\n",
      "[AGT] [INFO    ] [21:46:58] Final Eval. Loss (accuracy): 0.904 <= 0.924 <= 0.928\n",
      "[AGT] [INFO    ] [21:46:58] =================== Finished Privacy Certified Training ===================\n",
      "[AGT] [INFO    ] [21:46:58] =================== Starting Privacy Certified Training ===================\n",
      "[AGT] [DEBUG   ] [21:46:58] \tOptimizer params: n_epochs=4, learning_rate=2.0, l1_reg=0.0, l2_reg=0.0\n",
      "[AGT] [DEBUG   ] [21:46:58] \tLearning rate schedule: lr_decay=0.6, lr_min=0.001\n",
      "[AGT] [DEBUG   ] [21:46:58] \tGradient clipping: gamma=1.0, method=clamp\n",
      "[AGT] [DEBUG   ] [21:46:58] \tPrivacy parameter: k_private=3\n",
      "[AGT] [INFO    ] [21:46:58] Starting epoch 1 of 4.\n",
      "[AGT] [DEBUG   ] [21:46:58] Initialising dataloader batchsize to 2500\n",
      "[AGT] [INFO    ] [21:46:58] Batch 1. Loss (accuracy) 0.380 <= 0.380 <= 0.380\n"
     ]
    },
    {
     "name": "stdout",
     "output_type": "stream",
     "text": [
      "Training model 3 with k=3\n",
      "cpu\n"
     ]
    },
    {
     "name": "stderr",
     "output_type": "stream",
     "text": [
      "[AGT] [INFO    ] [21:46:59] Batch 2. Loss (accuracy) 0.848 <= 0.852 <= 0.852\n",
      "[AGT] [INFO    ] [21:46:59] Starting epoch 2 of 4.\n",
      "[AGT] [DEBUG   ] [21:46:59] Initialising dataloader batchsize to 2500\n",
      "[AGT] [INFO    ] [21:46:59] Batch 1. Loss (accuracy) 0.876 <= 0.880 <= 0.884\n",
      "[AGT] [INFO    ] [21:46:59] Batch 2. Loss (accuracy) 0.892 <= 0.900 <= 0.924\n",
      "[AGT] [INFO    ] [21:46:59] Starting epoch 3 of 4.\n",
      "[AGT] [DEBUG   ] [21:46:59] Initialising dataloader batchsize to 2500\n",
      "[AGT] [INFO    ] [21:46:59] Batch 1. Loss (accuracy) 0.896 <= 0.908 <= 0.912\n",
      "[AGT] [INFO    ] [21:47:00] Batch 2. Loss (accuracy) 0.872 <= 0.884 <= 0.896\n",
      "[AGT] [INFO    ] [21:47:00] Starting epoch 4 of 4.\n",
      "[AGT] [DEBUG   ] [21:47:00] Initialising dataloader batchsize to 2500\n",
      "[AGT] [INFO    ] [21:47:00] Batch 1. Loss (accuracy) 0.860 <= 0.896 <= 0.916\n",
      "[AGT] [INFO    ] [21:47:00] Batch 2. Loss (accuracy) 0.884 <= 0.912 <= 0.956\n",
      "[AGT] [INFO    ] [21:47:00] Final Eval. Loss (accuracy): 0.884 <= 0.924 <= 0.956\n",
      "[AGT] [INFO    ] [21:47:00] =================== Finished Privacy Certified Training ===================\n",
      "[AGT] [INFO    ] [21:47:00] =================== Starting Privacy Certified Training ===================\n",
      "[AGT] [DEBUG   ] [21:47:00] \tOptimizer params: n_epochs=4, learning_rate=2.0, l1_reg=0.0, l2_reg=0.0\n",
      "[AGT] [DEBUG   ] [21:47:00] \tLearning rate schedule: lr_decay=0.6, lr_min=0.001\n",
      "[AGT] [DEBUG   ] [21:47:00] \tGradient clipping: gamma=1.0, method=clamp\n",
      "[AGT] [DEBUG   ] [21:47:00] \tPrivacy parameter: k_private=5\n",
      "[AGT] [INFO    ] [21:47:00] Starting epoch 1 of 4.\n",
      "[AGT] [DEBUG   ] [21:47:00] Initialising dataloader batchsize to 2500\n",
      "[AGT] [INFO    ] [21:47:00] Batch 1. Loss (accuracy) 0.380 <= 0.380 <= 0.380\n"
     ]
    },
    {
     "name": "stdout",
     "output_type": "stream",
     "text": [
      "Training model 3 with k=5\n",
      "cpu\n"
     ]
    },
    {
     "name": "stderr",
     "output_type": "stream",
     "text": [
      "[AGT] [INFO    ] [21:47:01] Batch 2. Loss (accuracy) 0.848 <= 0.852 <= 0.852\n",
      "[AGT] [INFO    ] [21:47:01] Starting epoch 2 of 4.\n",
      "[AGT] [DEBUG   ] [21:47:01] Initialising dataloader batchsize to 2500\n",
      "[AGT] [INFO    ] [21:47:01] Batch 1. Loss (accuracy) 0.876 <= 0.880 <= 0.888\n",
      "[AGT] [INFO    ] [21:47:01] Batch 2. Loss (accuracy) 0.888 <= 0.900 <= 0.928\n",
      "[AGT] [INFO    ] [21:47:01] Starting epoch 3 of 4.\n",
      "[AGT] [DEBUG   ] [21:47:01] Initialising dataloader batchsize to 2500\n",
      "[AGT] [INFO    ] [21:47:02] Batch 1. Loss (accuracy) 0.892 <= 0.908 <= 0.932\n",
      "[AGT] [INFO    ] [21:47:02] Batch 2. Loss (accuracy) 0.856 <= 0.884 <= 0.916\n",
      "[AGT] [INFO    ] [21:47:02] Starting epoch 4 of 4.\n",
      "[AGT] [DEBUG   ] [21:47:02] Initialising dataloader batchsize to 2500\n",
      "[AGT] [INFO    ] [21:47:02] Batch 1. Loss (accuracy) 0.832 <= 0.896 <= 0.932\n",
      "[AGT] [INFO    ] [21:47:02] Batch 2. Loss (accuracy) 0.868 <= 0.912 <= 0.980\n",
      "[AGT] [INFO    ] [21:47:03] Final Eval. Loss (accuracy): 0.872 <= 0.924 <= 0.976\n",
      "[AGT] [INFO    ] [21:47:03] =================== Finished Privacy Certified Training ===================\n",
      "[AGT] [INFO    ] [21:47:03] =================== Starting Privacy Certified Training ===================\n",
      "[AGT] [DEBUG   ] [21:47:03] \tOptimizer params: n_epochs=4, learning_rate=2.0, l1_reg=0.0, l2_reg=0.0\n",
      "[AGT] [DEBUG   ] [21:47:03] \tLearning rate schedule: lr_decay=0.6, lr_min=0.001\n",
      "[AGT] [DEBUG   ] [21:47:03] \tGradient clipping: gamma=1.0, method=clamp\n",
      "[AGT] [DEBUG   ] [21:47:03] \tPrivacy parameter: k_private=7\n",
      "[AGT] [INFO    ] [21:47:03] Starting epoch 1 of 4.\n",
      "[AGT] [DEBUG   ] [21:47:03] Initialising dataloader batchsize to 2500\n",
      "[AGT] [INFO    ] [21:47:03] Batch 1. Loss (accuracy) 0.380 <= 0.380 <= 0.380\n"
     ]
    },
    {
     "name": "stdout",
     "output_type": "stream",
     "text": [
      "Training model 3 with k=7\n",
      "cpu\n"
     ]
    },
    {
     "name": "stderr",
     "output_type": "stream",
     "text": [
      "[AGT] [INFO    ] [21:47:03] Batch 2. Loss (accuracy) 0.844 <= 0.852 <= 0.856\n",
      "[AGT] [INFO    ] [21:47:03] Starting epoch 2 of 4.\n",
      "[AGT] [DEBUG   ] [21:47:03] Initialising dataloader batchsize to 2500\n",
      "[AGT] [INFO    ] [21:47:03] Batch 1. Loss (accuracy) 0.876 <= 0.880 <= 0.888\n",
      "[AGT] [INFO    ] [21:47:03] Batch 2. Loss (accuracy) 0.876 <= 0.900 <= 0.932\n",
      "[AGT] [INFO    ] [21:47:04] Starting epoch 3 of 4.\n",
      "[AGT] [DEBUG   ] [21:47:04] Initialising dataloader batchsize to 2500\n",
      "[AGT] [INFO    ] [21:47:04] Batch 1. Loss (accuracy) 0.884 <= 0.908 <= 0.936\n",
      "[AGT] [INFO    ] [21:47:04] Batch 2. Loss (accuracy) 0.832 <= 0.884 <= 0.928\n",
      "[AGT] [INFO    ] [21:47:04] Starting epoch 4 of 4.\n",
      "[AGT] [DEBUG   ] [21:47:04] Initialising dataloader batchsize to 2500\n",
      "[AGT] [INFO    ] [21:47:04] Batch 1. Loss (accuracy) 0.816 <= 0.896 <= 0.944\n",
      "[AGT] [INFO    ] [21:47:05] Batch 2. Loss (accuracy) 0.836 <= 0.912 <= 0.984\n",
      "[AGT] [INFO    ] [21:47:05] Final Eval. Loss (accuracy): 0.840 <= 0.924 <= 0.992\n",
      "[AGT] [INFO    ] [21:47:05] =================== Finished Privacy Certified Training ===================\n",
      "[AGT] [INFO    ] [21:47:05] =================== Starting Privacy Certified Training ===================\n",
      "[AGT] [DEBUG   ] [21:47:05] \tOptimizer params: n_epochs=4, learning_rate=2.0, l1_reg=0.0, l2_reg=0.0\n",
      "[AGT] [DEBUG   ] [21:47:05] \tLearning rate schedule: lr_decay=0.6, lr_min=0.001\n",
      "[AGT] [DEBUG   ] [21:47:05] \tGradient clipping: gamma=1.0, method=clamp\n",
      "[AGT] [DEBUG   ] [21:47:05] \tPrivacy parameter: k_private=8\n",
      "[AGT] [INFO    ] [21:47:05] Starting epoch 1 of 4.\n",
      "[AGT] [DEBUG   ] [21:47:05] Initialising dataloader batchsize to 2500\n",
      "[AGT] [INFO    ] [21:47:05] Batch 1. Loss (accuracy) 0.380 <= 0.380 <= 0.380\n"
     ]
    },
    {
     "name": "stdout",
     "output_type": "stream",
     "text": [
      "Training model 3 with k=8\n",
      "cpu\n"
     ]
    },
    {
     "name": "stderr",
     "output_type": "stream",
     "text": [
      "[AGT] [INFO    ] [21:47:05] Batch 2. Loss (accuracy) 0.844 <= 0.852 <= 0.856\n",
      "[AGT] [INFO    ] [21:47:05] Starting epoch 2 of 4.\n",
      "[AGT] [DEBUG   ] [21:47:06] Initialising dataloader batchsize to 2500\n",
      "[AGT] [INFO    ] [21:47:06] Batch 1. Loss (accuracy) 0.876 <= 0.880 <= 0.888\n",
      "[AGT] [INFO    ] [21:47:06] Batch 2. Loss (accuracy) 0.876 <= 0.900 <= 0.936\n",
      "[AGT] [INFO    ] [21:47:06] Starting epoch 3 of 4.\n",
      "[AGT] [DEBUG   ] [21:47:06] Initialising dataloader batchsize to 2500\n",
      "[AGT] [INFO    ] [21:47:06] Batch 1. Loss (accuracy) 0.884 <= 0.908 <= 0.936\n",
      "[AGT] [INFO    ] [21:47:06] Batch 2. Loss (accuracy) 0.828 <= 0.884 <= 0.940\n",
      "[AGT] [INFO    ] [21:47:07] Starting epoch 4 of 4.\n",
      "[AGT] [DEBUG   ] [21:47:07] Initialising dataloader batchsize to 2500\n",
      "[AGT] [INFO    ] [21:47:07] Batch 1. Loss (accuracy) 0.816 <= 0.896 <= 0.956\n",
      "[AGT] [INFO    ] [21:47:07] Batch 2. Loss (accuracy) 0.816 <= 0.912 <= 0.984\n",
      "[AGT] [INFO    ] [21:47:07] Final Eval. Loss (accuracy): 0.816 <= 0.924 <= 0.992\n",
      "[AGT] [INFO    ] [21:47:07] =================== Finished Privacy Certified Training ===================\n",
      "[AGT] [INFO    ] [21:47:07] =================== Starting Privacy Certified Training ===================\n",
      "[AGT] [DEBUG   ] [21:47:07] \tOptimizer params: n_epochs=4, learning_rate=2.0, l1_reg=0.0, l2_reg=0.0\n",
      "[AGT] [DEBUG   ] [21:47:07] \tLearning rate schedule: lr_decay=0.6, lr_min=0.001\n",
      "[AGT] [DEBUG   ] [21:47:07] \tGradient clipping: gamma=1.0, method=clamp\n",
      "[AGT] [DEBUG   ] [21:47:07] \tPrivacy parameter: k_private=1\n",
      "[AGT] [INFO    ] [21:47:07] Starting epoch 1 of 4.\n",
      "[AGT] [DEBUG   ] [21:47:07] Initialising dataloader batchsize to 2500\n",
      "[AGT] [INFO    ] [21:47:07] Batch 1. Loss (accuracy) 0.584 <= 0.584 <= 0.584\n"
     ]
    },
    {
     "name": "stdout",
     "output_type": "stream",
     "text": [
      "Training model 4 with k=1\n",
      "cpu\n"
     ]
    },
    {
     "name": "stderr",
     "output_type": "stream",
     "text": [
      "[AGT] [INFO    ] [21:47:08] Batch 2. Loss (accuracy) 0.812 <= 0.812 <= 0.812\n",
      "[AGT] [INFO    ] [21:47:08] Starting epoch 2 of 4.\n",
      "[AGT] [DEBUG   ] [21:47:08] Initialising dataloader batchsize to 2500\n",
      "[AGT] [INFO    ] [21:47:08] Batch 1. Loss (accuracy) 0.816 <= 0.816 <= 0.820\n",
      "[AGT] [INFO    ] [21:47:08] Batch 2. Loss (accuracy) 0.880 <= 0.888 <= 0.888\n",
      "[AGT] [INFO    ] [21:47:08] Starting epoch 3 of 4.\n",
      "[AGT] [DEBUG   ] [21:47:08] Initialising dataloader batchsize to 2500\n",
      "[AGT] [INFO    ] [21:47:08] Batch 1. Loss (accuracy) 0.888 <= 0.896 <= 0.896\n",
      "[AGT] [INFO    ] [21:47:09] Batch 2. Loss (accuracy) 0.856 <= 0.872 <= 0.880\n",
      "[AGT] [INFO    ] [21:47:09] Starting epoch 4 of 4.\n",
      "[AGT] [DEBUG   ] [21:47:09] Initialising dataloader batchsize to 2500\n",
      "[AGT] [INFO    ] [21:47:09] Batch 1. Loss (accuracy) 0.848 <= 0.852 <= 0.860\n",
      "[AGT] [INFO    ] [21:47:09] Batch 2. Loss (accuracy) 0.900 <= 0.908 <= 0.916\n",
      "[AGT] [INFO    ] [21:47:09] Final Eval. Loss (accuracy): 0.892 <= 0.908 <= 0.908\n",
      "[AGT] [INFO    ] [21:47:09] =================== Finished Privacy Certified Training ===================\n",
      "[AGT] [INFO    ] [21:47:09] =================== Starting Privacy Certified Training ===================\n",
      "[AGT] [DEBUG   ] [21:47:09] \tOptimizer params: n_epochs=4, learning_rate=2.0, l1_reg=0.0, l2_reg=0.0\n",
      "[AGT] [DEBUG   ] [21:47:09] \tLearning rate schedule: lr_decay=0.6, lr_min=0.001\n",
      "[AGT] [DEBUG   ] [21:47:09] \tGradient clipping: gamma=1.0, method=clamp\n",
      "[AGT] [DEBUG   ] [21:47:09] \tPrivacy parameter: k_private=3\n",
      "[AGT] [INFO    ] [21:47:09] Starting epoch 1 of 4.\n",
      "[AGT] [DEBUG   ] [21:47:09] Initialising dataloader batchsize to 2500\n",
      "[AGT] [INFO    ] [21:47:09] Batch 1. Loss (accuracy) 0.584 <= 0.584 <= 0.584\n"
     ]
    },
    {
     "name": "stdout",
     "output_type": "stream",
     "text": [
      "Training model 4 with k=3\n",
      "cpu\n"
     ]
    },
    {
     "name": "stderr",
     "output_type": "stream",
     "text": [
      "[AGT] [INFO    ] [21:47:10] Batch 2. Loss (accuracy) 0.808 <= 0.812 <= 0.812\n",
      "[AGT] [INFO    ] [21:47:10] Starting epoch 2 of 4.\n",
      "[AGT] [DEBUG   ] [21:47:10] Initialising dataloader batchsize to 2500\n",
      "[AGT] [INFO    ] [21:47:10] Batch 1. Loss (accuracy) 0.816 <= 0.816 <= 0.828\n",
      "[AGT] [INFO    ] [21:47:10] Batch 2. Loss (accuracy) 0.864 <= 0.888 <= 0.900\n",
      "[AGT] [INFO    ] [21:47:10] Starting epoch 3 of 4.\n",
      "[AGT] [DEBUG   ] [21:47:11] Initialising dataloader batchsize to 2500\n",
      "[AGT] [INFO    ] [21:47:11] Batch 1. Loss (accuracy) 0.880 <= 0.896 <= 0.900\n",
      "[AGT] [INFO    ] [21:47:11] Batch 2. Loss (accuracy) 0.848 <= 0.872 <= 0.900\n",
      "[AGT] [INFO    ] [21:47:11] Starting epoch 4 of 4.\n",
      "[AGT] [DEBUG   ] [21:47:11] Initialising dataloader batchsize to 2500\n",
      "[AGT] [INFO    ] [21:47:11] Batch 1. Loss (accuracy) 0.832 <= 0.852 <= 0.872\n",
      "[AGT] [INFO    ] [21:47:11] Batch 2. Loss (accuracy) 0.872 <= 0.908 <= 0.936\n",
      "[AGT] [INFO    ] [21:47:12] Final Eval. Loss (accuracy): 0.876 <= 0.908 <= 0.936\n",
      "[AGT] [INFO    ] [21:47:12] =================== Finished Privacy Certified Training ===================\n",
      "[AGT] [INFO    ] [21:47:12] =================== Starting Privacy Certified Training ===================\n",
      "[AGT] [DEBUG   ] [21:47:12] \tOptimizer params: n_epochs=4, learning_rate=2.0, l1_reg=0.0, l2_reg=0.0\n",
      "[AGT] [DEBUG   ] [21:47:12] \tLearning rate schedule: lr_decay=0.6, lr_min=0.001\n",
      "[AGT] [DEBUG   ] [21:47:12] \tGradient clipping: gamma=1.0, method=clamp\n",
      "[AGT] [DEBUG   ] [21:47:12] \tPrivacy parameter: k_private=5\n",
      "[AGT] [INFO    ] [21:47:12] Starting epoch 1 of 4.\n",
      "[AGT] [DEBUG   ] [21:47:12] Initialising dataloader batchsize to 2500\n",
      "[AGT] [INFO    ] [21:47:12] Batch 1. Loss (accuracy) 0.584 <= 0.584 <= 0.584\n"
     ]
    },
    {
     "name": "stdout",
     "output_type": "stream",
     "text": [
      "Training model 4 with k=5\n",
      "cpu\n"
     ]
    },
    {
     "name": "stderr",
     "output_type": "stream",
     "text": [
      "[AGT] [INFO    ] [21:47:12] Batch 2. Loss (accuracy) 0.800 <= 0.812 <= 0.820\n",
      "[AGT] [INFO    ] [21:47:12] Starting epoch 2 of 4.\n",
      "[AGT] [DEBUG   ] [21:47:12] Initialising dataloader batchsize to 2500\n",
      "[AGT] [INFO    ] [21:47:12] Batch 1. Loss (accuracy) 0.808 <= 0.816 <= 0.828\n",
      "[AGT] [INFO    ] [21:47:12] Batch 2. Loss (accuracy) 0.860 <= 0.888 <= 0.900\n",
      "[AGT] [INFO    ] [21:47:13] Starting epoch 3 of 4.\n",
      "[AGT] [DEBUG   ] [21:47:13] Initialising dataloader batchsize to 2500\n",
      "[AGT] [INFO    ] [21:47:13] Batch 1. Loss (accuracy) 0.860 <= 0.896 <= 0.904\n",
      "[AGT] [INFO    ] [21:47:13] Batch 2. Loss (accuracy) 0.832 <= 0.872 <= 0.912\n",
      "[AGT] [INFO    ] [21:47:13] Starting epoch 4 of 4.\n",
      "[AGT] [DEBUG   ] [21:47:13] Initialising dataloader batchsize to 2500\n",
      "[AGT] [INFO    ] [21:47:13] Batch 1. Loss (accuracy) 0.812 <= 0.852 <= 0.900\n",
      "[AGT] [INFO    ] [21:47:13] Batch 2. Loss (accuracy) 0.856 <= 0.908 <= 0.948\n",
      "[AGT] [INFO    ] [21:47:14] Final Eval. Loss (accuracy): 0.848 <= 0.908 <= 0.960\n",
      "[AGT] [INFO    ] [21:47:14] =================== Finished Privacy Certified Training ===================\n",
      "[AGT] [INFO    ] [21:47:14] =================== Starting Privacy Certified Training ===================\n",
      "[AGT] [DEBUG   ] [21:47:14] \tOptimizer params: n_epochs=4, learning_rate=2.0, l1_reg=0.0, l2_reg=0.0\n",
      "[AGT] [DEBUG   ] [21:47:14] \tLearning rate schedule: lr_decay=0.6, lr_min=0.001\n",
      "[AGT] [DEBUG   ] [21:47:14] \tGradient clipping: gamma=1.0, method=clamp\n",
      "[AGT] [DEBUG   ] [21:47:14] \tPrivacy parameter: k_private=7\n",
      "[AGT] [INFO    ] [21:47:14] Starting epoch 1 of 4.\n",
      "[AGT] [DEBUG   ] [21:47:14] Initialising dataloader batchsize to 2500\n",
      "[AGT] [INFO    ] [21:47:14] Batch 1. Loss (accuracy) 0.584 <= 0.584 <= 0.584\n"
     ]
    },
    {
     "name": "stdout",
     "output_type": "stream",
     "text": [
      "Training model 4 with k=7\n",
      "cpu\n"
     ]
    },
    {
     "name": "stderr",
     "output_type": "stream",
     "text": [
      "[AGT] [INFO    ] [21:47:14] Batch 2. Loss (accuracy) 0.796 <= 0.812 <= 0.820\n",
      "[AGT] [INFO    ] [21:47:14] Starting epoch 2 of 4.\n",
      "[AGT] [DEBUG   ] [21:47:14] Initialising dataloader batchsize to 2500\n",
      "[AGT] [INFO    ] [21:47:14] Batch 1. Loss (accuracy) 0.796 <= 0.816 <= 0.832\n",
      "[AGT] [INFO    ] [21:47:15] Batch 2. Loss (accuracy) 0.856 <= 0.888 <= 0.904\n",
      "[AGT] [INFO    ] [21:47:15] Starting epoch 3 of 4.\n",
      "[AGT] [DEBUG   ] [21:47:15] Initialising dataloader batchsize to 2500\n",
      "[AGT] [INFO    ] [21:47:15] Batch 1. Loss (accuracy) 0.844 <= 0.896 <= 0.912\n",
      "[AGT] [INFO    ] [21:47:15] Batch 2. Loss (accuracy) 0.820 <= 0.872 <= 0.924\n",
      "[AGT] [INFO    ] [21:47:15] Starting epoch 4 of 4.\n",
      "[AGT] [DEBUG   ] [21:47:15] Initialising dataloader batchsize to 2500\n",
      "[AGT] [INFO    ] [21:47:15] Batch 1. Loss (accuracy) 0.788 <= 0.852 <= 0.940\n",
      "[AGT] [INFO    ] [21:47:16] Batch 2. Loss (accuracy) 0.816 <= 0.908 <= 0.952\n",
      "[AGT] [INFO    ] [21:47:16] Final Eval. Loss (accuracy): 0.824 <= 0.908 <= 0.976\n",
      "[AGT] [INFO    ] [21:47:16] =================== Finished Privacy Certified Training ===================\n",
      "[AGT] [INFO    ] [21:47:16] =================== Starting Privacy Certified Training ===================\n",
      "[AGT] [DEBUG   ] [21:47:16] \tOptimizer params: n_epochs=4, learning_rate=2.0, l1_reg=0.0, l2_reg=0.0\n",
      "[AGT] [DEBUG   ] [21:47:16] \tLearning rate schedule: lr_decay=0.6, lr_min=0.001\n",
      "[AGT] [DEBUG   ] [21:47:16] \tGradient clipping: gamma=1.0, method=clamp\n",
      "[AGT] [DEBUG   ] [21:47:16] \tPrivacy parameter: k_private=8\n",
      "[AGT] [INFO    ] [21:47:16] Starting epoch 1 of 4.\n",
      "[AGT] [DEBUG   ] [21:47:16] Initialising dataloader batchsize to 2500\n",
      "[AGT] [INFO    ] [21:47:16] Batch 1. Loss (accuracy) 0.584 <= 0.584 <= 0.584\n"
     ]
    },
    {
     "name": "stdout",
     "output_type": "stream",
     "text": [
      "Training model 4 with k=8\n",
      "cpu\n"
     ]
    },
    {
     "name": "stderr",
     "output_type": "stream",
     "text": [
      "[AGT] [INFO    ] [21:47:16] Batch 2. Loss (accuracy) 0.796 <= 0.812 <= 0.828\n",
      "[AGT] [INFO    ] [21:47:16] Starting epoch 2 of 4.\n",
      "[AGT] [DEBUG   ] [21:47:16] Initialising dataloader batchsize to 2500\n",
      "[AGT] [INFO    ] [21:47:16] Batch 1. Loss (accuracy) 0.792 <= 0.816 <= 0.832\n",
      "[AGT] [INFO    ] [21:47:17] Batch 2. Loss (accuracy) 0.856 <= 0.888 <= 0.904\n",
      "[AGT] [INFO    ] [21:47:17] Starting epoch 3 of 4.\n",
      "[AGT] [DEBUG   ] [21:47:17] Initialising dataloader batchsize to 2500\n",
      "[AGT] [INFO    ] [21:47:17] Batch 1. Loss (accuracy) 0.840 <= 0.896 <= 0.912\n",
      "[AGT] [INFO    ] [21:47:17] Batch 2. Loss (accuracy) 0.816 <= 0.872 <= 0.936\n",
      "[AGT] [INFO    ] [21:47:17] Starting epoch 4 of 4.\n",
      "[AGT] [DEBUG   ] [21:47:17] Initialising dataloader batchsize to 2500\n",
      "[AGT] [INFO    ] [21:47:18] Batch 1. Loss (accuracy) 0.776 <= 0.852 <= 0.956\n",
      "[AGT] [INFO    ] [21:47:18] Batch 2. Loss (accuracy) 0.804 <= 0.908 <= 0.960\n",
      "[AGT] [INFO    ] [21:47:18] Final Eval. Loss (accuracy): 0.808 <= 0.908 <= 0.984\n",
      "[AGT] [INFO    ] [21:47:18] =================== Finished Privacy Certified Training ===================\n",
      "[AGT] [INFO    ] [21:47:18] =================== Starting Privacy Certified Training ===================\n",
      "[AGT] [DEBUG   ] [21:47:18] \tOptimizer params: n_epochs=4, learning_rate=2.0, l1_reg=0.0, l2_reg=0.0\n",
      "[AGT] [DEBUG   ] [21:47:18] \tLearning rate schedule: lr_decay=0.6, lr_min=0.001\n",
      "[AGT] [DEBUG   ] [21:47:18] \tGradient clipping: gamma=1.0, method=clamp\n",
      "[AGT] [DEBUG   ] [21:47:18] \tPrivacy parameter: k_private=1\n",
      "[AGT] [INFO    ] [21:47:18] Starting epoch 1 of 4.\n",
      "[AGT] [DEBUG   ] [21:47:18] Initialising dataloader batchsize to 2500\n",
      "[AGT] [INFO    ] [21:47:18] Batch 1. Loss (accuracy) 0.400 <= 0.400 <= 0.400\n"
     ]
    },
    {
     "name": "stdout",
     "output_type": "stream",
     "text": [
      "Training model 5 with k=1\n",
      "cpu\n"
     ]
    },
    {
     "name": "stderr",
     "output_type": "stream",
     "text": [
      "[AGT] [INFO    ] [21:47:18] Batch 2. Loss (accuracy) 0.820 <= 0.820 <= 0.820\n",
      "[AGT] [INFO    ] [21:47:19] Starting epoch 2 of 4.\n",
      "[AGT] [DEBUG   ] [21:47:19] Initialising dataloader batchsize to 2500\n",
      "[AGT] [INFO    ] [21:47:19] Batch 1. Loss (accuracy) 0.872 <= 0.876 <= 0.876\n",
      "[AGT] [INFO    ] [21:47:19] Batch 2. Loss (accuracy) 0.884 <= 0.884 <= 0.884\n",
      "[AGT] [INFO    ] [21:47:19] Starting epoch 3 of 4.\n",
      "[AGT] [DEBUG   ] [21:47:19] Initialising dataloader batchsize to 2500\n",
      "[AGT] [INFO    ] [21:47:19] Batch 1. Loss (accuracy) 0.892 <= 0.892 <= 0.896\n",
      "[AGT] [INFO    ] [21:47:20] Batch 2. Loss (accuracy) 0.868 <= 0.876 <= 0.876\n",
      "[AGT] [INFO    ] [21:47:20] Starting epoch 4 of 4.\n",
      "[AGT] [DEBUG   ] [21:47:20] Initialising dataloader batchsize to 2500\n",
      "[AGT] [INFO    ] [21:47:20] Batch 1. Loss (accuracy) 0.856 <= 0.868 <= 0.884\n",
      "[AGT] [INFO    ] [21:47:20] Batch 2. Loss (accuracy) 0.896 <= 0.900 <= 0.908\n",
      "[AGT] [INFO    ] [21:47:20] Final Eval. Loss (accuracy): 0.884 <= 0.896 <= 0.920\n",
      "[AGT] [INFO    ] [21:47:20] =================== Finished Privacy Certified Training ===================\n",
      "[AGT] [INFO    ] [21:47:20] =================== Starting Privacy Certified Training ===================\n",
      "[AGT] [DEBUG   ] [21:47:20] \tOptimizer params: n_epochs=4, learning_rate=2.0, l1_reg=0.0, l2_reg=0.0\n",
      "[AGT] [DEBUG   ] [21:47:20] \tLearning rate schedule: lr_decay=0.6, lr_min=0.001\n",
      "[AGT] [DEBUG   ] [21:47:20] \tGradient clipping: gamma=1.0, method=clamp\n",
      "[AGT] [DEBUG   ] [21:47:20] \tPrivacy parameter: k_private=3\n",
      "[AGT] [INFO    ] [21:47:20] Starting epoch 1 of 4.\n",
      "[AGT] [DEBUG   ] [21:47:20] Initialising dataloader batchsize to 2500\n",
      "[AGT] [INFO    ] [21:47:20] Batch 1. Loss (accuracy) 0.400 <= 0.400 <= 0.400\n"
     ]
    },
    {
     "name": "stdout",
     "output_type": "stream",
     "text": [
      "Training model 5 with k=3\n",
      "cpu\n"
     ]
    },
    {
     "name": "stderr",
     "output_type": "stream",
     "text": [
      "[AGT] [INFO    ] [21:47:21] Batch 2. Loss (accuracy) 0.820 <= 0.820 <= 0.828\n",
      "[AGT] [INFO    ] [21:47:21] Starting epoch 2 of 4.\n",
      "[AGT] [DEBUG   ] [21:47:21] Initialising dataloader batchsize to 2500\n",
      "[AGT] [INFO    ] [21:47:21] Batch 1. Loss (accuracy) 0.868 <= 0.876 <= 0.876\n",
      "[AGT] [INFO    ] [21:47:21] Batch 2. Loss (accuracy) 0.876 <= 0.884 <= 0.900\n",
      "[AGT] [INFO    ] [21:47:22] Starting epoch 3 of 4.\n",
      "[AGT] [DEBUG   ] [21:47:22] Initialising dataloader batchsize to 2500\n",
      "[AGT] [INFO    ] [21:47:22] Batch 1. Loss (accuracy) 0.888 <= 0.892 <= 0.900\n",
      "[AGT] [INFO    ] [21:47:22] Batch 2. Loss (accuracy) 0.852 <= 0.876 <= 0.888\n",
      "[AGT] [INFO    ] [21:47:22] Starting epoch 4 of 4.\n",
      "[AGT] [DEBUG   ] [21:47:22] Initialising dataloader batchsize to 2500\n",
      "[AGT] [INFO    ] [21:47:22] Batch 1. Loss (accuracy) 0.828 <= 0.868 <= 0.912\n",
      "[AGT] [INFO    ] [21:47:22] Batch 2. Loss (accuracy) 0.868 <= 0.900 <= 0.936\n",
      "[AGT] [INFO    ] [21:47:23] Final Eval. Loss (accuracy): 0.876 <= 0.896 <= 0.948\n",
      "[AGT] [INFO    ] [21:47:23] =================== Finished Privacy Certified Training ===================\n",
      "[AGT] [INFO    ] [21:47:23] =================== Starting Privacy Certified Training ===================\n",
      "[AGT] [DEBUG   ] [21:47:23] \tOptimizer params: n_epochs=4, learning_rate=2.0, l1_reg=0.0, l2_reg=0.0\n",
      "[AGT] [DEBUG   ] [21:47:23] \tLearning rate schedule: lr_decay=0.6, lr_min=0.001\n",
      "[AGT] [DEBUG   ] [21:47:23] \tGradient clipping: gamma=1.0, method=clamp\n",
      "[AGT] [DEBUG   ] [21:47:23] \tPrivacy parameter: k_private=5\n",
      "[AGT] [INFO    ] [21:47:23] Starting epoch 1 of 4.\n",
      "[AGT] [DEBUG   ] [21:47:23] Initialising dataloader batchsize to 2500\n",
      "[AGT] [INFO    ] [21:47:23] Batch 1. Loss (accuracy) 0.400 <= 0.400 <= 0.400\n"
     ]
    },
    {
     "name": "stdout",
     "output_type": "stream",
     "text": [
      "Training model 5 with k=5\n",
      "cpu\n"
     ]
    },
    {
     "name": "stderr",
     "output_type": "stream",
     "text": [
      "[AGT] [INFO    ] [21:47:23] Batch 2. Loss (accuracy) 0.812 <= 0.820 <= 0.828\n",
      "[AGT] [INFO    ] [21:47:23] Starting epoch 2 of 4.\n",
      "[AGT] [DEBUG   ] [21:47:23] Initialising dataloader batchsize to 2500\n",
      "[AGT] [INFO    ] [21:47:23] Batch 1. Loss (accuracy) 0.860 <= 0.876 <= 0.876\n",
      "[AGT] [INFO    ] [21:47:23] Batch 2. Loss (accuracy) 0.872 <= 0.884 <= 0.908\n",
      "[AGT] [INFO    ] [21:47:24] Starting epoch 3 of 4.\n",
      "[AGT] [DEBUG   ] [21:47:24] Initialising dataloader batchsize to 2500\n",
      "[AGT] [INFO    ] [21:47:24] Batch 1. Loss (accuracy) 0.884 <= 0.892 <= 0.920\n",
      "[AGT] [INFO    ] [21:47:24] Batch 2. Loss (accuracy) 0.828 <= 0.876 <= 0.916\n",
      "[AGT] [INFO    ] [21:47:24] Starting epoch 4 of 4.\n",
      "[AGT] [DEBUG   ] [21:47:24] Initialising dataloader batchsize to 2500\n",
      "[AGT] [INFO    ] [21:47:24] Batch 1. Loss (accuracy) 0.816 <= 0.868 <= 0.928\n",
      "[AGT] [INFO    ] [21:47:25] Batch 2. Loss (accuracy) 0.808 <= 0.900 <= 0.972\n",
      "[AGT] [INFO    ] [21:47:25] Final Eval. Loss (accuracy): 0.788 <= 0.896 <= 0.980\n",
      "[AGT] [INFO    ] [21:47:25] =================== Finished Privacy Certified Training ===================\n",
      "[AGT] [INFO    ] [21:47:25] =================== Starting Privacy Certified Training ===================\n",
      "[AGT] [DEBUG   ] [21:47:25] \tOptimizer params: n_epochs=4, learning_rate=2.0, l1_reg=0.0, l2_reg=0.0\n",
      "[AGT] [DEBUG   ] [21:47:25] \tLearning rate schedule: lr_decay=0.6, lr_min=0.001\n",
      "[AGT] [DEBUG   ] [21:47:25] \tGradient clipping: gamma=1.0, method=clamp\n",
      "[AGT] [DEBUG   ] [21:47:25] \tPrivacy parameter: k_private=7\n",
      "[AGT] [INFO    ] [21:47:25] Starting epoch 1 of 4.\n",
      "[AGT] [DEBUG   ] [21:47:25] Initialising dataloader batchsize to 2500\n",
      "[AGT] [INFO    ] [21:47:25] Batch 1. Loss (accuracy) 0.400 <= 0.400 <= 0.400\n"
     ]
    },
    {
     "name": "stdout",
     "output_type": "stream",
     "text": [
      "Training model 5 with k=7\n",
      "cpu\n"
     ]
    },
    {
     "name": "stderr",
     "output_type": "stream",
     "text": [
      "[AGT] [INFO    ] [21:47:25] Batch 2. Loss (accuracy) 0.812 <= 0.820 <= 0.832\n",
      "[AGT] [INFO    ] [21:47:25] Starting epoch 2 of 4.\n",
      "[AGT] [DEBUG   ] [21:47:25] Initialising dataloader batchsize to 2500\n",
      "[AGT] [INFO    ] [21:47:25] Batch 1. Loss (accuracy) 0.860 <= 0.876 <= 0.876\n",
      "[AGT] [INFO    ] [21:47:26] Batch 2. Loss (accuracy) 0.864 <= 0.884 <= 0.920\n",
      "[AGT] [INFO    ] [21:47:26] Starting epoch 3 of 4.\n",
      "[AGT] [DEBUG   ] [21:47:26] Initialising dataloader batchsize to 2500\n",
      "[AGT] [INFO    ] [21:47:26] Batch 1. Loss (accuracy) 0.872 <= 0.892 <= 0.928\n",
      "[AGT] [INFO    ] [21:47:26] Batch 2. Loss (accuracy) 0.812 <= 0.876 <= 0.928\n",
      "[AGT] [INFO    ] [21:47:26] Starting epoch 4 of 4.\n",
      "[AGT] [DEBUG   ] [21:47:27] Initialising dataloader batchsize to 2500\n",
      "[AGT] [INFO    ] [21:47:27] Batch 1. Loss (accuracy) 0.796 <= 0.868 <= 0.948\n",
      "[AGT] [INFO    ] [21:47:27] Batch 2. Loss (accuracy) 0.740 <= 0.900 <= 0.980\n",
      "[AGT] [INFO    ] [21:47:27] Final Eval. Loss (accuracy): 0.656 <= 0.896 <= 0.992\n",
      "[AGT] [INFO    ] [21:47:27] =================== Finished Privacy Certified Training ===================\n",
      "[AGT] [INFO    ] [21:47:27] =================== Starting Privacy Certified Training ===================\n",
      "[AGT] [DEBUG   ] [21:47:27] \tOptimizer params: n_epochs=4, learning_rate=2.0, l1_reg=0.0, l2_reg=0.0\n",
      "[AGT] [DEBUG   ] [21:47:27] \tLearning rate schedule: lr_decay=0.6, lr_min=0.001\n",
      "[AGT] [DEBUG   ] [21:47:27] \tGradient clipping: gamma=1.0, method=clamp\n",
      "[AGT] [DEBUG   ] [21:47:27] \tPrivacy parameter: k_private=8\n",
      "[AGT] [INFO    ] [21:47:27] Starting epoch 1 of 4.\n",
      "[AGT] [DEBUG   ] [21:47:27] Initialising dataloader batchsize to 2500\n",
      "[AGT] [INFO    ] [21:47:27] Batch 1. Loss (accuracy) 0.400 <= 0.400 <= 0.400\n"
     ]
    },
    {
     "name": "stdout",
     "output_type": "stream",
     "text": [
      "Training model 5 with k=8\n",
      "cpu\n"
     ]
    },
    {
     "name": "stderr",
     "output_type": "stream",
     "text": [
      "[AGT] [INFO    ] [21:47:27] Batch 2. Loss (accuracy) 0.812 <= 0.820 <= 0.832\n",
      "[AGT] [INFO    ] [21:47:28] Starting epoch 2 of 4.\n",
      "[AGT] [DEBUG   ] [21:47:28] Initialising dataloader batchsize to 2500\n",
      "[AGT] [INFO    ] [21:47:28] Batch 1. Loss (accuracy) 0.852 <= 0.876 <= 0.880\n",
      "[AGT] [INFO    ] [21:47:28] Batch 2. Loss (accuracy) 0.852 <= 0.884 <= 0.920\n",
      "[AGT] [INFO    ] [21:47:28] Starting epoch 3 of 4.\n",
      "[AGT] [DEBUG   ] [21:47:28] Initialising dataloader batchsize to 2500\n",
      "[AGT] [INFO    ] [21:47:28] Batch 1. Loss (accuracy) 0.872 <= 0.892 <= 0.928\n",
      "[AGT] [INFO    ] [21:47:29] Batch 2. Loss (accuracy) 0.808 <= 0.876 <= 0.944\n",
      "[AGT] [INFO    ] [21:47:29] Starting epoch 4 of 4.\n",
      "[AGT] [DEBUG   ] [21:47:29] Initialising dataloader batchsize to 2500\n",
      "[AGT] [INFO    ] [21:47:29] Batch 1. Loss (accuracy) 0.772 <= 0.868 <= 0.952\n",
      "[AGT] [INFO    ] [21:47:29] Batch 2. Loss (accuracy) 0.716 <= 0.900 <= 0.984\n",
      "[AGT] [INFO    ] [21:47:29] Final Eval. Loss (accuracy): 0.584 <= 0.896 <= 0.992\n",
      "[AGT] [INFO    ] [21:47:29] =================== Finished Privacy Certified Training ===================\n",
      "[AGT] [INFO    ] [21:47:29] =================== Starting Privacy Certified Training ===================\n",
      "[AGT] [DEBUG   ] [21:47:29] \tOptimizer params: n_epochs=4, learning_rate=2.0, l1_reg=0.0, l2_reg=0.0\n",
      "[AGT] [DEBUG   ] [21:47:29] \tLearning rate schedule: lr_decay=0.6, lr_min=0.001\n",
      "[AGT] [DEBUG   ] [21:47:29] \tGradient clipping: gamma=1.0, method=clamp\n",
      "[AGT] [DEBUG   ] [21:47:29] \tPrivacy parameter: k_private=1\n",
      "[AGT] [INFO    ] [21:47:29] Starting epoch 1 of 4.\n",
      "[AGT] [DEBUG   ] [21:47:29] Initialising dataloader batchsize to 2500\n",
      "[AGT] [INFO    ] [21:47:30] Batch 1. Loss (accuracy) 0.692 <= 0.692 <= 0.692\n",
      "[AGT] [DEBUG   ] [21:47:30] Violated bound in validate_interval: 1.07e-06 (grad bounds, private fragment (element 0))\n"
     ]
    },
    {
     "name": "stdout",
     "output_type": "stream",
     "text": [
      "Training model 6 with k=1\n",
      "cpu\n"
     ]
    },
    {
     "name": "stderr",
     "output_type": "stream",
     "text": [
      "[AGT] [INFO    ] [21:47:30] Batch 2. Loss (accuracy) 0.832 <= 0.832 <= 0.832\n",
      "[AGT] [INFO    ] [21:47:30] Starting epoch 2 of 4.\n",
      "[AGT] [DEBUG   ] [21:47:30] Initialising dataloader batchsize to 2500\n",
      "[AGT] [INFO    ] [21:47:30] Batch 1. Loss (accuracy) 0.824 <= 0.828 <= 0.836\n",
      "[AGT] [INFO    ] [21:47:30] Batch 2. Loss (accuracy) 0.892 <= 0.892 <= 0.896\n",
      "[AGT] [INFO    ] [21:47:31] Starting epoch 3 of 4.\n",
      "[AGT] [DEBUG   ] [21:47:31] Initialising dataloader batchsize to 2500\n",
      "[AGT] [INFO    ] [21:47:31] Batch 1. Loss (accuracy) 0.884 <= 0.892 <= 0.900\n",
      "[AGT] [INFO    ] [21:47:31] Batch 2. Loss (accuracy) 0.876 <= 0.880 <= 0.892\n",
      "[AGT] [INFO    ] [21:47:31] Starting epoch 4 of 4.\n",
      "[AGT] [DEBUG   ] [21:47:31] Initialising dataloader batchsize to 2500\n",
      "[AGT] [INFO    ] [21:47:31] Batch 1. Loss (accuracy) 0.860 <= 0.868 <= 0.884\n",
      "[AGT] [INFO    ] [21:47:31] Batch 2. Loss (accuracy) 0.908 <= 0.916 <= 0.928\n",
      "[AGT] [INFO    ] [21:47:32] Final Eval. Loss (accuracy): 0.908 <= 0.908 <= 0.932\n",
      "[AGT] [INFO    ] [21:47:32] =================== Finished Privacy Certified Training ===================\n",
      "[AGT] [INFO    ] [21:47:32] =================== Starting Privacy Certified Training ===================\n",
      "[AGT] [DEBUG   ] [21:47:32] \tOptimizer params: n_epochs=4, learning_rate=2.0, l1_reg=0.0, l2_reg=0.0\n",
      "[AGT] [DEBUG   ] [21:47:32] \tLearning rate schedule: lr_decay=0.6, lr_min=0.001\n",
      "[AGT] [DEBUG   ] [21:47:32] \tGradient clipping: gamma=1.0, method=clamp\n",
      "[AGT] [DEBUG   ] [21:47:32] \tPrivacy parameter: k_private=3\n",
      "[AGT] [INFO    ] [21:47:32] Starting epoch 1 of 4.\n",
      "[AGT] [DEBUG   ] [21:47:32] Initialising dataloader batchsize to 2500\n",
      "[AGT] [INFO    ] [21:47:32] Batch 1. Loss (accuracy) 0.692 <= 0.692 <= 0.692\n",
      "[AGT] [DEBUG   ] [21:47:32] Violated bound in validate_interval: 1.07e-06 (grad bounds, private fragment (element 0))\n"
     ]
    },
    {
     "name": "stdout",
     "output_type": "stream",
     "text": [
      "Training model 6 with k=3\n",
      "cpu\n"
     ]
    },
    {
     "name": "stderr",
     "output_type": "stream",
     "text": [
      "[AGT] [INFO    ] [21:47:32] Batch 2. Loss (accuracy) 0.828 <= 0.832 <= 0.832\n",
      "[AGT] [INFO    ] [21:47:32] Starting epoch 2 of 4.\n",
      "[AGT] [DEBUG   ] [21:47:32] Initialising dataloader batchsize to 2500\n",
      "[AGT] [INFO    ] [21:47:32] Batch 1. Loss (accuracy) 0.824 <= 0.828 <= 0.848\n",
      "[AGT] [INFO    ] [21:47:33] Batch 2. Loss (accuracy) 0.884 <= 0.892 <= 0.904\n",
      "[AGT] [INFO    ] [21:47:33] Starting epoch 3 of 4.\n",
      "[AGT] [DEBUG   ] [21:47:33] Initialising dataloader batchsize to 2500\n",
      "[AGT] [INFO    ] [21:47:33] Batch 1. Loss (accuracy) 0.880 <= 0.892 <= 0.908\n",
      "[AGT] [INFO    ] [21:47:33] Batch 2. Loss (accuracy) 0.860 <= 0.880 <= 0.904\n",
      "[AGT] [INFO    ] [21:47:33] Starting epoch 4 of 4.\n",
      "[AGT] [DEBUG   ] [21:47:33] Initialising dataloader batchsize to 2500\n",
      "[AGT] [INFO    ] [21:47:33] Batch 1. Loss (accuracy) 0.836 <= 0.868 <= 0.924\n",
      "[AGT] [INFO    ] [21:47:34] Batch 2. Loss (accuracy) 0.888 <= 0.916 <= 0.944\n",
      "[AGT] [INFO    ] [21:47:34] Final Eval. Loss (accuracy): 0.880 <= 0.908 <= 0.944\n",
      "[AGT] [INFO    ] [21:47:34] =================== Finished Privacy Certified Training ===================\n",
      "[AGT] [INFO    ] [21:47:34] =================== Starting Privacy Certified Training ===================\n",
      "[AGT] [DEBUG   ] [21:47:34] \tOptimizer params: n_epochs=4, learning_rate=2.0, l1_reg=0.0, l2_reg=0.0\n",
      "[AGT] [DEBUG   ] [21:47:34] \tLearning rate schedule: lr_decay=0.6, lr_min=0.001\n",
      "[AGT] [DEBUG   ] [21:47:34] \tGradient clipping: gamma=1.0, method=clamp\n",
      "[AGT] [DEBUG   ] [21:47:34] \tPrivacy parameter: k_private=5\n",
      "[AGT] [INFO    ] [21:47:34] Starting epoch 1 of 4.\n",
      "[AGT] [DEBUG   ] [21:47:34] Initialising dataloader batchsize to 2500\n",
      "[AGT] [INFO    ] [21:47:34] Batch 1. Loss (accuracy) 0.692 <= 0.692 <= 0.692\n",
      "[AGT] [DEBUG   ] [21:47:34] Violated bound in validate_interval: 1.07e-06 (grad bounds, private fragment (element 0))\n"
     ]
    },
    {
     "name": "stdout",
     "output_type": "stream",
     "text": [
      "Training model 6 with k=5\n",
      "cpu\n"
     ]
    },
    {
     "name": "stderr",
     "output_type": "stream",
     "text": [
      "[AGT] [INFO    ] [21:47:34] Batch 2. Loss (accuracy) 0.828 <= 0.832 <= 0.832\n",
      "[AGT] [INFO    ] [21:47:35] Starting epoch 2 of 4.\n",
      "[AGT] [DEBUG   ] [21:47:35] Initialising dataloader batchsize to 2500\n",
      "[AGT] [INFO    ] [21:47:35] Batch 1. Loss (accuracy) 0.820 <= 0.828 <= 0.848\n",
      "[AGT] [INFO    ] [21:47:35] Batch 2. Loss (accuracy) 0.872 <= 0.892 <= 0.908\n",
      "[AGT] [INFO    ] [21:47:35] Starting epoch 3 of 4.\n",
      "[AGT] [DEBUG   ] [21:47:35] Initialising dataloader batchsize to 2500\n",
      "[AGT] [INFO    ] [21:47:35] Batch 1. Loss (accuracy) 0.876 <= 0.892 <= 0.920\n",
      "[AGT] [INFO    ] [21:47:35] Batch 2. Loss (accuracy) 0.848 <= 0.880 <= 0.928\n",
      "[AGT] [INFO    ] [21:47:36] Starting epoch 4 of 4.\n",
      "[AGT] [DEBUG   ] [21:47:36] Initialising dataloader batchsize to 2500\n",
      "[AGT] [INFO    ] [21:47:36] Batch 1. Loss (accuracy) 0.824 <= 0.868 <= 0.936\n",
      "[AGT] [INFO    ] [21:47:36] Batch 2. Loss (accuracy) 0.860 <= 0.916 <= 0.972\n",
      "[AGT] [INFO    ] [21:47:36] Final Eval. Loss (accuracy): 0.872 <= 0.908 <= 0.980\n",
      "[AGT] [INFO    ] [21:47:36] =================== Finished Privacy Certified Training ===================\n",
      "[AGT] [INFO    ] [21:47:36] =================== Starting Privacy Certified Training ===================\n",
      "[AGT] [DEBUG   ] [21:47:36] \tOptimizer params: n_epochs=4, learning_rate=2.0, l1_reg=0.0, l2_reg=0.0\n",
      "[AGT] [DEBUG   ] [21:47:36] \tLearning rate schedule: lr_decay=0.6, lr_min=0.001\n",
      "[AGT] [DEBUG   ] [21:47:36] \tGradient clipping: gamma=1.0, method=clamp\n",
      "[AGT] [DEBUG   ] [21:47:36] \tPrivacy parameter: k_private=7\n",
      "[AGT] [INFO    ] [21:47:36] Starting epoch 1 of 4.\n",
      "[AGT] [DEBUG   ] [21:47:36] Initialising dataloader batchsize to 2500\n",
      "[AGT] [INFO    ] [21:47:36] Batch 1. Loss (accuracy) 0.692 <= 0.692 <= 0.692\n",
      "[AGT] [DEBUG   ] [21:47:36] Violated bound in validate_interval: 1.07e-06 (grad bounds, private fragment (element 0))\n"
     ]
    },
    {
     "name": "stdout",
     "output_type": "stream",
     "text": [
      "Training model 6 with k=7\n",
      "cpu\n"
     ]
    },
    {
     "name": "stderr",
     "output_type": "stream",
     "text": [
      "[AGT] [INFO    ] [21:47:36] Batch 2. Loss (accuracy) 0.828 <= 0.832 <= 0.832\n",
      "[AGT] [INFO    ] [21:47:37] Starting epoch 2 of 4.\n",
      "[AGT] [DEBUG   ] [21:47:37] Initialising dataloader batchsize to 2500\n",
      "[AGT] [INFO    ] [21:47:37] Batch 1. Loss (accuracy) 0.816 <= 0.828 <= 0.856\n",
      "[AGT] [INFO    ] [21:47:37] Batch 2. Loss (accuracy) 0.872 <= 0.892 <= 0.912\n",
      "[AGT] [INFO    ] [21:47:37] Starting epoch 3 of 4.\n",
      "[AGT] [DEBUG   ] [21:47:37] Initialising dataloader batchsize to 2500\n",
      "[AGT] [INFO    ] [21:47:37] Batch 1. Loss (accuracy) 0.872 <= 0.892 <= 0.936\n",
      "[AGT] [INFO    ] [21:47:38] Batch 2. Loss (accuracy) 0.832 <= 0.880 <= 0.940\n",
      "[AGT] [INFO    ] [21:47:38] Starting epoch 4 of 4.\n",
      "[AGT] [DEBUG   ] [21:47:38] Initialising dataloader batchsize to 2500\n",
      "[AGT] [INFO    ] [21:47:38] Batch 1. Loss (accuracy) 0.808 <= 0.868 <= 0.952\n",
      "[AGT] [INFO    ] [21:47:38] Batch 2. Loss (accuracy) 0.836 <= 0.916 <= 0.984\n",
      "[AGT] [INFO    ] [21:47:38] Final Eval. Loss (accuracy): 0.840 <= 0.908 <= 0.988\n",
      "[AGT] [INFO    ] [21:47:38] =================== Finished Privacy Certified Training ===================\n",
      "[AGT] [INFO    ] [21:47:38] =================== Starting Privacy Certified Training ===================\n",
      "[AGT] [DEBUG   ] [21:47:38] \tOptimizer params: n_epochs=4, learning_rate=2.0, l1_reg=0.0, l2_reg=0.0\n",
      "[AGT] [DEBUG   ] [21:47:38] \tLearning rate schedule: lr_decay=0.6, lr_min=0.001\n",
      "[AGT] [DEBUG   ] [21:47:38] \tGradient clipping: gamma=1.0, method=clamp\n",
      "[AGT] [DEBUG   ] [21:47:38] \tPrivacy parameter: k_private=8\n",
      "[AGT] [INFO    ] [21:47:38] Starting epoch 1 of 4.\n",
      "[AGT] [DEBUG   ] [21:47:38] Initialising dataloader batchsize to 2500\n",
      "[AGT] [INFO    ] [21:47:38] Batch 1. Loss (accuracy) 0.692 <= 0.692 <= 0.692\n",
      "[AGT] [DEBUG   ] [21:47:38] Violated bound in validate_interval: 1.07e-06 (grad bounds, private fragment (element 0))\n"
     ]
    },
    {
     "name": "stdout",
     "output_type": "stream",
     "text": [
      "Training model 6 with k=8\n",
      "cpu\n"
     ]
    },
    {
     "name": "stderr",
     "output_type": "stream",
     "text": [
      "[AGT] [INFO    ] [21:47:39] Batch 2. Loss (accuracy) 0.828 <= 0.832 <= 0.832\n",
      "[AGT] [INFO    ] [21:47:39] Starting epoch 2 of 4.\n",
      "[AGT] [DEBUG   ] [21:47:39] Initialising dataloader batchsize to 2500\n",
      "[AGT] [INFO    ] [21:47:39] Batch 1. Loss (accuracy) 0.816 <= 0.828 <= 0.860\n",
      "[AGT] [INFO    ] [21:47:39] Batch 2. Loss (accuracy) 0.864 <= 0.892 <= 0.920\n",
      "[AGT] [INFO    ] [21:47:39] Starting epoch 3 of 4.\n",
      "[AGT] [DEBUG   ] [21:47:39] Initialising dataloader batchsize to 2500\n",
      "[AGT] [INFO    ] [21:47:40] Batch 1. Loss (accuracy) 0.872 <= 0.892 <= 0.936\n",
      "[AGT] [INFO    ] [21:47:40] Batch 2. Loss (accuracy) 0.816 <= 0.880 <= 0.944\n",
      "[AGT] [INFO    ] [21:47:40] Starting epoch 4 of 4.\n",
      "[AGT] [DEBUG   ] [21:47:40] Initialising dataloader batchsize to 2500\n",
      "[AGT] [INFO    ] [21:47:40] Batch 1. Loss (accuracy) 0.800 <= 0.868 <= 0.960\n",
      "[AGT] [INFO    ] [21:47:40] Batch 2. Loss (accuracy) 0.804 <= 0.916 <= 0.984\n",
      "[AGT] [INFO    ] [21:47:41] Final Eval. Loss (accuracy): 0.804 <= 0.908 <= 0.992\n",
      "[AGT] [INFO    ] [21:47:41] =================== Finished Privacy Certified Training ===================\n",
      "[AGT] [INFO    ] [21:47:41] =================== Starting Privacy Certified Training ===================\n",
      "[AGT] [DEBUG   ] [21:47:41] \tOptimizer params: n_epochs=4, learning_rate=2.0, l1_reg=0.0, l2_reg=0.0\n",
      "[AGT] [DEBUG   ] [21:47:41] \tLearning rate schedule: lr_decay=0.6, lr_min=0.001\n",
      "[AGT] [DEBUG   ] [21:47:41] \tGradient clipping: gamma=1.0, method=clamp\n",
      "[AGT] [DEBUG   ] [21:47:41] \tPrivacy parameter: k_private=1\n",
      "[AGT] [INFO    ] [21:47:41] Starting epoch 1 of 4.\n",
      "[AGT] [DEBUG   ] [21:47:41] Initialising dataloader batchsize to 2500\n",
      "[AGT] [INFO    ] [21:47:41] Batch 1. Loss (accuracy) 0.576 <= 0.576 <= 0.576\n"
     ]
    },
    {
     "name": "stdout",
     "output_type": "stream",
     "text": [
      "Training model 7 with k=1\n",
      "cpu\n"
     ]
    },
    {
     "name": "stderr",
     "output_type": "stream",
     "text": [
      "[AGT] [INFO    ] [21:47:41] Batch 2. Loss (accuracy) 0.860 <= 0.864 <= 0.868\n",
      "[AGT] [INFO    ] [21:47:41] Starting epoch 2 of 4.\n",
      "[AGT] [DEBUG   ] [21:47:41] Initialising dataloader batchsize to 2500\n",
      "[AGT] [INFO    ] [21:47:41] Batch 1. Loss (accuracy) 0.856 <= 0.856 <= 0.860\n",
      "[AGT] [INFO    ] [21:47:42] Batch 2. Loss (accuracy) 0.916 <= 0.920 <= 0.920\n",
      "[AGT] [INFO    ] [21:47:42] Starting epoch 3 of 4.\n",
      "[AGT] [DEBUG   ] [21:47:42] Initialising dataloader batchsize to 2500\n",
      "[AGT] [INFO    ] [21:47:42] Batch 1. Loss (accuracy) 0.908 <= 0.916 <= 0.916\n",
      "[AGT] [INFO    ] [21:47:42] Batch 2. Loss (accuracy) 0.892 <= 0.912 <= 0.924\n",
      "[AGT] [INFO    ] [21:47:42] Starting epoch 4 of 4.\n",
      "[AGT] [DEBUG   ] [21:47:42] Initialising dataloader batchsize to 2500\n",
      "[AGT] [INFO    ] [21:47:42] Batch 1. Loss (accuracy) 0.880 <= 0.900 <= 0.912\n",
      "[AGT] [INFO    ] [21:47:43] Batch 2. Loss (accuracy) 0.920 <= 0.932 <= 0.944\n",
      "[AGT] [INFO    ] [21:47:43] Final Eval. Loss (accuracy): 0.908 <= 0.932 <= 0.940\n",
      "[AGT] [INFO    ] [21:47:43] =================== Finished Privacy Certified Training ===================\n",
      "[AGT] [INFO    ] [21:47:43] =================== Starting Privacy Certified Training ===================\n",
      "[AGT] [DEBUG   ] [21:47:43] \tOptimizer params: n_epochs=4, learning_rate=2.0, l1_reg=0.0, l2_reg=0.0\n",
      "[AGT] [DEBUG   ] [21:47:43] \tLearning rate schedule: lr_decay=0.6, lr_min=0.001\n",
      "[AGT] [DEBUG   ] [21:47:43] \tGradient clipping: gamma=1.0, method=clamp\n",
      "[AGT] [DEBUG   ] [21:47:43] \tPrivacy parameter: k_private=3\n",
      "[AGT] [INFO    ] [21:47:43] Starting epoch 1 of 4.\n",
      "[AGT] [DEBUG   ] [21:47:43] Initialising dataloader batchsize to 2500\n",
      "[AGT] [INFO    ] [21:47:43] Batch 1. Loss (accuracy) 0.576 <= 0.576 <= 0.576\n"
     ]
    },
    {
     "name": "stdout",
     "output_type": "stream",
     "text": [
      "Training model 7 with k=3\n",
      "cpu\n"
     ]
    },
    {
     "name": "stderr",
     "output_type": "stream",
     "text": [
      "[AGT] [INFO    ] [21:47:43] Batch 2. Loss (accuracy) 0.860 <= 0.864 <= 0.868\n",
      "[AGT] [INFO    ] [21:47:43] Starting epoch 2 of 4.\n",
      "[AGT] [DEBUG   ] [21:47:43] Initialising dataloader batchsize to 2500\n",
      "[AGT] [INFO    ] [21:47:43] Batch 1. Loss (accuracy) 0.848 <= 0.856 <= 0.860\n",
      "[AGT] [INFO    ] [21:47:44] Batch 2. Loss (accuracy) 0.908 <= 0.920 <= 0.924\n",
      "[AGT] [INFO    ] [21:47:44] Starting epoch 3 of 4.\n",
      "[AGT] [DEBUG   ] [21:47:44] Initialising dataloader batchsize to 2500\n",
      "[AGT] [INFO    ] [21:47:44] Batch 1. Loss (accuracy) 0.900 <= 0.916 <= 0.920\n",
      "[AGT] [INFO    ] [21:47:44] Batch 2. Loss (accuracy) 0.880 <= 0.912 <= 0.940\n",
      "[AGT] [INFO    ] [21:47:45] Starting epoch 4 of 4.\n",
      "[AGT] [DEBUG   ] [21:47:45] Initialising dataloader batchsize to 2500\n",
      "[AGT] [INFO    ] [21:47:45] Batch 1. Loss (accuracy) 0.848 <= 0.900 <= 0.944\n",
      "[AGT] [INFO    ] [21:47:45] Batch 2. Loss (accuracy) 0.904 <= 0.932 <= 0.960\n",
      "[AGT] [INFO    ] [21:47:45] Final Eval. Loss (accuracy): 0.888 <= 0.932 <= 0.968\n",
      "[AGT] [INFO    ] [21:47:45] =================== Finished Privacy Certified Training ===================\n",
      "[AGT] [INFO    ] [21:47:45] =================== Starting Privacy Certified Training ===================\n",
      "[AGT] [DEBUG   ] [21:47:45] \tOptimizer params: n_epochs=4, learning_rate=2.0, l1_reg=0.0, l2_reg=0.0\n",
      "[AGT] [DEBUG   ] [21:47:45] \tLearning rate schedule: lr_decay=0.6, lr_min=0.001\n",
      "[AGT] [DEBUG   ] [21:47:45] \tGradient clipping: gamma=1.0, method=clamp\n",
      "[AGT] [DEBUG   ] [21:47:45] \tPrivacy parameter: k_private=5\n",
      "[AGT] [INFO    ] [21:47:45] Starting epoch 1 of 4.\n",
      "[AGT] [DEBUG   ] [21:47:45] Initialising dataloader batchsize to 2500\n",
      "[AGT] [INFO    ] [21:47:45] Batch 1. Loss (accuracy) 0.576 <= 0.576 <= 0.576\n"
     ]
    },
    {
     "name": "stdout",
     "output_type": "stream",
     "text": [
      "Training model 7 with k=5\n",
      "cpu\n"
     ]
    },
    {
     "name": "stderr",
     "output_type": "stream",
     "text": [
      "[AGT] [INFO    ] [21:47:45] Batch 2. Loss (accuracy) 0.860 <= 0.864 <= 0.876\n",
      "[AGT] [INFO    ] [21:47:46] Starting epoch 2 of 4.\n",
      "[AGT] [DEBUG   ] [21:47:46] Initialising dataloader batchsize to 2500\n",
      "[AGT] [INFO    ] [21:47:46] Batch 1. Loss (accuracy) 0.848 <= 0.856 <= 0.868\n",
      "[AGT] [INFO    ] [21:47:46] Batch 2. Loss (accuracy) 0.900 <= 0.920 <= 0.932\n",
      "[AGT] [INFO    ] [21:47:46] Starting epoch 3 of 4.\n",
      "[AGT] [DEBUG   ] [21:47:46] Initialising dataloader batchsize to 2500\n",
      "[AGT] [INFO    ] [21:47:46] Batch 1. Loss (accuracy) 0.900 <= 0.916 <= 0.932\n",
      "[AGT] [INFO    ] [21:47:46] Batch 2. Loss (accuracy) 0.864 <= 0.912 <= 0.940\n",
      "[AGT] [INFO    ] [21:47:47] Starting epoch 4 of 4.\n",
      "[AGT] [DEBUG   ] [21:47:47] Initialising dataloader batchsize to 2500\n",
      "[AGT] [INFO    ] [21:47:47] Batch 1. Loss (accuracy) 0.836 <= 0.900 <= 0.952\n",
      "[AGT] [INFO    ] [21:47:47] Batch 2. Loss (accuracy) 0.888 <= 0.932 <= 0.972\n",
      "[AGT] [INFO    ] [21:47:47] Final Eval. Loss (accuracy): 0.876 <= 0.932 <= 0.984\n",
      "[AGT] [INFO    ] [21:47:47] =================== Finished Privacy Certified Training ===================\n",
      "[AGT] [INFO    ] [21:47:47] =================== Starting Privacy Certified Training ===================\n",
      "[AGT] [DEBUG   ] [21:47:47] \tOptimizer params: n_epochs=4, learning_rate=2.0, l1_reg=0.0, l2_reg=0.0\n",
      "[AGT] [DEBUG   ] [21:47:47] \tLearning rate schedule: lr_decay=0.6, lr_min=0.001\n",
      "[AGT] [DEBUG   ] [21:47:47] \tGradient clipping: gamma=1.0, method=clamp\n",
      "[AGT] [DEBUG   ] [21:47:47] \tPrivacy parameter: k_private=7\n",
      "[AGT] [INFO    ] [21:47:47] Starting epoch 1 of 4.\n",
      "[AGT] [DEBUG   ] [21:47:47] Initialising dataloader batchsize to 2500\n",
      "[AGT] [INFO    ] [21:47:47] Batch 1. Loss (accuracy) 0.576 <= 0.576 <= 0.576\n"
     ]
    },
    {
     "name": "stdout",
     "output_type": "stream",
     "text": [
      "Training model 7 with k=7\n",
      "cpu\n"
     ]
    },
    {
     "name": "stderr",
     "output_type": "stream",
     "text": [
      "[AGT] [INFO    ] [21:47:48] Batch 2. Loss (accuracy) 0.856 <= 0.864 <= 0.880\n",
      "[AGT] [INFO    ] [21:47:48] Starting epoch 2 of 4.\n",
      "[AGT] [DEBUG   ] [21:47:48] Initialising dataloader batchsize to 2500\n",
      "[AGT] [INFO    ] [21:47:48] Batch 1. Loss (accuracy) 0.848 <= 0.856 <= 0.872\n",
      "[AGT] [INFO    ] [21:47:48] Batch 2. Loss (accuracy) 0.892 <= 0.920 <= 0.936\n",
      "[AGT] [INFO    ] [21:47:48] Starting epoch 3 of 4.\n",
      "[AGT] [DEBUG   ] [21:47:48] Initialising dataloader batchsize to 2500\n",
      "[AGT] [INFO    ] [21:47:48] Batch 1. Loss (accuracy) 0.888 <= 0.916 <= 0.956\n",
      "[AGT] [INFO    ] [21:47:49] Batch 2. Loss (accuracy) 0.852 <= 0.912 <= 0.952\n",
      "[AGT] [INFO    ] [21:47:49] Starting epoch 4 of 4.\n",
      "[AGT] [DEBUG   ] [21:47:49] Initialising dataloader batchsize to 2500\n",
      "[AGT] [INFO    ] [21:47:49] Batch 1. Loss (accuracy) 0.828 <= 0.900 <= 0.968\n",
      "[AGT] [INFO    ] [21:47:49] Batch 2. Loss (accuracy) 0.860 <= 0.932 <= 0.984\n",
      "[AGT] [INFO    ] [21:47:49] Final Eval. Loss (accuracy): 0.868 <= 0.932 <= 0.984\n",
      "[AGT] [INFO    ] [21:47:49] =================== Finished Privacy Certified Training ===================\n",
      "[AGT] [INFO    ] [21:47:49] =================== Starting Privacy Certified Training ===================\n",
      "[AGT] [DEBUG   ] [21:47:49] \tOptimizer params: n_epochs=4, learning_rate=2.0, l1_reg=0.0, l2_reg=0.0\n",
      "[AGT] [DEBUG   ] [21:47:49] \tLearning rate schedule: lr_decay=0.6, lr_min=0.001\n",
      "[AGT] [DEBUG   ] [21:47:49] \tGradient clipping: gamma=1.0, method=clamp\n",
      "[AGT] [DEBUG   ] [21:47:49] \tPrivacy parameter: k_private=8\n",
      "[AGT] [INFO    ] [21:47:49] Starting epoch 1 of 4.\n",
      "[AGT] [DEBUG   ] [21:47:49] Initialising dataloader batchsize to 2500\n",
      "[AGT] [INFO    ] [21:47:49] Batch 1. Loss (accuracy) 0.576 <= 0.576 <= 0.576\n"
     ]
    },
    {
     "name": "stdout",
     "output_type": "stream",
     "text": [
      "Training model 7 with k=8\n",
      "cpu\n"
     ]
    },
    {
     "name": "stderr",
     "output_type": "stream",
     "text": [
      "[AGT] [INFO    ] [21:47:50] Batch 2. Loss (accuracy) 0.856 <= 0.864 <= 0.884\n",
      "[AGT] [INFO    ] [21:47:50] Starting epoch 2 of 4.\n",
      "[AGT] [DEBUG   ] [21:47:50] Initialising dataloader batchsize to 2500\n",
      "[AGT] [INFO    ] [21:47:50] Batch 1. Loss (accuracy) 0.844 <= 0.856 <= 0.872\n",
      "[AGT] [INFO    ] [21:47:50] Batch 2. Loss (accuracy) 0.892 <= 0.920 <= 0.936\n",
      "[AGT] [INFO    ] [21:47:50] Starting epoch 3 of 4.\n",
      "[AGT] [DEBUG   ] [21:47:51] Initialising dataloader batchsize to 2500\n",
      "[AGT] [INFO    ] [21:47:51] Batch 1. Loss (accuracy) 0.872 <= 0.916 <= 0.960\n",
      "[AGT] [INFO    ] [21:47:51] Batch 2. Loss (accuracy) 0.852 <= 0.912 <= 0.952\n",
      "[AGT] [INFO    ] [21:47:51] Starting epoch 4 of 4.\n",
      "[AGT] [DEBUG   ] [21:47:51] Initialising dataloader batchsize to 2500\n",
      "[AGT] [INFO    ] [21:47:51] Batch 1. Loss (accuracy) 0.820 <= 0.900 <= 0.968\n",
      "[AGT] [INFO    ] [21:47:51] Batch 2. Loss (accuracy) 0.856 <= 0.932 <= 0.984\n",
      "[AGT] [INFO    ] [21:47:52] Final Eval. Loss (accuracy): 0.852 <= 0.932 <= 0.992\n",
      "[AGT] [INFO    ] [21:47:52] =================== Finished Privacy Certified Training ===================\n",
      "[AGT] [INFO    ] [21:47:52] =================== Starting Privacy Certified Training ===================\n",
      "[AGT] [DEBUG   ] [21:47:52] \tOptimizer params: n_epochs=4, learning_rate=2.0, l1_reg=0.0, l2_reg=0.0\n",
      "[AGT] [DEBUG   ] [21:47:52] \tLearning rate schedule: lr_decay=0.6, lr_min=0.001\n",
      "[AGT] [DEBUG   ] [21:47:52] \tGradient clipping: gamma=1.0, method=clamp\n",
      "[AGT] [DEBUG   ] [21:47:52] \tPrivacy parameter: k_private=1\n",
      "[AGT] [INFO    ] [21:47:52] Starting epoch 1 of 4.\n",
      "[AGT] [DEBUG   ] [21:47:52] Initialising dataloader batchsize to 2500\n",
      "[AGT] [INFO    ] [21:47:52] Batch 1. Loss (accuracy) 0.104 <= 0.104 <= 0.104\n"
     ]
    },
    {
     "name": "stdout",
     "output_type": "stream",
     "text": [
      "Training model 8 with k=1\n",
      "cpu\n"
     ]
    },
    {
     "name": "stderr",
     "output_type": "stream",
     "text": [
      "[AGT] [INFO    ] [21:47:52] Batch 2. Loss (accuracy) 0.800 <= 0.804 <= 0.804\n",
      "[AGT] [INFO    ] [21:47:52] Starting epoch 2 of 4.\n",
      "[AGT] [DEBUG   ] [21:47:52] Initialising dataloader batchsize to 2500\n",
      "[AGT] [INFO    ] [21:47:52] Batch 1. Loss (accuracy) 0.812 <= 0.812 <= 0.812\n",
      "[AGT] [INFO    ] [21:47:52] Batch 2. Loss (accuracy) 0.860 <= 0.864 <= 0.864\n",
      "[AGT] [INFO    ] [21:47:53] Starting epoch 3 of 4.\n",
      "[AGT] [DEBUG   ] [21:47:53] Initialising dataloader batchsize to 2500\n",
      "[AGT] [INFO    ] [21:47:53] Batch 1. Loss (accuracy) 0.872 <= 0.872 <= 0.876\n",
      "[AGT] [INFO    ] [21:47:53] Batch 2. Loss (accuracy) 0.856 <= 0.856 <= 0.856\n",
      "[AGT] [INFO    ] [21:47:53] Starting epoch 4 of 4.\n",
      "[AGT] [DEBUG   ] [21:47:53] Initialising dataloader batchsize to 2500\n",
      "[AGT] [INFO    ] [21:47:53] Batch 1. Loss (accuracy) 0.828 <= 0.828 <= 0.836\n",
      "[AGT] [INFO    ] [21:47:54] Batch 2. Loss (accuracy) 0.880 <= 0.884 <= 0.884\n",
      "[AGT] [INFO    ] [21:47:54] Final Eval. Loss (accuracy): 0.876 <= 0.884 <= 0.896\n",
      "[AGT] [INFO    ] [21:47:54] =================== Finished Privacy Certified Training ===================\n",
      "[AGT] [INFO    ] [21:47:54] =================== Starting Privacy Certified Training ===================\n",
      "[AGT] [DEBUG   ] [21:47:54] \tOptimizer params: n_epochs=4, learning_rate=2.0, l1_reg=0.0, l2_reg=0.0\n",
      "[AGT] [DEBUG   ] [21:47:54] \tLearning rate schedule: lr_decay=0.6, lr_min=0.001\n",
      "[AGT] [DEBUG   ] [21:47:54] \tGradient clipping: gamma=1.0, method=clamp\n",
      "[AGT] [DEBUG   ] [21:47:54] \tPrivacy parameter: k_private=3\n",
      "[AGT] [INFO    ] [21:47:54] Starting epoch 1 of 4.\n",
      "[AGT] [DEBUG   ] [21:47:54] Initialising dataloader batchsize to 2500\n",
      "[AGT] [INFO    ] [21:47:54] Batch 1. Loss (accuracy) 0.104 <= 0.104 <= 0.104\n"
     ]
    },
    {
     "name": "stdout",
     "output_type": "stream",
     "text": [
      "Training model 8 with k=3\n",
      "cpu\n"
     ]
    },
    {
     "name": "stderr",
     "output_type": "stream",
     "text": [
      "[AGT] [INFO    ] [21:47:54] Batch 2. Loss (accuracy) 0.800 <= 0.804 <= 0.804\n",
      "[AGT] [INFO    ] [21:47:54] Starting epoch 2 of 4.\n",
      "[AGT] [DEBUG   ] [21:47:54] Initialising dataloader batchsize to 2500\n",
      "[AGT] [INFO    ] [21:47:54] Batch 1. Loss (accuracy) 0.812 <= 0.812 <= 0.812\n",
      "[AGT] [INFO    ] [21:47:55] Batch 2. Loss (accuracy) 0.856 <= 0.864 <= 0.872\n",
      "[AGT] [INFO    ] [21:47:55] Starting epoch 3 of 4.\n",
      "[AGT] [DEBUG   ] [21:47:55] Initialising dataloader batchsize to 2500\n",
      "[AGT] [INFO    ] [21:47:55] Batch 1. Loss (accuracy) 0.872 <= 0.872 <= 0.880\n",
      "[AGT] [INFO    ] [21:47:55] Batch 2. Loss (accuracy) 0.840 <= 0.856 <= 0.860\n",
      "[AGT] [INFO    ] [21:47:55] Starting epoch 4 of 4.\n",
      "[AGT] [DEBUG   ] [21:47:55] Initialising dataloader batchsize to 2500\n",
      "[AGT] [INFO    ] [21:47:55] Batch 1. Loss (accuracy) 0.808 <= 0.828 <= 0.856\n",
      "[AGT] [INFO    ] [21:47:56] Batch 2. Loss (accuracy) 0.856 <= 0.884 <= 0.908\n",
      "[AGT] [INFO    ] [21:47:56] Final Eval. Loss (accuracy): 0.868 <= 0.884 <= 0.916\n",
      "[AGT] [INFO    ] [21:47:56] =================== Finished Privacy Certified Training ===================\n",
      "[AGT] [INFO    ] [21:47:56] =================== Starting Privacy Certified Training ===================\n",
      "[AGT] [DEBUG   ] [21:47:56] \tOptimizer params: n_epochs=4, learning_rate=2.0, l1_reg=0.0, l2_reg=0.0\n",
      "[AGT] [DEBUG   ] [21:47:56] \tLearning rate schedule: lr_decay=0.6, lr_min=0.001\n",
      "[AGT] [DEBUG   ] [21:47:56] \tGradient clipping: gamma=1.0, method=clamp\n",
      "[AGT] [DEBUG   ] [21:47:56] \tPrivacy parameter: k_private=5\n",
      "[AGT] [INFO    ] [21:47:56] Starting epoch 1 of 4.\n",
      "[AGT] [DEBUG   ] [21:47:56] Initialising dataloader batchsize to 2500\n",
      "[AGT] [INFO    ] [21:47:56] Batch 1. Loss (accuracy) 0.104 <= 0.104 <= 0.104\n"
     ]
    },
    {
     "name": "stdout",
     "output_type": "stream",
     "text": [
      "Training model 8 with k=5\n",
      "cpu\n"
     ]
    },
    {
     "name": "stderr",
     "output_type": "stream",
     "text": [
      "[AGT] [INFO    ] [21:47:56] Batch 2. Loss (accuracy) 0.796 <= 0.804 <= 0.804\n",
      "[AGT] [INFO    ] [21:47:57] Starting epoch 2 of 4.\n",
      "[AGT] [DEBUG   ] [21:47:57] Initialising dataloader batchsize to 2500\n",
      "[AGT] [INFO    ] [21:47:57] Batch 1. Loss (accuracy) 0.808 <= 0.812 <= 0.816\n",
      "[AGT] [INFO    ] [21:47:57] Batch 2. Loss (accuracy) 0.848 <= 0.864 <= 0.876\n",
      "[AGT] [INFO    ] [21:47:57] Starting epoch 3 of 4.\n",
      "[AGT] [DEBUG   ] [21:47:57] Initialising dataloader batchsize to 2500\n",
      "[AGT] [INFO    ] [21:47:57] Batch 1. Loss (accuracy) 0.864 <= 0.872 <= 0.888\n",
      "[AGT] [INFO    ] [21:47:57] Batch 2. Loss (accuracy) 0.808 <= 0.856 <= 0.872\n",
      "[AGT] [INFO    ] [21:47:58] Starting epoch 4 of 4.\n",
      "[AGT] [DEBUG   ] [21:47:58] Initialising dataloader batchsize to 2500\n",
      "[AGT] [INFO    ] [21:47:58] Batch 1. Loss (accuracy) 0.800 <= 0.828 <= 0.876\n",
      "[AGT] [INFO    ] [21:47:58] Batch 2. Loss (accuracy) 0.836 <= 0.884 <= 0.920\n",
      "[AGT] [INFO    ] [21:47:58] Final Eval. Loss (accuracy): 0.832 <= 0.884 <= 0.932\n",
      "[AGT] [INFO    ] [21:47:58] =================== Finished Privacy Certified Training ===================\n",
      "[AGT] [INFO    ] [21:47:58] =================== Starting Privacy Certified Training ===================\n",
      "[AGT] [DEBUG   ] [21:47:58] \tOptimizer params: n_epochs=4, learning_rate=2.0, l1_reg=0.0, l2_reg=0.0\n",
      "[AGT] [DEBUG   ] [21:47:58] \tLearning rate schedule: lr_decay=0.6, lr_min=0.001\n",
      "[AGT] [DEBUG   ] [21:47:58] \tGradient clipping: gamma=1.0, method=clamp\n",
      "[AGT] [DEBUG   ] [21:47:58] \tPrivacy parameter: k_private=7\n",
      "[AGT] [INFO    ] [21:47:58] Starting epoch 1 of 4.\n",
      "[AGT] [DEBUG   ] [21:47:58] Initialising dataloader batchsize to 2500\n",
      "[AGT] [INFO    ] [21:47:58] Batch 1. Loss (accuracy) 0.104 <= 0.104 <= 0.104\n"
     ]
    },
    {
     "name": "stdout",
     "output_type": "stream",
     "text": [
      "Training model 8 with k=7\n",
      "cpu\n"
     ]
    },
    {
     "name": "stderr",
     "output_type": "stream",
     "text": [
      "[AGT] [INFO    ] [21:47:58] Batch 2. Loss (accuracy) 0.792 <= 0.804 <= 0.804\n",
      "[AGT] [INFO    ] [21:47:59] Starting epoch 2 of 4.\n",
      "[AGT] [DEBUG   ] [21:47:59] Initialising dataloader batchsize to 2500\n",
      "[AGT] [INFO    ] [21:47:59] Batch 1. Loss (accuracy) 0.804 <= 0.812 <= 0.828\n",
      "[AGT] [INFO    ] [21:47:59] Batch 2. Loss (accuracy) 0.848 <= 0.864 <= 0.880\n",
      "[AGT] [INFO    ] [21:47:59] Starting epoch 3 of 4.\n",
      "[AGT] [DEBUG   ] [21:47:59] Initialising dataloader batchsize to 2500\n",
      "[AGT] [INFO    ] [21:47:59] Batch 1. Loss (accuracy) 0.860 <= 0.872 <= 0.900\n",
      "[AGT] [INFO    ] [21:48:00] Batch 2. Loss (accuracy) 0.792 <= 0.856 <= 0.892\n",
      "[AGT] [INFO    ] [21:48:00] Starting epoch 4 of 4.\n",
      "[AGT] [DEBUG   ] [21:48:00] Initialising dataloader batchsize to 2500\n",
      "[AGT] [INFO    ] [21:48:00] Batch 1. Loss (accuracy) 0.796 <= 0.828 <= 0.892\n",
      "[AGT] [INFO    ] [21:48:00] Batch 2. Loss (accuracy) 0.780 <= 0.884 <= 0.944\n",
      "[AGT] [INFO    ] [21:48:00] Final Eval. Loss (accuracy): 0.756 <= 0.884 <= 0.964\n",
      "[AGT] [INFO    ] [21:48:00] =================== Finished Privacy Certified Training ===================\n",
      "[AGT] [INFO    ] [21:48:00] =================== Starting Privacy Certified Training ===================\n",
      "[AGT] [DEBUG   ] [21:48:00] \tOptimizer params: n_epochs=4, learning_rate=2.0, l1_reg=0.0, l2_reg=0.0\n",
      "[AGT] [DEBUG   ] [21:48:00] \tLearning rate schedule: lr_decay=0.6, lr_min=0.001\n",
      "[AGT] [DEBUG   ] [21:48:00] \tGradient clipping: gamma=1.0, method=clamp\n",
      "[AGT] [DEBUG   ] [21:48:00] \tPrivacy parameter: k_private=8\n",
      "[AGT] [INFO    ] [21:48:00] Starting epoch 1 of 4.\n",
      "[AGT] [DEBUG   ] [21:48:00] Initialising dataloader batchsize to 2500\n",
      "[AGT] [INFO    ] [21:48:00] Batch 1. Loss (accuracy) 0.104 <= 0.104 <= 0.104\n"
     ]
    },
    {
     "name": "stdout",
     "output_type": "stream",
     "text": [
      "Training model 8 with k=8\n",
      "cpu\n"
     ]
    },
    {
     "name": "stderr",
     "output_type": "stream",
     "text": [
      "[AGT] [INFO    ] [21:48:01] Batch 2. Loss (accuracy) 0.792 <= 0.804 <= 0.808\n",
      "[AGT] [INFO    ] [21:48:01] Starting epoch 2 of 4.\n",
      "[AGT] [DEBUG   ] [21:48:01] Initialising dataloader batchsize to 2500\n",
      "[AGT] [INFO    ] [21:48:01] Batch 1. Loss (accuracy) 0.800 <= 0.812 <= 0.828\n",
      "[AGT] [INFO    ] [21:48:01] Batch 2. Loss (accuracy) 0.840 <= 0.864 <= 0.884\n",
      "[AGT] [INFO    ] [21:48:01] Starting epoch 3 of 4.\n",
      "[AGT] [DEBUG   ] [21:48:02] Initialising dataloader batchsize to 2500\n",
      "[AGT] [INFO    ] [21:48:02] Batch 1. Loss (accuracy) 0.856 <= 0.872 <= 0.904\n",
      "[AGT] [INFO    ] [21:48:02] Batch 2. Loss (accuracy) 0.784 <= 0.856 <= 0.900\n",
      "[AGT] [INFO    ] [21:48:02] Starting epoch 4 of 4.\n",
      "[AGT] [DEBUG   ] [21:48:02] Initialising dataloader batchsize to 2500\n",
      "[AGT] [INFO    ] [21:48:02] Batch 1. Loss (accuracy) 0.788 <= 0.828 <= 0.900\n",
      "[AGT] [INFO    ] [21:48:02] Batch 2. Loss (accuracy) 0.764 <= 0.884 <= 0.948\n",
      "[AGT] [INFO    ] [21:48:03] Final Eval. Loss (accuracy): 0.724 <= 0.884 <= 0.964\n",
      "[AGT] [INFO    ] [21:48:03] =================== Finished Privacy Certified Training ===================\n",
      "[AGT] [INFO    ] [21:48:03] =================== Starting Privacy Certified Training ===================\n",
      "[AGT] [DEBUG   ] [21:48:03] \tOptimizer params: n_epochs=4, learning_rate=2.0, l1_reg=0.0, l2_reg=0.0\n",
      "[AGT] [DEBUG   ] [21:48:03] \tLearning rate schedule: lr_decay=0.6, lr_min=0.001\n",
      "[AGT] [DEBUG   ] [21:48:03] \tGradient clipping: gamma=1.0, method=clamp\n",
      "[AGT] [DEBUG   ] [21:48:03] \tPrivacy parameter: k_private=1\n",
      "[AGT] [INFO    ] [21:48:03] Starting epoch 1 of 4.\n",
      "[AGT] [DEBUG   ] [21:48:03] Initialising dataloader batchsize to 2500\n",
      "[AGT] [INFO    ] [21:48:03] Batch 1. Loss (accuracy) 0.748 <= 0.748 <= 0.748\n"
     ]
    },
    {
     "name": "stdout",
     "output_type": "stream",
     "text": [
      "Training model 9 with k=1\n",
      "cpu\n"
     ]
    },
    {
     "name": "stderr",
     "output_type": "stream",
     "text": [
      "[AGT] [INFO    ] [21:48:03] Batch 2. Loss (accuracy) 0.828 <= 0.832 <= 0.832\n",
      "[AGT] [INFO    ] [21:48:03] Starting epoch 2 of 4.\n",
      "[AGT] [DEBUG   ] [21:48:03] Initialising dataloader batchsize to 2500\n",
      "[AGT] [INFO    ] [21:48:03] Batch 1. Loss (accuracy) 0.864 <= 0.868 <= 0.868\n",
      "[AGT] [INFO    ] [21:48:04] Batch 2. Loss (accuracy) 0.888 <= 0.888 <= 0.888\n",
      "[AGT] [INFO    ] [21:48:04] Starting epoch 3 of 4.\n",
      "[AGT] [DEBUG   ] [21:48:04] Initialising dataloader batchsize to 2500\n",
      "[AGT] [INFO    ] [21:48:04] Batch 1. Loss (accuracy) 0.884 <= 0.892 <= 0.892\n",
      "[AGT] [INFO    ] [21:48:04] Batch 2. Loss (accuracy) 0.872 <= 0.876 <= 0.880\n",
      "[AGT] [INFO    ] [21:48:04] Starting epoch 4 of 4.\n",
      "[AGT] [DEBUG   ] [21:48:05] Initialising dataloader batchsize to 2500\n",
      "[AGT] [INFO    ] [21:48:05] Batch 1. Loss (accuracy) 0.852 <= 0.864 <= 0.880\n",
      "[AGT] [INFO    ] [21:48:05] Batch 2. Loss (accuracy) 0.900 <= 0.904 <= 0.912\n",
      "[AGT] [INFO    ] [21:48:05] Final Eval. Loss (accuracy): 0.892 <= 0.912 <= 0.916\n",
      "[AGT] [INFO    ] [21:48:05] =================== Finished Privacy Certified Training ===================\n",
      "[AGT] [INFO    ] [21:48:05] =================== Starting Privacy Certified Training ===================\n",
      "[AGT] [DEBUG   ] [21:48:05] \tOptimizer params: n_epochs=4, learning_rate=2.0, l1_reg=0.0, l2_reg=0.0\n",
      "[AGT] [DEBUG   ] [21:48:05] \tLearning rate schedule: lr_decay=0.6, lr_min=0.001\n",
      "[AGT] [DEBUG   ] [21:48:05] \tGradient clipping: gamma=1.0, method=clamp\n",
      "[AGT] [DEBUG   ] [21:48:05] \tPrivacy parameter: k_private=3\n",
      "[AGT] [INFO    ] [21:48:05] Starting epoch 1 of 4.\n",
      "[AGT] [DEBUG   ] [21:48:05] Initialising dataloader batchsize to 2500\n",
      "[AGT] [INFO    ] [21:48:05] Batch 1. Loss (accuracy) 0.748 <= 0.748 <= 0.748\n"
     ]
    },
    {
     "name": "stdout",
     "output_type": "stream",
     "text": [
      "Training model 9 with k=3\n",
      "cpu\n"
     ]
    },
    {
     "name": "stderr",
     "output_type": "stream",
     "text": [
      "[AGT] [INFO    ] [21:48:05] Batch 2. Loss (accuracy) 0.828 <= 0.832 <= 0.832\n",
      "[AGT] [INFO    ] [21:48:06] Starting epoch 2 of 4.\n",
      "[AGT] [DEBUG   ] [21:48:06] Initialising dataloader batchsize to 2500\n",
      "[AGT] [INFO    ] [21:48:06] Batch 1. Loss (accuracy) 0.856 <= 0.868 <= 0.872\n",
      "[AGT] [INFO    ] [21:48:06] Batch 2. Loss (accuracy) 0.880 <= 0.888 <= 0.900\n",
      "[AGT] [INFO    ] [21:48:06] Starting epoch 3 of 4.\n",
      "[AGT] [DEBUG   ] [21:48:06] Initialising dataloader batchsize to 2500\n",
      "[AGT] [INFO    ] [21:48:06] Batch 1. Loss (accuracy) 0.884 <= 0.892 <= 0.904\n",
      "[AGT] [INFO    ] [21:48:06] Batch 2. Loss (accuracy) 0.864 <= 0.876 <= 0.892\n",
      "[AGT] [INFO    ] [21:48:07] Starting epoch 4 of 4.\n",
      "[AGT] [DEBUG   ] [21:48:07] Initialising dataloader batchsize to 2500\n",
      "[AGT] [INFO    ] [21:48:07] Batch 1. Loss (accuracy) 0.832 <= 0.864 <= 0.904\n",
      "[AGT] [INFO    ] [21:48:07] Batch 2. Loss (accuracy) 0.888 <= 0.904 <= 0.932\n",
      "[AGT] [INFO    ] [21:48:07] Final Eval. Loss (accuracy): 0.880 <= 0.912 <= 0.940\n",
      "[AGT] [INFO    ] [21:48:07] =================== Finished Privacy Certified Training ===================\n",
      "[AGT] [INFO    ] [21:48:07] =================== Starting Privacy Certified Training ===================\n",
      "[AGT] [DEBUG   ] [21:48:07] \tOptimizer params: n_epochs=4, learning_rate=2.0, l1_reg=0.0, l2_reg=0.0\n",
      "[AGT] [DEBUG   ] [21:48:07] \tLearning rate schedule: lr_decay=0.6, lr_min=0.001\n",
      "[AGT] [DEBUG   ] [21:48:07] \tGradient clipping: gamma=1.0, method=clamp\n",
      "[AGT] [DEBUG   ] [21:48:07] \tPrivacy parameter: k_private=5\n",
      "[AGT] [INFO    ] [21:48:07] Starting epoch 1 of 4.\n",
      "[AGT] [DEBUG   ] [21:48:07] Initialising dataloader batchsize to 2500\n",
      "[AGT] [INFO    ] [21:48:07] Batch 1. Loss (accuracy) 0.748 <= 0.748 <= 0.748\n"
     ]
    },
    {
     "name": "stdout",
     "output_type": "stream",
     "text": [
      "Training model 9 with k=5\n",
      "cpu\n"
     ]
    },
    {
     "name": "stderr",
     "output_type": "stream",
     "text": [
      "[AGT] [INFO    ] [21:48:08] Batch 2. Loss (accuracy) 0.820 <= 0.832 <= 0.832\n",
      "[AGT] [INFO    ] [21:48:08] Starting epoch 2 of 4.\n",
      "[AGT] [DEBUG   ] [21:48:08] Initialising dataloader batchsize to 2500\n",
      "[AGT] [INFO    ] [21:48:08] Batch 1. Loss (accuracy) 0.852 <= 0.868 <= 0.876\n",
      "[AGT] [INFO    ] [21:48:08] Batch 2. Loss (accuracy) 0.872 <= 0.888 <= 0.908\n",
      "[AGT] [INFO    ] [21:48:08] Starting epoch 3 of 4.\n",
      "[AGT] [DEBUG   ] [21:48:08] Initialising dataloader batchsize to 2500\n",
      "[AGT] [INFO    ] [21:48:08] Batch 1. Loss (accuracy) 0.880 <= 0.892 <= 0.920\n",
      "[AGT] [INFO    ] [21:48:09] Batch 2. Loss (accuracy) 0.848 <= 0.876 <= 0.908\n",
      "[AGT] [INFO    ] [21:48:09] Starting epoch 4 of 4.\n",
      "[AGT] [DEBUG   ] [21:48:09] Initialising dataloader batchsize to 2500\n",
      "[AGT] [INFO    ] [21:48:09] Batch 1. Loss (accuracy) 0.820 <= 0.864 <= 0.924\n",
      "[AGT] [INFO    ] [21:48:09] Batch 2. Loss (accuracy) 0.864 <= 0.904 <= 0.956\n",
      "[AGT] [INFO    ] [21:48:09] Final Eval. Loss (accuracy): 0.872 <= 0.912 <= 0.960\n",
      "[AGT] [INFO    ] [21:48:09] =================== Finished Privacy Certified Training ===================\n",
      "[AGT] [INFO    ] [21:48:09] =================== Starting Privacy Certified Training ===================\n",
      "[AGT] [DEBUG   ] [21:48:09] \tOptimizer params: n_epochs=4, learning_rate=2.0, l1_reg=0.0, l2_reg=0.0\n",
      "[AGT] [DEBUG   ] [21:48:09] \tLearning rate schedule: lr_decay=0.6, lr_min=0.001\n",
      "[AGT] [DEBUG   ] [21:48:09] \tGradient clipping: gamma=1.0, method=clamp\n",
      "[AGT] [DEBUG   ] [21:48:09] \tPrivacy parameter: k_private=7\n",
      "[AGT] [INFO    ] [21:48:09] Starting epoch 1 of 4.\n",
      "[AGT] [DEBUG   ] [21:48:09] Initialising dataloader batchsize to 2500\n",
      "[AGT] [INFO    ] [21:48:09] Batch 1. Loss (accuracy) 0.748 <= 0.748 <= 0.748\n"
     ]
    },
    {
     "name": "stdout",
     "output_type": "stream",
     "text": [
      "Training model 9 with k=7\n",
      "cpu\n"
     ]
    },
    {
     "name": "stderr",
     "output_type": "stream",
     "text": [
      "[AGT] [INFO    ] [21:48:10] Batch 2. Loss (accuracy) 0.820 <= 0.832 <= 0.832\n",
      "[AGT] [INFO    ] [21:48:10] Starting epoch 2 of 4.\n",
      "[AGT] [DEBUG   ] [21:48:10] Initialising dataloader batchsize to 2500\n",
      "[AGT] [INFO    ] [21:48:10] Batch 1. Loss (accuracy) 0.848 <= 0.868 <= 0.880\n",
      "[AGT] [INFO    ] [21:48:10] Batch 2. Loss (accuracy) 0.868 <= 0.888 <= 0.912\n",
      "[AGT] [INFO    ] [21:48:10] Starting epoch 3 of 4.\n",
      "[AGT] [DEBUG   ] [21:48:10] Initialising dataloader batchsize to 2500\n",
      "[AGT] [INFO    ] [21:48:10] Batch 1. Loss (accuracy) 0.880 <= 0.892 <= 0.928\n",
      "[AGT] [INFO    ] [21:48:11] Batch 2. Loss (accuracy) 0.836 <= 0.876 <= 0.920\n",
      "[AGT] [INFO    ] [21:48:11] Starting epoch 4 of 4.\n",
      "[AGT] [DEBUG   ] [21:48:11] Initialising dataloader batchsize to 2500\n",
      "[AGT] [INFO    ] [21:48:11] Batch 1. Loss (accuracy) 0.820 <= 0.864 <= 0.932\n",
      "[AGT] [INFO    ] [21:48:12] Batch 2. Loss (accuracy) 0.848 <= 0.904 <= 0.976\n",
      "[AGT] [INFO    ] [21:48:12] Final Eval. Loss (accuracy): 0.860 <= 0.912 <= 0.980\n",
      "[AGT] [INFO    ] [21:48:12] =================== Finished Privacy Certified Training ===================\n",
      "[AGT] [INFO    ] [21:48:12] =================== Starting Privacy Certified Training ===================\n",
      "[AGT] [DEBUG   ] [21:48:12] \tOptimizer params: n_epochs=4, learning_rate=2.0, l1_reg=0.0, l2_reg=0.0\n",
      "[AGT] [DEBUG   ] [21:48:12] \tLearning rate schedule: lr_decay=0.6, lr_min=0.001\n",
      "[AGT] [DEBUG   ] [21:48:12] \tGradient clipping: gamma=1.0, method=clamp\n",
      "[AGT] [DEBUG   ] [21:48:12] \tPrivacy parameter: k_private=8\n",
      "[AGT] [INFO    ] [21:48:12] Starting epoch 1 of 4.\n",
      "[AGT] [DEBUG   ] [21:48:12] Initialising dataloader batchsize to 2500\n",
      "[AGT] [INFO    ] [21:48:12] Batch 1. Loss (accuracy) 0.748 <= 0.748 <= 0.748\n"
     ]
    },
    {
     "name": "stdout",
     "output_type": "stream",
     "text": [
      "Training model 9 with k=8\n",
      "cpu\n"
     ]
    },
    {
     "name": "stderr",
     "output_type": "stream",
     "text": [
      "[AGT] [INFO    ] [21:48:12] Batch 2. Loss (accuracy) 0.820 <= 0.832 <= 0.836\n",
      "[AGT] [INFO    ] [21:48:13] Starting epoch 2 of 4.\n",
      "[AGT] [DEBUG   ] [21:48:13] Initialising dataloader batchsize to 2500\n",
      "[AGT] [INFO    ] [21:48:13] Batch 1. Loss (accuracy) 0.848 <= 0.868 <= 0.880\n",
      "[AGT] [INFO    ] [21:48:13] Batch 2. Loss (accuracy) 0.868 <= 0.888 <= 0.912\n",
      "[AGT] [INFO    ] [21:48:13] Starting epoch 3 of 4.\n",
      "[AGT] [DEBUG   ] [21:48:13] Initialising dataloader batchsize to 2500\n",
      "[AGT] [INFO    ] [21:48:13] Batch 1. Loss (accuracy) 0.880 <= 0.892 <= 0.928\n",
      "[AGT] [INFO    ] [21:48:14] Batch 2. Loss (accuracy) 0.832 <= 0.876 <= 0.932\n",
      "[AGT] [INFO    ] [21:48:14] Starting epoch 4 of 4.\n",
      "[AGT] [DEBUG   ] [21:48:14] Initialising dataloader batchsize to 2500\n",
      "[AGT] [INFO    ] [21:48:14] Batch 1. Loss (accuracy) 0.816 <= 0.864 <= 0.940\n",
      "[AGT] [INFO    ] [21:48:14] Batch 2. Loss (accuracy) 0.840 <= 0.904 <= 0.976\n",
      "[AGT] [INFO    ] [21:48:14] Final Eval. Loss (accuracy): 0.844 <= 0.912 <= 0.984\n",
      "[AGT] [INFO    ] [21:48:14] =================== Finished Privacy Certified Training ===================\n",
      "[AGT] [INFO    ] [21:48:15] =================== Starting Privacy Certified Training ===================\n",
      "[AGT] [DEBUG   ] [21:48:15] \tOptimizer params: n_epochs=4, learning_rate=2.0, l1_reg=0.0, l2_reg=0.0\n",
      "[AGT] [DEBUG   ] [21:48:15] \tLearning rate schedule: lr_decay=0.6, lr_min=0.001\n",
      "[AGT] [DEBUG   ] [21:48:15] \tGradient clipping: gamma=1.0, method=clamp\n",
      "[AGT] [DEBUG   ] [21:48:15] \tPrivacy parameter: k_private=1\n",
      "[AGT] [INFO    ] [21:48:15] Starting epoch 1 of 4.\n",
      "[AGT] [DEBUG   ] [21:48:15] Initialising dataloader batchsize to 2500\n",
      "[AGT] [INFO    ] [21:48:15] Batch 1. Loss (accuracy) 0.764 <= 0.764 <= 0.764\n"
     ]
    },
    {
     "name": "stdout",
     "output_type": "stream",
     "text": [
      "Training model 10 with k=1\n",
      "cpu\n"
     ]
    },
    {
     "name": "stderr",
     "output_type": "stream",
     "text": [
      "[AGT] [INFO    ] [21:48:15] Batch 2. Loss (accuracy) 0.796 <= 0.796 <= 0.796\n",
      "[AGT] [INFO    ] [21:48:15] Starting epoch 2 of 4.\n",
      "[AGT] [DEBUG   ] [21:48:15] Initialising dataloader batchsize to 2500\n",
      "[AGT] [INFO    ] [21:48:15] Batch 1. Loss (accuracy) 0.804 <= 0.804 <= 0.804\n",
      "[AGT] [INFO    ] [21:48:15] Batch 2. Loss (accuracy) 0.852 <= 0.856 <= 0.872\n",
      "[AGT] [INFO    ] [21:48:16] Starting epoch 3 of 4.\n",
      "[AGT] [DEBUG   ] [21:48:16] Initialising dataloader batchsize to 2500\n",
      "[AGT] [INFO    ] [21:48:16] Batch 1. Loss (accuracy) 0.864 <= 0.868 <= 0.868\n",
      "[AGT] [INFO    ] [21:48:16] Batch 2. Loss (accuracy) 0.832 <= 0.852 <= 0.864\n",
      "[AGT] [INFO    ] [21:48:16] Starting epoch 4 of 4.\n",
      "[AGT] [DEBUG   ] [21:48:16] Initialising dataloader batchsize to 2500\n",
      "[AGT] [INFO    ] [21:48:16] Batch 1. Loss (accuracy) 0.828 <= 0.828 <= 0.844\n",
      "[AGT] [INFO    ] [21:48:17] Batch 2. Loss (accuracy) 0.880 <= 0.880 <= 0.900\n",
      "[AGT] [INFO    ] [21:48:17] Final Eval. Loss (accuracy): 0.872 <= 0.892 <= 0.900\n",
      "[AGT] [INFO    ] [21:48:17] =================== Finished Privacy Certified Training ===================\n",
      "[AGT] [INFO    ] [21:48:17] =================== Starting Privacy Certified Training ===================\n",
      "[AGT] [DEBUG   ] [21:48:17] \tOptimizer params: n_epochs=4, learning_rate=2.0, l1_reg=0.0, l2_reg=0.0\n",
      "[AGT] [DEBUG   ] [21:48:17] \tLearning rate schedule: lr_decay=0.6, lr_min=0.001\n",
      "[AGT] [DEBUG   ] [21:48:17] \tGradient clipping: gamma=1.0, method=clamp\n",
      "[AGT] [DEBUG   ] [21:48:17] \tPrivacy parameter: k_private=3\n",
      "[AGT] [INFO    ] [21:48:17] Starting epoch 1 of 4.\n",
      "[AGT] [DEBUG   ] [21:48:17] Initialising dataloader batchsize to 2500\n",
      "[AGT] [INFO    ] [21:48:17] Batch 1. Loss (accuracy) 0.764 <= 0.764 <= 0.764\n"
     ]
    },
    {
     "name": "stdout",
     "output_type": "stream",
     "text": [
      "Training model 10 with k=3\n",
      "cpu\n"
     ]
    },
    {
     "name": "stderr",
     "output_type": "stream",
     "text": [
      "[AGT] [INFO    ] [21:48:17] Batch 2. Loss (accuracy) 0.792 <= 0.796 <= 0.800\n",
      "[AGT] [INFO    ] [21:48:17] Starting epoch 2 of 4.\n",
      "[AGT] [DEBUG   ] [21:48:17] Initialising dataloader batchsize to 2500\n",
      "[AGT] [INFO    ] [21:48:17] Batch 1. Loss (accuracy) 0.800 <= 0.804 <= 0.808\n",
      "[AGT] [INFO    ] [21:48:18] Batch 2. Loss (accuracy) 0.844 <= 0.856 <= 0.872\n",
      "[AGT] [INFO    ] [21:48:18] Starting epoch 3 of 4.\n",
      "[AGT] [DEBUG   ] [21:48:18] Initialising dataloader batchsize to 2500\n",
      "[AGT] [INFO    ] [21:48:18] Batch 1. Loss (accuracy) 0.860 <= 0.868 <= 0.888\n",
      "[AGT] [INFO    ] [21:48:18] Batch 2. Loss (accuracy) 0.828 <= 0.852 <= 0.872\n",
      "[AGT] [INFO    ] [21:48:18] Starting epoch 4 of 4.\n",
      "[AGT] [DEBUG   ] [21:48:19] Initialising dataloader batchsize to 2500\n",
      "[AGT] [INFO    ] [21:48:19] Batch 1. Loss (accuracy) 0.812 <= 0.828 <= 0.852\n",
      "[AGT] [INFO    ] [21:48:19] Batch 2. Loss (accuracy) 0.856 <= 0.880 <= 0.916\n",
      "[AGT] [INFO    ] [21:48:19] Final Eval. Loss (accuracy): 0.860 <= 0.892 <= 0.920\n",
      "[AGT] [INFO    ] [21:48:19] =================== Finished Privacy Certified Training ===================\n",
      "[AGT] [INFO    ] [21:48:19] =================== Starting Privacy Certified Training ===================\n",
      "[AGT] [DEBUG   ] [21:48:19] \tOptimizer params: n_epochs=4, learning_rate=2.0, l1_reg=0.0, l2_reg=0.0\n",
      "[AGT] [DEBUG   ] [21:48:19] \tLearning rate schedule: lr_decay=0.6, lr_min=0.001\n",
      "[AGT] [DEBUG   ] [21:48:19] \tGradient clipping: gamma=1.0, method=clamp\n",
      "[AGT] [DEBUG   ] [21:48:19] \tPrivacy parameter: k_private=5\n",
      "[AGT] [INFO    ] [21:48:19] Starting epoch 1 of 4.\n",
      "[AGT] [DEBUG   ] [21:48:19] Initialising dataloader batchsize to 2500\n",
      "[AGT] [INFO    ] [21:48:19] Batch 1. Loss (accuracy) 0.764 <= 0.764 <= 0.764\n"
     ]
    },
    {
     "name": "stdout",
     "output_type": "stream",
     "text": [
      "Training model 10 with k=5\n",
      "cpu\n"
     ]
    },
    {
     "name": "stderr",
     "output_type": "stream",
     "text": [
      "[AGT] [INFO    ] [21:48:20] Batch 2. Loss (accuracy) 0.788 <= 0.796 <= 0.800\n",
      "[AGT] [INFO    ] [21:48:20] Starting epoch 2 of 4.\n",
      "[AGT] [DEBUG   ] [21:48:20] Initialising dataloader batchsize to 2500\n",
      "[AGT] [INFO    ] [21:48:20] Batch 1. Loss (accuracy) 0.796 <= 0.804 <= 0.808\n",
      "[AGT] [INFO    ] [21:48:20] Batch 2. Loss (accuracy) 0.836 <= 0.856 <= 0.880\n",
      "[AGT] [INFO    ] [21:48:20] Starting epoch 3 of 4.\n",
      "[AGT] [DEBUG   ] [21:48:20] Initialising dataloader batchsize to 2500\n",
      "[AGT] [INFO    ] [21:48:20] Batch 1. Loss (accuracy) 0.852 <= 0.868 <= 0.896\n",
      "[AGT] [INFO    ] [21:48:21] Batch 2. Loss (accuracy) 0.812 <= 0.852 <= 0.880\n",
      "[AGT] [INFO    ] [21:48:21] Starting epoch 4 of 4.\n",
      "[AGT] [DEBUG   ] [21:48:21] Initialising dataloader batchsize to 2500\n",
      "[AGT] [INFO    ] [21:48:21] Batch 1. Loss (accuracy) 0.792 <= 0.828 <= 0.888\n",
      "[AGT] [INFO    ] [21:48:21] Batch 2. Loss (accuracy) 0.832 <= 0.880 <= 0.936\n",
      "[AGT] [INFO    ] [21:48:21] Final Eval. Loss (accuracy): 0.836 <= 0.892 <= 0.948\n",
      "[AGT] [INFO    ] [21:48:21] =================== Finished Privacy Certified Training ===================\n",
      "[AGT] [INFO    ] [21:48:21] =================== Starting Privacy Certified Training ===================\n",
      "[AGT] [DEBUG   ] [21:48:21] \tOptimizer params: n_epochs=4, learning_rate=2.0, l1_reg=0.0, l2_reg=0.0\n",
      "[AGT] [DEBUG   ] [21:48:21] \tLearning rate schedule: lr_decay=0.6, lr_min=0.001\n",
      "[AGT] [DEBUG   ] [21:48:21] \tGradient clipping: gamma=1.0, method=clamp\n",
      "[AGT] [DEBUG   ] [21:48:21] \tPrivacy parameter: k_private=7\n",
      "[AGT] [INFO    ] [21:48:21] Starting epoch 1 of 4.\n",
      "[AGT] [DEBUG   ] [21:48:22] Initialising dataloader batchsize to 2500\n",
      "[AGT] [INFO    ] [21:48:22] Batch 1. Loss (accuracy) 0.764 <= 0.764 <= 0.764\n"
     ]
    },
    {
     "name": "stdout",
     "output_type": "stream",
     "text": [
      "Training model 10 with k=7\n",
      "cpu\n"
     ]
    },
    {
     "name": "stderr",
     "output_type": "stream",
     "text": [
      "[AGT] [INFO    ] [21:48:22] Batch 2. Loss (accuracy) 0.788 <= 0.796 <= 0.800\n",
      "[AGT] [INFO    ] [21:48:22] Starting epoch 2 of 4.\n",
      "[AGT] [DEBUG   ] [21:48:22] Initialising dataloader batchsize to 2500\n",
      "[AGT] [INFO    ] [21:48:22] Batch 1. Loss (accuracy) 0.796 <= 0.804 <= 0.816\n",
      "[AGT] [INFO    ] [21:48:22] Batch 2. Loss (accuracy) 0.836 <= 0.856 <= 0.888\n",
      "[AGT] [INFO    ] [21:48:22] Starting epoch 3 of 4.\n",
      "[AGT] [DEBUG   ] [21:48:23] Initialising dataloader batchsize to 2500\n",
      "[AGT] [INFO    ] [21:48:23] Batch 1. Loss (accuracy) 0.840 <= 0.868 <= 0.900\n",
      "[AGT] [INFO    ] [21:48:23] Batch 2. Loss (accuracy) 0.796 <= 0.852 <= 0.908\n",
      "[AGT] [INFO    ] [21:48:23] Starting epoch 4 of 4.\n",
      "[AGT] [DEBUG   ] [21:48:23] Initialising dataloader batchsize to 2500\n",
      "[AGT] [INFO    ] [21:48:23] Batch 1. Loss (accuracy) 0.772 <= 0.828 <= 0.908\n",
      "[AGT] [INFO    ] [21:48:23] Batch 2. Loss (accuracy) 0.788 <= 0.880 <= 0.952\n",
      "[AGT] [INFO    ] [21:48:24] Final Eval. Loss (accuracy): 0.804 <= 0.892 <= 0.968\n",
      "[AGT] [INFO    ] [21:48:24] =================== Finished Privacy Certified Training ===================\n",
      "[AGT] [INFO    ] [21:48:24] =================== Starting Privacy Certified Training ===================\n",
      "[AGT] [DEBUG   ] [21:48:24] \tOptimizer params: n_epochs=4, learning_rate=2.0, l1_reg=0.0, l2_reg=0.0\n",
      "[AGT] [DEBUG   ] [21:48:24] \tLearning rate schedule: lr_decay=0.6, lr_min=0.001\n",
      "[AGT] [DEBUG   ] [21:48:24] \tGradient clipping: gamma=1.0, method=clamp\n",
      "[AGT] [DEBUG   ] [21:48:24] \tPrivacy parameter: k_private=8\n",
      "[AGT] [INFO    ] [21:48:24] Starting epoch 1 of 4.\n",
      "[AGT] [DEBUG   ] [21:48:24] Initialising dataloader batchsize to 2500\n",
      "[AGT] [INFO    ] [21:48:24] Batch 1. Loss (accuracy) 0.764 <= 0.764 <= 0.764\n"
     ]
    },
    {
     "name": "stdout",
     "output_type": "stream",
     "text": [
      "Training model 10 with k=8\n",
      "cpu\n"
     ]
    },
    {
     "name": "stderr",
     "output_type": "stream",
     "text": [
      "[AGT] [INFO    ] [21:48:24] Batch 2. Loss (accuracy) 0.784 <= 0.796 <= 0.800\n",
      "[AGT] [INFO    ] [21:48:24] Starting epoch 2 of 4.\n",
      "[AGT] [DEBUG   ] [21:48:24] Initialising dataloader batchsize to 2500\n",
      "[AGT] [INFO    ] [21:48:24] Batch 1. Loss (accuracy) 0.796 <= 0.804 <= 0.816\n",
      "[AGT] [INFO    ] [21:48:25] Batch 2. Loss (accuracy) 0.832 <= 0.856 <= 0.888\n",
      "[AGT] [INFO    ] [21:48:25] Starting epoch 3 of 4.\n",
      "[AGT] [DEBUG   ] [21:48:25] Initialising dataloader batchsize to 2500\n",
      "[AGT] [INFO    ] [21:48:25] Batch 1. Loss (accuracy) 0.840 <= 0.868 <= 0.904\n",
      "[AGT] [INFO    ] [21:48:25] Batch 2. Loss (accuracy) 0.784 <= 0.852 <= 0.916\n",
      "[AGT] [INFO    ] [21:48:25] Starting epoch 4 of 4.\n",
      "[AGT] [DEBUG   ] [21:48:25] Initialising dataloader batchsize to 2500\n",
      "[AGT] [INFO    ] [21:48:25] Batch 1. Loss (accuracy) 0.764 <= 0.828 <= 0.920\n",
      "[AGT] [INFO    ] [21:48:26] Batch 2. Loss (accuracy) 0.768 <= 0.880 <= 0.960\n",
      "[AGT] [INFO    ] [21:48:26] Final Eval. Loss (accuracy): 0.792 <= 0.892 <= 0.976\n",
      "[AGT] [INFO    ] [21:48:26] =================== Finished Privacy Certified Training ===================\n",
      "[AGT] [INFO    ] [21:48:26] =================== Starting Privacy Certified Training ===================\n",
      "[AGT] [DEBUG   ] [21:48:26] \tOptimizer params: n_epochs=4, learning_rate=2.0, l1_reg=0.0, l2_reg=0.0\n",
      "[AGT] [DEBUG   ] [21:48:26] \tLearning rate schedule: lr_decay=0.6, lr_min=0.001\n",
      "[AGT] [DEBUG   ] [21:48:26] \tGradient clipping: gamma=1.0, method=clamp\n",
      "[AGT] [DEBUG   ] [21:48:26] \tPrivacy parameter: k_private=1\n",
      "[AGT] [INFO    ] [21:48:26] Starting epoch 1 of 4.\n",
      "[AGT] [DEBUG   ] [21:48:26] Initialising dataloader batchsize to 2500\n",
      "[AGT] [INFO    ] [21:48:26] Batch 1. Loss (accuracy) 0.912 <= 0.912 <= 0.912\n"
     ]
    },
    {
     "name": "stdout",
     "output_type": "stream",
     "text": [
      "Training model 11 with k=1\n",
      "cpu\n"
     ]
    },
    {
     "name": "stderr",
     "output_type": "stream",
     "text": [
      "[AGT] [INFO    ] [21:48:26] Batch 2. Loss (accuracy) 0.844 <= 0.844 <= 0.844\n",
      "[AGT] [INFO    ] [21:48:27] Starting epoch 2 of 4.\n",
      "[AGT] [DEBUG   ] [21:48:27] Initialising dataloader batchsize to 2500\n",
      "[AGT] [INFO    ] [21:48:27] Batch 1. Loss (accuracy) 0.860 <= 0.868 <= 0.872\n",
      "[AGT] [INFO    ] [21:48:27] Batch 2. Loss (accuracy) 0.900 <= 0.900 <= 0.900\n",
      "[AGT] [INFO    ] [21:48:27] Starting epoch 3 of 4.\n",
      "[AGT] [DEBUG   ] [21:48:27] Initialising dataloader batchsize to 2500\n",
      "[AGT] [INFO    ] [21:48:27] Batch 1. Loss (accuracy) 0.896 <= 0.900 <= 0.908\n",
      "[AGT] [INFO    ] [21:48:27] Batch 2. Loss (accuracy) 0.884 <= 0.884 <= 0.888\n",
      "[AGT] [INFO    ] [21:48:28] Starting epoch 4 of 4.\n",
      "[AGT] [DEBUG   ] [21:48:28] Initialising dataloader batchsize to 2500\n",
      "[AGT] [INFO    ] [21:48:28] Batch 1. Loss (accuracy) 0.872 <= 0.888 <= 0.892\n",
      "[AGT] [INFO    ] [21:48:28] Batch 2. Loss (accuracy) 0.908 <= 0.920 <= 0.932\n",
      "[AGT] [INFO    ] [21:48:28] Final Eval. Loss (accuracy): 0.908 <= 0.916 <= 0.936\n",
      "[AGT] [INFO    ] [21:48:28] =================== Finished Privacy Certified Training ===================\n",
      "[AGT] [INFO    ] [21:48:28] =================== Starting Privacy Certified Training ===================\n",
      "[AGT] [DEBUG   ] [21:48:28] \tOptimizer params: n_epochs=4, learning_rate=2.0, l1_reg=0.0, l2_reg=0.0\n",
      "[AGT] [DEBUG   ] [21:48:28] \tLearning rate schedule: lr_decay=0.6, lr_min=0.001\n",
      "[AGT] [DEBUG   ] [21:48:28] \tGradient clipping: gamma=1.0, method=clamp\n",
      "[AGT] [DEBUG   ] [21:48:28] \tPrivacy parameter: k_private=3\n",
      "[AGT] [INFO    ] [21:48:28] Starting epoch 1 of 4.\n",
      "[AGT] [DEBUG   ] [21:48:28] Initialising dataloader batchsize to 2500\n",
      "[AGT] [INFO    ] [21:48:28] Batch 1. Loss (accuracy) 0.912 <= 0.912 <= 0.912\n"
     ]
    },
    {
     "name": "stdout",
     "output_type": "stream",
     "text": [
      "Training model 11 with k=3\n",
      "cpu\n"
     ]
    },
    {
     "name": "stderr",
     "output_type": "stream",
     "text": [
      "[AGT] [INFO    ] [21:48:29] Batch 2. Loss (accuracy) 0.844 <= 0.844 <= 0.844\n",
      "[AGT] [INFO    ] [21:48:29] Starting epoch 2 of 4.\n",
      "[AGT] [DEBUG   ] [21:48:29] Initialising dataloader batchsize to 2500\n",
      "[AGT] [INFO    ] [21:48:29] Batch 1. Loss (accuracy) 0.852 <= 0.868 <= 0.876\n",
      "[AGT] [INFO    ] [21:48:29] Batch 2. Loss (accuracy) 0.896 <= 0.900 <= 0.908\n",
      "[AGT] [INFO    ] [21:48:29] Starting epoch 3 of 4.\n",
      "[AGT] [DEBUG   ] [21:48:29] Initialising dataloader batchsize to 2500\n",
      "[AGT] [INFO    ] [21:48:29] Batch 1. Loss (accuracy) 0.884 <= 0.900 <= 0.924\n",
      "[AGT] [INFO    ] [21:48:30] Batch 2. Loss (accuracy) 0.868 <= 0.884 <= 0.908\n",
      "[AGT] [INFO    ] [21:48:30] Starting epoch 4 of 4.\n",
      "[AGT] [DEBUG   ] [21:48:30] Initialising dataloader batchsize to 2500\n",
      "[AGT] [INFO    ] [21:48:30] Batch 1. Loss (accuracy) 0.836 <= 0.888 <= 0.924\n",
      "[AGT] [INFO    ] [21:48:30] Batch 2. Loss (accuracy) 0.900 <= 0.920 <= 0.948\n",
      "[AGT] [INFO    ] [21:48:31] Final Eval. Loss (accuracy): 0.880 <= 0.916 <= 0.944\n",
      "[AGT] [INFO    ] [21:48:31] =================== Finished Privacy Certified Training ===================\n",
      "[AGT] [INFO    ] [21:48:31] =================== Starting Privacy Certified Training ===================\n",
      "[AGT] [DEBUG   ] [21:48:31] \tOptimizer params: n_epochs=4, learning_rate=2.0, l1_reg=0.0, l2_reg=0.0\n",
      "[AGT] [DEBUG   ] [21:48:31] \tLearning rate schedule: lr_decay=0.6, lr_min=0.001\n",
      "[AGT] [DEBUG   ] [21:48:31] \tGradient clipping: gamma=1.0, method=clamp\n",
      "[AGT] [DEBUG   ] [21:48:31] \tPrivacy parameter: k_private=5\n",
      "[AGT] [INFO    ] [21:48:31] Starting epoch 1 of 4.\n",
      "[AGT] [DEBUG   ] [21:48:31] Initialising dataloader batchsize to 2500\n",
      "[AGT] [INFO    ] [21:48:31] Batch 1. Loss (accuracy) 0.912 <= 0.912 <= 0.912\n"
     ]
    },
    {
     "name": "stdout",
     "output_type": "stream",
     "text": [
      "Training model 11 with k=5\n",
      "cpu\n"
     ]
    },
    {
     "name": "stderr",
     "output_type": "stream",
     "text": [
      "[AGT] [INFO    ] [21:48:31] Batch 2. Loss (accuracy) 0.840 <= 0.844 <= 0.844\n",
      "[AGT] [INFO    ] [21:48:31] Starting epoch 2 of 4.\n",
      "[AGT] [DEBUG   ] [21:48:31] Initialising dataloader batchsize to 2500\n",
      "[AGT] [INFO    ] [21:48:31] Batch 1. Loss (accuracy) 0.848 <= 0.868 <= 0.884\n",
      "[AGT] [INFO    ] [21:48:32] Batch 2. Loss (accuracy) 0.888 <= 0.900 <= 0.920\n",
      "[AGT] [INFO    ] [21:48:32] Starting epoch 3 of 4.\n",
      "[AGT] [DEBUG   ] [21:48:32] Initialising dataloader batchsize to 2500\n",
      "[AGT] [INFO    ] [21:48:32] Batch 1. Loss (accuracy) 0.880 <= 0.900 <= 0.928\n",
      "[AGT] [INFO    ] [21:48:32] Batch 2. Loss (accuracy) 0.860 <= 0.884 <= 0.928\n",
      "[AGT] [INFO    ] [21:48:32] Starting epoch 4 of 4.\n",
      "[AGT] [DEBUG   ] [21:48:32] Initialising dataloader batchsize to 2500\n",
      "[AGT] [INFO    ] [21:48:32] Batch 1. Loss (accuracy) 0.828 <= 0.888 <= 0.936\n",
      "[AGT] [INFO    ] [21:48:33] Batch 2. Loss (accuracy) 0.876 <= 0.920 <= 0.972\n",
      "[AGT] [INFO    ] [21:48:33] Final Eval. Loss (accuracy): 0.872 <= 0.916 <= 0.980\n",
      "[AGT] [INFO    ] [21:48:33] =================== Finished Privacy Certified Training ===================\n",
      "[AGT] [INFO    ] [21:48:33] =================== Starting Privacy Certified Training ===================\n",
      "[AGT] [DEBUG   ] [21:48:33] \tOptimizer params: n_epochs=4, learning_rate=2.0, l1_reg=0.0, l2_reg=0.0\n",
      "[AGT] [DEBUG   ] [21:48:33] \tLearning rate schedule: lr_decay=0.6, lr_min=0.001\n",
      "[AGT] [DEBUG   ] [21:48:33] \tGradient clipping: gamma=1.0, method=clamp\n",
      "[AGT] [DEBUG   ] [21:48:33] \tPrivacy parameter: k_private=7\n",
      "[AGT] [INFO    ] [21:48:33] Starting epoch 1 of 4.\n",
      "[AGT] [DEBUG   ] [21:48:33] Initialising dataloader batchsize to 2500\n",
      "[AGT] [INFO    ] [21:48:33] Batch 1. Loss (accuracy) 0.912 <= 0.912 <= 0.912\n"
     ]
    },
    {
     "name": "stdout",
     "output_type": "stream",
     "text": [
      "Training model 11 with k=7\n",
      "cpu\n"
     ]
    },
    {
     "name": "stderr",
     "output_type": "stream",
     "text": [
      "[AGT] [INFO    ] [21:48:33] Batch 2. Loss (accuracy) 0.840 <= 0.844 <= 0.844\n",
      "[AGT] [INFO    ] [21:48:34] Starting epoch 2 of 4.\n",
      "[AGT] [DEBUG   ] [21:48:34] Initialising dataloader batchsize to 2500\n",
      "[AGT] [INFO    ] [21:48:34] Batch 1. Loss (accuracy) 0.844 <= 0.868 <= 0.896\n",
      "[AGT] [INFO    ] [21:48:34] Batch 2. Loss (accuracy) 0.884 <= 0.900 <= 0.920\n",
      "[AGT] [INFO    ] [21:48:34] Starting epoch 3 of 4.\n",
      "[AGT] [DEBUG   ] [21:48:34] Initialising dataloader batchsize to 2500\n",
      "[AGT] [INFO    ] [21:48:34] Batch 1. Loss (accuracy) 0.880 <= 0.900 <= 0.936\n",
      "[AGT] [INFO    ] [21:48:34] Batch 2. Loss (accuracy) 0.856 <= 0.884 <= 0.940\n",
      "[AGT] [INFO    ] [21:48:35] Starting epoch 4 of 4.\n",
      "[AGT] [DEBUG   ] [21:48:35] Initialising dataloader batchsize to 2500\n",
      "[AGT] [INFO    ] [21:48:35] Batch 1. Loss (accuracy) 0.820 <= 0.888 <= 0.948\n",
      "[AGT] [INFO    ] [21:48:35] Batch 2. Loss (accuracy) 0.860 <= 0.920 <= 0.984\n",
      "[AGT] [INFO    ] [21:48:35] Final Eval. Loss (accuracy): 0.868 <= 0.916 <= 0.984\n",
      "[AGT] [INFO    ] [21:48:35] =================== Finished Privacy Certified Training ===================\n",
      "[AGT] [INFO    ] [21:48:35] =================== Starting Privacy Certified Training ===================\n",
      "[AGT] [DEBUG   ] [21:48:35] \tOptimizer params: n_epochs=4, learning_rate=2.0, l1_reg=0.0, l2_reg=0.0\n",
      "[AGT] [DEBUG   ] [21:48:35] \tLearning rate schedule: lr_decay=0.6, lr_min=0.001\n",
      "[AGT] [DEBUG   ] [21:48:35] \tGradient clipping: gamma=1.0, method=clamp\n",
      "[AGT] [DEBUG   ] [21:48:35] \tPrivacy parameter: k_private=8\n",
      "[AGT] [INFO    ] [21:48:35] Starting epoch 1 of 4.\n",
      "[AGT] [DEBUG   ] [21:48:35] Initialising dataloader batchsize to 2500\n",
      "[AGT] [INFO    ] [21:48:35] Batch 1. Loss (accuracy) 0.912 <= 0.912 <= 0.912\n"
     ]
    },
    {
     "name": "stdout",
     "output_type": "stream",
     "text": [
      "Training model 11 with k=8\n",
      "cpu\n"
     ]
    },
    {
     "name": "stderr",
     "output_type": "stream",
     "text": [
      "[AGT] [INFO    ] [21:48:36] Batch 2. Loss (accuracy) 0.840 <= 0.844 <= 0.848\n",
      "[AGT] [INFO    ] [21:48:36] Starting epoch 2 of 4.\n",
      "[AGT] [DEBUG   ] [21:48:36] Initialising dataloader batchsize to 2500\n",
      "[AGT] [INFO    ] [21:48:36] Batch 1. Loss (accuracy) 0.836 <= 0.868 <= 0.900\n",
      "[AGT] [INFO    ] [21:48:36] Batch 2. Loss (accuracy) 0.876 <= 0.900 <= 0.924\n",
      "[AGT] [INFO    ] [21:48:36] Starting epoch 3 of 4.\n",
      "[AGT] [DEBUG   ] [21:48:36] Initialising dataloader batchsize to 2500\n",
      "[AGT] [INFO    ] [21:48:36] Batch 1. Loss (accuracy) 0.880 <= 0.900 <= 0.940\n",
      "[AGT] [INFO    ] [21:48:37] Batch 2. Loss (accuracy) 0.836 <= 0.884 <= 0.940\n",
      "[AGT] [INFO    ] [21:48:37] Starting epoch 4 of 4.\n",
      "[AGT] [DEBUG   ] [21:48:37] Initialising dataloader batchsize to 2500\n",
      "[AGT] [INFO    ] [21:48:37] Batch 1. Loss (accuracy) 0.820 <= 0.888 <= 0.956\n",
      "[AGT] [INFO    ] [21:48:37] Batch 2. Loss (accuracy) 0.856 <= 0.920 <= 0.984\n",
      "[AGT] [INFO    ] [21:48:37] Final Eval. Loss (accuracy): 0.852 <= 0.916 <= 0.988\n",
      "[AGT] [INFO    ] [21:48:37] =================== Finished Privacy Certified Training ===================\n",
      "[AGT] [INFO    ] [21:48:37] =================== Starting Privacy Certified Training ===================\n",
      "[AGT] [DEBUG   ] [21:48:37] \tOptimizer params: n_epochs=4, learning_rate=2.0, l1_reg=0.0, l2_reg=0.0\n",
      "[AGT] [DEBUG   ] [21:48:37] \tLearning rate schedule: lr_decay=0.6, lr_min=0.001\n",
      "[AGT] [DEBUG   ] [21:48:37] \tGradient clipping: gamma=1.0, method=clamp\n",
      "[AGT] [DEBUG   ] [21:48:37] \tPrivacy parameter: k_private=1\n",
      "[AGT] [INFO    ] [21:48:37] Starting epoch 1 of 4.\n",
      "[AGT] [DEBUG   ] [21:48:37] Initialising dataloader batchsize to 2500\n",
      "[AGT] [INFO    ] [21:48:37] Batch 1. Loss (accuracy) 0.456 <= 0.456 <= 0.456\n"
     ]
    },
    {
     "name": "stdout",
     "output_type": "stream",
     "text": [
      "Training model 12 with k=1\n",
      "cpu\n"
     ]
    },
    {
     "name": "stderr",
     "output_type": "stream",
     "text": [
      "[AGT] [INFO    ] [21:48:38] Batch 2. Loss (accuracy) 0.864 <= 0.868 <= 0.868\n",
      "[AGT] [INFO    ] [21:48:38] Starting epoch 2 of 4.\n",
      "[AGT] [DEBUG   ] [21:48:38] Initialising dataloader batchsize to 2500\n",
      "[AGT] [INFO    ] [21:48:38] Batch 1. Loss (accuracy) 0.868 <= 0.872 <= 0.876\n",
      "[AGT] [INFO    ] [21:48:38] Batch 2. Loss (accuracy) 0.900 <= 0.908 <= 0.912\n",
      "[AGT] [INFO    ] [21:48:38] Starting epoch 3 of 4.\n",
      "[AGT] [DEBUG   ] [21:48:38] Initialising dataloader batchsize to 2500\n",
      "[AGT] [INFO    ] [21:48:38] Batch 1. Loss (accuracy) 0.908 <= 0.916 <= 0.916\n",
      "[AGT] [INFO    ] [21:48:39] Batch 2. Loss (accuracy) 0.884 <= 0.892 <= 0.908\n",
      "[AGT] [INFO    ] [21:48:39] Starting epoch 4 of 4.\n",
      "[AGT] [DEBUG   ] [21:48:39] Initialising dataloader batchsize to 2500\n",
      "[AGT] [INFO    ] [21:48:39] Batch 1. Loss (accuracy) 0.880 <= 0.900 <= 0.916\n",
      "[AGT] [INFO    ] [21:48:39] Batch 2. Loss (accuracy) 0.904 <= 0.932 <= 0.932\n",
      "[AGT] [INFO    ] [21:48:40] Final Eval. Loss (accuracy): 0.908 <= 0.924 <= 0.940\n",
      "[AGT] [INFO    ] [21:48:40] =================== Finished Privacy Certified Training ===================\n",
      "[AGT] [INFO    ] [21:48:40] =================== Starting Privacy Certified Training ===================\n",
      "[AGT] [DEBUG   ] [21:48:40] \tOptimizer params: n_epochs=4, learning_rate=2.0, l1_reg=0.0, l2_reg=0.0\n",
      "[AGT] [DEBUG   ] [21:48:40] \tLearning rate schedule: lr_decay=0.6, lr_min=0.001\n",
      "[AGT] [DEBUG   ] [21:48:40] \tGradient clipping: gamma=1.0, method=clamp\n",
      "[AGT] [DEBUG   ] [21:48:40] \tPrivacy parameter: k_private=3\n",
      "[AGT] [INFO    ] [21:48:40] Starting epoch 1 of 4.\n",
      "[AGT] [DEBUG   ] [21:48:40] Initialising dataloader batchsize to 2500\n",
      "[AGT] [INFO    ] [21:48:40] Batch 1. Loss (accuracy) 0.456 <= 0.456 <= 0.456\n"
     ]
    },
    {
     "name": "stdout",
     "output_type": "stream",
     "text": [
      "Training model 12 with k=3\n",
      "cpu\n"
     ]
    },
    {
     "name": "stderr",
     "output_type": "stream",
     "text": [
      "[AGT] [INFO    ] [21:48:40] Batch 2. Loss (accuracy) 0.856 <= 0.868 <= 0.872\n",
      "[AGT] [INFO    ] [21:48:40] Starting epoch 2 of 4.\n",
      "[AGT] [DEBUG   ] [21:48:40] Initialising dataloader batchsize to 2500\n",
      "[AGT] [INFO    ] [21:48:40] Batch 1. Loss (accuracy) 0.868 <= 0.872 <= 0.880\n",
      "[AGT] [INFO    ] [21:48:40] Batch 2. Loss (accuracy) 0.900 <= 0.908 <= 0.924\n",
      "[AGT] [INFO    ] [21:48:41] Starting epoch 3 of 4.\n",
      "[AGT] [DEBUG   ] [21:48:41] Initialising dataloader batchsize to 2500\n",
      "[AGT] [INFO    ] [21:48:41] Batch 1. Loss (accuracy) 0.892 <= 0.916 <= 0.924\n",
      "[AGT] [INFO    ] [21:48:41] Batch 2. Loss (accuracy) 0.876 <= 0.892 <= 0.928\n",
      "[AGT] [INFO    ] [21:48:41] Starting epoch 4 of 4.\n",
      "[AGT] [DEBUG   ] [21:48:41] Initialising dataloader batchsize to 2500\n",
      "[AGT] [INFO    ] [21:48:41] Batch 1. Loss (accuracy) 0.856 <= 0.900 <= 0.928\n",
      "[AGT] [INFO    ] [21:48:42] Batch 2. Loss (accuracy) 0.876 <= 0.932 <= 0.972\n",
      "[AGT] [INFO    ] [21:48:42] Final Eval. Loss (accuracy): 0.848 <= 0.924 <= 0.964\n",
      "[AGT] [INFO    ] [21:48:42] =================== Finished Privacy Certified Training ===================\n",
      "[AGT] [INFO    ] [21:48:42] =================== Starting Privacy Certified Training ===================\n",
      "[AGT] [DEBUG   ] [21:48:42] \tOptimizer params: n_epochs=4, learning_rate=2.0, l1_reg=0.0, l2_reg=0.0\n",
      "[AGT] [DEBUG   ] [21:48:42] \tLearning rate schedule: lr_decay=0.6, lr_min=0.001\n",
      "[AGT] [DEBUG   ] [21:48:42] \tGradient clipping: gamma=1.0, method=clamp\n",
      "[AGT] [DEBUG   ] [21:48:42] \tPrivacy parameter: k_private=5\n",
      "[AGT] [INFO    ] [21:48:42] Starting epoch 1 of 4.\n",
      "[AGT] [DEBUG   ] [21:48:42] Initialising dataloader batchsize to 2500\n",
      "[AGT] [INFO    ] [21:48:42] Batch 1. Loss (accuracy) 0.456 <= 0.456 <= 0.456\n"
     ]
    },
    {
     "name": "stdout",
     "output_type": "stream",
     "text": [
      "Training model 12 with k=5\n",
      "cpu\n"
     ]
    },
    {
     "name": "stderr",
     "output_type": "stream",
     "text": [
      "[AGT] [INFO    ] [21:48:42] Batch 2. Loss (accuracy) 0.856 <= 0.868 <= 0.872\n",
      "[AGT] [INFO    ] [21:48:42] Starting epoch 2 of 4.\n",
      "[AGT] [DEBUG   ] [21:48:43] Initialising dataloader batchsize to 2500\n",
      "[AGT] [INFO    ] [21:48:43] Batch 1. Loss (accuracy) 0.868 <= 0.872 <= 0.888\n",
      "[AGT] [INFO    ] [21:48:43] Batch 2. Loss (accuracy) 0.900 <= 0.908 <= 0.932\n",
      "[AGT] [INFO    ] [21:48:43] Starting epoch 3 of 4.\n",
      "[AGT] [DEBUG   ] [21:48:43] Initialising dataloader batchsize to 2500\n",
      "[AGT] [INFO    ] [21:48:43] Batch 1. Loss (accuracy) 0.888 <= 0.916 <= 0.940\n",
      "[AGT] [INFO    ] [21:48:43] Batch 2. Loss (accuracy) 0.864 <= 0.892 <= 0.944\n",
      "[AGT] [INFO    ] [21:48:44] Starting epoch 4 of 4.\n",
      "[AGT] [DEBUG   ] [21:48:44] Initialising dataloader batchsize to 2500\n",
      "[AGT] [INFO    ] [21:48:44] Batch 1. Loss (accuracy) 0.804 <= 0.900 <= 0.948\n",
      "[AGT] [INFO    ] [21:48:44] Batch 2. Loss (accuracy) 0.820 <= 0.932 <= 0.976\n",
      "[AGT] [INFO    ] [21:48:44] Final Eval. Loss (accuracy): 0.776 <= 0.924 <= 0.984\n",
      "[AGT] [INFO    ] [21:48:44] =================== Finished Privacy Certified Training ===================\n",
      "[AGT] [INFO    ] [21:48:44] =================== Starting Privacy Certified Training ===================\n",
      "[AGT] [DEBUG   ] [21:48:44] \tOptimizer params: n_epochs=4, learning_rate=2.0, l1_reg=0.0, l2_reg=0.0\n",
      "[AGT] [DEBUG   ] [21:48:44] \tLearning rate schedule: lr_decay=0.6, lr_min=0.001\n",
      "[AGT] [DEBUG   ] [21:48:44] \tGradient clipping: gamma=1.0, method=clamp\n",
      "[AGT] [DEBUG   ] [21:48:44] \tPrivacy parameter: k_private=7\n",
      "[AGT] [INFO    ] [21:48:44] Starting epoch 1 of 4.\n",
      "[AGT] [DEBUG   ] [21:48:44] Initialising dataloader batchsize to 2500\n",
      "[AGT] [INFO    ] [21:48:44] Batch 1. Loss (accuracy) 0.456 <= 0.456 <= 0.456\n"
     ]
    },
    {
     "name": "stdout",
     "output_type": "stream",
     "text": [
      "Training model 12 with k=7\n",
      "cpu\n"
     ]
    },
    {
     "name": "stderr",
     "output_type": "stream",
     "text": [
      "[AGT] [INFO    ] [21:48:45] Batch 2. Loss (accuracy) 0.852 <= 0.868 <= 0.872\n",
      "[AGT] [INFO    ] [21:48:45] Starting epoch 2 of 4.\n",
      "[AGT] [DEBUG   ] [21:48:45] Initialising dataloader batchsize to 2500\n",
      "[AGT] [INFO    ] [21:48:45] Batch 1. Loss (accuracy) 0.852 <= 0.872 <= 0.892\n",
      "[AGT] [INFO    ] [21:48:45] Batch 2. Loss (accuracy) 0.892 <= 0.908 <= 0.932\n",
      "[AGT] [INFO    ] [21:48:45] Starting epoch 3 of 4.\n",
      "[AGT] [DEBUG   ] [21:48:45] Initialising dataloader batchsize to 2500\n",
      "[AGT] [INFO    ] [21:48:45] Batch 1. Loss (accuracy) 0.880 <= 0.916 <= 0.940\n",
      "[AGT] [INFO    ] [21:48:46] Batch 2. Loss (accuracy) 0.844 <= 0.892 <= 0.948\n",
      "[AGT] [INFO    ] [21:48:46] Starting epoch 4 of 4.\n",
      "[AGT] [DEBUG   ] [21:48:46] Initialising dataloader batchsize to 2500\n",
      "[AGT] [INFO    ] [21:48:46] Batch 1. Loss (accuracy) 0.768 <= 0.900 <= 0.968\n",
      "[AGT] [INFO    ] [21:48:46] Batch 2. Loss (accuracy) 0.760 <= 0.932 <= 0.984\n",
      "[AGT] [INFO    ] [21:48:46] Final Eval. Loss (accuracy): 0.708 <= 0.924 <= 0.992\n",
      "[AGT] [INFO    ] [21:48:46] =================== Finished Privacy Certified Training ===================\n",
      "[AGT] [INFO    ] [21:48:46] =================== Starting Privacy Certified Training ===================\n",
      "[AGT] [DEBUG   ] [21:48:46] \tOptimizer params: n_epochs=4, learning_rate=2.0, l1_reg=0.0, l2_reg=0.0\n",
      "[AGT] [DEBUG   ] [21:48:46] \tLearning rate schedule: lr_decay=0.6, lr_min=0.001\n",
      "[AGT] [DEBUG   ] [21:48:46] \tGradient clipping: gamma=1.0, method=clamp\n",
      "[AGT] [DEBUG   ] [21:48:46] \tPrivacy parameter: k_private=8\n",
      "[AGT] [INFO    ] [21:48:46] Starting epoch 1 of 4.\n",
      "[AGT] [DEBUG   ] [21:48:47] Initialising dataloader batchsize to 2500\n",
      "[AGT] [INFO    ] [21:48:47] Batch 1. Loss (accuracy) 0.456 <= 0.456 <= 0.456\n"
     ]
    },
    {
     "name": "stdout",
     "output_type": "stream",
     "text": [
      "Training model 12 with k=8\n",
      "cpu\n"
     ]
    },
    {
     "name": "stderr",
     "output_type": "stream",
     "text": [
      "[AGT] [INFO    ] [21:48:47] Batch 2. Loss (accuracy) 0.848 <= 0.868 <= 0.880\n",
      "[AGT] [INFO    ] [21:48:47] Starting epoch 2 of 4.\n",
      "[AGT] [DEBUG   ] [21:48:47] Initialising dataloader batchsize to 2500\n",
      "[AGT] [INFO    ] [21:48:47] Batch 1. Loss (accuracy) 0.848 <= 0.872 <= 0.896\n",
      "[AGT] [INFO    ] [21:48:47] Batch 2. Loss (accuracy) 0.888 <= 0.908 <= 0.932\n",
      "[AGT] [INFO    ] [21:48:48] Starting epoch 3 of 4.\n",
      "[AGT] [DEBUG   ] [21:48:48] Initialising dataloader batchsize to 2500\n",
      "[AGT] [INFO    ] [21:48:48] Batch 1. Loss (accuracy) 0.880 <= 0.916 <= 0.952\n",
      "[AGT] [INFO    ] [21:48:48] Batch 2. Loss (accuracy) 0.832 <= 0.892 <= 0.952\n",
      "[AGT] [INFO    ] [21:48:48] Starting epoch 4 of 4.\n",
      "[AGT] [DEBUG   ] [21:48:48] Initialising dataloader batchsize to 2500\n",
      "[AGT] [INFO    ] [21:48:48] Batch 1. Loss (accuracy) 0.744 <= 0.900 <= 0.968\n",
      "[AGT] [INFO    ] [21:48:48] Batch 2. Loss (accuracy) 0.708 <= 0.932 <= 0.984\n",
      "[AGT] [INFO    ] [21:48:49] Final Eval. Loss (accuracy): 0.636 <= 0.924 <= 0.992\n",
      "[AGT] [INFO    ] [21:48:49] =================== Finished Privacy Certified Training ===================\n",
      "[AGT] [INFO    ] [21:48:49] =================== Starting Privacy Certified Training ===================\n",
      "[AGT] [DEBUG   ] [21:48:49] \tOptimizer params: n_epochs=4, learning_rate=2.0, l1_reg=0.0, l2_reg=0.0\n",
      "[AGT] [DEBUG   ] [21:48:49] \tLearning rate schedule: lr_decay=0.6, lr_min=0.001\n",
      "[AGT] [DEBUG   ] [21:48:49] \tGradient clipping: gamma=1.0, method=clamp\n",
      "[AGT] [DEBUG   ] [21:48:49] \tPrivacy parameter: k_private=1\n",
      "[AGT] [INFO    ] [21:48:49] Starting epoch 1 of 4.\n",
      "[AGT] [DEBUG   ] [21:48:49] Initialising dataloader batchsize to 2500\n",
      "[AGT] [INFO    ] [21:48:49] Batch 1. Loss (accuracy) 0.652 <= 0.652 <= 0.652\n"
     ]
    },
    {
     "name": "stdout",
     "output_type": "stream",
     "text": [
      "Training model 13 with k=1\n",
      "cpu\n"
     ]
    },
    {
     "name": "stderr",
     "output_type": "stream",
     "text": [
      "[AGT] [INFO    ] [21:48:49] Batch 2. Loss (accuracy) 0.848 <= 0.848 <= 0.852\n",
      "[AGT] [INFO    ] [21:48:49] Starting epoch 2 of 4.\n",
      "[AGT] [DEBUG   ] [21:48:49] Initialising dataloader batchsize to 2500\n",
      "[AGT] [INFO    ] [21:48:49] Batch 1. Loss (accuracy) 0.844 <= 0.848 <= 0.852\n",
      "[AGT] [INFO    ] [21:48:50] Batch 2. Loss (accuracy) 0.896 <= 0.900 <= 0.904\n",
      "[AGT] [INFO    ] [21:48:50] Starting epoch 3 of 4.\n",
      "[AGT] [DEBUG   ] [21:48:50] Initialising dataloader batchsize to 2500\n",
      "[AGT] [INFO    ] [21:48:50] Batch 1. Loss (accuracy) 0.896 <= 0.904 <= 0.904\n",
      "[AGT] [INFO    ] [21:48:50] Batch 2. Loss (accuracy) 0.880 <= 0.896 <= 0.908\n",
      "[AGT] [INFO    ] [21:48:50] Starting epoch 4 of 4.\n",
      "[AGT] [DEBUG   ] [21:48:50] Initialising dataloader batchsize to 2500\n",
      "[AGT] [INFO    ] [21:48:50] Batch 1. Loss (accuracy) 0.848 <= 0.860 <= 0.872\n",
      "[AGT] [INFO    ] [21:48:51] Batch 2. Loss (accuracy) 0.904 <= 0.916 <= 0.932\n",
      "[AGT] [INFO    ] [21:48:51] Final Eval. Loss (accuracy): 0.900 <= 0.908 <= 0.920\n",
      "[AGT] [INFO    ] [21:48:51] =================== Finished Privacy Certified Training ===================\n",
      "[AGT] [INFO    ] [21:48:51] =================== Starting Privacy Certified Training ===================\n",
      "[AGT] [DEBUG   ] [21:48:51] \tOptimizer params: n_epochs=4, learning_rate=2.0, l1_reg=0.0, l2_reg=0.0\n",
      "[AGT] [DEBUG   ] [21:48:51] \tLearning rate schedule: lr_decay=0.6, lr_min=0.001\n",
      "[AGT] [DEBUG   ] [21:48:51] \tGradient clipping: gamma=1.0, method=clamp\n",
      "[AGT] [DEBUG   ] [21:48:51] \tPrivacy parameter: k_private=3\n",
      "[AGT] [INFO    ] [21:48:51] Starting epoch 1 of 4.\n",
      "[AGT] [DEBUG   ] [21:48:51] Initialising dataloader batchsize to 2500\n",
      "[AGT] [INFO    ] [21:48:51] Batch 1. Loss (accuracy) 0.652 <= 0.652 <= 0.652\n"
     ]
    },
    {
     "name": "stdout",
     "output_type": "stream",
     "text": [
      "Training model 13 with k=3\n",
      "cpu\n"
     ]
    },
    {
     "name": "stderr",
     "output_type": "stream",
     "text": [
      "[AGT] [INFO    ] [21:48:51] Batch 2. Loss (accuracy) 0.844 <= 0.848 <= 0.852\n",
      "[AGT] [INFO    ] [21:48:52] Starting epoch 2 of 4.\n",
      "[AGT] [DEBUG   ] [21:48:52] Initialising dataloader batchsize to 2500\n",
      "[AGT] [INFO    ] [21:48:52] Batch 1. Loss (accuracy) 0.832 <= 0.848 <= 0.856\n",
      "[AGT] [INFO    ] [21:48:52] Batch 2. Loss (accuracy) 0.888 <= 0.900 <= 0.904\n",
      "[AGT] [INFO    ] [21:48:52] Starting epoch 3 of 4.\n",
      "[AGT] [DEBUG   ] [21:48:52] Initialising dataloader batchsize to 2500\n",
      "[AGT] [INFO    ] [21:48:52] Batch 1. Loss (accuracy) 0.892 <= 0.904 <= 0.912\n",
      "[AGT] [INFO    ] [21:48:52] Batch 2. Loss (accuracy) 0.856 <= 0.896 <= 0.920\n",
      "[AGT] [INFO    ] [21:48:53] Starting epoch 4 of 4.\n",
      "[AGT] [DEBUG   ] [21:48:53] Initialising dataloader batchsize to 2500\n",
      "[AGT] [INFO    ] [21:48:53] Batch 1. Loss (accuracy) 0.836 <= 0.860 <= 0.912\n",
      "[AGT] [INFO    ] [21:48:53] Batch 2. Loss (accuracy) 0.880 <= 0.916 <= 0.952\n",
      "[AGT] [INFO    ] [21:48:53] Final Eval. Loss (accuracy): 0.872 <= 0.908 <= 0.960\n",
      "[AGT] [INFO    ] [21:48:53] =================== Finished Privacy Certified Training ===================\n",
      "[AGT] [INFO    ] [21:48:53] =================== Starting Privacy Certified Training ===================\n",
      "[AGT] [DEBUG   ] [21:48:53] \tOptimizer params: n_epochs=4, learning_rate=2.0, l1_reg=0.0, l2_reg=0.0\n",
      "[AGT] [DEBUG   ] [21:48:53] \tLearning rate schedule: lr_decay=0.6, lr_min=0.001\n",
      "[AGT] [DEBUG   ] [21:48:53] \tGradient clipping: gamma=1.0, method=clamp\n",
      "[AGT] [DEBUG   ] [21:48:53] \tPrivacy parameter: k_private=5\n",
      "[AGT] [INFO    ] [21:48:53] Starting epoch 1 of 4.\n",
      "[AGT] [DEBUG   ] [21:48:53] Initialising dataloader batchsize to 2500\n",
      "[AGT] [INFO    ] [21:48:53] Batch 1. Loss (accuracy) 0.652 <= 0.652 <= 0.652\n"
     ]
    },
    {
     "name": "stdout",
     "output_type": "stream",
     "text": [
      "Training model 13 with k=5\n",
      "cpu\n"
     ]
    },
    {
     "name": "stderr",
     "output_type": "stream",
     "text": [
      "[AGT] [INFO    ] [21:48:53] Batch 2. Loss (accuracy) 0.840 <= 0.848 <= 0.860\n",
      "[AGT] [INFO    ] [21:48:54] Starting epoch 2 of 4.\n",
      "[AGT] [DEBUG   ] [21:48:54] Initialising dataloader batchsize to 2500\n",
      "[AGT] [INFO    ] [21:48:54] Batch 1. Loss (accuracy) 0.820 <= 0.848 <= 0.856\n",
      "[AGT] [INFO    ] [21:48:54] Batch 2. Loss (accuracy) 0.880 <= 0.900 <= 0.916\n",
      "[AGT] [INFO    ] [21:48:54] Starting epoch 3 of 4.\n",
      "[AGT] [DEBUG   ] [21:48:54] Initialising dataloader batchsize to 2500\n",
      "[AGT] [INFO    ] [21:48:54] Batch 1. Loss (accuracy) 0.876 <= 0.904 <= 0.928\n",
      "[AGT] [INFO    ] [21:48:55] Batch 2. Loss (accuracy) 0.836 <= 0.896 <= 0.936\n",
      "[AGT] [INFO    ] [21:48:55] Starting epoch 4 of 4.\n",
      "[AGT] [DEBUG   ] [21:48:55] Initialising dataloader batchsize to 2500\n",
      "[AGT] [INFO    ] [21:48:55] Batch 1. Loss (accuracy) 0.816 <= 0.860 <= 0.956\n",
      "[AGT] [INFO    ] [21:48:55] Batch 2. Loss (accuracy) 0.848 <= 0.916 <= 0.960\n",
      "[AGT] [INFO    ] [21:48:55] Final Eval. Loss (accuracy): 0.840 <= 0.908 <= 0.984\n",
      "[AGT] [INFO    ] [21:48:55] =================== Finished Privacy Certified Training ===================\n",
      "[AGT] [INFO    ] [21:48:55] =================== Starting Privacy Certified Training ===================\n",
      "[AGT] [DEBUG   ] [21:48:55] \tOptimizer params: n_epochs=4, learning_rate=2.0, l1_reg=0.0, l2_reg=0.0\n",
      "[AGT] [DEBUG   ] [21:48:55] \tLearning rate schedule: lr_decay=0.6, lr_min=0.001\n",
      "[AGT] [DEBUG   ] [21:48:55] \tGradient clipping: gamma=1.0, method=clamp\n",
      "[AGT] [DEBUG   ] [21:48:55] \tPrivacy parameter: k_private=7\n",
      "[AGT] [INFO    ] [21:48:55] Starting epoch 1 of 4.\n",
      "[AGT] [DEBUG   ] [21:48:55] Initialising dataloader batchsize to 2500\n",
      "[AGT] [INFO    ] [21:48:55] Batch 1. Loss (accuracy) 0.652 <= 0.652 <= 0.652\n"
     ]
    },
    {
     "name": "stdout",
     "output_type": "stream",
     "text": [
      "Training model 13 with k=7\n",
      "cpu\n"
     ]
    },
    {
     "name": "stderr",
     "output_type": "stream",
     "text": [
      "[AGT] [INFO    ] [21:48:56] Batch 2. Loss (accuracy) 0.840 <= 0.848 <= 0.860\n",
      "[AGT] [INFO    ] [21:48:56] Starting epoch 2 of 4.\n",
      "[AGT] [DEBUG   ] [21:48:56] Initialising dataloader batchsize to 2500\n",
      "[AGT] [INFO    ] [21:48:56] Batch 1. Loss (accuracy) 0.820 <= 0.848 <= 0.856\n",
      "[AGT] [INFO    ] [21:48:56] Batch 2. Loss (accuracy) 0.860 <= 0.900 <= 0.924\n",
      "[AGT] [INFO    ] [21:48:56] Starting epoch 3 of 4.\n",
      "[AGT] [DEBUG   ] [21:48:56] Initialising dataloader batchsize to 2500\n",
      "[AGT] [INFO    ] [21:48:57] Batch 1. Loss (accuracy) 0.852 <= 0.904 <= 0.936\n",
      "[AGT] [INFO    ] [21:48:57] Batch 2. Loss (accuracy) 0.828 <= 0.896 <= 0.944\n",
      "[AGT] [INFO    ] [21:48:57] Starting epoch 4 of 4.\n",
      "[AGT] [DEBUG   ] [21:48:57] Initialising dataloader batchsize to 2500\n",
      "[AGT] [INFO    ] [21:48:57] Batch 1. Loss (accuracy) 0.780 <= 0.860 <= 0.964\n",
      "[AGT] [INFO    ] [21:48:57] Batch 2. Loss (accuracy) 0.764 <= 0.916 <= 0.976\n",
      "[AGT] [INFO    ] [21:48:58] Final Eval. Loss (accuracy): 0.732 <= 0.908 <= 0.988\n",
      "[AGT] [INFO    ] [21:48:58] =================== Finished Privacy Certified Training ===================\n",
      "[AGT] [INFO    ] [21:48:58] =================== Starting Privacy Certified Training ===================\n",
      "[AGT] [DEBUG   ] [21:48:58] \tOptimizer params: n_epochs=4, learning_rate=2.0, l1_reg=0.0, l2_reg=0.0\n",
      "[AGT] [DEBUG   ] [21:48:58] \tLearning rate schedule: lr_decay=0.6, lr_min=0.001\n",
      "[AGT] [DEBUG   ] [21:48:58] \tGradient clipping: gamma=1.0, method=clamp\n",
      "[AGT] [DEBUG   ] [21:48:58] \tPrivacy parameter: k_private=8\n",
      "[AGT] [INFO    ] [21:48:58] Starting epoch 1 of 4.\n",
      "[AGT] [DEBUG   ] [21:48:58] Initialising dataloader batchsize to 2500\n",
      "[AGT] [INFO    ] [21:48:58] Batch 1. Loss (accuracy) 0.652 <= 0.652 <= 0.652\n"
     ]
    },
    {
     "name": "stdout",
     "output_type": "stream",
     "text": [
      "Training model 13 with k=8\n",
      "cpu\n"
     ]
    },
    {
     "name": "stderr",
     "output_type": "stream",
     "text": [
      "[AGT] [INFO    ] [21:48:58] Batch 2. Loss (accuracy) 0.840 <= 0.848 <= 0.860\n",
      "[AGT] [INFO    ] [21:48:58] Starting epoch 2 of 4.\n",
      "[AGT] [DEBUG   ] [21:48:58] Initialising dataloader batchsize to 2500\n",
      "[AGT] [INFO    ] [21:48:58] Batch 1. Loss (accuracy) 0.816 <= 0.848 <= 0.860\n",
      "[AGT] [INFO    ] [21:48:58] Batch 2. Loss (accuracy) 0.856 <= 0.900 <= 0.928\n",
      "[AGT] [INFO    ] [21:48:59] Starting epoch 3 of 4.\n",
      "[AGT] [DEBUG   ] [21:48:59] Initialising dataloader batchsize to 2500\n",
      "[AGT] [INFO    ] [21:48:59] Batch 1. Loss (accuracy) 0.852 <= 0.904 <= 0.936\n",
      "[AGT] [INFO    ] [21:48:59] Batch 2. Loss (accuracy) 0.804 <= 0.896 <= 0.952\n",
      "[AGT] [INFO    ] [21:48:59] Starting epoch 4 of 4.\n",
      "[AGT] [DEBUG   ] [21:48:59] Initialising dataloader batchsize to 2500\n",
      "[AGT] [INFO    ] [21:48:59] Batch 1. Loss (accuracy) 0.772 <= 0.860 <= 0.964\n",
      "[AGT] [INFO    ] [21:49:00] Batch 2. Loss (accuracy) 0.732 <= 0.916 <= 0.984\n",
      "[AGT] [INFO    ] [21:49:00] Final Eval. Loss (accuracy): 0.536 <= 0.908 <= 0.992\n",
      "[AGT] [INFO    ] [21:49:00] =================== Finished Privacy Certified Training ===================\n",
      "[AGT] [INFO    ] [21:49:00] =================== Starting Privacy Certified Training ===================\n",
      "[AGT] [DEBUG   ] [21:49:00] \tOptimizer params: n_epochs=4, learning_rate=2.0, l1_reg=0.0, l2_reg=0.0\n",
      "[AGT] [DEBUG   ] [21:49:00] \tLearning rate schedule: lr_decay=0.6, lr_min=0.001\n",
      "[AGT] [DEBUG   ] [21:49:00] \tGradient clipping: gamma=1.0, method=clamp\n",
      "[AGT] [DEBUG   ] [21:49:00] \tPrivacy parameter: k_private=1\n",
      "[AGT] [INFO    ] [21:49:00] Starting epoch 1 of 4.\n",
      "[AGT] [DEBUG   ] [21:49:00] Initialising dataloader batchsize to 2500\n",
      "[AGT] [INFO    ] [21:49:00] Batch 1. Loss (accuracy) 0.564 <= 0.564 <= 0.564\n"
     ]
    },
    {
     "name": "stdout",
     "output_type": "stream",
     "text": [
      "Training model 14 with k=1\n",
      "cpu\n"
     ]
    },
    {
     "name": "stderr",
     "output_type": "stream",
     "text": [
      "[AGT] [INFO    ] [21:49:00] Batch 2. Loss (accuracy) 0.796 <= 0.796 <= 0.800\n",
      "[AGT] [INFO    ] [21:49:00] Starting epoch 2 of 4.\n",
      "[AGT] [DEBUG   ] [21:49:00] Initialising dataloader batchsize to 2500\n",
      "[AGT] [INFO    ] [21:49:01] Batch 1. Loss (accuracy) 0.808 <= 0.808 <= 0.808\n",
      "[AGT] [INFO    ] [21:49:01] Batch 2. Loss (accuracy) 0.864 <= 0.864 <= 0.864\n",
      "[AGT] [INFO    ] [21:49:01] Starting epoch 3 of 4.\n",
      "[AGT] [DEBUG   ] [21:49:01] Initialising dataloader batchsize to 2500\n",
      "[AGT] [INFO    ] [21:49:01] Batch 1. Loss (accuracy) 0.876 <= 0.884 <= 0.888\n",
      "[AGT] [INFO    ] [21:49:01] Batch 2. Loss (accuracy) 0.844 <= 0.848 <= 0.864\n",
      "[AGT] [INFO    ] [21:49:02] Starting epoch 4 of 4.\n",
      "[AGT] [DEBUG   ] [21:49:02] Initialising dataloader batchsize to 2500\n",
      "[AGT] [INFO    ] [21:49:02] Batch 1. Loss (accuracy) 0.832 <= 0.840 <= 0.848\n",
      "[AGT] [INFO    ] [21:49:02] Batch 2. Loss (accuracy) 0.884 <= 0.900 <= 0.900\n",
      "[AGT] [INFO    ] [21:49:02] Final Eval. Loss (accuracy): 0.892 <= 0.896 <= 0.908\n",
      "[AGT] [INFO    ] [21:49:02] =================== Finished Privacy Certified Training ===================\n",
      "[AGT] [INFO    ] [21:49:02] =================== Starting Privacy Certified Training ===================\n",
      "[AGT] [DEBUG   ] [21:49:02] \tOptimizer params: n_epochs=4, learning_rate=2.0, l1_reg=0.0, l2_reg=0.0\n",
      "[AGT] [DEBUG   ] [21:49:02] \tLearning rate schedule: lr_decay=0.6, lr_min=0.001\n",
      "[AGT] [DEBUG   ] [21:49:02] \tGradient clipping: gamma=1.0, method=clamp\n",
      "[AGT] [DEBUG   ] [21:49:02] \tPrivacy parameter: k_private=3\n",
      "[AGT] [INFO    ] [21:49:02] Starting epoch 1 of 4.\n",
      "[AGT] [DEBUG   ] [21:49:02] Initialising dataloader batchsize to 2500\n",
      "[AGT] [INFO    ] [21:49:02] Batch 1. Loss (accuracy) 0.564 <= 0.564 <= 0.564\n"
     ]
    },
    {
     "name": "stdout",
     "output_type": "stream",
     "text": [
      "Training model 14 with k=3\n",
      "cpu\n"
     ]
    },
    {
     "name": "stderr",
     "output_type": "stream",
     "text": [
      "[AGT] [INFO    ] [21:49:03] Batch 2. Loss (accuracy) 0.796 <= 0.796 <= 0.812\n",
      "[AGT] [INFO    ] [21:49:03] Starting epoch 2 of 4.\n",
      "[AGT] [DEBUG   ] [21:49:03] Initialising dataloader batchsize to 2500\n",
      "[AGT] [INFO    ] [21:49:03] Batch 1. Loss (accuracy) 0.808 <= 0.808 <= 0.824\n",
      "[AGT] [INFO    ] [21:49:03] Batch 2. Loss (accuracy) 0.856 <= 0.864 <= 0.876\n",
      "[AGT] [INFO    ] [21:49:03] Starting epoch 3 of 4.\n",
      "[AGT] [DEBUG   ] [21:49:03] Initialising dataloader batchsize to 2500\n",
      "[AGT] [INFO    ] [21:49:03] Batch 1. Loss (accuracy) 0.856 <= 0.884 <= 0.892\n",
      "[AGT] [INFO    ] [21:49:04] Batch 2. Loss (accuracy) 0.832 <= 0.848 <= 0.892\n",
      "[AGT] [INFO    ] [21:49:04] Starting epoch 4 of 4.\n",
      "[AGT] [DEBUG   ] [21:49:04] Initialising dataloader batchsize to 2500\n",
      "[AGT] [INFO    ] [21:49:04] Batch 1. Loss (accuracy) 0.820 <= 0.840 <= 0.872\n",
      "[AGT] [INFO    ] [21:49:04] Batch 2. Loss (accuracy) 0.868 <= 0.900 <= 0.920\n",
      "[AGT] [INFO    ] [21:49:04] Final Eval. Loss (accuracy): 0.860 <= 0.896 <= 0.924\n",
      "[AGT] [INFO    ] [21:49:04] =================== Finished Privacy Certified Training ===================\n",
      "[AGT] [INFO    ] [21:49:04] =================== Starting Privacy Certified Training ===================\n",
      "[AGT] [DEBUG   ] [21:49:04] \tOptimizer params: n_epochs=4, learning_rate=2.0, l1_reg=0.0, l2_reg=0.0\n",
      "[AGT] [DEBUG   ] [21:49:04] \tLearning rate schedule: lr_decay=0.6, lr_min=0.001\n",
      "[AGT] [DEBUG   ] [21:49:04] \tGradient clipping: gamma=1.0, method=clamp\n",
      "[AGT] [DEBUG   ] [21:49:04] \tPrivacy parameter: k_private=5\n",
      "[AGT] [INFO    ] [21:49:04] Starting epoch 1 of 4.\n",
      "[AGT] [DEBUG   ] [21:49:04] Initialising dataloader batchsize to 2500\n",
      "[AGT] [INFO    ] [21:49:04] Batch 1. Loss (accuracy) 0.564 <= 0.564 <= 0.564\n"
     ]
    },
    {
     "name": "stdout",
     "output_type": "stream",
     "text": [
      "Training model 14 with k=5\n",
      "cpu\n"
     ]
    },
    {
     "name": "stderr",
     "output_type": "stream",
     "text": [
      "[AGT] [INFO    ] [21:49:05] Batch 2. Loss (accuracy) 0.792 <= 0.796 <= 0.816\n",
      "[AGT] [INFO    ] [21:49:05] Starting epoch 2 of 4.\n",
      "[AGT] [DEBUG   ] [21:49:05] Initialising dataloader batchsize to 2500\n",
      "[AGT] [INFO    ] [21:49:05] Batch 1. Loss (accuracy) 0.800 <= 0.808 <= 0.824\n",
      "[AGT] [INFO    ] [21:49:05] Batch 2. Loss (accuracy) 0.856 <= 0.864 <= 0.884\n",
      "[AGT] [INFO    ] [21:49:05] Starting epoch 3 of 4.\n",
      "[AGT] [DEBUG   ] [21:49:05] Initialising dataloader batchsize to 2500\n",
      "[AGT] [INFO    ] [21:49:06] Batch 1. Loss (accuracy) 0.844 <= 0.884 <= 0.900\n",
      "[AGT] [INFO    ] [21:49:06] Batch 2. Loss (accuracy) 0.828 <= 0.848 <= 0.908\n",
      "[AGT] [INFO    ] [21:49:06] Starting epoch 4 of 4.\n",
      "[AGT] [DEBUG   ] [21:49:06] Initialising dataloader batchsize to 2500\n",
      "[AGT] [INFO    ] [21:49:06] Batch 1. Loss (accuracy) 0.800 <= 0.840 <= 0.884\n",
      "[AGT] [INFO    ] [21:49:06] Batch 2. Loss (accuracy) 0.836 <= 0.900 <= 0.932\n",
      "[AGT] [INFO    ] [21:49:07] Final Eval. Loss (accuracy): 0.840 <= 0.896 <= 0.940\n",
      "[AGT] [INFO    ] [21:49:07] =================== Finished Privacy Certified Training ===================\n",
      "[AGT] [INFO    ] [21:49:07] =================== Starting Privacy Certified Training ===================\n",
      "[AGT] [DEBUG   ] [21:49:07] \tOptimizer params: n_epochs=4, learning_rate=2.0, l1_reg=0.0, l2_reg=0.0\n",
      "[AGT] [DEBUG   ] [21:49:07] \tLearning rate schedule: lr_decay=0.6, lr_min=0.001\n",
      "[AGT] [DEBUG   ] [21:49:07] \tGradient clipping: gamma=1.0, method=clamp\n",
      "[AGT] [DEBUG   ] [21:49:07] \tPrivacy parameter: k_private=7\n",
      "[AGT] [INFO    ] [21:49:07] Starting epoch 1 of 4.\n",
      "[AGT] [DEBUG   ] [21:49:07] Initialising dataloader batchsize to 2500\n",
      "[AGT] [INFO    ] [21:49:07] Batch 1. Loss (accuracy) 0.564 <= 0.564 <= 0.564\n"
     ]
    },
    {
     "name": "stdout",
     "output_type": "stream",
     "text": [
      "Training model 14 with k=7\n",
      "cpu\n"
     ]
    },
    {
     "name": "stderr",
     "output_type": "stream",
     "text": [
      "[AGT] [INFO    ] [21:49:07] Batch 2. Loss (accuracy) 0.788 <= 0.796 <= 0.816\n",
      "[AGT] [INFO    ] [21:49:07] Starting epoch 2 of 4.\n",
      "[AGT] [DEBUG   ] [21:49:07] Initialising dataloader batchsize to 2500\n",
      "[AGT] [INFO    ] [21:49:07] Batch 1. Loss (accuracy) 0.800 <= 0.808 <= 0.824\n",
      "[AGT] [INFO    ] [21:49:08] Batch 2. Loss (accuracy) 0.844 <= 0.864 <= 0.896\n",
      "[AGT] [INFO    ] [21:49:08] Starting epoch 3 of 4.\n",
      "[AGT] [DEBUG   ] [21:49:08] Initialising dataloader batchsize to 2500\n",
      "[AGT] [INFO    ] [21:49:08] Batch 1. Loss (accuracy) 0.840 <= 0.884 <= 0.908\n",
      "[AGT] [INFO    ] [21:49:08] Batch 2. Loss (accuracy) 0.808 <= 0.848 <= 0.912\n",
      "[AGT] [INFO    ] [21:49:08] Starting epoch 4 of 4.\n",
      "[AGT] [DEBUG   ] [21:49:08] Initialising dataloader batchsize to 2500\n",
      "[AGT] [INFO    ] [21:49:08] Batch 1. Loss (accuracy) 0.776 <= 0.840 <= 0.900\n",
      "[AGT] [INFO    ] [21:49:09] Batch 2. Loss (accuracy) 0.812 <= 0.900 <= 0.940\n",
      "[AGT] [INFO    ] [21:49:09] Final Eval. Loss (accuracy): 0.820 <= 0.896 <= 0.952\n",
      "[AGT] [INFO    ] [21:49:09] =================== Finished Privacy Certified Training ===================\n",
      "[AGT] [INFO    ] [21:49:09] =================== Starting Privacy Certified Training ===================\n",
      "[AGT] [DEBUG   ] [21:49:09] \tOptimizer params: n_epochs=4, learning_rate=2.0, l1_reg=0.0, l2_reg=0.0\n",
      "[AGT] [DEBUG   ] [21:49:09] \tLearning rate schedule: lr_decay=0.6, lr_min=0.001\n",
      "[AGT] [DEBUG   ] [21:49:09] \tGradient clipping: gamma=1.0, method=clamp\n",
      "[AGT] [DEBUG   ] [21:49:09] \tPrivacy parameter: k_private=8\n",
      "[AGT] [INFO    ] [21:49:09] Starting epoch 1 of 4.\n",
      "[AGT] [DEBUG   ] [21:49:09] Initialising dataloader batchsize to 2500\n",
      "[AGT] [INFO    ] [21:49:09] Batch 1. Loss (accuracy) 0.564 <= 0.564 <= 0.564\n"
     ]
    },
    {
     "name": "stdout",
     "output_type": "stream",
     "text": [
      "Training model 14 with k=8\n",
      "cpu\n"
     ]
    },
    {
     "name": "stderr",
     "output_type": "stream",
     "text": [
      "[AGT] [INFO    ] [21:49:09] Batch 2. Loss (accuracy) 0.788 <= 0.796 <= 0.816\n",
      "[AGT] [INFO    ] [21:49:09] Starting epoch 2 of 4.\n",
      "[AGT] [DEBUG   ] [21:49:10] Initialising dataloader batchsize to 2500\n",
      "[AGT] [INFO    ] [21:49:10] Batch 1. Loss (accuracy) 0.784 <= 0.808 <= 0.828\n",
      "[AGT] [INFO    ] [21:49:10] Batch 2. Loss (accuracy) 0.844 <= 0.864 <= 0.900\n",
      "[AGT] [INFO    ] [21:49:10] Starting epoch 3 of 4.\n",
      "[AGT] [DEBUG   ] [21:49:10] Initialising dataloader batchsize to 2500\n",
      "[AGT] [INFO    ] [21:49:10] Batch 1. Loss (accuracy) 0.840 <= 0.884 <= 0.908\n",
      "[AGT] [INFO    ] [21:49:10] Batch 2. Loss (accuracy) 0.792 <= 0.848 <= 0.912\n",
      "[AGT] [INFO    ] [21:49:10] Starting epoch 4 of 4.\n",
      "[AGT] [DEBUG   ] [21:49:11] Initialising dataloader batchsize to 2500\n",
      "[AGT] [INFO    ] [21:49:11] Batch 1. Loss (accuracy) 0.768 <= 0.840 <= 0.912\n",
      "[AGT] [INFO    ] [21:49:11] Batch 2. Loss (accuracy) 0.788 <= 0.900 <= 0.944\n",
      "[AGT] [INFO    ] [21:49:11] Final Eval. Loss (accuracy): 0.804 <= 0.896 <= 0.964\n",
      "[AGT] [INFO    ] [21:49:11] =================== Finished Privacy Certified Training ===================\n",
      "[AGT] [INFO    ] [21:49:11] =================== Starting Privacy Certified Training ===================\n",
      "[AGT] [DEBUG   ] [21:49:11] \tOptimizer params: n_epochs=4, learning_rate=2.0, l1_reg=0.0, l2_reg=0.0\n",
      "[AGT] [DEBUG   ] [21:49:11] \tLearning rate schedule: lr_decay=0.6, lr_min=0.001\n",
      "[AGT] [DEBUG   ] [21:49:11] \tGradient clipping: gamma=1.0, method=clamp\n",
      "[AGT] [DEBUG   ] [21:49:11] \tPrivacy parameter: k_private=1\n",
      "[AGT] [INFO    ] [21:49:11] Starting epoch 1 of 4.\n",
      "[AGT] [DEBUG   ] [21:49:11] Initialising dataloader batchsize to 2500\n",
      "[AGT] [INFO    ] [21:49:11] Batch 1. Loss (accuracy) 0.540 <= 0.540 <= 0.540\n"
     ]
    },
    {
     "name": "stdout",
     "output_type": "stream",
     "text": [
      "Training model 15 with k=1\n",
      "cpu\n"
     ]
    },
    {
     "name": "stderr",
     "output_type": "stream",
     "text": [
      "[AGT] [INFO    ] [21:49:11] Batch 2. Loss (accuracy) 0.824 <= 0.824 <= 0.824\n",
      "[AGT] [INFO    ] [21:49:12] Starting epoch 2 of 4.\n",
      "[AGT] [DEBUG   ] [21:49:12] Initialising dataloader batchsize to 2500\n",
      "[AGT] [INFO    ] [21:49:12] Batch 1. Loss (accuracy) 0.820 <= 0.820 <= 0.828\n",
      "[AGT] [INFO    ] [21:49:12] Batch 2. Loss (accuracy) 0.880 <= 0.880 <= 0.880\n",
      "[AGT] [INFO    ] [21:49:12] Starting epoch 3 of 4.\n",
      "[AGT] [DEBUG   ] [21:49:12] Initialising dataloader batchsize to 2500\n",
      "[AGT] [INFO    ] [21:49:12] Batch 1. Loss (accuracy) 0.884 <= 0.888 <= 0.892\n",
      "[AGT] [INFO    ] [21:49:12] Batch 2. Loss (accuracy) 0.856 <= 0.864 <= 0.872\n",
      "[AGT] [INFO    ] [21:49:13] Starting epoch 4 of 4.\n",
      "[AGT] [DEBUG   ] [21:49:13] Initialising dataloader batchsize to 2500\n",
      "[AGT] [INFO    ] [21:49:13] Batch 1. Loss (accuracy) 0.840 <= 0.848 <= 0.856\n",
      "[AGT] [INFO    ] [21:49:13] Batch 2. Loss (accuracy) 0.892 <= 0.904 <= 0.908\n",
      "[AGT] [INFO    ] [21:49:13] Final Eval. Loss (accuracy): 0.892 <= 0.900 <= 0.908\n",
      "[AGT] [INFO    ] [21:49:13] =================== Finished Privacy Certified Training ===================\n",
      "[AGT] [INFO    ] [21:49:13] =================== Starting Privacy Certified Training ===================\n",
      "[AGT] [DEBUG   ] [21:49:13] \tOptimizer params: n_epochs=4, learning_rate=2.0, l1_reg=0.0, l2_reg=0.0\n",
      "[AGT] [DEBUG   ] [21:49:13] \tLearning rate schedule: lr_decay=0.6, lr_min=0.001\n",
      "[AGT] [DEBUG   ] [21:49:13] \tGradient clipping: gamma=1.0, method=clamp\n",
      "[AGT] [DEBUG   ] [21:49:13] \tPrivacy parameter: k_private=3\n",
      "[AGT] [INFO    ] [21:49:13] Starting epoch 1 of 4.\n",
      "[AGT] [DEBUG   ] [21:49:13] Initialising dataloader batchsize to 2500\n",
      "[AGT] [INFO    ] [21:49:13] Batch 1. Loss (accuracy) 0.540 <= 0.540 <= 0.540\n"
     ]
    },
    {
     "name": "stdout",
     "output_type": "stream",
     "text": [
      "Training model 15 with k=3\n",
      "cpu\n"
     ]
    },
    {
     "name": "stderr",
     "output_type": "stream",
     "text": [
      "[AGT] [INFO    ] [21:49:14] Batch 2. Loss (accuracy) 0.824 <= 0.824 <= 0.828\n",
      "[AGT] [INFO    ] [21:49:14] Starting epoch 2 of 4.\n",
      "[AGT] [DEBUG   ] [21:49:14] Initialising dataloader batchsize to 2500\n",
      "[AGT] [INFO    ] [21:49:14] Batch 1. Loss (accuracy) 0.820 <= 0.820 <= 0.828\n",
      "[AGT] [INFO    ] [21:49:14] Batch 2. Loss (accuracy) 0.872 <= 0.880 <= 0.888\n",
      "[AGT] [INFO    ] [21:49:14] Starting epoch 3 of 4.\n",
      "[AGT] [DEBUG   ] [21:49:14] Initialising dataloader batchsize to 2500\n",
      "[AGT] [INFO    ] [21:49:14] Batch 1. Loss (accuracy) 0.876 <= 0.888 <= 0.896\n",
      "[AGT] [INFO    ] [21:49:15] Batch 2. Loss (accuracy) 0.840 <= 0.864 <= 0.892\n",
      "[AGT] [INFO    ] [21:49:15] Starting epoch 4 of 4.\n",
      "[AGT] [DEBUG   ] [21:49:15] Initialising dataloader batchsize to 2500\n",
      "[AGT] [INFO    ] [21:49:15] Batch 1. Loss (accuracy) 0.824 <= 0.848 <= 0.872\n",
      "[AGT] [INFO    ] [21:49:15] Batch 2. Loss (accuracy) 0.872 <= 0.904 <= 0.924\n",
      "[AGT] [INFO    ] [21:49:16] Final Eval. Loss (accuracy): 0.864 <= 0.900 <= 0.916\n",
      "[AGT] [INFO    ] [21:49:16] =================== Finished Privacy Certified Training ===================\n",
      "[AGT] [INFO    ] [21:49:16] =================== Starting Privacy Certified Training ===================\n",
      "[AGT] [DEBUG   ] [21:49:16] \tOptimizer params: n_epochs=4, learning_rate=2.0, l1_reg=0.0, l2_reg=0.0\n",
      "[AGT] [DEBUG   ] [21:49:16] \tLearning rate schedule: lr_decay=0.6, lr_min=0.001\n",
      "[AGT] [DEBUG   ] [21:49:16] \tGradient clipping: gamma=1.0, method=clamp\n",
      "[AGT] [DEBUG   ] [21:49:16] \tPrivacy parameter: k_private=5\n",
      "[AGT] [INFO    ] [21:49:16] Starting epoch 1 of 4.\n",
      "[AGT] [DEBUG   ] [21:49:16] Initialising dataloader batchsize to 2500\n",
      "[AGT] [INFO    ] [21:49:16] Batch 1. Loss (accuracy) 0.540 <= 0.540 <= 0.540\n"
     ]
    },
    {
     "name": "stdout",
     "output_type": "stream",
     "text": [
      "Training model 15 with k=5\n",
      "cpu\n"
     ]
    },
    {
     "name": "stderr",
     "output_type": "stream",
     "text": [
      "[AGT] [INFO    ] [21:49:16] Batch 2. Loss (accuracy) 0.816 <= 0.824 <= 0.828\n",
      "[AGT] [INFO    ] [21:49:16] Starting epoch 2 of 4.\n",
      "[AGT] [DEBUG   ] [21:49:16] Initialising dataloader batchsize to 2500\n",
      "[AGT] [INFO    ] [21:49:16] Batch 1. Loss (accuracy) 0.816 <= 0.820 <= 0.828\n",
      "[AGT] [INFO    ] [21:49:17] Batch 2. Loss (accuracy) 0.864 <= 0.880 <= 0.892\n",
      "[AGT] [INFO    ] [21:49:17] Starting epoch 3 of 4.\n",
      "[AGT] [DEBUG   ] [21:49:17] Initialising dataloader batchsize to 2500\n",
      "[AGT] [INFO    ] [21:49:17] Batch 1. Loss (accuracy) 0.856 <= 0.888 <= 0.904\n",
      "[AGT] [INFO    ] [21:49:17] Batch 2. Loss (accuracy) 0.832 <= 0.864 <= 0.908\n",
      "[AGT] [INFO    ] [21:49:17] Starting epoch 4 of 4.\n",
      "[AGT] [DEBUG   ] [21:49:18] Initialising dataloader batchsize to 2500\n",
      "[AGT] [INFO    ] [21:49:18] Batch 1. Loss (accuracy) 0.820 <= 0.848 <= 0.880\n",
      "[AGT] [INFO    ] [21:49:18] Batch 2. Loss (accuracy) 0.856 <= 0.904 <= 0.936\n",
      "[AGT] [INFO    ] [21:49:18] Final Eval. Loss (accuracy): 0.852 <= 0.900 <= 0.944\n",
      "[AGT] [INFO    ] [21:49:18] =================== Finished Privacy Certified Training ===================\n",
      "[AGT] [INFO    ] [21:49:18] =================== Starting Privacy Certified Training ===================\n",
      "[AGT] [DEBUG   ] [21:49:18] \tOptimizer params: n_epochs=4, learning_rate=2.0, l1_reg=0.0, l2_reg=0.0\n",
      "[AGT] [DEBUG   ] [21:49:18] \tLearning rate schedule: lr_decay=0.6, lr_min=0.001\n",
      "[AGT] [DEBUG   ] [21:49:18] \tGradient clipping: gamma=1.0, method=clamp\n",
      "[AGT] [DEBUG   ] [21:49:18] \tPrivacy parameter: k_private=7\n",
      "[AGT] [INFO    ] [21:49:18] Starting epoch 1 of 4.\n",
      "[AGT] [DEBUG   ] [21:49:18] Initialising dataloader batchsize to 2500\n",
      "[AGT] [INFO    ] [21:49:18] Batch 1. Loss (accuracy) 0.540 <= 0.540 <= 0.540\n"
     ]
    },
    {
     "name": "stdout",
     "output_type": "stream",
     "text": [
      "Training model 15 with k=7\n",
      "cpu\n"
     ]
    },
    {
     "name": "stderr",
     "output_type": "stream",
     "text": [
      "[AGT] [INFO    ] [21:49:18] Batch 2. Loss (accuracy) 0.812 <= 0.824 <= 0.828\n",
      "[AGT] [INFO    ] [21:49:19] Starting epoch 2 of 4.\n",
      "[AGT] [DEBUG   ] [21:49:19] Initialising dataloader batchsize to 2500\n",
      "[AGT] [INFO    ] [21:49:19] Batch 1. Loss (accuracy) 0.808 <= 0.820 <= 0.828\n",
      "[AGT] [INFO    ] [21:49:19] Batch 2. Loss (accuracy) 0.856 <= 0.880 <= 0.900\n",
      "[AGT] [INFO    ] [21:49:19] Starting epoch 3 of 4.\n",
      "[AGT] [DEBUG   ] [21:49:19] Initialising dataloader batchsize to 2500\n",
      "[AGT] [INFO    ] [21:49:19] Batch 1. Loss (accuracy) 0.852 <= 0.888 <= 0.904\n",
      "[AGT] [INFO    ] [21:49:20] Batch 2. Loss (accuracy) 0.828 <= 0.864 <= 0.912\n",
      "[AGT] [INFO    ] [21:49:20] Starting epoch 4 of 4.\n",
      "[AGT] [DEBUG   ] [21:49:20] Initialising dataloader batchsize to 2500\n",
      "[AGT] [INFO    ] [21:49:20] Batch 1. Loss (accuracy) 0.796 <= 0.848 <= 0.900\n",
      "[AGT] [INFO    ] [21:49:20] Batch 2. Loss (accuracy) 0.836 <= 0.904 <= 0.940\n",
      "[AGT] [INFO    ] [21:49:20] Final Eval. Loss (accuracy): 0.844 <= 0.900 <= 0.956\n",
      "[AGT] [INFO    ] [21:49:20] =================== Finished Privacy Certified Training ===================\n",
      "[AGT] [INFO    ] [21:49:20] =================== Starting Privacy Certified Training ===================\n",
      "[AGT] [DEBUG   ] [21:49:20] \tOptimizer params: n_epochs=4, learning_rate=2.0, l1_reg=0.0, l2_reg=0.0\n",
      "[AGT] [DEBUG   ] [21:49:20] \tLearning rate schedule: lr_decay=0.6, lr_min=0.001\n",
      "[AGT] [DEBUG   ] [21:49:20] \tGradient clipping: gamma=1.0, method=clamp\n",
      "[AGT] [DEBUG   ] [21:49:20] \tPrivacy parameter: k_private=8\n",
      "[AGT] [INFO    ] [21:49:20] Starting epoch 1 of 4.\n",
      "[AGT] [DEBUG   ] [21:49:21] Initialising dataloader batchsize to 2500\n",
      "[AGT] [INFO    ] [21:49:21] Batch 1. Loss (accuracy) 0.540 <= 0.540 <= 0.540\n"
     ]
    },
    {
     "name": "stdout",
     "output_type": "stream",
     "text": [
      "Training model 15 with k=8\n",
      "cpu\n"
     ]
    },
    {
     "name": "stderr",
     "output_type": "stream",
     "text": [
      "[AGT] [INFO    ] [21:49:21] Batch 2. Loss (accuracy) 0.812 <= 0.824 <= 0.828\n",
      "[AGT] [INFO    ] [21:49:21] Starting epoch 2 of 4.\n",
      "[AGT] [DEBUG   ] [21:49:21] Initialising dataloader batchsize to 2500\n",
      "[AGT] [INFO    ] [21:49:21] Batch 1. Loss (accuracy) 0.808 <= 0.820 <= 0.828\n",
      "[AGT] [INFO    ] [21:49:21] Batch 2. Loss (accuracy) 0.844 <= 0.880 <= 0.904\n",
      "[AGT] [INFO    ] [21:49:22] Starting epoch 3 of 4.\n",
      "[AGT] [DEBUG   ] [21:49:22] Initialising dataloader batchsize to 2500\n",
      "[AGT] [INFO    ] [21:49:22] Batch 1. Loss (accuracy) 0.848 <= 0.888 <= 0.908\n",
      "[AGT] [INFO    ] [21:49:22] Batch 2. Loss (accuracy) 0.824 <= 0.864 <= 0.916\n",
      "[AGT] [INFO    ] [21:49:22] Starting epoch 4 of 4.\n",
      "[AGT] [DEBUG   ] [21:49:22] Initialising dataloader batchsize to 2500\n",
      "[AGT] [INFO    ] [21:49:22] Batch 1. Loss (accuracy) 0.784 <= 0.848 <= 0.912\n",
      "[AGT] [INFO    ] [21:49:22] Batch 2. Loss (accuracy) 0.820 <= 0.904 <= 0.940\n",
      "[AGT] [INFO    ] [21:49:23] Final Eval. Loss (accuracy): 0.832 <= 0.900 <= 0.964\n",
      "[AGT] [INFO    ] [21:49:23] =================== Finished Privacy Certified Training ===================\n",
      "[AGT] [INFO    ] [21:49:23] =================== Starting Privacy Certified Training ===================\n",
      "[AGT] [DEBUG   ] [21:49:23] \tOptimizer params: n_epochs=4, learning_rate=2.0, l1_reg=0.0, l2_reg=0.0\n",
      "[AGT] [DEBUG   ] [21:49:23] \tLearning rate schedule: lr_decay=0.6, lr_min=0.001\n",
      "[AGT] [DEBUG   ] [21:49:23] \tGradient clipping: gamma=1.0, method=clamp\n",
      "[AGT] [DEBUG   ] [21:49:23] \tPrivacy parameter: k_private=1\n",
      "[AGT] [INFO    ] [21:49:23] Starting epoch 1 of 4.\n",
      "[AGT] [DEBUG   ] [21:49:23] Initialising dataloader batchsize to 2500\n",
      "[AGT] [INFO    ] [21:49:23] Batch 1. Loss (accuracy) 0.700 <= 0.700 <= 0.700\n"
     ]
    },
    {
     "name": "stdout",
     "output_type": "stream",
     "text": [
      "Training model 16 with k=1\n",
      "cpu\n"
     ]
    },
    {
     "name": "stderr",
     "output_type": "stream",
     "text": [
      "[AGT] [INFO    ] [21:49:24] Batch 2. Loss (accuracy) 0.796 <= 0.796 <= 0.800\n",
      "[AGT] [INFO    ] [21:49:24] Starting epoch 2 of 4.\n",
      "[AGT] [DEBUG   ] [21:49:24] Initialising dataloader batchsize to 2500\n",
      "[AGT] [INFO    ] [21:49:24] Batch 1. Loss (accuracy) 0.804 <= 0.804 <= 0.804\n",
      "[AGT] [INFO    ] [21:49:24] Batch 2. Loss (accuracy) 0.860 <= 0.864 <= 0.868\n",
      "[AGT] [INFO    ] [21:49:24] Starting epoch 3 of 4.\n",
      "[AGT] [DEBUG   ] [21:49:24] Initialising dataloader batchsize to 2500\n",
      "[AGT] [INFO    ] [21:49:25] Batch 1. Loss (accuracy) 0.868 <= 0.868 <= 0.872\n",
      "[AGT] [INFO    ] [21:49:25] Batch 2. Loss (accuracy) 0.836 <= 0.856 <= 0.856\n",
      "[AGT] [INFO    ] [21:49:25] Starting epoch 4 of 4.\n",
      "[AGT] [DEBUG   ] [21:49:25] Initialising dataloader batchsize to 2500\n",
      "[AGT] [INFO    ] [21:49:25] Batch 1. Loss (accuracy) 0.828 <= 0.832 <= 0.840\n",
      "[AGT] [INFO    ] [21:49:26] Batch 2. Loss (accuracy) 0.880 <= 0.884 <= 0.892\n",
      "[AGT] [INFO    ] [21:49:26] Final Eval. Loss (accuracy): 0.872 <= 0.888 <= 0.900\n",
      "[AGT] [INFO    ] [21:49:26] =================== Finished Privacy Certified Training ===================\n",
      "[AGT] [INFO    ] [21:49:26] =================== Starting Privacy Certified Training ===================\n",
      "[AGT] [DEBUG   ] [21:49:26] \tOptimizer params: n_epochs=4, learning_rate=2.0, l1_reg=0.0, l2_reg=0.0\n",
      "[AGT] [DEBUG   ] [21:49:26] \tLearning rate schedule: lr_decay=0.6, lr_min=0.001\n",
      "[AGT] [DEBUG   ] [21:49:26] \tGradient clipping: gamma=1.0, method=clamp\n",
      "[AGT] [DEBUG   ] [21:49:26] \tPrivacy parameter: k_private=3\n",
      "[AGT] [INFO    ] [21:49:26] Starting epoch 1 of 4.\n",
      "[AGT] [DEBUG   ] [21:49:26] Initialising dataloader batchsize to 2500\n",
      "[AGT] [INFO    ] [21:49:26] Batch 1. Loss (accuracy) 0.700 <= 0.700 <= 0.700\n"
     ]
    },
    {
     "name": "stdout",
     "output_type": "stream",
     "text": [
      "Training model 16 with k=3\n",
      "cpu\n"
     ]
    },
    {
     "name": "stderr",
     "output_type": "stream",
     "text": [
      "[AGT] [INFO    ] [21:49:26] Batch 2. Loss (accuracy) 0.796 <= 0.796 <= 0.800\n",
      "[AGT] [INFO    ] [21:49:27] Starting epoch 2 of 4.\n",
      "[AGT] [DEBUG   ] [21:49:27] Initialising dataloader batchsize to 2500\n",
      "[AGT] [INFO    ] [21:49:27] Batch 1. Loss (accuracy) 0.800 <= 0.804 <= 0.808\n",
      "[AGT] [INFO    ] [21:49:27] Batch 2. Loss (accuracy) 0.844 <= 0.864 <= 0.868\n",
      "[AGT] [INFO    ] [21:49:27] Starting epoch 3 of 4.\n",
      "[AGT] [DEBUG   ] [21:49:27] Initialising dataloader batchsize to 2500\n",
      "[AGT] [INFO    ] [21:49:27] Batch 1. Loss (accuracy) 0.864 <= 0.868 <= 0.880\n",
      "[AGT] [INFO    ] [21:49:27] Batch 2. Loss (accuracy) 0.828 <= 0.856 <= 0.868\n",
      "[AGT] [INFO    ] [21:49:28] Starting epoch 4 of 4.\n",
      "[AGT] [DEBUG   ] [21:49:28] Initialising dataloader batchsize to 2500\n",
      "[AGT] [INFO    ] [21:49:28] Batch 1. Loss (accuracy) 0.808 <= 0.832 <= 0.848\n",
      "[AGT] [INFO    ] [21:49:28] Batch 2. Loss (accuracy) 0.848 <= 0.884 <= 0.912\n",
      "[AGT] [INFO    ] [21:49:28] Final Eval. Loss (accuracy): 0.852 <= 0.888 <= 0.912\n",
      "[AGT] [INFO    ] [21:49:28] =================== Finished Privacy Certified Training ===================\n",
      "[AGT] [INFO    ] [21:49:28] =================== Starting Privacy Certified Training ===================\n",
      "[AGT] [DEBUG   ] [21:49:28] \tOptimizer params: n_epochs=4, learning_rate=2.0, l1_reg=0.0, l2_reg=0.0\n",
      "[AGT] [DEBUG   ] [21:49:28] \tLearning rate schedule: lr_decay=0.6, lr_min=0.001\n",
      "[AGT] [DEBUG   ] [21:49:28] \tGradient clipping: gamma=1.0, method=clamp\n",
      "[AGT] [DEBUG   ] [21:49:28] \tPrivacy parameter: k_private=5\n",
      "[AGT] [INFO    ] [21:49:28] Starting epoch 1 of 4.\n",
      "[AGT] [DEBUG   ] [21:49:28] Initialising dataloader batchsize to 2500\n",
      "[AGT] [INFO    ] [21:49:28] Batch 1. Loss (accuracy) 0.700 <= 0.700 <= 0.700\n"
     ]
    },
    {
     "name": "stdout",
     "output_type": "stream",
     "text": [
      "Training model 16 with k=5\n",
      "cpu\n"
     ]
    },
    {
     "name": "stderr",
     "output_type": "stream",
     "text": [
      "[AGT] [INFO    ] [21:49:29] Batch 2. Loss (accuracy) 0.796 <= 0.796 <= 0.804\n",
      "[AGT] [INFO    ] [21:49:29] Starting epoch 2 of 4.\n",
      "[AGT] [DEBUG   ] [21:49:29] Initialising dataloader batchsize to 2500\n",
      "[AGT] [INFO    ] [21:49:29] Batch 1. Loss (accuracy) 0.800 <= 0.804 <= 0.808\n",
      "[AGT] [INFO    ] [21:49:29] Batch 2. Loss (accuracy) 0.832 <= 0.864 <= 0.880\n",
      "[AGT] [INFO    ] [21:49:29] Starting epoch 3 of 4.\n",
      "[AGT] [DEBUG   ] [21:49:29] Initialising dataloader batchsize to 2500\n",
      "[AGT] [INFO    ] [21:49:29] Batch 1. Loss (accuracy) 0.852 <= 0.868 <= 0.892\n",
      "[AGT] [INFO    ] [21:49:30] Batch 2. Loss (accuracy) 0.804 <= 0.856 <= 0.872\n",
      "[AGT] [INFO    ] [21:49:30] Starting epoch 4 of 4.\n",
      "[AGT] [DEBUG   ] [21:49:30] Initialising dataloader batchsize to 2500\n",
      "[AGT] [INFO    ] [21:49:30] Batch 1. Loss (accuracy) 0.788 <= 0.832 <= 0.872\n",
      "[AGT] [INFO    ] [21:49:30] Batch 2. Loss (accuracy) 0.832 <= 0.884 <= 0.932\n",
      "[AGT] [INFO    ] [21:49:30] Final Eval. Loss (accuracy): 0.836 <= 0.888 <= 0.940\n",
      "[AGT] [INFO    ] [21:49:30] =================== Finished Privacy Certified Training ===================\n",
      "[AGT] [INFO    ] [21:49:30] =================== Starting Privacy Certified Training ===================\n",
      "[AGT] [DEBUG   ] [21:49:30] \tOptimizer params: n_epochs=4, learning_rate=2.0, l1_reg=0.0, l2_reg=0.0\n",
      "[AGT] [DEBUG   ] [21:49:30] \tLearning rate schedule: lr_decay=0.6, lr_min=0.001\n",
      "[AGT] [DEBUG   ] [21:49:30] \tGradient clipping: gamma=1.0, method=clamp\n",
      "[AGT] [DEBUG   ] [21:49:30] \tPrivacy parameter: k_private=7\n",
      "[AGT] [INFO    ] [21:49:30] Starting epoch 1 of 4.\n",
      "[AGT] [DEBUG   ] [21:49:30] Initialising dataloader batchsize to 2500\n",
      "[AGT] [INFO    ] [21:49:30] Batch 1. Loss (accuracy) 0.700 <= 0.700 <= 0.700\n"
     ]
    },
    {
     "name": "stdout",
     "output_type": "stream",
     "text": [
      "Training model 16 with k=7\n",
      "cpu\n"
     ]
    },
    {
     "name": "stderr",
     "output_type": "stream",
     "text": [
      "[AGT] [INFO    ] [21:49:31] Batch 2. Loss (accuracy) 0.796 <= 0.796 <= 0.808\n",
      "[AGT] [INFO    ] [21:49:31] Starting epoch 2 of 4.\n",
      "[AGT] [DEBUG   ] [21:49:31] Initialising dataloader batchsize to 2500\n",
      "[AGT] [INFO    ] [21:49:31] Batch 1. Loss (accuracy) 0.796 <= 0.804 <= 0.808\n",
      "[AGT] [INFO    ] [21:49:31] Batch 2. Loss (accuracy) 0.832 <= 0.864 <= 0.880\n",
      "[AGT] [INFO    ] [21:49:31] Starting epoch 3 of 4.\n",
      "[AGT] [DEBUG   ] [21:49:31] Initialising dataloader batchsize to 2500\n",
      "[AGT] [INFO    ] [21:49:31] Batch 1. Loss (accuracy) 0.836 <= 0.868 <= 0.900\n",
      "[AGT] [INFO    ] [21:49:32] Batch 2. Loss (accuracy) 0.784 <= 0.856 <= 0.896\n",
      "[AGT] [INFO    ] [21:49:32] Starting epoch 4 of 4.\n",
      "[AGT] [DEBUG   ] [21:49:32] Initialising dataloader batchsize to 2500\n",
      "[AGT] [INFO    ] [21:49:32] Batch 1. Loss (accuracy) 0.768 <= 0.832 <= 0.904\n",
      "[AGT] [INFO    ] [21:49:32] Batch 2. Loss (accuracy) 0.788 <= 0.884 <= 0.952\n",
      "[AGT] [INFO    ] [21:49:33] Final Eval. Loss (accuracy): 0.784 <= 0.888 <= 0.960\n",
      "[AGT] [INFO    ] [21:49:33] =================== Finished Privacy Certified Training ===================\n",
      "[AGT] [INFO    ] [21:49:33] =================== Starting Privacy Certified Training ===================\n",
      "[AGT] [DEBUG   ] [21:49:33] \tOptimizer params: n_epochs=4, learning_rate=2.0, l1_reg=0.0, l2_reg=0.0\n",
      "[AGT] [DEBUG   ] [21:49:33] \tLearning rate schedule: lr_decay=0.6, lr_min=0.001\n",
      "[AGT] [DEBUG   ] [21:49:33] \tGradient clipping: gamma=1.0, method=clamp\n",
      "[AGT] [DEBUG   ] [21:49:33] \tPrivacy parameter: k_private=8\n",
      "[AGT] [INFO    ] [21:49:33] Starting epoch 1 of 4.\n",
      "[AGT] [DEBUG   ] [21:49:33] Initialising dataloader batchsize to 2500\n",
      "[AGT] [INFO    ] [21:49:33] Batch 1. Loss (accuracy) 0.700 <= 0.700 <= 0.700\n"
     ]
    },
    {
     "name": "stdout",
     "output_type": "stream",
     "text": [
      "Training model 16 with k=8\n",
      "cpu\n"
     ]
    },
    {
     "name": "stderr",
     "output_type": "stream",
     "text": [
      "[AGT] [INFO    ] [21:49:33] Batch 2. Loss (accuracy) 0.796 <= 0.796 <= 0.812\n",
      "[AGT] [INFO    ] [21:49:33] Starting epoch 2 of 4.\n",
      "[AGT] [DEBUG   ] [21:49:33] Initialising dataloader batchsize to 2500\n",
      "[AGT] [INFO    ] [21:49:33] Batch 1. Loss (accuracy) 0.796 <= 0.804 <= 0.812\n",
      "[AGT] [INFO    ] [21:49:34] Batch 2. Loss (accuracy) 0.828 <= 0.864 <= 0.884\n",
      "[AGT] [INFO    ] [21:49:34] Starting epoch 3 of 4.\n",
      "[AGT] [DEBUG   ] [21:49:34] Initialising dataloader batchsize to 2500\n",
      "[AGT] [INFO    ] [21:49:34] Batch 1. Loss (accuracy) 0.836 <= 0.868 <= 0.900\n",
      "[AGT] [INFO    ] [21:49:34] Batch 2. Loss (accuracy) 0.764 <= 0.856 <= 0.908\n",
      "[AGT] [INFO    ] [21:49:34] Starting epoch 4 of 4.\n",
      "[AGT] [DEBUG   ] [21:49:34] Initialising dataloader batchsize to 2500\n",
      "[AGT] [INFO    ] [21:49:34] Batch 1. Loss (accuracy) 0.752 <= 0.832 <= 0.916\n",
      "[AGT] [INFO    ] [21:49:35] Batch 2. Loss (accuracy) 0.760 <= 0.884 <= 0.952\n",
      "[AGT] [INFO    ] [21:49:35] Final Eval. Loss (accuracy): 0.744 <= 0.888 <= 0.964\n",
      "[AGT] [INFO    ] [21:49:35] =================== Finished Privacy Certified Training ===================\n",
      "[AGT] [INFO    ] [21:49:35] =================== Starting Privacy Certified Training ===================\n",
      "[AGT] [DEBUG   ] [21:49:35] \tOptimizer params: n_epochs=4, learning_rate=2.0, l1_reg=0.0, l2_reg=0.0\n",
      "[AGT] [DEBUG   ] [21:49:35] \tLearning rate schedule: lr_decay=0.6, lr_min=0.001\n",
      "[AGT] [DEBUG   ] [21:49:35] \tGradient clipping: gamma=1.0, method=clamp\n",
      "[AGT] [DEBUG   ] [21:49:35] \tPrivacy parameter: k_private=1\n",
      "[AGT] [INFO    ] [21:49:35] Starting epoch 1 of 4.\n",
      "[AGT] [DEBUG   ] [21:49:35] Initialising dataloader batchsize to 2500\n",
      "[AGT] [INFO    ] [21:49:35] Batch 1. Loss (accuracy) 0.632 <= 0.632 <= 0.632\n"
     ]
    },
    {
     "name": "stdout",
     "output_type": "stream",
     "text": [
      "Training model 17 with k=1\n",
      "cpu\n"
     ]
    },
    {
     "name": "stderr",
     "output_type": "stream",
     "text": [
      "[AGT] [INFO    ] [21:49:35] Batch 2. Loss (accuracy) 0.824 <= 0.824 <= 0.828\n",
      "[AGT] [INFO    ] [21:49:36] Starting epoch 2 of 4.\n",
      "[AGT] [DEBUG   ] [21:49:36] Initialising dataloader batchsize to 2500\n",
      "[AGT] [INFO    ] [21:49:36] Batch 1. Loss (accuracy) 0.876 <= 0.876 <= 0.876\n",
      "[AGT] [INFO    ] [21:49:36] Batch 2. Loss (accuracy) 0.884 <= 0.892 <= 0.892\n",
      "[AGT] [INFO    ] [21:49:36] Starting epoch 3 of 4.\n",
      "[AGT] [DEBUG   ] [21:49:36] Initialising dataloader batchsize to 2500\n",
      "[AGT] [INFO    ] [21:49:36] Batch 1. Loss (accuracy) 0.892 <= 0.896 <= 0.896\n",
      "[AGT] [INFO    ] [21:49:36] Batch 2. Loss (accuracy) 0.876 <= 0.876 <= 0.880\n",
      "[AGT] [INFO    ] [21:49:37] Starting epoch 4 of 4.\n",
      "[AGT] [DEBUG   ] [21:49:37] Initialising dataloader batchsize to 2500\n",
      "[AGT] [INFO    ] [21:49:37] Batch 1. Loss (accuracy) 0.868 <= 0.872 <= 0.888\n",
      "[AGT] [INFO    ] [21:49:37] Batch 2. Loss (accuracy) 0.900 <= 0.904 <= 0.920\n",
      "[AGT] [INFO    ] [21:49:37] Final Eval. Loss (accuracy): 0.888 <= 0.908 <= 0.920\n",
      "[AGT] [INFO    ] [21:49:37] =================== Finished Privacy Certified Training ===================\n",
      "[AGT] [INFO    ] [21:49:37] =================== Starting Privacy Certified Training ===================\n",
      "[AGT] [DEBUG   ] [21:49:37] \tOptimizer params: n_epochs=4, learning_rate=2.0, l1_reg=0.0, l2_reg=0.0\n",
      "[AGT] [DEBUG   ] [21:49:37] \tLearning rate schedule: lr_decay=0.6, lr_min=0.001\n",
      "[AGT] [DEBUG   ] [21:49:37] \tGradient clipping: gamma=1.0, method=clamp\n",
      "[AGT] [DEBUG   ] [21:49:37] \tPrivacy parameter: k_private=3\n",
      "[AGT] [INFO    ] [21:49:37] Starting epoch 1 of 4.\n",
      "[AGT] [DEBUG   ] [21:49:37] Initialising dataloader batchsize to 2500\n",
      "[AGT] [INFO    ] [21:49:37] Batch 1. Loss (accuracy) 0.632 <= 0.632 <= 0.632\n"
     ]
    },
    {
     "name": "stdout",
     "output_type": "stream",
     "text": [
      "Training model 17 with k=3\n",
      "cpu\n"
     ]
    },
    {
     "name": "stderr",
     "output_type": "stream",
     "text": [
      "[AGT] [INFO    ] [21:49:38] Batch 2. Loss (accuracy) 0.820 <= 0.824 <= 0.832\n",
      "[AGT] [INFO    ] [21:49:38] Starting epoch 2 of 4.\n",
      "[AGT] [DEBUG   ] [21:49:38] Initialising dataloader batchsize to 2500\n",
      "[AGT] [INFO    ] [21:49:38] Batch 1. Loss (accuracy) 0.876 <= 0.876 <= 0.876\n",
      "[AGT] [INFO    ] [21:49:38] Batch 2. Loss (accuracy) 0.880 <= 0.892 <= 0.896\n",
      "[AGT] [INFO    ] [21:49:39] Starting epoch 3 of 4.\n",
      "[AGT] [DEBUG   ] [21:49:39] Initialising dataloader batchsize to 2500\n",
      "[AGT] [INFO    ] [21:49:39] Batch 1. Loss (accuracy) 0.888 <= 0.896 <= 0.904\n",
      "[AGT] [INFO    ] [21:49:39] Batch 2. Loss (accuracy) 0.864 <= 0.876 <= 0.888\n",
      "[AGT] [INFO    ] [21:49:39] Starting epoch 4 of 4.\n",
      "[AGT] [DEBUG   ] [21:49:39] Initialising dataloader batchsize to 2500\n",
      "[AGT] [INFO    ] [21:49:39] Batch 1. Loss (accuracy) 0.832 <= 0.872 <= 0.912\n",
      "[AGT] [INFO    ] [21:49:39] Batch 2. Loss (accuracy) 0.872 <= 0.904 <= 0.936\n",
      "[AGT] [INFO    ] [21:49:40] Final Eval. Loss (accuracy): 0.880 <= 0.908 <= 0.948\n",
      "[AGT] [INFO    ] [21:49:40] =================== Finished Privacy Certified Training ===================\n",
      "[AGT] [INFO    ] [21:49:40] =================== Starting Privacy Certified Training ===================\n",
      "[AGT] [DEBUG   ] [21:49:40] \tOptimizer params: n_epochs=4, learning_rate=2.0, l1_reg=0.0, l2_reg=0.0\n",
      "[AGT] [DEBUG   ] [21:49:40] \tLearning rate schedule: lr_decay=0.6, lr_min=0.001\n",
      "[AGT] [DEBUG   ] [21:49:40] \tGradient clipping: gamma=1.0, method=clamp\n",
      "[AGT] [DEBUG   ] [21:49:40] \tPrivacy parameter: k_private=5\n",
      "[AGT] [INFO    ] [21:49:40] Starting epoch 1 of 4.\n",
      "[AGT] [DEBUG   ] [21:49:40] Initialising dataloader batchsize to 2500\n",
      "[AGT] [INFO    ] [21:49:40] Batch 1. Loss (accuracy) 0.632 <= 0.632 <= 0.632\n"
     ]
    },
    {
     "name": "stdout",
     "output_type": "stream",
     "text": [
      "Training model 17 with k=5\n",
      "cpu\n"
     ]
    },
    {
     "name": "stderr",
     "output_type": "stream",
     "text": [
      "[AGT] [INFO    ] [21:49:40] Batch 2. Loss (accuracy) 0.820 <= 0.824 <= 0.836\n",
      "[AGT] [INFO    ] [21:49:40] Starting epoch 2 of 4.\n",
      "[AGT] [DEBUG   ] [21:49:40] Initialising dataloader batchsize to 2500\n",
      "[AGT] [INFO    ] [21:49:40] Batch 1. Loss (accuracy) 0.868 <= 0.876 <= 0.876\n",
      "[AGT] [INFO    ] [21:49:40] Batch 2. Loss (accuracy) 0.876 <= 0.892 <= 0.912\n",
      "[AGT] [INFO    ] [21:49:41] Starting epoch 3 of 4.\n",
      "[AGT] [DEBUG   ] [21:49:41] Initialising dataloader batchsize to 2500\n",
      "[AGT] [INFO    ] [21:49:41] Batch 1. Loss (accuracy) 0.888 <= 0.896 <= 0.920\n",
      "[AGT] [INFO    ] [21:49:41] Batch 2. Loss (accuracy) 0.840 <= 0.876 <= 0.916\n",
      "[AGT] [INFO    ] [21:49:41] Starting epoch 4 of 4.\n",
      "[AGT] [DEBUG   ] [21:49:41] Initialising dataloader batchsize to 2500\n",
      "[AGT] [INFO    ] [21:49:41] Batch 1. Loss (accuracy) 0.816 <= 0.872 <= 0.928\n",
      "[AGT] [INFO    ] [21:49:42] Batch 2. Loss (accuracy) 0.832 <= 0.904 <= 0.972\n",
      "[AGT] [INFO    ] [21:49:42] Final Eval. Loss (accuracy): 0.796 <= 0.908 <= 0.980\n",
      "[AGT] [INFO    ] [21:49:42] =================== Finished Privacy Certified Training ===================\n",
      "[AGT] [INFO    ] [21:49:42] =================== Starting Privacy Certified Training ===================\n",
      "[AGT] [DEBUG   ] [21:49:42] \tOptimizer params: n_epochs=4, learning_rate=2.0, l1_reg=0.0, l2_reg=0.0\n",
      "[AGT] [DEBUG   ] [21:49:42] \tLearning rate schedule: lr_decay=0.6, lr_min=0.001\n",
      "[AGT] [DEBUG   ] [21:49:42] \tGradient clipping: gamma=1.0, method=clamp\n",
      "[AGT] [DEBUG   ] [21:49:42] \tPrivacy parameter: k_private=7\n",
      "[AGT] [INFO    ] [21:49:42] Starting epoch 1 of 4.\n",
      "[AGT] [DEBUG   ] [21:49:42] Initialising dataloader batchsize to 2500\n",
      "[AGT] [INFO    ] [21:49:42] Batch 1. Loss (accuracy) 0.632 <= 0.632 <= 0.632\n"
     ]
    },
    {
     "name": "stdout",
     "output_type": "stream",
     "text": [
      "Training model 17 with k=7\n",
      "cpu\n"
     ]
    },
    {
     "name": "stderr",
     "output_type": "stream",
     "text": [
      "[AGT] [INFO    ] [21:49:42] Batch 2. Loss (accuracy) 0.820 <= 0.824 <= 0.836\n",
      "[AGT] [INFO    ] [21:49:42] Starting epoch 2 of 4.\n",
      "[AGT] [DEBUG   ] [21:49:42] Initialising dataloader batchsize to 2500\n",
      "[AGT] [INFO    ] [21:49:42] Batch 1. Loss (accuracy) 0.860 <= 0.876 <= 0.876\n",
      "[AGT] [INFO    ] [21:49:43] Batch 2. Loss (accuracy) 0.864 <= 0.892 <= 0.920\n",
      "[AGT] [INFO    ] [21:49:43] Starting epoch 3 of 4.\n",
      "[AGT] [DEBUG   ] [21:49:43] Initialising dataloader batchsize to 2500\n",
      "[AGT] [INFO    ] [21:49:43] Batch 1. Loss (accuracy) 0.876 <= 0.896 <= 0.928\n",
      "[AGT] [INFO    ] [21:49:43] Batch 2. Loss (accuracy) 0.820 <= 0.876 <= 0.928\n",
      "[AGT] [INFO    ] [21:49:44] Starting epoch 4 of 4.\n",
      "[AGT] [DEBUG   ] [21:49:44] Initialising dataloader batchsize to 2500\n",
      "[AGT] [INFO    ] [21:49:44] Batch 1. Loss (accuracy) 0.800 <= 0.872 <= 0.940\n",
      "[AGT] [INFO    ] [21:49:44] Batch 2. Loss (accuracy) 0.760 <= 0.904 <= 0.980\n",
      "[AGT] [INFO    ] [21:49:44] Final Eval. Loss (accuracy): 0.704 <= 0.908 <= 0.992\n",
      "[AGT] [INFO    ] [21:49:44] =================== Finished Privacy Certified Training ===================\n",
      "[AGT] [INFO    ] [21:49:44] =================== Starting Privacy Certified Training ===================\n",
      "[AGT] [DEBUG   ] [21:49:44] \tOptimizer params: n_epochs=4, learning_rate=2.0, l1_reg=0.0, l2_reg=0.0\n",
      "[AGT] [DEBUG   ] [21:49:44] \tLearning rate schedule: lr_decay=0.6, lr_min=0.001\n",
      "[AGT] [DEBUG   ] [21:49:44] \tGradient clipping: gamma=1.0, method=clamp\n",
      "[AGT] [DEBUG   ] [21:49:44] \tPrivacy parameter: k_private=8\n",
      "[AGT] [INFO    ] [21:49:44] Starting epoch 1 of 4.\n",
      "[AGT] [DEBUG   ] [21:49:44] Initialising dataloader batchsize to 2500\n",
      "[AGT] [INFO    ] [21:49:44] Batch 1. Loss (accuracy) 0.632 <= 0.632 <= 0.632\n"
     ]
    },
    {
     "name": "stdout",
     "output_type": "stream",
     "text": [
      "Training model 17 with k=8\n",
      "cpu\n"
     ]
    },
    {
     "name": "stderr",
     "output_type": "stream",
     "text": [
      "[AGT] [INFO    ] [21:49:44] Batch 2. Loss (accuracy) 0.816 <= 0.824 <= 0.836\n",
      "[AGT] [INFO    ] [21:49:45] Starting epoch 2 of 4.\n",
      "[AGT] [DEBUG   ] [21:49:45] Initialising dataloader batchsize to 2500\n",
      "[AGT] [INFO    ] [21:49:45] Batch 1. Loss (accuracy) 0.860 <= 0.876 <= 0.884\n",
      "[AGT] [INFO    ] [21:49:45] Batch 2. Loss (accuracy) 0.860 <= 0.892 <= 0.928\n",
      "[AGT] [INFO    ] [21:49:45] Starting epoch 3 of 4.\n",
      "[AGT] [DEBUG   ] [21:49:45] Initialising dataloader batchsize to 2500\n",
      "[AGT] [INFO    ] [21:49:45] Batch 1. Loss (accuracy) 0.876 <= 0.896 <= 0.928\n",
      "[AGT] [INFO    ] [21:49:46] Batch 2. Loss (accuracy) 0.812 <= 0.876 <= 0.940\n",
      "[AGT] [INFO    ] [21:49:46] Starting epoch 4 of 4.\n",
      "[AGT] [DEBUG   ] [21:49:46] Initialising dataloader batchsize to 2500\n",
      "[AGT] [INFO    ] [21:49:46] Batch 1. Loss (accuracy) 0.776 <= 0.872 <= 0.952\n",
      "[AGT] [INFO    ] [21:49:46] Batch 2. Loss (accuracy) 0.736 <= 0.904 <= 0.984\n",
      "[AGT] [INFO    ] [21:49:46] Final Eval. Loss (accuracy): 0.624 <= 0.908 <= 0.992\n",
      "[AGT] [INFO    ] [21:49:46] =================== Finished Privacy Certified Training ===================\n",
      "[AGT] [INFO    ] [21:49:46] =================== Starting Privacy Certified Training ===================\n",
      "[AGT] [DEBUG   ] [21:49:46] \tOptimizer params: n_epochs=4, learning_rate=2.0, l1_reg=0.0, l2_reg=0.0\n",
      "[AGT] [DEBUG   ] [21:49:46] \tLearning rate schedule: lr_decay=0.6, lr_min=0.001\n",
      "[AGT] [DEBUG   ] [21:49:46] \tGradient clipping: gamma=1.0, method=clamp\n",
      "[AGT] [DEBUG   ] [21:49:46] \tPrivacy parameter: k_private=1\n",
      "[AGT] [INFO    ] [21:49:47] Starting epoch 1 of 4.\n",
      "[AGT] [DEBUG   ] [21:49:47] Initialising dataloader batchsize to 2500\n",
      "[AGT] [INFO    ] [21:49:47] Batch 1. Loss (accuracy) 0.440 <= 0.440 <= 0.440\n"
     ]
    },
    {
     "name": "stdout",
     "output_type": "stream",
     "text": [
      "Training model 18 with k=1\n",
      "cpu\n"
     ]
    },
    {
     "name": "stderr",
     "output_type": "stream",
     "text": [
      "[AGT] [INFO    ] [21:49:47] Batch 2. Loss (accuracy) 0.820 <= 0.824 <= 0.824\n",
      "[AGT] [INFO    ] [21:49:47] Starting epoch 2 of 4.\n",
      "[AGT] [DEBUG   ] [21:49:47] Initialising dataloader batchsize to 2500\n",
      "[AGT] [INFO    ] [21:49:47] Batch 1. Loss (accuracy) 0.824 <= 0.828 <= 0.828\n",
      "[AGT] [INFO    ] [21:49:47] Batch 2. Loss (accuracy) 0.880 <= 0.880 <= 0.880\n",
      "[AGT] [INFO    ] [21:49:48] Starting epoch 3 of 4.\n",
      "[AGT] [DEBUG   ] [21:49:48] Initialising dataloader batchsize to 2500\n",
      "[AGT] [INFO    ] [21:49:48] Batch 1. Loss (accuracy) 0.880 <= 0.884 <= 0.892\n",
      "[AGT] [INFO    ] [21:49:48] Batch 2. Loss (accuracy) 0.860 <= 0.860 <= 0.868\n",
      "[AGT] [INFO    ] [21:49:48] Starting epoch 4 of 4.\n",
      "[AGT] [DEBUG   ] [21:49:48] Initialising dataloader batchsize to 2500\n",
      "[AGT] [INFO    ] [21:49:48] Batch 1. Loss (accuracy) 0.836 <= 0.844 <= 0.852\n",
      "[AGT] [INFO    ] [21:49:49] Batch 2. Loss (accuracy) 0.880 <= 0.896 <= 0.908\n",
      "[AGT] [INFO    ] [21:49:49] Final Eval. Loss (accuracy): 0.876 <= 0.900 <= 0.904\n",
      "[AGT] [INFO    ] [21:49:49] =================== Finished Privacy Certified Training ===================\n",
      "[AGT] [INFO    ] [21:49:49] =================== Starting Privacy Certified Training ===================\n",
      "[AGT] [DEBUG   ] [21:49:49] \tOptimizer params: n_epochs=4, learning_rate=2.0, l1_reg=0.0, l2_reg=0.0\n",
      "[AGT] [DEBUG   ] [21:49:49] \tLearning rate schedule: lr_decay=0.6, lr_min=0.001\n",
      "[AGT] [DEBUG   ] [21:49:49] \tGradient clipping: gamma=1.0, method=clamp\n",
      "[AGT] [DEBUG   ] [21:49:49] \tPrivacy parameter: k_private=3\n",
      "[AGT] [INFO    ] [21:49:49] Starting epoch 1 of 4.\n",
      "[AGT] [DEBUG   ] [21:49:49] Initialising dataloader batchsize to 2500\n",
      "[AGT] [INFO    ] [21:49:49] Batch 1. Loss (accuracy) 0.440 <= 0.440 <= 0.440\n"
     ]
    },
    {
     "name": "stdout",
     "output_type": "stream",
     "text": [
      "Training model 18 with k=3\n",
      "cpu\n"
     ]
    },
    {
     "name": "stderr",
     "output_type": "stream",
     "text": [
      "[AGT] [INFO    ] [21:49:49] Batch 2. Loss (accuracy) 0.816 <= 0.824 <= 0.824\n",
      "[AGT] [INFO    ] [21:49:49] Starting epoch 2 of 4.\n",
      "[AGT] [DEBUG   ] [21:49:49] Initialising dataloader batchsize to 2500\n",
      "[AGT] [INFO    ] [21:49:49] Batch 1. Loss (accuracy) 0.820 <= 0.828 <= 0.828\n",
      "[AGT] [INFO    ] [21:49:50] Batch 2. Loss (accuracy) 0.880 <= 0.880 <= 0.888\n",
      "[AGT] [INFO    ] [21:49:50] Starting epoch 3 of 4.\n",
      "[AGT] [DEBUG   ] [21:49:50] Initialising dataloader batchsize to 2500\n",
      "[AGT] [INFO    ] [21:49:50] Batch 1. Loss (accuracy) 0.872 <= 0.884 <= 0.900\n",
      "[AGT] [INFO    ] [21:49:50] Batch 2. Loss (accuracy) 0.856 <= 0.860 <= 0.888\n",
      "[AGT] [INFO    ] [21:49:51] Starting epoch 4 of 4.\n",
      "[AGT] [DEBUG   ] [21:49:51] Initialising dataloader batchsize to 2500\n",
      "[AGT] [INFO    ] [21:49:51] Batch 1. Loss (accuracy) 0.820 <= 0.844 <= 0.880\n",
      "[AGT] [INFO    ] [21:49:51] Batch 2. Loss (accuracy) 0.852 <= 0.896 <= 0.936\n",
      "[AGT] [INFO    ] [21:49:51] Final Eval. Loss (accuracy): 0.832 <= 0.900 <= 0.940\n",
      "[AGT] [INFO    ] [21:49:51] =================== Finished Privacy Certified Training ===================\n",
      "[AGT] [INFO    ] [21:49:51] =================== Starting Privacy Certified Training ===================\n",
      "[AGT] [DEBUG   ] [21:49:51] \tOptimizer params: n_epochs=4, learning_rate=2.0, l1_reg=0.0, l2_reg=0.0\n",
      "[AGT] [DEBUG   ] [21:49:51] \tLearning rate schedule: lr_decay=0.6, lr_min=0.001\n",
      "[AGT] [DEBUG   ] [21:49:51] \tGradient clipping: gamma=1.0, method=clamp\n",
      "[AGT] [DEBUG   ] [21:49:51] \tPrivacy parameter: k_private=5\n",
      "[AGT] [INFO    ] [21:49:51] Starting epoch 1 of 4.\n",
      "[AGT] [DEBUG   ] [21:49:51] Initialising dataloader batchsize to 2500\n",
      "[AGT] [INFO    ] [21:49:51] Batch 1. Loss (accuracy) 0.440 <= 0.440 <= 0.440\n"
     ]
    },
    {
     "name": "stdout",
     "output_type": "stream",
     "text": [
      "Training model 18 with k=5\n",
      "cpu\n"
     ]
    },
    {
     "name": "stderr",
     "output_type": "stream",
     "text": [
      "[AGT] [INFO    ] [21:49:51] Batch 2. Loss (accuracy) 0.816 <= 0.824 <= 0.828\n",
      "[AGT] [INFO    ] [21:49:52] Starting epoch 2 of 4.\n",
      "[AGT] [DEBUG   ] [21:49:52] Initialising dataloader batchsize to 2500\n",
      "[AGT] [INFO    ] [21:49:52] Batch 1. Loss (accuracy) 0.812 <= 0.828 <= 0.828\n",
      "[AGT] [INFO    ] [21:49:52] Batch 2. Loss (accuracy) 0.872 <= 0.880 <= 0.896\n",
      "[AGT] [INFO    ] [21:49:52] Starting epoch 3 of 4.\n",
      "[AGT] [DEBUG   ] [21:49:52] Initialising dataloader batchsize to 2500\n",
      "[AGT] [INFO    ] [21:49:52] Batch 1. Loss (accuracy) 0.868 <= 0.884 <= 0.904\n",
      "[AGT] [INFO    ] [21:49:53] Batch 2. Loss (accuracy) 0.820 <= 0.860 <= 0.916\n",
      "[AGT] [INFO    ] [21:49:53] Starting epoch 4 of 4.\n",
      "[AGT] [DEBUG   ] [21:49:53] Initialising dataloader batchsize to 2500\n",
      "[AGT] [INFO    ] [21:49:53] Batch 1. Loss (accuracy) 0.796 <= 0.844 <= 0.904\n",
      "[AGT] [INFO    ] [21:49:53] Batch 2. Loss (accuracy) 0.776 <= 0.896 <= 0.944\n",
      "[AGT] [INFO    ] [21:49:53] Final Eval. Loss (accuracy): 0.736 <= 0.900 <= 0.964\n",
      "[AGT] [INFO    ] [21:49:53] =================== Finished Privacy Certified Training ===================\n",
      "[AGT] [INFO    ] [21:49:53] =================== Starting Privacy Certified Training ===================\n",
      "[AGT] [DEBUG   ] [21:49:53] \tOptimizer params: n_epochs=4, learning_rate=2.0, l1_reg=0.0, l2_reg=0.0\n",
      "[AGT] [DEBUG   ] [21:49:53] \tLearning rate schedule: lr_decay=0.6, lr_min=0.001\n",
      "[AGT] [DEBUG   ] [21:49:53] \tGradient clipping: gamma=1.0, method=clamp\n",
      "[AGT] [DEBUG   ] [21:49:53] \tPrivacy parameter: k_private=7\n",
      "[AGT] [INFO    ] [21:49:53] Starting epoch 1 of 4.\n",
      "[AGT] [DEBUG   ] [21:49:53] Initialising dataloader batchsize to 2500\n",
      "[AGT] [INFO    ] [21:49:53] Batch 1. Loss (accuracy) 0.440 <= 0.440 <= 0.440\n"
     ]
    },
    {
     "name": "stdout",
     "output_type": "stream",
     "text": [
      "Training model 18 with k=7\n",
      "cpu\n"
     ]
    },
    {
     "name": "stderr",
     "output_type": "stream",
     "text": [
      "[AGT] [INFO    ] [21:49:54] Batch 2. Loss (accuracy) 0.812 <= 0.824 <= 0.832\n",
      "[AGT] [INFO    ] [21:49:54] Starting epoch 2 of 4.\n",
      "[AGT] [DEBUG   ] [21:49:54] Initialising dataloader batchsize to 2500\n",
      "[AGT] [INFO    ] [21:49:54] Batch 1. Loss (accuracy) 0.808 <= 0.828 <= 0.828\n",
      "[AGT] [INFO    ] [21:49:54] Batch 2. Loss (accuracy) 0.860 <= 0.880 <= 0.904\n",
      "[AGT] [INFO    ] [21:49:54] Starting epoch 3 of 4.\n",
      "[AGT] [DEBUG   ] [21:49:54] Initialising dataloader batchsize to 2500\n",
      "[AGT] [INFO    ] [21:49:54] Batch 1. Loss (accuracy) 0.868 <= 0.884 <= 0.912\n",
      "[AGT] [INFO    ] [21:49:55] Batch 2. Loss (accuracy) 0.796 <= 0.860 <= 0.924\n",
      "[AGT] [INFO    ] [21:49:55] Starting epoch 4 of 4.\n",
      "[AGT] [DEBUG   ] [21:49:55] Initialising dataloader batchsize to 2500\n",
      "[AGT] [INFO    ] [21:49:55] Batch 1. Loss (accuracy) 0.748 <= 0.844 <= 0.940\n",
      "[AGT] [INFO    ] [21:49:55] Batch 2. Loss (accuracy) 0.696 <= 0.896 <= 0.968\n",
      "[AGT] [INFO    ] [21:49:56] Final Eval. Loss (accuracy): 0.608 <= 0.900 <= 0.980\n",
      "[AGT] [INFO    ] [21:49:56] =================== Finished Privacy Certified Training ===================\n",
      "[AGT] [INFO    ] [21:49:56] =================== Starting Privacy Certified Training ===================\n",
      "[AGT] [DEBUG   ] [21:49:56] \tOptimizer params: n_epochs=4, learning_rate=2.0, l1_reg=0.0, l2_reg=0.0\n",
      "[AGT] [DEBUG   ] [21:49:56] \tLearning rate schedule: lr_decay=0.6, lr_min=0.001\n",
      "[AGT] [DEBUG   ] [21:49:56] \tGradient clipping: gamma=1.0, method=clamp\n",
      "[AGT] [DEBUG   ] [21:49:56] \tPrivacy parameter: k_private=8\n",
      "[AGT] [INFO    ] [21:49:56] Starting epoch 1 of 4.\n",
      "[AGT] [DEBUG   ] [21:49:56] Initialising dataloader batchsize to 2500\n",
      "[AGT] [INFO    ] [21:49:56] Batch 1. Loss (accuracy) 0.440 <= 0.440 <= 0.440\n"
     ]
    },
    {
     "name": "stdout",
     "output_type": "stream",
     "text": [
      "Training model 18 with k=8\n",
      "cpu\n"
     ]
    },
    {
     "name": "stderr",
     "output_type": "stream",
     "text": [
      "[AGT] [INFO    ] [21:49:56] Batch 2. Loss (accuracy) 0.812 <= 0.824 <= 0.832\n",
      "[AGT] [INFO    ] [21:49:56] Starting epoch 2 of 4.\n",
      "[AGT] [DEBUG   ] [21:49:56] Initialising dataloader batchsize to 2500\n",
      "[AGT] [INFO    ] [21:49:56] Batch 1. Loss (accuracy) 0.808 <= 0.828 <= 0.828\n",
      "[AGT] [INFO    ] [21:49:57] Batch 2. Loss (accuracy) 0.856 <= 0.880 <= 0.908\n",
      "[AGT] [INFO    ] [21:49:57] Starting epoch 3 of 4.\n",
      "[AGT] [DEBUG   ] [21:49:57] Initialising dataloader batchsize to 2500\n",
      "[AGT] [INFO    ] [21:49:57] Batch 1. Loss (accuracy) 0.864 <= 0.884 <= 0.916\n",
      "[AGT] [INFO    ] [21:49:57] Batch 2. Loss (accuracy) 0.792 <= 0.860 <= 0.932\n",
      "[AGT] [INFO    ] [21:49:57] Starting epoch 4 of 4.\n",
      "[AGT] [DEBUG   ] [21:49:57] Initialising dataloader batchsize to 2500\n",
      "[AGT] [INFO    ] [21:49:57] Batch 1. Loss (accuracy) 0.704 <= 0.844 <= 0.952\n",
      "[AGT] [INFO    ] [21:49:58] Batch 2. Loss (accuracy) 0.632 <= 0.896 <= 0.972\n",
      "[AGT] [INFO    ] [21:49:58] Final Eval. Loss (accuracy): 0.536 <= 0.900 <= 0.984\n",
      "[AGT] [INFO    ] [21:49:58] =================== Finished Privacy Certified Training ===================\n",
      "[AGT] [INFO    ] [21:49:58] =================== Starting Privacy Certified Training ===================\n",
      "[AGT] [DEBUG   ] [21:49:58] \tOptimizer params: n_epochs=4, learning_rate=2.0, l1_reg=0.0, l2_reg=0.0\n",
      "[AGT] [DEBUG   ] [21:49:58] \tLearning rate schedule: lr_decay=0.6, lr_min=0.001\n",
      "[AGT] [DEBUG   ] [21:49:58] \tGradient clipping: gamma=1.0, method=clamp\n",
      "[AGT] [DEBUG   ] [21:49:58] \tPrivacy parameter: k_private=1\n",
      "[AGT] [INFO    ] [21:49:58] Starting epoch 1 of 4.\n",
      "[AGT] [DEBUG   ] [21:49:58] Initialising dataloader batchsize to 2500\n",
      "[AGT] [INFO    ] [21:49:58] Batch 1. Loss (accuracy) 0.320 <= 0.320 <= 0.320\n"
     ]
    },
    {
     "name": "stdout",
     "output_type": "stream",
     "text": [
      "Training model 19 with k=1\n",
      "cpu\n"
     ]
    },
    {
     "name": "stderr",
     "output_type": "stream",
     "text": [
      "[AGT] [INFO    ] [21:49:59] Batch 2. Loss (accuracy) 0.836 <= 0.836 <= 0.836\n",
      "[AGT] [INFO    ] [21:49:59] Starting epoch 2 of 4.\n",
      "[AGT] [DEBUG   ] [21:49:59] Initialising dataloader batchsize to 2500\n",
      "[AGT] [INFO    ] [21:49:59] Batch 1. Loss (accuracy) 0.844 <= 0.848 <= 0.848\n",
      "[AGT] [INFO    ] [21:49:59] Batch 2. Loss (accuracy) 0.880 <= 0.892 <= 0.892\n",
      "[AGT] [INFO    ] [21:49:59] Starting epoch 3 of 4.\n",
      "[AGT] [DEBUG   ] [21:49:59] Initialising dataloader batchsize to 2500\n",
      "[AGT] [INFO    ] [21:49:59] Batch 1. Loss (accuracy) 0.884 <= 0.892 <= 0.892\n",
      "[AGT] [INFO    ] [21:50:00] Batch 2. Loss (accuracy) 0.872 <= 0.876 <= 0.880\n",
      "[AGT] [INFO    ] [21:50:00] Starting epoch 4 of 4.\n",
      "[AGT] [DEBUG   ] [21:50:00] Initialising dataloader batchsize to 2500\n",
      "[AGT] [INFO    ] [21:50:00] Batch 1. Loss (accuracy) 0.848 <= 0.868 <= 0.884\n",
      "[AGT] [INFO    ] [21:50:00] Batch 2. Loss (accuracy) 0.900 <= 0.908 <= 0.924\n",
      "[AGT] [INFO    ] [21:50:00] Final Eval. Loss (accuracy): 0.896 <= 0.912 <= 0.916\n",
      "[AGT] [INFO    ] [21:50:00] =================== Finished Privacy Certified Training ===================\n",
      "[AGT] [INFO    ] [21:50:00] =================== Starting Privacy Certified Training ===================\n",
      "[AGT] [DEBUG   ] [21:50:00] \tOptimizer params: n_epochs=4, learning_rate=2.0, l1_reg=0.0, l2_reg=0.0\n",
      "[AGT] [DEBUG   ] [21:50:00] \tLearning rate schedule: lr_decay=0.6, lr_min=0.001\n",
      "[AGT] [DEBUG   ] [21:50:00] \tGradient clipping: gamma=1.0, method=clamp\n",
      "[AGT] [DEBUG   ] [21:50:00] \tPrivacy parameter: k_private=3\n",
      "[AGT] [INFO    ] [21:50:00] Starting epoch 1 of 4.\n",
      "[AGT] [DEBUG   ] [21:50:00] Initialising dataloader batchsize to 2500\n",
      "[AGT] [INFO    ] [21:50:00] Batch 1. Loss (accuracy) 0.320 <= 0.320 <= 0.320\n"
     ]
    },
    {
     "name": "stdout",
     "output_type": "stream",
     "text": [
      "Training model 19 with k=3\n",
      "cpu\n"
     ]
    },
    {
     "name": "stderr",
     "output_type": "stream",
     "text": [
      "[AGT] [INFO    ] [21:50:01] Batch 2. Loss (accuracy) 0.832 <= 0.836 <= 0.836\n",
      "[AGT] [INFO    ] [21:50:01] Starting epoch 2 of 4.\n",
      "[AGT] [DEBUG   ] [21:50:01] Initialising dataloader batchsize to 2500\n",
      "[AGT] [INFO    ] [21:50:01] Batch 1. Loss (accuracy) 0.840 <= 0.848 <= 0.856\n",
      "[AGT] [INFO    ] [21:50:01] Batch 2. Loss (accuracy) 0.880 <= 0.892 <= 0.900\n",
      "[AGT] [INFO    ] [21:50:02] Starting epoch 3 of 4.\n",
      "[AGT] [DEBUG   ] [21:50:02] Initialising dataloader batchsize to 2500\n",
      "[AGT] [INFO    ] [21:50:02] Batch 1. Loss (accuracy) 0.880 <= 0.892 <= 0.908\n",
      "[AGT] [INFO    ] [21:50:02] Batch 2. Loss (accuracy) 0.856 <= 0.876 <= 0.892\n",
      "[AGT] [INFO    ] [21:50:02] Starting epoch 4 of 4.\n",
      "[AGT] [DEBUG   ] [21:50:02] Initialising dataloader batchsize to 2500\n",
      "[AGT] [INFO    ] [21:50:02] Batch 1. Loss (accuracy) 0.836 <= 0.868 <= 0.916\n",
      "[AGT] [INFO    ] [21:50:03] Batch 2. Loss (accuracy) 0.888 <= 0.908 <= 0.936\n",
      "[AGT] [INFO    ] [21:50:03] Final Eval. Loss (accuracy): 0.880 <= 0.912 <= 0.940\n",
      "[AGT] [INFO    ] [21:50:03] =================== Finished Privacy Certified Training ===================\n",
      "[AGT] [INFO    ] [21:50:03] =================== Starting Privacy Certified Training ===================\n",
      "[AGT] [DEBUG   ] [21:50:03] \tOptimizer params: n_epochs=4, learning_rate=2.0, l1_reg=0.0, l2_reg=0.0\n",
      "[AGT] [DEBUG   ] [21:50:03] \tLearning rate schedule: lr_decay=0.6, lr_min=0.001\n",
      "[AGT] [DEBUG   ] [21:50:03] \tGradient clipping: gamma=1.0, method=clamp\n",
      "[AGT] [DEBUG   ] [21:50:03] \tPrivacy parameter: k_private=5\n",
      "[AGT] [INFO    ] [21:50:03] Starting epoch 1 of 4.\n",
      "[AGT] [DEBUG   ] [21:50:03] Initialising dataloader batchsize to 2500\n",
      "[AGT] [INFO    ] [21:50:03] Batch 1. Loss (accuracy) 0.320 <= 0.320 <= 0.320\n"
     ]
    },
    {
     "name": "stdout",
     "output_type": "stream",
     "text": [
      "Training model 19 with k=5\n",
      "cpu\n"
     ]
    },
    {
     "name": "stderr",
     "output_type": "stream",
     "text": [
      "[AGT] [INFO    ] [21:50:03] Batch 2. Loss (accuracy) 0.832 <= 0.836 <= 0.836\n",
      "[AGT] [INFO    ] [21:50:03] Starting epoch 2 of 4.\n",
      "[AGT] [DEBUG   ] [21:50:03] Initialising dataloader batchsize to 2500\n",
      "[AGT] [INFO    ] [21:50:03] Batch 1. Loss (accuracy) 0.832 <= 0.848 <= 0.856\n",
      "[AGT] [INFO    ] [21:50:04] Batch 2. Loss (accuracy) 0.868 <= 0.892 <= 0.904\n",
      "[AGT] [INFO    ] [21:50:04] Starting epoch 3 of 4.\n",
      "[AGT] [DEBUG   ] [21:50:04] Initialising dataloader batchsize to 2500\n",
      "[AGT] [INFO    ] [21:50:04] Batch 1. Loss (accuracy) 0.880 <= 0.892 <= 0.916\n",
      "[AGT] [INFO    ] [21:50:04] Batch 2. Loss (accuracy) 0.852 <= 0.876 <= 0.912\n",
      "[AGT] [INFO    ] [21:50:04] Starting epoch 4 of 4.\n",
      "[AGT] [DEBUG   ] [21:50:05] Initialising dataloader batchsize to 2500\n",
      "[AGT] [INFO    ] [21:50:05] Batch 1. Loss (accuracy) 0.824 <= 0.868 <= 0.928\n",
      "[AGT] [INFO    ] [21:50:05] Batch 2. Loss (accuracy) 0.860 <= 0.908 <= 0.972\n",
      "[AGT] [INFO    ] [21:50:05] Final Eval. Loss (accuracy): 0.872 <= 0.912 <= 0.972\n",
      "[AGT] [INFO    ] [21:50:05] =================== Finished Privacy Certified Training ===================\n",
      "[AGT] [INFO    ] [21:50:05] =================== Starting Privacy Certified Training ===================\n",
      "[AGT] [DEBUG   ] [21:50:05] \tOptimizer params: n_epochs=4, learning_rate=2.0, l1_reg=0.0, l2_reg=0.0\n",
      "[AGT] [DEBUG   ] [21:50:05] \tLearning rate schedule: lr_decay=0.6, lr_min=0.001\n",
      "[AGT] [DEBUG   ] [21:50:05] \tGradient clipping: gamma=1.0, method=clamp\n",
      "[AGT] [DEBUG   ] [21:50:05] \tPrivacy parameter: k_private=7\n",
      "[AGT] [INFO    ] [21:50:05] Starting epoch 1 of 4.\n",
      "[AGT] [DEBUG   ] [21:50:05] Initialising dataloader batchsize to 2500\n",
      "[AGT] [INFO    ] [21:50:05] Batch 1. Loss (accuracy) 0.320 <= 0.320 <= 0.320\n"
     ]
    },
    {
     "name": "stdout",
     "output_type": "stream",
     "text": [
      "Training model 19 with k=7\n",
      "cpu\n"
     ]
    },
    {
     "name": "stderr",
     "output_type": "stream",
     "text": [
      "[AGT] [INFO    ] [21:50:05] Batch 2. Loss (accuracy) 0.832 <= 0.836 <= 0.836\n",
      "[AGT] [INFO    ] [21:50:06] Starting epoch 2 of 4.\n",
      "[AGT] [DEBUG   ] [21:50:06] Initialising dataloader batchsize to 2500\n",
      "[AGT] [INFO    ] [21:50:06] Batch 1. Loss (accuracy) 0.832 <= 0.848 <= 0.868\n",
      "[AGT] [INFO    ] [21:50:06] Batch 2. Loss (accuracy) 0.868 <= 0.892 <= 0.904\n",
      "[AGT] [INFO    ] [21:50:06] Starting epoch 3 of 4.\n",
      "[AGT] [DEBUG   ] [21:50:06] Initialising dataloader batchsize to 2500\n",
      "[AGT] [INFO    ] [21:50:06] Batch 1. Loss (accuracy) 0.880 <= 0.892 <= 0.924\n",
      "[AGT] [INFO    ] [21:50:07] Batch 2. Loss (accuracy) 0.840 <= 0.876 <= 0.936\n",
      "[AGT] [INFO    ] [21:50:07] Starting epoch 4 of 4.\n",
      "[AGT] [DEBUG   ] [21:50:07] Initialising dataloader batchsize to 2500\n",
      "[AGT] [INFO    ] [21:50:07] Batch 1. Loss (accuracy) 0.812 <= 0.868 <= 0.940\n",
      "[AGT] [INFO    ] [21:50:07] Batch 2. Loss (accuracy) 0.848 <= 0.908 <= 0.976\n",
      "[AGT] [INFO    ] [21:50:07] Final Eval. Loss (accuracy): 0.844 <= 0.912 <= 0.984\n",
      "[AGT] [INFO    ] [21:50:07] =================== Finished Privacy Certified Training ===================\n",
      "[AGT] [INFO    ] [21:50:07] =================== Starting Privacy Certified Training ===================\n",
      "[AGT] [DEBUG   ] [21:50:07] \tOptimizer params: n_epochs=4, learning_rate=2.0, l1_reg=0.0, l2_reg=0.0\n",
      "[AGT] [DEBUG   ] [21:50:07] \tLearning rate schedule: lr_decay=0.6, lr_min=0.001\n",
      "[AGT] [DEBUG   ] [21:50:07] \tGradient clipping: gamma=1.0, method=clamp\n",
      "[AGT] [DEBUG   ] [21:50:07] \tPrivacy parameter: k_private=8\n",
      "[AGT] [INFO    ] [21:50:07] Starting epoch 1 of 4.\n",
      "[AGT] [DEBUG   ] [21:50:07] Initialising dataloader batchsize to 2500\n",
      "[AGT] [INFO    ] [21:50:07] Batch 1. Loss (accuracy) 0.320 <= 0.320 <= 0.320\n"
     ]
    },
    {
     "name": "stdout",
     "output_type": "stream",
     "text": [
      "Training model 19 with k=8\n",
      "cpu\n"
     ]
    },
    {
     "name": "stderr",
     "output_type": "stream",
     "text": [
      "[AGT] [INFO    ] [21:50:08] Batch 2. Loss (accuracy) 0.832 <= 0.836 <= 0.840\n",
      "[AGT] [INFO    ] [21:50:08] Starting epoch 2 of 4.\n",
      "[AGT] [DEBUG   ] [21:50:08] Initialising dataloader batchsize to 2500\n",
      "[AGT] [INFO    ] [21:50:08] Batch 1. Loss (accuracy) 0.832 <= 0.848 <= 0.872\n",
      "[AGT] [INFO    ] [21:50:08] Batch 2. Loss (accuracy) 0.864 <= 0.892 <= 0.912\n",
      "[AGT] [INFO    ] [21:50:08] Starting epoch 3 of 4.\n",
      "[AGT] [DEBUG   ] [21:50:08] Initialising dataloader batchsize to 2500\n",
      "[AGT] [INFO    ] [21:50:08] Batch 1. Loss (accuracy) 0.876 <= 0.892 <= 0.928\n",
      "[AGT] [INFO    ] [21:50:09] Batch 2. Loss (accuracy) 0.832 <= 0.876 <= 0.940\n",
      "[AGT] [INFO    ] [21:50:09] Starting epoch 4 of 4.\n",
      "[AGT] [DEBUG   ] [21:50:09] Initialising dataloader batchsize to 2500\n",
      "[AGT] [INFO    ] [21:50:09] Batch 1. Loss (accuracy) 0.800 <= 0.868 <= 0.948\n",
      "[AGT] [INFO    ] [21:50:09] Batch 2. Loss (accuracy) 0.820 <= 0.908 <= 0.984\n",
      "[AGT] [INFO    ] [21:50:09] Final Eval. Loss (accuracy): 0.828 <= 0.912 <= 0.992\n",
      "[AGT] [INFO    ] [21:50:09] =================== Finished Privacy Certified Training ===================\n"
     ]
    }
   ],
   "source": [
    "# compute b up to N=5\n",
    "n = len(grid_data)\n",
    "m = len(ensemble)\n",
    "b = torch.zeros((m, n)).to(device)\n",
    "N = 8\n",
    "s = 2\n",
    "\n",
    "\n",
    "trained_ensemble = []\n",
    "for (i, (bounded_model_t, dataloader_t, config)) in enumerate(ensemble):        \n",
    "    trained_models = {}\n",
    "    # Get the largest value of poisoned points before model prediction is no longer robust\n",
    "    # Train models with different values of k, always compute for k_poison=N\n",
    "    k_poisons = list(range(1, N+1, s)) + [N]  # include N as the last value\n",
    "    if i < num_dpa:\n",
    "        k_poisons = [1]\n",
    "    for k_poison in k_poisons: # try by enumerating all values of k_poison\n",
    "        model_copy = copy.deepcopy(bounded_model_t)\n",
    "        print(f\"Training model {i} with k={k_poison}\")\n",
    "        torch.manual_seed(i)\n",
    "        conf = copy.deepcopy(config)\n",
    "        conf.k_private = k_poison\n",
    "        print(conf.device)\n",
    "        # conf.epsilon = 0.01\n",
    "        trained_model = agt.privacy_certified_training(model_copy, conf, dataloader_t, dataloader_test)\n",
    "        trained_models[k_poison] = copy.deepcopy(trained_model)\n",
    "    \n",
    "        if k_poison == 1:\n",
    "            trained_ensemble.append(copy.deepcopy(trained_model))\n",
    "        \n",
    "    if i < num_dpa:\n",
    "        print(f\"Setting b to 1 for model {i} (DPA)\")\n",
    "        b[i] = torch.ones(n).to(device)\n",
    "        continue\n",
    "    # tensor of size (1xlen(grid_data))\n",
    "    bs = agt.privacy_utils.compute_max_certified_k(grid_data, trained_models) + 1\n",
    "    b[i] = bs.clone()\n",
    "    # print(bs)\n",
    "torch.save(b, f\".prop_results/moons_agt_bs_{N}_{ensemble_size}_{s}_{dpa_prop}.pth\")\n"
   ]
  },
  {
   "cell_type": "markdown",
   "id": "3e0a1b4e",
   "metadata": {},
   "source": [
    "#### CERTIFICATION"
   ]
  },
  {
   "cell_type": "code",
   "execution_count": 90,
   "id": "e2e02628",
   "metadata": {},
   "outputs": [
    {
     "name": "stdout",
     "output_type": "stream",
     "text": [
      "0.8970000147819519\n",
      "tensor(9488)\n"
     ]
    }
   ],
   "source": [
    "\n",
    "\"\"\"Check the corresponding poisoning guarantees.\"\"\"\n",
    "\n",
    "# compute the ensemble votes and certificates\n",
    "scores = torch.zeros((test_size, ensemble_size, 2))\n",
    "counts = torch.zeros(test_size).to(device)  # will store the vote counts\n",
    "count_test = torch.zeros(len(x_test)).to(device)\n",
    "for i, bounded_model in enumerate(trained_ensemble):\n",
    "    logits = bounded_model.forward(grid_data)\n",
    "    scores[:, i, :] = logits\n",
    "    pred = logits.argmax(dim=1)\n",
    "    counts += 2 * pred - 1\n",
    "    \n",
    "    logits_test = bounded_model.forward(x_test)\n",
    "    pred_test = logits_test.argmax(dim=1)\n",
    "    count_test += 2 * pred_test - 1\n",
    "\n",
    "# compute the number of votes that must be flipped to cause the ensemble prediction to flip, which is half the distance\n",
    "# to zero\n",
    "g = torch.ceil(torch.abs(counts) / 2) - 1\n",
    "torch.save(g, f\".prop_results/g_{N}_{ensemble_size}_{s}_{dpa_prop}.pth\")\n",
    "torch.save(scores, f\".prop_results/scores_{N}_{ensemble_size}_{s}_{dpa_prop}.pth\")\n",
    "ensemble_preds = (counts >= 0).float()\n",
    "torch.save(ensemble_preds, f\".prop_results/ensemble_preds_agt_dpa_{N}_{ensemble_size}_{s}_{dpa_prop}.pth\")\n",
    "ensemble_pred_test = (count_test >= 0).float()\n",
    "nom_acc = (ensemble_pred_test == y_test).float().mean().item()\n",
    "print(nom_acc)\n",
    "torch.save(nom_acc, f\".prop_results/nom_acc_agt_dpa_{N}_{ensemble_size}_{s}_{dpa_prop}.pth\")\n",
    "print((g > 3).sum())"
   ]
  },
  {
   "cell_type": "markdown",
   "id": "9c3b797d",
   "metadata": {},
   "source": [
    "#### Solve for AGT"
   ]
  },
  {
   "cell_type": "code",
   "execution_count": 48,
   "id": "474f3005",
   "metadata": {},
   "outputs": [
    {
     "name": "stdout",
     "output_type": "stream",
     "text": [
      "8\n",
      "Gs: tensor([8., 9., 9.,  ..., 3., 3., 3.])\n",
      "Bs: tensor([[1., 1., 1.,  ..., 1., 1., 1.],\n",
      "        [1., 1., 1.,  ..., 1., 1., 1.],\n",
      "        [1., 1., 1.,  ..., 1., 1., 1.],\n",
      "        ...,\n",
      "        [6., 6., 6.,  ..., 6., 6., 6.],\n",
      "        [4., 4., 4.,  ..., 4., 4., 4.],\n",
      "        [1., 2., 2.,  ..., 4., 4., 4.]])\n",
      "Set parameter TimeLimit to value 1800\n",
      "Gurobi Optimizer version 12.0.1 build v12.0.1rc0 (linux64 - \"Ubuntu 22.04.5 LTS\")\n",
      "\n",
      "CPU model: AMD EPYC 9334 32-Core Processor, instruction set [SSE2|AVX|AVX2|AVX512]\n",
      "Thread count: 64 physical cores, 128 logical processors, using up to 32 threads\n",
      "\n",
      "Non-default parameters:\n",
      "TimeLimit  1800\n",
      "\n",
      "Optimize a model with 1 rows, 210020 columns and 20 nonzeros\n",
      "Model fingerprint: 0xbc5aadfb\n",
      "Model has 210000 simple general constraints\n",
      "  210000 INDICATOR\n",
      "Variable types: 20 continuous, 210000 integer (210000 binary)\n",
      "Coefficient statistics:\n",
      "  Matrix range     [1e+00, 1e+00]\n",
      "  Objective range  [1e-04, 1e-04]\n",
      "  Bounds range     [1e+00, 1e+00]\n",
      "  RHS range        [8e+00, 8e+00]\n",
      "  GenCon rhs range [1e+00, 1e+01]\n",
      "  GenCon coe range [1e+00, 1e+00]\n",
      "Presolve added 29838 rows and 0 columns\n",
      "Presolve removed 0 rows and 180162 columns\n",
      "Presolve time: 1.85s\n",
      "Presolved: 29839 rows, 29858 columns, 73157 nonzeros\n",
      "Variable types: 20 continuous, 29838 integer (29838 binary)\n",
      "Found heuristic solution: objective 0.0102000\n",
      "Found heuristic solution: objective 0.0767000\n",
      "Performing another presolve...\n",
      "Presolve removed 14922 rows and 14922 columns\n",
      "Presolve time: 0.20s\n",
      "\n",
      "Root relaxation: objective 8.417889e-01, 14746 iterations, 0.23 seconds (0.25 work units)\n",
      "\n",
      "    Nodes    |    Current Node    |     Objective Bounds      |     Work\n",
      " Expl Unexpl |  Obj  Depth IntInf | Incumbent    BestBd   Gap | It/Node Time\n",
      "\n",
      "     0     0    0.84179    0  247    0.07670    0.84179   998%     -    2s\n",
      "H    0     0                       0.1933000    0.84179   335%     -    2s\n",
      "\n",
      "Explored 1 nodes (22284 simplex iterations) in 3.55 seconds (2.63 work units)\n",
      "Thread count was 32 (of 128 available processors)\n",
      "\n",
      "Solution count 4: 0.1933 0.0767 0.0767 0.0102 \n",
      "No other solutions better than 0.1933\n",
      "\n",
      "Optimal solution found (tolerance 1.00e-04)\n",
      "Best objective 1.933000000000e-01, best bound 1.933000000000e-01, gap 0.0000%\n",
      "Worst case flipped: [1.0, 0.0, 0.0, 1.0, 0.0, 0.0, 1.0, 1.0, 0.0, 1.0, 0.0, 1.0, 1.0, 0.0, 1.0, 0.0, 0.0, 0.0, 0.0, 0.0]\n",
      "Worst case accuracy 0.8067000000000007\n",
      "Solve time: 3.6203 seconds\n"
     ]
    }
   ],
   "source": [
    "\"\"\" Solve MILP with Gurobi \"\"\"\n",
    "k_poison = N\n",
    "print(k_poison)\n",
    "model = gp.Model(\"Certification\")\n",
    "\n",
    "n = test_size # number of test samples\n",
    "g = torch.load(f\".prop_results/g_{N}_{ensemble_size}_{s}_{dpa_prop}.pth\")\n",
    "gs = g[:n]# number of votes to flip before ensemble prediction flips for each test sample\n",
    "bs = b[:, :n] # number of datapoints to poison for each member before prediction for each test sample changes\n",
    "\n",
    "print(f\"Gs: {gs}\")\n",
    "print(f\"Bs: {bs}\")\n",
    "\n",
    "# Define variables\n",
    "# Relaxing p to continuous for faster solving (gives the same result)\n",
    "p = model.addVars(ensemble_size, vtype=GRB.CONTINUOUS, lb=0, name=\"poisoning_vector\") # poisoning vector that should sum up to N\n",
    "z = model.addVars(n, vtype=GRB.BINARY, name=\"pred_flipped_indicator\")\n",
    "\n",
    "# Outer loop, compute outer sum: sum_k(1{g_k <= sum_i(1{p[i] > b[i][k]})})\n",
    "for k in range(n):\n",
    "    # Create decision variables\n",
    "    z_k = model.addVars(ensemble_size, vtype=GRB.BINARY, name=f\"z_{k}\")  # Binary indicator variables for {p_i > b_ik}\n",
    "\n",
    "    # compute inner sum (#flipped votes): sum_i(1{p[i] >= b[i][k]})\n",
    "    for i in range(ensemble_size):\n",
    "        model.addGenConstrIndicator(z_k[i], 1, p[i] - bs[i][k], GRB.GREATER_EQUAL, 0, name=f\"vote_flipped_indicator_{i}{k}\")\n",
    "\n",
    "    num_flipped_votes = gp.quicksum(z_k[i] for i in range(ensemble_size))\n",
    "    model.addGenConstrIndicator(z[k], 1, gs[k]-num_flipped_votes+1, GRB.LESS_EQUAL, 0, name=f\"pred_flipped_indicator_{k}\")\n",
    "\n",
    "num_flipped_preds = gp.quicksum(z[i] for i in range(n))\n",
    "\n",
    "# Define objective function\n",
    "model.setObjective((1/n)*num_flipped_preds, GRB.MAXIMIZE)\n",
    "\n",
    "# Constraint: #total poisoned points == N\n",
    "model.addConstr(gp.quicksum(p[i] for i in range(ensemble_size)) == k_poison)\n",
    "    \n",
    "model.setParam('TimeLimit', 1800) # 15 minutes\n",
    "\n",
    "# loosen optimality tolerance\n",
    "# model.setParam('MIPGap', 1e-2)  # Allow 1% gap\n",
    "\n",
    "model.update()\n",
    "\n",
    "# Optimize\n",
    "model.optimize()\n",
    "\n",
    "# Print results\n",
    "if model.status == GRB.OPTIMAL or model.status == GRB.TIME_LIMIT:\n",
    "    vars = {var.VarName: var.X for var in model.getVars()}\n",
    "\n",
    "    # Extract p and z values by matching their variable names\n",
    "    p_values = [vars[f'poisoning_vector[{i}]'] for i in range(ensemble_size)]\n",
    "    z_values = [vars[f'pred_flipped_indicator[{k}]'] for k in range(n)]\n",
    "    worst_case_accuracy = 1-model.objVal\n",
    "    opt_gap = model.MIPGap\n",
    "    if model.status == GRB.TIME_LIMIT:\n",
    "        print(\"Gurobi reached time limit, returning dual solution found.\")\n",
    "        worst_case_accuracy = 1 - model.ObjBound\n",
    "    print(\"Worst case flipped:\", p_values)\n",
    "    print(\"Worst case accuracy\", worst_case_accuracy)\n",
    "    print(f\"Solve time: {model.Runtime:.4f} seconds\")\n",
    "    torch.save({\n",
    "        'cert_acc': worst_case_accuracy,\n",
    "        'p': p_values,\n",
    "        'z': z_values,\n",
    "    }, f\".prop_results/moons_agt_p_k={k_poison}_{ensemble_size}_{s}_{dpa_prop}.pth\")"
   ]
  },
  {
   "cell_type": "markdown",
   "id": "5b5910b5",
   "metadata": {},
   "source": [
    "#### Plot"
   ]
  },
  {
   "cell_type": "code",
   "execution_count": 95,
   "id": "b4ca6086",
   "metadata": {},
   "outputs": [
    {
     "name": "stdout",
     "output_type": "stream",
     "text": [
      "1868\n"
     ]
    },
    {
     "data": {
      "image/png": "[encoded data removed]",
      "text/plain": [
       "<Figure size 640x480 with 1 Axes>"
      ]
     },
     "metadata": {},
     "output_type": "display_data"
    }
   ],
   "source": [
    "from matplotlib.colors import ListedColormap\n",
    "N=8\n",
    "M=20\n",
    "s=2\n",
    "dpa_prop = 1.0\n",
    "### Visualise the results (AGT)\n",
    "fig, ax = plt.subplots()\n",
    "ax.set_box_aspect(1)\n",
    "ax.set_xticks([])\n",
    "ax.set_yticks([])\n",
    "\n",
    "ensemble_preds = torch.load(f\".prop_results/ensemble_preds_agt_dpa_{N}_{M}_{s}_{dpa_prop}.pth\")\n",
    "agt_uncert = torch.tensor(torch.load(f\".prop_results/moons_agt_p_k={N}_{M}_{s}_{dpa_prop}.pth\")['z']).to(device)\n",
    "preds = ensemble_preds.reshape(gridsize, gridsize).cpu().numpy()\n",
    "ax.contour(X0, X1, preds, levels=[0.5])\n",
    "cert_preds_0 = ((ensemble_preds == 0) & (agt_uncert == 0)).float()  # where the model always predicts class 0\n",
    "cert_preds_1 = ((ensemble_preds == 1) & (agt_uncert == 0)).float()  # where the model always predicts class 1\n",
    "cert_preds = (cert_preds_0 - cert_preds_1).reshape(gridsize, gridsize).cpu().numpy()\n",
    "print((cert_preds == 0).sum())\n",
    "pastel_red = \"#FE2C02\"   # Soft pinkish-red\n",
    "pastel_blue = \"#015FAA\"  # Light pastel blue\n",
    "cmap = ListedColormap([pastel_red, \"white\", pastel_blue])\n",
    "ax.contourf(X0, X1, cert_preds, cmap=cmap, levels=[-1.5, -0.5, 0.0, 0.5, 1.5], alpha=0.5)\n",
    "\n",
    "# plot the moons\n",
    "ax.scatter(x_test.cpu()[y_test.cpu() == 0, 0], x_test.cpu()[y_test.cpu() == 0, 1], s=25, edgecolors=\"k\", color=\"blue\")\n",
    "ax.scatter(x_test.cpu()[y_test.cpu() == 1, 0], x_test.cpu()[y_test.cpu() == 1, 1], s=25, edgecolors=\"k\", color=\"red\")\n",
    "\n",
    "# save fig\n",
    "plt.savefig(f\"../figures/prop_{dpa_prop}_agt_moons_{N}_{M}_{s}.pdf\", dpi=300, bbox_inches='tight')"
   ]
  },
  {
   "cell_type": "code",
   "execution_count": null,
   "id": "e9366dce",
   "metadata": {},
   "outputs": [],
   "source": [
    "from matplotlib.colors import ListedColormap\n",
    "# Plot  \n",
    "N=5\n",
    "M=20\n",
    "s=2\n",
    "### Visualise the results (AGT)\n",
    "fig, ax = plt.subplots()\n",
    "ax.set_box_aspect(1)\n",
    "ax.set_xticks([])\n",
    "ax.set_yticks([])\n",
    "\n",
    "ensemble_preds = torch.load(f\".results/ensemble_preds_agt_dpa_{N}_{M}_{s}.pth\")\n",
    "agt_uncert = torch.tensor(torch.load(f\".results/moons_agt_p_k={N}_{M}_{s}.pth\")['z']).to(device)\n",
    "preds = ensemble_preds.reshape(gridsize, gridsize).cpu().numpy()\n",
    "ax.contour(X0, X1, preds, levels=[0.5])\n",
    "cert_preds_0 = ((ensemble_preds == 0) & (agt_uncert == 0)).float()  # where the model always predicts class 0\n",
    "cert_preds_1 = ((ensemble_preds == 1) & (agt_uncert == 0)).float()  # where the model always predicts class 1\n",
    "cert_preds = (cert_preds_0 - cert_preds_1).reshape(gridsize, gridsize).cpu().numpy()\n",
    "print((cert_preds == 0).sum())\n",
    "pastel_red = \"#FE2C02\"   # Soft pinkish-red\n",
    "pastel_blue = \"#015FAA\"  # Light pastel blue\n",
    "cmap = ListedColormap([pastel_red, \"white\", pastel_blue])\n",
    "ax.contourf(X0, X1, cert_preds, cmap=cmap, levels=[-1.5, -0.5, 0.0, 0.5, 1.5], alpha=0.5)\n",
    "\n",
    "# plot the moons\n",
    "ax.scatter(x_test.cpu()[y_test.cpu() == 0, 0], x_test.cpu()[y_test.cpu() == 0, 1], s=25, edgecolors=\"k\", color=\"blue\")\n",
    "ax.scatter(x_test.cpu()[y_test.cpu() == 1, 0], x_test.cpu()[y_test.cpu() == 1, 1], s=25, edgecolors=\"k\", color=\"red\")\n",
    "\n",
    "# save fig\n",
    "# plt.savefig(f\"../figures/agt_moons_{N}_{M}_{s}.pdf\", dpi=300, bbox_inches='tight')"
   ]
  },
  {
   "cell_type": "code",
   "execution_count": 91,
   "id": "84872ca0",
   "metadata": {},
   "outputs": [],
   "source": [
    "from matplotlib.colors import ListedColormap\n",
    "\n",
    "def plot_subplot(ax, N, M, s, dpa_prop):\n",
    "    ensemble_preds = torch.load(f\".prop_results/ensemble_preds_agt_dpa_{N}_{M}_{s}_{dpa_prop}.pth\")\n",
    "    agt_uncert = torch.tensor(torch.load(f\".prop_results/moons_agt_p_k={N}_{M}_{s}_{dpa_prop}.pth\")['z']).to(device)\n",
    "    preds = ensemble_preds.reshape(gridsize, gridsize).cpu().numpy()\n",
    "    ax.contour(X0, X1, preds, levels=[0.5])\n",
    "    cert_preds_0 = ((ensemble_preds == 0) & (agt_uncert == 0)).float()  # where the model always predicts class 0\n",
    "    cert_preds_1 = ((ensemble_preds == 1) & (agt_uncert == 0)).float()  # where the model always predicts class 1\n",
    "    cert_preds = (cert_preds_0 - cert_preds_1).reshape(gridsize, gridsize).cpu().numpy()\n",
    "    print((cert_preds == 0).sum())\n",
    "    pastel_red = \"#FE2C02\"   # Soft pinkish-red\n",
    "    pastel_blue = \"#015FAA\"  # Light pastel blue\n",
    "    cmap = ListedColormap([pastel_red, \"white\", pastel_blue])\n",
    "    ax.contourf(X0, X1, cert_preds, cmap=cmap, levels=[-1.5, -0.5, 0.0, 0.5, 1.5], alpha=0.5)\n",
    "    \n",
    "    # plot the moons\n",
    "    ax.scatter(x_test.cpu()[y_test.cpu() == 0, 0], x_test.cpu()[y_test.cpu() == 0, 1], s=25, edgecolors=\"k\", color=\"blue\")\n",
    "    ax.scatter(x_test.cpu()[y_test.cpu() == 1, 0], x_test.cpu()[y_test.cpu() == 1, 1], s=25, edgecolors=\"k\", color=\"red\")"
   ]
  },
  {
   "cell_type": "code",
   "execution_count": null,
   "id": "013daf16",
   "metadata": {},
   "outputs": [
    {
     "name": "stdout",
     "output_type": "stream",
     "text": [
      "487\n",
      "1163\n",
      "1602\n",
      "1933\n",
      "1868\n"
     ]
    },
    {
     "name": "stderr",
     "output_type": "stream",
     "text": [
      "/tmp/ipykernel_3660838/418186251.py:46: UserWarning: tight_layout not applied: number of columns in subplot specifications must be multiples of one another.\n",
      "  plt.tight_layout()\n"
     ]
    },
    {
     "data": {
      "image/png": "[encoded data removed]",
      "text/plain": [
       "<Figure size 1500x700 with 6 Axes>"
      ]
     },
     "metadata": {},
     "output_type": "display_data"
    }
   ],
   "source": [
    "import matplotlib.gridspec as gridspec\n",
    "plt.style.use([\"science\", \"no-latex\"])\n",
    "fig = plt.figure(figsize=(15, 7))\n",
    "gs = gridspec.GridSpec(2, 5, height_ratios=[1, 1.2])\n",
    "gs1 = gridspec.GridSpec(2, 8, height_ratios=[1.2, 1])\n",
    "\n",
    "# Top row: 3 subplots across all columns\n",
    "ax1 = fig.add_subplot(gs[0, 0])\n",
    "ax2 = fig.add_subplot(gs[0, 1])\n",
    "ax3 = fig.add_subplot(gs[0, 2])\n",
    "ax4 = fig.add_subplot(gs[0, 3])\n",
    "ax5 = fig.add_subplot(gs[0, 4])\n",
    "\n",
    "# Bottom row: center 2 plots in columns 1 and 2\n",
    "ax6 = fig.add_subplot(gs1[1, 2:6])  # spans columns 0 and 1\n",
    "\n",
    "dpa_props = [0.0, 0.25, 0.5, 0.75, 1.0]\n",
    "N = 8\n",
    "M = 20\n",
    "s = 2\n",
    "nom_accs = [89.70, 90, 91.90, 93.5, 93.5]\n",
    "cs = [95.13, 88.37, 83.98, 80.67, 81.32]\n",
    "for i, ax in enumerate([ax1, ax2, ax3, ax4, ax5]):\n",
    "    plot_subplot(ax, N, M, s, dpa_props[i])\n",
    "    ax.set_xticks([0])\n",
    "    ax.set_xticklabels([dpa_props[i]], fontdict={'fontsize': 14})\n",
    "    for label in ax.get_xticklabels():\n",
    "        label.set_y(label.get_position()[1] - 0.05)\n",
    "\n",
    "    # Remove y-axis and spines\n",
    "    ax.set_yticks([])\n",
    "\n",
    "# plot line grpah of nom_accs\n",
    "ax6.plot(dpa_props, nom_accs, label='Nominal Accuracy')\n",
    "ax6.plot(dpa_props, cs, label='Certified Percentage')\n",
    "ax6.legend(\n",
    "    fontsize=14,  # Legend font size\n",
    "    frameon=True,              # Show legend box\n",
    ")\n",
    "ax6.set_xlabel('Fraction of non-AGT models', fontsize=16)\n",
    "ax6.set_ylabel('Percentage (%)', fontsize=16)\n",
    "ax6.set_title('Nominal Accuracy and Certified Fraction', fontsize=16)\n",
    "\n",
    "plt.figtext(0.5, 0.51, 'Fraction of Non-AGT Models', ha='center', va='center', fontsize=16)\n",
    "\n",
    "plt.tight_layout()\n",
    "plt.savefig(f\"../figures/prop_agt_moons_{N}_{M}_{s}_comparison.pdf\", dpi=300, bbox_inches='tight')\n",
    "plt.show()"
   ]
  },
  {
   "cell_type": "code",
   "execution_count": 97,
   "id": "1ae2e091",
   "metadata": {},
   "outputs": [
    {
     "name": "stdout",
     "output_type": "stream",
     "text": [
      "487\n",
      "1163\n",
      "1602\n",
      "1933\n",
      "1868\n"
     ]
    },
    {
     "data": {
      "image/png": "[encoded data removed]",
      "text/plain": [
       "<Figure size 1300x600 with 10 Axes>"
      ]
     },
     "metadata": {},
     "output_type": "display_data"
    }
   ],
   "source": [
    "device = \"cpu\"\n",
    "import matplotlib.gridspec as gridspec\n",
    "plt.style.use([\"science\", \"no-latex\"])\n",
    "fig = plt.figure(figsize=(13, 6))\n",
    "gs = gridspec.GridSpec(2, 5, height_ratios=[1, 1])\n",
    "\n",
    "# Top row: 3 subplots across all columns\n",
    "ax1 = fig.add_subplot(gs[0, 0])\n",
    "ax2 = fig.add_subplot(gs[0, 1])\n",
    "ax3 = fig.add_subplot(gs[0, 2])\n",
    "ax4 = fig.add_subplot(gs[0, 3])\n",
    "ax5 = fig.add_subplot(gs[0, 4])\n",
    "\n",
    "\n",
    "dpa_props = [0.0, 0.25, 0.5, 0.75, 1.0]\n",
    "N = 8\n",
    "M = 20\n",
    "s = 2\n",
    "nom_accs = [89.70, 90, 91.90, 93.5, 93.5]\n",
    "cs = [95.13, 88.37, 83.98, 80.67, 81.32]\n",
    "for i, ax in enumerate([ax1, ax2, ax3, ax4, ax5]):\n",
    "    plot_subplot(ax, N, M, s, dpa_props[i])\n",
    "    # Remove y-axis and spines\n",
    "    ax.set_yticks([])\n",
    "    ax.set_xticks([])\n",
    "    if i == 0:\n",
    "        ax.set_ylabel('Half-moon Plots', fontsize=16, labelpad=25)\n",
    "        ax.tick_params(axis='y', labelsize=14)\n",
    "\n",
    "xs = [\"Nominal Accuracy\", \"Certified Percentage\"]\n",
    "for i in range(5):\n",
    "    ax = fig.add_subplot(gs[1, i])\n",
    "    # plot bar plot with nom_accs and cs\n",
    "    bar_nom = ax.bar(xs[0], nom_accs[i], color='C1', width=0.8, label='Nominal Accuracy')\n",
    "    bar_cert = ax.bar(xs[1], cs[i], color='C2', width=0.8, label='Certified Percentage')\n",
    "    \n",
    "     # Add labels on bars\n",
    "    ax.bar_label(bar_nom, labels=[f\"{nom_accs[i]:.2f}%\"], label_type='edge', padding=3, fontsize=14)\n",
    "    ax.bar_label(bar_cert, labels=[f\"{cs[i]:.2f}%\"], label_type='edge', padding=3, fontsize=14)\n",
    "    if i == 0:\n",
    "        ax.set_ylabel('Percentage (%)', fontsize=16)\n",
    "        ax.tick_params(axis='y', labelsize=14)\n",
    "    ax.set_ylim(80, 97)\n",
    "    ax.set_xticks([])\n",
    "    if i > 0:\n",
    "        ax.set_yticks([])\n",
    "    ax.set_xlabel(f\"f = {1-dpa_props[i]}\", fontdict={'fontsize': 18}, labelpad=15)\n",
    "    \n",
    "handles, labels = fig.axes[5].get_legend_handles_labels()\n",
    "fig.legend(\n",
    "        handles,\n",
    "        labels,\n",
    "        loc=\"upper center\",\n",
    "        bbox_to_anchor=(0.5, 0),\n",
    "        ncol=5,\n",
    "        frameon=True,\n",
    "        fontsize=16,  # Legend font size\n",
    "    )\n",
    "\n",
    "# plt.figtext(0.5, 0.51, 'Fraction of Non-AGT Models', ha='center', va='center', fontsize=16)\n",
    "fig.supxlabel('Fraction of AGT Models (f)', fontsize=18, y=0.02)\n",
    "\n",
    "plt.tight_layout()\n",
    "plt.savefig(f\"../figures/prop_agt_moons_{N}_{M}_{s}_comparison_1.pdf\", dpi=300, bbox_inches='tight')\n",
    "plt.show()"
   ]
  }
 ],
 "metadata": {
  "kernelspec": {
   "display_name": "myenv",
   "language": "python",
   "name": "python3"
  },
  "language_info": {
   "codemirror_mode": {
    "name": "ipython",
    "version": 3
   },
   "file_extension": ".py",
   "mimetype": "text/x-python",
   "name": "python",
   "nbconvert_exporter": "python",
   "pygments_lexer": "ipython3",
   "version": "3.10.12"
  }
 },
 "nbformat": 4,
 "nbformat_minor": 5
}
